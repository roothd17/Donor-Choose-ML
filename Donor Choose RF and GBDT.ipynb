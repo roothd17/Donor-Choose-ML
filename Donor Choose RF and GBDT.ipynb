{
 "cells": [
  {
   "cell_type": "markdown",
   "metadata": {},
   "source": [
    "# Donor Choose : RF and GBDT"
   ]
  },
  {
   "cell_type": "code",
   "execution_count": null,
   "metadata": {
    "collapsed": true
   },
   "outputs": [],
   "source": []
  },
  {
   "cell_type": "code",
   "execution_count": 1,
   "metadata": {
    "collapsed": true
   },
   "outputs": [],
   "source": [
    "import os\n",
    "\n",
    "os.chdir('E:\\Datasets\\DonorChoose')"
   ]
  },
  {
   "cell_type": "code",
   "execution_count": 2,
   "metadata": {},
   "outputs": [
    {
     "data": {
      "text/html": [
       "<div>\n",
       "<style>\n",
       "    .dataframe thead tr:only-child th {\n",
       "        text-align: right;\n",
       "    }\n",
       "\n",
       "    .dataframe thead th {\n",
       "        text-align: left;\n",
       "    }\n",
       "\n",
       "    .dataframe tbody tr th {\n",
       "        vertical-align: top;\n",
       "    }\n",
       "</style>\n",
       "<table border=\"1\" class=\"dataframe\">\n",
       "  <thead>\n",
       "    <tr style=\"text-align: right;\">\n",
       "      <th></th>\n",
       "      <th>teacher_prefix</th>\n",
       "      <th>school_state</th>\n",
       "      <th>teacher_number_of_previously_posted_projects</th>\n",
       "      <th>project_is_approved</th>\n",
       "      <th>clean_categories</th>\n",
       "      <th>clean_subcategory</th>\n",
       "      <th>cleanEssay</th>\n",
       "      <th>price</th>\n",
       "      <th>quantity</th>\n",
       "      <th>cleanProjectGradeCategory</th>\n",
       "      <th>project_title</th>\n",
       "    </tr>\n",
       "  </thead>\n",
       "  <tbody>\n",
       "    <tr>\n",
       "      <th>0</th>\n",
       "      <td>Mrs.</td>\n",
       "      <td>IN</td>\n",
       "      <td>0</td>\n",
       "      <td>0</td>\n",
       "      <td>Literacy-Language</td>\n",
       "      <td>ESL Literacy</td>\n",
       "      <td>My students are English learners that are work...</td>\n",
       "      <td>154.6</td>\n",
       "      <td>23</td>\n",
       "      <td>PreK-Two</td>\n",
       "      <td>Educational Support for English Learners at Home</td>\n",
       "    </tr>\n",
       "    <tr>\n",
       "      <th>1</th>\n",
       "      <td>Mr.</td>\n",
       "      <td>FL</td>\n",
       "      <td>7</td>\n",
       "      <td>1</td>\n",
       "      <td>History-Civics Health-Sports</td>\n",
       "      <td>Civics-Government TeamSports</td>\n",
       "      <td>Our students arrive to our school eager to lea...</td>\n",
       "      <td>299.0</td>\n",
       "      <td>1</td>\n",
       "      <td>Six-Eight</td>\n",
       "      <td>Wanted: Projector for Hungry Learners</td>\n",
       "    </tr>\n",
       "  </tbody>\n",
       "</table>\n",
       "</div>"
      ],
      "text/plain": [
       "  teacher_prefix school_state  teacher_number_of_previously_posted_projects  \\\n",
       "0           Mrs.           IN                                             0   \n",
       "1            Mr.           FL                                             7   \n",
       "\n",
       "   project_is_approved              clean_categories  \\\n",
       "0                    0             Literacy-Language   \n",
       "1                    1  History-Civics Health-Sports   \n",
       "\n",
       "              clean_subcategory  \\\n",
       "0                  ESL Literacy   \n",
       "1  Civics-Government TeamSports   \n",
       "\n",
       "                                          cleanEssay  price  quantity  \\\n",
       "0  My students are English learners that are work...  154.6        23   \n",
       "1  Our students arrive to our school eager to lea...  299.0         1   \n",
       "\n",
       "  cleanProjectGradeCategory                                     project_title  \n",
       "0                  PreK-Two  Educational Support for English Learners at Home  \n",
       "1                 Six-Eight             Wanted: Projector for Hungry Learners  "
      ]
     },
     "execution_count": 2,
     "metadata": {},
     "output_type": "execute_result"
    }
   ],
   "source": [
    "import pandas as pd\n",
    "\n",
    "donor = pd.read_csv('cleandonor4.csv')\n",
    "\n",
    "donor.head(2)"
   ]
  },
  {
   "cell_type": "code",
   "execution_count": 3,
   "metadata": {
    "collapsed": true
   },
   "outputs": [],
   "source": [
    "# We are removing the words from the stop words list: 'no', 'nor', 'not'\n",
    "stopwords= ['i', 'me', 'my', 'myself', 'we', 'our', 'ours', 'ourselves', 'you', \"you're\", \"you've\",\\\n",
    "            \"you'll\", \"you'd\", 'your', 'yours', 'yourself', 'yourselves', 'he', 'him', 'his', 'himself', \\\n",
    "            'she', \"she's\", 'her', 'hers', 'herself', 'it', \"it's\", 'its', 'itself', 'they', 'them', 'their',\\\n",
    "            'theirs', 'themselves', 'what', 'which', 'who', 'whom', 'this', 'that', \"that'll\", 'these', 'those', \\\n",
    "            'am', 'is', 'are', 'was', 'were', 'be', 'been', 'being', 'have', 'has', 'had', 'having', 'do', 'does', \\\n",
    "            'did', 'doing', 'a', 'an', 'the', 'and', 'but', 'if', 'or', 'because', 'as', 'until', 'while', 'of', \\\n",
    "            'at', 'by', 'for', 'with', 'about', 'against', 'between', 'into', 'through', 'during', 'before', 'after',\\\n",
    "            'above', 'below', 'to', 'from', 'up', 'down', 'in', 'out', 'on', 'off', 'over', 'under', 'again', 'further',\\\n",
    "            'then', 'once', 'here', 'there', 'when', 'where', 'why', 'how', 'all', 'any', 'both', 'each', 'few', 'more',\\\n",
    "            'most', 'other', 'some', 'such', 'only', 'own', 'same', 'so', 'than', 'too', 'very', \\\n",
    "            's', 't', 'can', 'will', 'just', 'don', \"don't\", 'should', \"should've\", 'now', 'd', 'll', 'm', 'o', 're', \\\n",
    "            've', 'y', 'ain', 'aren', \"aren't\", 'couldn', \"couldn't\", 'didn', \"didn't\", 'doesn', \"doesn't\", 'hadn',\\\n",
    "            \"hadn't\", 'hasn', \"hasn't\", 'haven', \"haven't\", 'isn', \"isn't\", 'ma', 'mightn', \"mightn't\", 'mustn',\\\n",
    "            \"mustn't\", 'needn', \"needn't\", 'shan', \"shan't\", 'shouldn', \"shouldn't\", 'wasn', \"wasn't\", 'weren', \"weren't\", \\\n",
    "            'won', \"won't\", 'wouldn', \"wouldn't\"]"
   ]
  },
  {
   "cell_type": "code",
   "execution_count": 4,
   "metadata": {},
   "outputs": [
    {
     "name": "stderr",
     "output_type": "stream",
     "text": [
      "100%|███████████████████████████████████████████████████████████████████████| 109248/109248 [00:01<00:00, 71614.07it/s]\n"
     ]
    }
   ],
   "source": [
    "from tqdm import tqdm\n",
    "ftitle = [] \n",
    "\n",
    "for sen in tqdm( donor['project_title'].values ): \n",
    "    strY = \" \"\n",
    "\n",
    "    for w in sen.lower().split():\n",
    "        if w not in stopwords:\n",
    "            strY = strY + w + \" \"\n",
    "\n",
    "    ftitle.append( strY.strip() )"
   ]
  },
  {
   "cell_type": "code",
   "execution_count": 5,
   "metadata": {
    "collapsed": true
   },
   "outputs": [],
   "source": [
    "donor.drop(['project_title'], axis=1, inplace=True)\n",
    "donor['cleanTitle'] = ftitle"
   ]
  },
  {
   "cell_type": "markdown",
   "metadata": {},
   "source": [
    "### Handling Missing data"
   ]
  },
  {
   "cell_type": "code",
   "execution_count": 6,
   "metadata": {},
   "outputs": [
    {
     "data": {
      "text/html": [
       "<div>\n",
       "<style>\n",
       "    .dataframe thead tr:only-child th {\n",
       "        text-align: right;\n",
       "    }\n",
       "\n",
       "    .dataframe thead th {\n",
       "        text-align: left;\n",
       "    }\n",
       "\n",
       "    .dataframe tbody tr th {\n",
       "        vertical-align: top;\n",
       "    }\n",
       "</style>\n",
       "<table border=\"1\" class=\"dataframe\">\n",
       "  <thead>\n",
       "    <tr style=\"text-align: right;\">\n",
       "      <th></th>\n",
       "      <th>teacher_prefix</th>\n",
       "      <th>school_state</th>\n",
       "      <th>teacher_number_of_previously_posted_projects</th>\n",
       "      <th>project_is_approved</th>\n",
       "      <th>clean_categories</th>\n",
       "      <th>clean_subcategory</th>\n",
       "      <th>cleanEssay</th>\n",
       "      <th>price</th>\n",
       "      <th>quantity</th>\n",
       "      <th>cleanProjectGradeCategory</th>\n",
       "      <th>cleanTitle</th>\n",
       "    </tr>\n",
       "  </thead>\n",
       "  <tbody>\n",
       "  </tbody>\n",
       "</table>\n",
       "</div>"
      ],
      "text/plain": [
       "Empty DataFrame\n",
       "Columns: [teacher_prefix, school_state, teacher_number_of_previously_posted_projects, project_is_approved, clean_categories, clean_subcategory, cleanEssay, price, quantity, cleanProjectGradeCategory, cleanTitle]\n",
       "Index: []"
      ]
     },
     "execution_count": 6,
     "metadata": {},
     "output_type": "execute_result"
    }
   ],
   "source": [
    "nan = donor[ donor['teacher_prefix'].isnull() ]\n",
    "nan"
   ]
  },
  {
   "cell_type": "code",
   "execution_count": null,
   "metadata": {
    "collapsed": true
   },
   "outputs": [],
   "source": []
  },
  {
   "cell_type": "code",
   "execution_count": 7,
   "metadata": {
    "collapsed": true
   },
   "outputs": [],
   "source": [
    "donor = donor[0 : 50000]"
   ]
  },
  {
   "cell_type": "code",
   "execution_count": 8,
   "metadata": {},
   "outputs": [
    {
     "data": {
      "text/plain": [
       "(50000, 11)"
      ]
     },
     "execution_count": 8,
     "metadata": {},
     "output_type": "execute_result"
    }
   ],
   "source": [
    "donor.shape"
   ]
  },
  {
   "cell_type": "code",
   "execution_count": 9,
   "metadata": {
    "collapsed": true
   },
   "outputs": [],
   "source": [
    "Y = donor['project_is_approved']"
   ]
  },
  {
   "cell_type": "code",
   "execution_count": 10,
   "metadata": {
    "collapsed": true
   },
   "outputs": [],
   "source": [
    "#donor.drop(['project_is_approved'], axis = 1, inplace = True)"
   ]
  },
  {
   "cell_type": "code",
   "execution_count": 11,
   "metadata": {
    "collapsed": true
   },
   "outputs": [],
   "source": [
    "X = donor"
   ]
  },
  {
   "cell_type": "markdown",
   "metadata": {},
   "source": [
    "## Splitting data"
   ]
  },
  {
   "cell_type": "code",
   "execution_count": 12,
   "metadata": {
    "collapsed": true
   },
   "outputs": [],
   "source": [
    "from sklearn.model_selection import train_test_split\n",
    "\n",
    "xtrain, xtest, ytrain, ytest = train_test_split( X, Y, test_size = 0.33, stratify = Y) # Spliting into Test and Train\n",
    "\n",
    "# stratify : we need to pass array containing class label as an argument to stratify\n",
    "\n",
    "xtrain, xcv, ytrain, ycv = train_test_split( xtrain, ytrain, test_size = 0.33, stratify = ytrain )"
   ]
  },
  {
   "cell_type": "code",
   "execution_count": 13,
   "metadata": {},
   "outputs": [
    {
     "name": "stdout",
     "output_type": "stream",
     "text": [
      "(22445, 11)\n",
      "(11055, 11)\n",
      "(16500, 11)\n",
      "(22445,)\n",
      "(11055,)\n",
      "(16500,)\n"
     ]
    }
   ],
   "source": [
    "print( xtrain.shape )\n",
    "print( xcv.shape )\n",
    "print( xtest.shape )\n",
    "\n",
    "print( ytrain.shape )\n",
    "print( ycv.shape )\n",
    "print( ytest.shape )"
   ]
  },
  {
   "cell_type": "markdown",
   "metadata": {},
   "source": [
    "## Creating data matrix"
   ]
  },
  {
   "cell_type": "markdown",
   "metadata": {},
   "source": [
    "### Essay BOW"
   ]
  },
  {
   "cell_type": "code",
   "execution_count": 14,
   "metadata": {
    "collapsed": true
   },
   "outputs": [],
   "source": [
    "from sklearn.feature_extraction.text import CountVectorizer\n",
    "\n",
    "vect = CountVectorizer( min_df = 10, ngram_range=(1,2), max_features = 5000 )\n",
    "# ngram_range : The lower and upper boundary of the range of n-values for different n-grams to be extracted.\n",
    "# max_features : build a vocabulary that only consider the top max_features ordered by term frequency across the corpus.\n",
    "\n",
    "vect.fit( xtrain['cleanEssay'].values )\n",
    "# vect.fit( text ): Means that internally it is only learning the vocabulary of `Text` i.e. unique n-grams\n",
    "\n",
    "# THE VOCABULARY SHOULD BUILT ONLY WITH THE WORDS OF TRAIN DATA\n",
    "\n",
    "xtrEssayBOW = vect.transform( xtrain['cleanEssay'].values ) \n",
    "xcvEssayBOW = vect.transform( xcv['cleanEssay'].values ) \n",
    "xteEssayBOW = vect.transform( xtest['cleanEssay'].values )"
   ]
  },
  {
   "cell_type": "code",
   "execution_count": 15,
   "metadata": {},
   "outputs": [
    {
     "name": "stdout",
     "output_type": "stream",
     "text": [
      "(22445, 5000)\n",
      "(11055, 5000)\n",
      "(16500, 5000)\n"
     ]
    }
   ],
   "source": [
    "print( xtrEssayBOW.shape )\n",
    "print( xcvEssayBOW.shape )\n",
    "print( xteEssayBOW.shape )"
   ]
  },
  {
   "cell_type": "markdown",
   "metadata": {},
   "source": [
    "### Essay TFIDF"
   ]
  },
  {
   "cell_type": "code",
   "execution_count": 16,
   "metadata": {},
   "outputs": [
    {
     "name": "stdout",
     "output_type": "stream",
     "text": [
      "(22445, 5000)\n",
      "(11055, 5000)\n",
      "(16500, 5000)\n"
     ]
    }
   ],
   "source": [
    "from sklearn.feature_extraction.text import TfidfVectorizer\n",
    "from sklearn.feature_extraction.text import TfidfTransformer\n",
    "\n",
    "tfidfvect = TfidfVectorizer( min_df=10, max_features = 5000, ngram_range = (1,2) )\n",
    "tfidfvect.fit( xtrain['cleanEssay'].values )\n",
    "\n",
    "xtrEssayTFIDF = tfidfvect.transform( xtrain['cleanEssay'].values )\n",
    "xcvEssayTFIDF = tfidfvect.transform( xcv['cleanEssay'].values )\n",
    "xteEssayTFIDF = tfidfvect.transform( xtest['cleanEssay'].values )\n",
    "\n",
    "print( xtrEssayTFIDF.shape )\n",
    "print( xcvEssayTFIDF.shape )\n",
    "print( xteEssayTFIDF.shape )"
   ]
  },
  {
   "cell_type": "markdown",
   "metadata": {},
   "source": [
    "### Essay Word 2 vec"
   ]
  },
  {
   "cell_type": "code",
   "execution_count": 17,
   "metadata": {
    "collapsed": true
   },
   "outputs": [],
   "source": [
    "# Function Creating a list that contains all the words in the data column\n",
    "\n",
    "def stow( data ):\n",
    "    sentence = []\n",
    "\n",
    "    for sen in tqdm( data.values ):\n",
    "        fsentence = []\n",
    "    \n",
    "        for w in sen.split():\n",
    "            for cw in w.split():\n",
    "            \n",
    "                if cw.isalpha():\n",
    "                    fsentence.append( cw.lower() )\n",
    "                else:\n",
    "                    continue\n",
    "        sentence.append( fsentence )\n",
    "    return sentence"
   ]
  },
  {
   "cell_type": "code",
   "execution_count": 18,
   "metadata": {
    "collapsed": true
   },
   "outputs": [],
   "source": [
    "import gensim"
   ]
  },
  {
   "cell_type": "code",
   "execution_count": 19,
   "metadata": {},
   "outputs": [
    {
     "name": "stderr",
     "output_type": "stream",
     "text": [
      "100%|██████████████████████████████████████████████████████████████████████████| 22445/22445 [00:05<00:00, 4397.58it/s]\n"
     ]
    },
    {
     "name": "stdout",
     "output_type": "stream",
     "text": [
      "22445\n"
     ]
    },
    {
     "data": {
      "text/plain": [
       "10807"
      ]
     },
     "execution_count": 19,
     "metadata": {},
     "output_type": "execute_result"
    }
   ],
   "source": [
    "xtrw = stow( xtrain['cleanEssay'] ) # List of words for xtrain\n",
    "\n",
    "print( len( xtrw ) )\n",
    "\n",
    "xtrmodel = gensim.models.Word2Vec( xtrw, min_count = 5, size =50, workers = 4 )\n",
    "# min_count : If a word dosent apper more then the value assigned do't construct w2v for it\n",
    "# size: dimension of vector to be constructed\n",
    "# workers: If you hav a multi cores you can set it to 4 for performence\n",
    "\n",
    "xtrwords = list( xtrmodel.wv.vocab )\n",
    "len( xtrwords )"
   ]
  },
  {
   "cell_type": "code",
   "execution_count": 20,
   "metadata": {},
   "outputs": [
    {
     "name": "stderr",
     "output_type": "stream",
     "text": [
      "100%|██████████████████████████████████████████████████████████████████████████| 11055/11055 [00:02<00:00, 4656.77it/s]\n"
     ]
    },
    {
     "name": "stdout",
     "output_type": "stream",
     "text": [
      "11055\n"
     ]
    },
    {
     "data": {
      "text/plain": [
       "8150"
      ]
     },
     "execution_count": 20,
     "metadata": {},
     "output_type": "execute_result"
    }
   ],
   "source": [
    "# For Cross validation\n",
    "\n",
    "xcvw = stow( xcv['cleanEssay'] )\n",
    "\n",
    "print( len( xcvw ) )\n",
    "\n",
    "xcvmodel = gensim.models.Word2Vec( xcvw, min_count = 5, size =50, workers = 4 )\n",
    "\n",
    "xcvwords = list( xcvmodel.wv.vocab )\n",
    "len( xcvwords )"
   ]
  },
  {
   "cell_type": "code",
   "execution_count": 21,
   "metadata": {},
   "outputs": [
    {
     "name": "stderr",
     "output_type": "stream",
     "text": [
      "100%|██████████████████████████████████████████████████████████████████████████| 16500/16500 [00:03<00:00, 4421.50it/s]\n"
     ]
    },
    {
     "name": "stdout",
     "output_type": "stream",
     "text": [
      "16500\n"
     ]
    },
    {
     "data": {
      "text/plain": [
       "9572"
      ]
     },
     "execution_count": 21,
     "metadata": {},
     "output_type": "execute_result"
    }
   ],
   "source": [
    "# For Test\n",
    "\n",
    "xtew = stow( xtest['cleanEssay'] )\n",
    "\n",
    "print( len( xtew ) )\n",
    "\n",
    "xtemodel = gensim.models.Word2Vec( xtew, min_count = 5, size =50, workers = 4 )\n",
    "\n",
    "xtewords = list( xtemodel.wv.vocab )\n",
    "len( xtewords )"
   ]
  },
  {
   "cell_type": "markdown",
   "metadata": {},
   "source": [
    "### Essay Avg Word 2 vec"
   ]
  },
  {
   "cell_type": "code",
   "execution_count": 22,
   "metadata": {
    "collapsed": true
   },
   "outputs": [],
   "source": [
    "import numpy as np\n",
    "\n",
    "\n",
    "def avgw2v( data, words, model ):\n",
    "    sentV = [] # average word 2 vec for each essay is stored in this\n",
    "\n",
    "    for sent in tqdm( data ):\n",
    "    \n",
    "        svec = np.zeros(50)\n",
    "        cnw = 0\n",
    "    \n",
    "        for w in sent:\n",
    "            if w in words:\n",
    "                vec = model.wv[ w ]  # Computing word 2 vec\n",
    "                svec += vec     # Add it to the svec\n",
    "                cnw += 1\n",
    "            \n",
    "        if cnw != 0:        \n",
    "            svec /= cnw  # Averaging with the count of number of words with valid vector in the Essay\n",
    "        sentV.append( svec )\n",
    "    \n",
    "    return sentV"
   ]
  },
  {
   "cell_type": "code",
   "execution_count": 23,
   "metadata": {},
   "outputs": [
    {
     "name": "stderr",
     "output_type": "stream",
     "text": [
      "100%|███████████████████████████████████████████████████████████████████████████| 22445/22445 [02:22<00:00, 158.00it/s]\n"
     ]
    },
    {
     "data": {
      "text/plain": [
       "(22445, 50)"
      ]
     },
     "execution_count": 23,
     "metadata": {},
     "output_type": "execute_result"
    }
   ],
   "source": [
    "# For Train\n",
    "xtrAW2V = np.asarray( avgw2v( xtrw, xtrwords, xtrmodel ) )\n",
    "\n",
    "xtrAW2V[20]\n",
    "\n",
    "xtrAW2V.shape"
   ]
  },
  {
   "cell_type": "code",
   "execution_count": 24,
   "metadata": {},
   "outputs": [
    {
     "name": "stderr",
     "output_type": "stream",
     "text": [
      "100%|███████████████████████████████████████████████████████████████████████████| 11055/11055 [01:10<00:00, 156.03it/s]\n"
     ]
    },
    {
     "data": {
      "text/plain": [
       "(11055, 50)"
      ]
     },
     "execution_count": 24,
     "metadata": {},
     "output_type": "execute_result"
    }
   ],
   "source": [
    "xcvAW2V = np.asarray( avgw2v( xcvw, xtrwords, xtrmodel ) )\n",
    "\n",
    "xcvAW2V.shape"
   ]
  },
  {
   "cell_type": "code",
   "execution_count": 25,
   "metadata": {},
   "outputs": [
    {
     "name": "stderr",
     "output_type": "stream",
     "text": [
      "100%|███████████████████████████████████████████████████████████████████████████| 16500/16500 [01:50<00:00, 149.70it/s]\n"
     ]
    },
    {
     "data": {
      "text/plain": [
       "(16500, 50)"
      ]
     },
     "execution_count": 25,
     "metadata": {},
     "output_type": "execute_result"
    }
   ],
   "source": [
    "xteAW2V = np.asarray( avgw2v( xtew, xtrwords, xtrmodel ) )\n",
    "\n",
    "xteAW2V.shape"
   ]
  },
  {
   "cell_type": "markdown",
   "metadata": {},
   "source": [
    "### Essay TFIDF WW2V"
   ]
  },
  {
   "cell_type": "code",
   "execution_count": 26,
   "metadata": {},
   "outputs": [
    {
     "name": "stdout",
     "output_type": "stream",
     "text": [
      "['comfortably', 'comfy', 'coming', 'coming from', 'coming to', 'committed', 'committed to', 'common', 'common core', 'communicate', 'communication', 'communication skills', 'communities', 'community', 'community and', 'community in', 'community is', 'community of', 'community that', 'community we']\n"
     ]
    },
    {
     "data": {
      "text/plain": [
       "5000"
      ]
     },
     "execution_count": 26,
     "metadata": {},
     "output_type": "execute_result"
    }
   ],
   "source": [
    "print( tfidfvect.get_feature_names()[1000:1020] )\n",
    "len( tfidfvect.get_feature_names() )"
   ]
  },
  {
   "cell_type": "code",
   "execution_count": 27,
   "metadata": {
    "collapsed": true
   },
   "outputs": [],
   "source": [
    "essayFeatures = tfidfvect.get_feature_names()  # Tf idf words/ col names"
   ]
  },
  {
   "cell_type": "code",
   "execution_count": 28,
   "metadata": {
    "collapsed": true
   },
   "outputs": [],
   "source": [
    "def ww2v( data, model, TFIDF, feat = essayFeatures ):\n",
    "    \n",
    "    essayWw2v = []  # the Tfidf weighted w2v for each sentence is stored here\n",
    "    row = 0\n",
    "\n",
    "    for sent in tqdm( data ):\n",
    "        sv = np.zeros( 50 )  # as word vectors are of zero length\n",
    "        ws = 0  # ws : weight sum, num of words with a valid vector in the sentence/review\n",
    "\n",
    "        for w in sent:      \n",
    "\n",
    "            try:\n",
    "                vec = model.wv[ w ]\n",
    "                tfidf = TFIDF[ row, feat.index( w ) ]\n",
    "\n",
    "                sv += ( vec * tfidf )\n",
    "                ws += tfidf\n",
    "\n",
    "            except:\n",
    "                pass\n",
    "\n",
    "        if ws != 0:\n",
    "            sv /= ws\n",
    "        essayWw2v.append( sv )\n",
    "        row += 1\n",
    "\n",
    "    return essayWw2v"
   ]
  },
  {
   "cell_type": "code",
   "execution_count": 29,
   "metadata": {},
   "outputs": [
    {
     "name": "stderr",
     "output_type": "stream",
     "text": [
      "100%|████████████████████████████████████████████████████████████████████████████| 22445/22445 [11:40<00:00, 32.03it/s]\n"
     ]
    },
    {
     "data": {
      "text/plain": [
       "(22445, 50)"
      ]
     },
     "execution_count": 29,
     "metadata": {},
     "output_type": "execute_result"
    }
   ],
   "source": [
    "# For train\n",
    "xtrWW2V = np.asarray( ww2v( xtrw, xtrmodel, xtrEssayTFIDF ) )\n",
    "\n",
    "xtrWW2V.shape"
   ]
  },
  {
   "cell_type": "code",
   "execution_count": 30,
   "metadata": {},
   "outputs": [
    {
     "name": "stderr",
     "output_type": "stream",
     "text": [
      "100%|████████████████████████████████████████████████████████████████████████████| 11055/11055 [05:33<00:00, 33.16it/s]\n"
     ]
    },
    {
     "data": {
      "text/plain": [
       "(11055, 50)"
      ]
     },
     "execution_count": 30,
     "metadata": {},
     "output_type": "execute_result"
    }
   ],
   "source": [
    "xcvWW2V = np.asarray( ww2v( xcvw, xtrmodel, xcvEssayTFIDF ) )\n",
    "\n",
    "xcvWW2V.shape"
   ]
  },
  {
   "cell_type": "code",
   "execution_count": 31,
   "metadata": {},
   "outputs": [
    {
     "name": "stderr",
     "output_type": "stream",
     "text": [
      "100%|████████████████████████████████████████████████████████████████████████████| 16500/16500 [08:24<00:00, 32.68it/s]\n"
     ]
    },
    {
     "data": {
      "text/plain": [
       "(16500, 50)"
      ]
     },
     "execution_count": 31,
     "metadata": {},
     "output_type": "execute_result"
    }
   ],
   "source": [
    "xteWW2V = np.asarray( ww2v( xtew, xtrmodel, xteEssayTFIDF ) )\n",
    "\n",
    "xteWW2V.shape"
   ]
  },
  {
   "cell_type": "markdown",
   "metadata": {},
   "source": [
    "### Project Title BOW"
   ]
  },
  {
   "cell_type": "code",
   "execution_count": 32,
   "metadata": {},
   "outputs": [
    {
     "name": "stdout",
     "output_type": "stream",
     "text": [
      "(22445, 1636)\n",
      "(11055, 1636)\n",
      "(16500, 1636)\n"
     ]
    }
   ],
   "source": [
    "from sklearn.feature_extraction.text import CountVectorizer\n",
    "\n",
    "vect = CountVectorizer( min_df = 10, ngram_range = (1,2), max_features = 5000 )\n",
    "\n",
    "vect.fit( xtrain['cleanTitle'].values )\n",
    "\n",
    "xtrTitleBOW = vect.transform( xtrain['cleanTitle'].values )\n",
    "xcvTitleBOW = vect.transform( xcv['cleanTitle'].values )\n",
    "xteTitleBOW = vect.transform( xtest['cleanTitle'].values )\n",
    "\n",
    "print( xtrTitleBOW.shape )\n",
    "print( xcvTitleBOW.shape )\n",
    "print( xteTitleBOW.shape )"
   ]
  },
  {
   "cell_type": "markdown",
   "metadata": {},
   "source": [
    "### Project title TFIDF"
   ]
  },
  {
   "cell_type": "code",
   "execution_count": 33,
   "metadata": {},
   "outputs": [
    {
     "name": "stdout",
     "output_type": "stream",
     "text": [
      "(22445, 1636)\n",
      "(11055, 1636)\n",
      "(16500, 1636)\n"
     ]
    }
   ],
   "source": [
    "from sklearn.feature_extraction.text import TfidfVectorizer\n",
    "from sklearn.feature_extraction.text import TfidfTransformer\n",
    "\n",
    "tfidfvect = TfidfVectorizer( min_df=10, ngram_range = (1,2), max_features = 5000 )\n",
    "tfidfvect.fit( xtrain['cleanTitle'].values )\n",
    "\n",
    "xtrTitleTFIDF = tfidfvect.transform( xtrain['cleanTitle'].values )\n",
    "xcvTitleTFIDF = tfidfvect.transform( xcv['cleanTitle'].values )\n",
    "xteTitleTFIDF = tfidfvect.transform( xtest['cleanTitle'].values )\n",
    "\n",
    "print( xtrTitleTFIDF.shape )\n",
    "print( xcvTitleTFIDF.shape )\n",
    "print( xteTitleTFIDF.shape )"
   ]
  },
  {
   "cell_type": "markdown",
   "metadata": {},
   "source": [
    "### Project Title Word 2 Vec"
   ]
  },
  {
   "cell_type": "code",
   "execution_count": 34,
   "metadata": {},
   "outputs": [
    {
     "name": "stderr",
     "output_type": "stream",
     "text": [
      "100%|████████████████████████████████████████████████████████████████████████| 22445/22445 [00:00<00:00, 207244.79it/s]\n"
     ]
    },
    {
     "name": "stdout",
     "output_type": "stream",
     "text": [
      "22445\n"
     ]
    },
    {
     "data": {
      "text/plain": [
       "1693"
      ]
     },
     "execution_count": 34,
     "metadata": {},
     "output_type": "execute_result"
    }
   ],
   "source": [
    "# For Train\n",
    "\n",
    "xtrTitlew = stow( xtrain['cleanTitle'] )  # stow : is a defined by me that coverts a list of sentences to words\n",
    "\n",
    "print( len( xtrTitlew ) )\n",
    "\n",
    "xtrTitlemodel = gensim.models.Word2Vec( xtrTitlew, min_count = 5, size =50, workers = 4 )\n",
    "\n",
    "xtrTitlewords = list( xtrTitlemodel.wv.vocab )\n",
    "len( xtrTitlewords )"
   ]
  },
  {
   "cell_type": "code",
   "execution_count": 35,
   "metadata": {},
   "outputs": [
    {
     "name": "stderr",
     "output_type": "stream",
     "text": [
      "100%|████████████████████████████████████████████████████████████████████████| 11055/11055 [00:00<00:00, 174092.07it/s]\n"
     ]
    },
    {
     "name": "stdout",
     "output_type": "stream",
     "text": [
      "11055\n"
     ]
    },
    {
     "data": {
      "text/plain": [
       "1021"
      ]
     },
     "execution_count": 35,
     "metadata": {},
     "output_type": "execute_result"
    }
   ],
   "source": [
    "# For Cross Validation\n",
    "\n",
    "xcvTitlew = stow( xcv['cleanTitle'] )\n",
    "\n",
    "print( len( xcvTitlew ) )\n",
    "\n",
    "xcvTitlemodel = gensim.models.Word2Vec( xcvTitlew, min_count = 5, size =50, workers = 4 )\n",
    "\n",
    "xcvTitlewords = list( xcvTitlemodel.wv.vocab )\n",
    "len( xcvTitlewords )"
   ]
  },
  {
   "cell_type": "code",
   "execution_count": 36,
   "metadata": {},
   "outputs": [
    {
     "name": "stderr",
     "output_type": "stream",
     "text": [
      "100%|█████████████████████████████████████████████████████████████████████████| 16500/16500 [00:00<00:00, 37052.33it/s]\n"
     ]
    },
    {
     "name": "stdout",
     "output_type": "stream",
     "text": [
      "16500\n"
     ]
    },
    {
     "data": {
      "text/plain": [
       "1328"
      ]
     },
     "execution_count": 36,
     "metadata": {},
     "output_type": "execute_result"
    }
   ],
   "source": [
    "# For Test\n",
    "\n",
    "xteTitlew = stow( xtest['cleanTitle'] )\n",
    "\n",
    "print( len( xteTitlew ) )\n",
    "\n",
    "xteTitlemodel = gensim.models.Word2Vec( xteTitlew, min_count = 5, size =50, workers = 4 )\n",
    "\n",
    "xteTitlewords = list( xteTitlemodel.wv.vocab )\n",
    "len( xteTitlewords )"
   ]
  },
  {
   "cell_type": "markdown",
   "metadata": {},
   "source": [
    "### Project title Avg Word 2 vec"
   ]
  },
  {
   "cell_type": "code",
   "execution_count": 37,
   "metadata": {},
   "outputs": [
    {
     "name": "stderr",
     "output_type": "stream",
     "text": [
      "100%|█████████████████████████████████████████████████████████████████████████| 22445/22445 [00:01<00:00, 16040.57it/s]\n"
     ]
    },
    {
     "data": {
      "text/plain": [
       "(22445, 50)"
      ]
     },
     "execution_count": 37,
     "metadata": {},
     "output_type": "execute_result"
    }
   ],
   "source": [
    "# For Train\n",
    "\n",
    "xtrTitleAW2V = np.asarray( avgw2v( xtrTitlew, xtrTitlewords, xtrTitlemodel ) )\n",
    "\n",
    "xtrTitleAW2V.shape"
   ]
  },
  {
   "cell_type": "code",
   "execution_count": 38,
   "metadata": {},
   "outputs": [
    {
     "name": "stderr",
     "output_type": "stream",
     "text": [
      "100%|█████████████████████████████████████████████████████████████████████████| 11055/11055 [00:00<00:00, 14460.59it/s]\n"
     ]
    },
    {
     "data": {
      "text/plain": [
       "(11055, 50)"
      ]
     },
     "execution_count": 38,
     "metadata": {},
     "output_type": "execute_result"
    }
   ],
   "source": [
    "# For Cross validation\n",
    "\n",
    "xcvTitleAW2V = np.asarray( avgw2v( xcvTitlew, xtrTitlewords, xtrTitlemodel ) )\n",
    "\n",
    "xcvTitleAW2V.shape"
   ]
  },
  {
   "cell_type": "code",
   "execution_count": 39,
   "metadata": {},
   "outputs": [
    {
     "name": "stderr",
     "output_type": "stream",
     "text": [
      "100%|█████████████████████████████████████████████████████████████████████████| 16500/16500 [00:01<00:00, 15025.57it/s]\n"
     ]
    },
    {
     "data": {
      "text/plain": [
       "(16500, 50)"
      ]
     },
     "execution_count": 39,
     "metadata": {},
     "output_type": "execute_result"
    }
   ],
   "source": [
    "# For Test\n",
    "\n",
    "xteTitleAW2V = np.asarray( avgw2v( xteTitlew, xtrTitlewords, xtrTitlemodel ) )\n",
    "\n",
    "xteTitleAW2V.shape"
   ]
  },
  {
   "cell_type": "markdown",
   "metadata": {},
   "source": [
    "### Project title TFIDF WW2V"
   ]
  },
  {
   "cell_type": "code",
   "execution_count": 40,
   "metadata": {},
   "outputs": [
    {
     "name": "stdout",
     "output_type": "stream",
     "text": [
      "['05', '10', '101', '16', '1st', '1st grade', '1st graders', '2016', '2017', '21st', '21st century', '2nd', '2nd grade', '2nd graders', '3d', '3d printer', '3d printing', '3rd', '3rd grade', '3rd graders', '4th', '4th grade', '4th graders', '5th', '5th grade', '5th graders', '6th', '6th grade', '8th', 'academic']\n"
     ]
    },
    {
     "data": {
      "text/plain": [
       "1636"
      ]
     },
     "execution_count": 40,
     "metadata": {},
     "output_type": "execute_result"
    }
   ],
   "source": [
    "print( tfidfvect.get_feature_names()[0:30] )\n",
    "len( tfidfvect.get_feature_names() )"
   ]
  },
  {
   "cell_type": "code",
   "execution_count": 41,
   "metadata": {
    "collapsed": true
   },
   "outputs": [],
   "source": [
    "titlefeatures = tfidfvect.get_feature_names()"
   ]
  },
  {
   "cell_type": "code",
   "execution_count": 42,
   "metadata": {},
   "outputs": [
    {
     "name": "stderr",
     "output_type": "stream",
     "text": [
      "100%|██████████████████████████████████████████████████████████████████████████| 22445/22445 [00:04<00:00, 4513.14it/s]\n"
     ]
    },
    {
     "data": {
      "text/plain": [
       "(22445, 50)"
      ]
     },
     "execution_count": 42,
     "metadata": {},
     "output_type": "execute_result"
    }
   ],
   "source": [
    "# For train\n",
    "xtrTitleWW2V = np.asarray( ww2v( xtrTitlew, xtrTitlemodel, xtrTitleTFIDF, titlefeatures ) )\n",
    "\n",
    "xtrTitleWW2V.shape"
   ]
  },
  {
   "cell_type": "code",
   "execution_count": 43,
   "metadata": {},
   "outputs": [
    {
     "name": "stderr",
     "output_type": "stream",
     "text": [
      "100%|██████████████████████████████████████████████████████████████████████████| 11055/11055 [00:02<00:00, 4653.51it/s]\n"
     ]
    },
    {
     "data": {
      "text/plain": [
       "(11055, 50)"
      ]
     },
     "execution_count": 43,
     "metadata": {},
     "output_type": "execute_result"
    }
   ],
   "source": [
    "# For Cross validation\n",
    "xcvTitleWW2V = np.asarray( ww2v( xcvTitlew, xtrTitlemodel, xcvTitleTFIDF, titlefeatures ) )\n",
    "\n",
    "xcvTitleWW2V.shape"
   ]
  },
  {
   "cell_type": "code",
   "execution_count": 44,
   "metadata": {},
   "outputs": [
    {
     "name": "stderr",
     "output_type": "stream",
     "text": [
      "100%|██████████████████████████████████████████████████████████████████████████| 16500/16500 [00:03<00:00, 4890.37it/s]\n"
     ]
    },
    {
     "data": {
      "text/plain": [
       "(16500, 50)"
      ]
     },
     "execution_count": 44,
     "metadata": {},
     "output_type": "execute_result"
    }
   ],
   "source": [
    "# For Test\n",
    "xteTitleWW2V = np.asarray( ww2v( xteTitlew, xtrTitlemodel, xteTitleTFIDF, titlefeatures ) )\n",
    "\n",
    "xteTitleWW2V.shape"
   ]
  },
  {
   "cell_type": "markdown",
   "metadata": {},
   "source": [
    "## Function for Response Coding of Categorical Features"
   ]
  },
  {
   "cell_type": "markdown",
   "metadata": {},
   "source": [
    "The response tabel is built only on train dataset. For a category which is not there in train data and present in test data, we will encode them with default values Ex: in our test data if have State: D then we encode it as [0.5, 0.05]"
   ]
  },
  {
   "cell_type": "code",
   "execution_count": 45,
   "metadata": {
    "collapsed": true
   },
   "outputs": [],
   "source": [
    "def feaDic( alpha, feature, df ):\n",
    "    \n",
    "    count = xtrain[ feature ].value_counts()\n",
    "    \n",
    "    # count :  CA    597        NY    306         TX    289       FL    231       NC    206\n",
    "    \n",
    "    featDict = dict()\n",
    "    \n",
    "    # denominator will contain the number of time that particular feature occured in whole data\n",
    "    \n",
    "    for i, denominator in count.items():   # Here i = CA and deno = 597\n",
    "       \n",
    "        vec = []\n",
    "        \n",
    "        for j in range(1,3):  # itearte 2 times\n",
    "\n",
    "            cls_cnt = xtrain.loc[ ( xtrain['project_is_approved'] == j ) & ( xtrain[feature] == i ) ]\n",
    "            # cls_cnt will return a type(xtr) that will contain Only single features belonging to a single class\n",
    "            \n",
    "            # cls_cnt.shape[0] will contain the number of time that particular feature occured in the whole data\n",
    "            \n",
    "            vec.append( ( cls_cnt.shape[0] + alpha * 10 ) / ( denominator + 90 * alpha ) )\n",
    "\n",
    "        # we are adding the feature to the dict as key and vec as value\n",
    "        featDict[i] = vec\n",
    "    return featDict\n",
    "\n",
    "# when we caculate the probability of a feature belongs to any particular class, we apply laplace smoothing\n",
    "# (numerator + 10 *alpha) / (denominator + 90 *alpha ) \n",
    "\n",
    "\n",
    "\n",
    "def feature( alpha, feature, df ):\n",
    "   \n",
    "    featureDict = feaDic( alpha, feature, df ) # Function Call\n",
    "\n",
    "    count = xtrain[feature].value_counts()\n",
    "    \n",
    "    # feat :it will contain the feature for each feature value in the data\n",
    "    feat = []\n",
    "    \n",
    "  \n",
    "    for index, row in df.iterrows():\n",
    "        \n",
    "        if row[feature] in dict( count ).keys():\n",
    "            feat.append( featureDict[ row[feature] ] )\n",
    "        else:\n",
    "            feat.append([0.5, 0.05])\n",
    "\n",
    "    return feat\n"
   ]
  },
  {
   "cell_type": "markdown",
   "metadata": {},
   "source": [
    "### State"
   ]
  },
  {
   "cell_type": "code",
   "execution_count": 46,
   "metadata": {
    "collapsed": true
   },
   "outputs": [],
   "source": [
    "alpha = 1 # alpha is used for laplace smoothing\n",
    "\n",
    "xtrStateRC = np.array( feature( alpha, \"school_state\", xtrain) )\n",
    "xteStateRC = np.array( feature( alpha, \"school_state\", xtest) )\n",
    "xcvStateRC = np.array( feature( alpha, \"school_state\", xcv) )"
   ]
  },
  {
   "cell_type": "code",
   "execution_count": 47,
   "metadata": {},
   "outputs": [
    {
     "data": {
      "text/plain": [
       "array([0.47457627, 0.05649718])"
      ]
     },
     "execution_count": 47,
     "metadata": {},
     "output_type": "execute_result"
    }
   ],
   "source": [
    "xtrStateRC[4]"
   ]
  },
  {
   "cell_type": "code",
   "execution_count": 48,
   "metadata": {},
   "outputs": [
    {
     "data": {
      "text/html": [
       "<div>\n",
       "<style>\n",
       "    .dataframe thead tr:only-child th {\n",
       "        text-align: right;\n",
       "    }\n",
       "\n",
       "    .dataframe thead th {\n",
       "        text-align: left;\n",
       "    }\n",
       "\n",
       "    .dataframe tbody tr th {\n",
       "        vertical-align: top;\n",
       "    }\n",
       "</style>\n",
       "<table border=\"1\" class=\"dataframe\">\n",
       "  <thead>\n",
       "    <tr style=\"text-align: right;\">\n",
       "      <th></th>\n",
       "      <th>teacher_prefix</th>\n",
       "      <th>school_state</th>\n",
       "      <th>teacher_number_of_previously_posted_projects</th>\n",
       "      <th>project_is_approved</th>\n",
       "      <th>clean_categories</th>\n",
       "      <th>clean_subcategory</th>\n",
       "      <th>cleanEssay</th>\n",
       "      <th>price</th>\n",
       "      <th>quantity</th>\n",
       "      <th>cleanProjectGradeCategory</th>\n",
       "      <th>cleanTitle</th>\n",
       "    </tr>\n",
       "  </thead>\n",
       "  <tbody>\n",
       "    <tr>\n",
       "      <th>1577</th>\n",
       "      <td>Mrs.</td>\n",
       "      <td>IL</td>\n",
       "      <td>1</td>\n",
       "      <td>1</td>\n",
       "      <td>History-Civics</td>\n",
       "      <td>SocialSciences</td>\n",
       "      <td>For this class the students are juniors and se...</td>\n",
       "      <td>25.27</td>\n",
       "      <td>7</td>\n",
       "      <td>Nine-Twelve</td>\n",
       "      <td>brain...</td>\n",
       "    </tr>\n",
       "    <tr>\n",
       "      <th>1026</th>\n",
       "      <td>Ms.</td>\n",
       "      <td>NC</td>\n",
       "      <td>10</td>\n",
       "      <td>1</td>\n",
       "      <td>Health-Sports</td>\n",
       "      <td>Gym-Fitness</td>\n",
       "      <td>I teach over 800 kindergarten, 1st, 2nd and 3r...</td>\n",
       "      <td>49.83</td>\n",
       "      <td>29</td>\n",
       "      <td>PreK-Two</td>\n",
       "      <td>tps gets drumfit!</td>\n",
       "    </tr>\n",
       "  </tbody>\n",
       "</table>\n",
       "</div>"
      ],
      "text/plain": [
       "     teacher_prefix school_state  \\\n",
       "1577           Mrs.           IL   \n",
       "1026            Ms.           NC   \n",
       "\n",
       "      teacher_number_of_previously_posted_projects  project_is_approved  \\\n",
       "1577                                             1                    1   \n",
       "1026                                            10                    1   \n",
       "\n",
       "     clean_categories clean_subcategory  \\\n",
       "1577   History-Civics    SocialSciences   \n",
       "1026    Health-Sports       Gym-Fitness   \n",
       "\n",
       "                                             cleanEssay  price  quantity  \\\n",
       "1577  For this class the students are juniors and se...  25.27         7   \n",
       "1026  I teach over 800 kindergarten, 1st, 2nd and 3r...  49.83        29   \n",
       "\n",
       "     cleanProjectGradeCategory         cleanTitle  \n",
       "1577               Nine-Twelve           brain...  \n",
       "1026                  PreK-Two  tps gets drumfit!  "
      ]
     },
     "execution_count": 48,
     "metadata": {},
     "output_type": "execute_result"
    }
   ],
   "source": [
    "xtrain.head(2)"
   ]
  },
  {
   "cell_type": "code",
   "execution_count": null,
   "metadata": {
    "collapsed": true
   },
   "outputs": [],
   "source": []
  },
  {
   "cell_type": "markdown",
   "metadata": {},
   "source": [
    "### Teacher Prefix"
   ]
  },
  {
   "cell_type": "code",
   "execution_count": 49,
   "metadata": {},
   "outputs": [
    {
     "name": "stdout",
     "output_type": "stream",
     "text": [
      "(22445, 2)\n",
      "(11055, 2)\n",
      "(16500, 2)\n"
     ]
    }
   ],
   "source": [
    "alpha = 1 # alpha is used for laplace smoothing\n",
    "\n",
    "xtrPrefixRC = np.array( feature( alpha, \"teacher_prefix\", xtrain) )\n",
    "xtePrefixRC = np.array( feature( alpha, \"teacher_prefix\", xtest) )\n",
    "xcvPrefixRC = np.array( feature( alpha, \"teacher_prefix\", xcv) )\n",
    "\n",
    "print( xtrPrefixRC.shape )\n",
    "print( xcvPrefixRC.shape )\n",
    "print( xtePrefixRC.shape )"
   ]
  },
  {
   "cell_type": "code",
   "execution_count": null,
   "metadata": {
    "collapsed": true
   },
   "outputs": [],
   "source": []
  },
  {
   "cell_type": "markdown",
   "metadata": {},
   "source": [
    "### Category"
   ]
  },
  {
   "cell_type": "code",
   "execution_count": 50,
   "metadata": {},
   "outputs": [
    {
     "name": "stdout",
     "output_type": "stream",
     "text": [
      "(22445, 2)\n",
      "(11055, 2)\n",
      "(16500, 2)\n"
     ]
    }
   ],
   "source": [
    "alpha = 1 # alpha is used for laplace smoothing\n",
    "\n",
    "xtrCatRC = np.array( feature( alpha, \"clean_categories\", xtrain) )\n",
    "xteCatRC = np.array( feature( alpha, \"clean_categories\", xtest) )\n",
    "xcvCatRC = np.array( feature( alpha, \"clean_categories\", xcv) )\n",
    "\n",
    "print( xtrCatRC.shape )\n",
    "print( xcvCatRC.shape )\n",
    "print( xteCatRC.shape )"
   ]
  },
  {
   "cell_type": "code",
   "execution_count": null,
   "metadata": {
    "collapsed": true
   },
   "outputs": [],
   "source": []
  },
  {
   "cell_type": "markdown",
   "metadata": {},
   "source": [
    "### Sub Category"
   ]
  },
  {
   "cell_type": "code",
   "execution_count": 51,
   "metadata": {},
   "outputs": [
    {
     "name": "stdout",
     "output_type": "stream",
     "text": [
      "(22445, 2)\n",
      "(11055, 2)\n",
      "(16500, 2)\n"
     ]
    }
   ],
   "source": [
    "alpha = 1 # alpha is used for laplace smoothing\n",
    "\n",
    "xtrSubCatRC = np.array( feature( alpha, \"clean_subcategory\", xtrain) )\n",
    "xteSubCatRC = np.array( feature( alpha, \"clean_subcategory\", xtest) )\n",
    "xcvSubCatRC = np.array( feature( alpha, \"clean_subcategory\", xcv) )\n",
    "\n",
    "print( xtrSubCatRC.shape )\n",
    "print( xcvSubCatRC.shape )\n",
    "print( xteSubCatRC.shape )"
   ]
  },
  {
   "cell_type": "code",
   "execution_count": null,
   "metadata": {
    "collapsed": true
   },
   "outputs": [],
   "source": []
  },
  {
   "cell_type": "markdown",
   "metadata": {},
   "source": [
    "### Price"
   ]
  },
  {
   "cell_type": "code",
   "execution_count": 52,
   "metadata": {},
   "outputs": [
    {
     "name": "stdout",
     "output_type": "stream",
     "text": [
      "(22445, 1)\n",
      "(11055, 1)\n",
      "(16500, 1)\n"
     ]
    }
   ],
   "source": [
    "from sklearn.preprocessing import Normalizer\n",
    "\n",
    "norm = Normalizer()\n",
    "\n",
    "# norm.fit( xtrain['price'].values ) # gives error : Expected 2D array, got 1D array instead\n",
    "norm.fit( xtrain['price'].values.reshape(-1,1) )\n",
    "\n",
    "xtrPrice = norm.transform( xtrain['price'].values.reshape(-1,1) )\n",
    "xcvPrice = norm.transform( xcv['price'].values.reshape(-1,1) )\n",
    "xtePrice = norm.transform( xtest['price'].values.reshape(-1,1) )\n",
    "\n",
    "print( xtrPrice.shape )\n",
    "print( xcvPrice.shape )\n",
    "print( xtePrice.shape )"
   ]
  },
  {
   "cell_type": "markdown",
   "metadata": {},
   "source": [
    "### Previously Posted projects"
   ]
  },
  {
   "cell_type": "code",
   "execution_count": 53,
   "metadata": {},
   "outputs": [
    {
     "name": "stdout",
     "output_type": "stream",
     "text": [
      "(22445, 1)\n",
      "(11055, 1)\n",
      "(16500, 1)\n"
     ]
    }
   ],
   "source": [
    "from sklearn.preprocessing import Normalizer\n",
    "\n",
    "norm = Normalizer()\n",
    "\n",
    "# norm.fit( xtrain['price'].values ) # gives error : Expected 2D array, got 1D array instead\n",
    "norm.fit( xtrain['teacher_number_of_previously_posted_projects'].values.reshape(-1,1) )\n",
    "\n",
    "xtrPrev = norm.transform( xtrain['teacher_number_of_previously_posted_projects'].values.reshape(-1,1) )\n",
    "xcvPrev = norm.transform( xcv['teacher_number_of_previously_posted_projects'].values.reshape(-1,1) )\n",
    "xtePrev = norm.transform( xtest['teacher_number_of_previously_posted_projects'].values.reshape(-1,1) )\n",
    "\n",
    "print( xtrPrev.shape )\n",
    "print( xcvPrev.shape )\n",
    "print( xtePrev.shape )"
   ]
  },
  {
   "cell_type": "markdown",
   "metadata": {},
   "source": [
    "### Quantity"
   ]
  },
  {
   "cell_type": "code",
   "execution_count": 54,
   "metadata": {},
   "outputs": [
    {
     "name": "stdout",
     "output_type": "stream",
     "text": [
      "(22445, 1)\n",
      "(11055, 1)\n",
      "(16500, 1)\n"
     ]
    }
   ],
   "source": [
    "from sklearn.preprocessing import Normalizer\n",
    "\n",
    "norm = Normalizer()\n",
    "\n",
    "# norm.fit( xtrain['price'].values ) # gives error : Expected 2D array, got 1D array instead\n",
    "norm.fit( xtrain['quantity'].values.reshape(-1,1) )\n",
    "\n",
    "xtrQuan = norm.transform( xtrain['quantity'].values.reshape(-1,1) )\n",
    "xcvQuan = norm.transform( xcv['quantity'].values.reshape(-1,1) )\n",
    "xteQuan = norm.transform( xtest['quantity'].values.reshape(-1,1) )\n",
    "\n",
    "print( xtrQuan.shape )\n",
    "print( xcvQuan.shape )\n",
    "print( xteQuan.shape )"
   ]
  },
  {
   "cell_type": "markdown",
   "metadata": {},
   "source": [
    "### Merging Features"
   ]
  },
  {
   "cell_type": "markdown",
   "metadata": {},
   "source": [
    "### Set 1"
   ]
  },
  {
   "cell_type": "code",
   "execution_count": 55,
   "metadata": {},
   "outputs": [
    {
     "name": "stdout",
     "output_type": "stream",
     "text": [
      "(22445, 6647) (22445,)\n",
      "(11055, 6647) (11055,)\n",
      "(16500, 6647) (16500,)\n"
     ]
    }
   ],
   "source": [
    "from scipy.sparse import hstack\n",
    "\n",
    "xtr1 = hstack(( xtrEssayBOW, xtrTitleBOW, xtrStateRC, xtrPrefixRC, xtrCatRC, xtrSubCatRC, xtrPrice, xtrQuan, xtrPrev )).tocsr()\n",
    "xcv1 = hstack(( xcvEssayBOW, xcvTitleBOW, xcvStateRC, xcvPrefixRC, xcvCatRC, xcvSubCatRC, xcvPrice, xcvQuan, xcvPrev )).tocsr()\n",
    "xte1 = hstack(( xteEssayBOW, xteTitleBOW, xteStateRC, xtePrefixRC, xteCatRC, xteSubCatRC, xtePrice, xteQuan, xtePrev )).tocsr()\n",
    "\n",
    "print( xtr1.shape, ytrain.shape )\n",
    "print( xcv1.shape, ycv.shape )\n",
    "print( xte1.shape, ytest.shape )"
   ]
  },
  {
   "cell_type": "markdown",
   "metadata": {},
   "source": [
    "### Set 2"
   ]
  },
  {
   "cell_type": "code",
   "execution_count": 56,
   "metadata": {},
   "outputs": [
    {
     "name": "stdout",
     "output_type": "stream",
     "text": [
      "(22445, 6647) (22445,)\n",
      "(11055, 6647) (11055,)\n",
      "(16500, 6647) (16500,)\n"
     ]
    }
   ],
   "source": [
    "from scipy.sparse import hstack\n",
    "\n",
    "xtr2 = hstack(( xtrEssayTFIDF, xtrTitleTFIDF, xtrStateRC, xtrPrefixRC, xtrCatRC, xtrSubCatRC, xtrPrice, xtrQuan, xtrPrev)).tocsr()\n",
    "xcv2 = hstack(( xcvEssayTFIDF, xcvTitleTFIDF, xcvStateRC, xcvPrefixRC, xcvCatRC, xcvSubCatRC, xcvPrice, xcvQuan, xcvPrev )).tocsr()\n",
    "xte2 = hstack(( xteEssayTFIDF, xteTitleTFIDF, xteStateRC, xtePrefixRC, xteCatRC, xteSubCatRC, xtePrice, xteQuan, xtePrev )).tocsr()\n",
    "\n",
    "print( xtr2.shape, ytrain.shape )\n",
    "print( xcv2.shape, ycv.shape )\n",
    "print( xte2.shape, ytest.shape )"
   ]
  },
  {
   "cell_type": "markdown",
   "metadata": {},
   "source": [
    "### Set 3"
   ]
  },
  {
   "cell_type": "code",
   "execution_count": null,
   "metadata": {
    "collapsed": true
   },
   "outputs": [],
   "source": []
  },
  {
   "cell_type": "code",
   "execution_count": 57,
   "metadata": {},
   "outputs": [
    {
     "name": "stdout",
     "output_type": "stream",
     "text": [
      "(22445, 111) (22445,)\n",
      "(11055, 111) (11055,)\n",
      "(16500, 111) (16500,)\n"
     ]
    }
   ],
   "source": [
    "from scipy.sparse import hstack\n",
    "import numpy as np\n",
    "\n",
    "xtr3 = np.hstack(( xtrAW2V, xtrTitleAW2V, xtrStateRC, xtrPrefixRC, xtrCatRC, xtrSubCatRC, xtrPrice, xtrQuan, xtrPrev ))\n",
    "xcv3 = np.hstack(( xcvAW2V, xcvTitleAW2V, xcvStateRC, xcvPrefixRC, xcvCatRC, xcvSubCatRC, xcvPrice, xcvQuan, xcvPrev ))\n",
    "xte3 = np.hstack(( xteAW2V, xteTitleAW2V, xteStateRC, xtePrefixRC, xteCatRC, xteSubCatRC, xtePrice, xteQuan, xtePrev ))\n",
    "\n",
    "print( xtr3.shape, ytrain.shape )\n",
    "print( xcv3.shape, ycv.shape )\n",
    "print( xte3.shape, ytest.shape )"
   ]
  },
  {
   "cell_type": "markdown",
   "metadata": {},
   "source": [
    "### Set 4"
   ]
  },
  {
   "cell_type": "code",
   "execution_count": 58,
   "metadata": {},
   "outputs": [
    {
     "name": "stdout",
     "output_type": "stream",
     "text": [
      "(22445, 111) (22445,)\n",
      "(11055, 111) (11055,)\n",
      "(16500, 111) (16500,)\n"
     ]
    }
   ],
   "source": [
    "from scipy.sparse import hstack\n",
    "import numpy as np\n",
    "\n",
    "xtr4 = np.hstack(( xtrWW2V, xtrTitleWW2V, xtrStateRC, xtrPrefixRC, xtrCatRC, xtrSubCatRC, xtrPrice, xtrQuan, xtrPrev ))\n",
    "xcv4 = np.hstack(( xcvWW2V, xcvTitleWW2V, xcvStateRC, xcvPrefixRC, xcvCatRC, xcvSubCatRC, xcvPrice, xcvQuan, xcvPrev ))\n",
    "xte4 = np.hstack(( xteWW2V, xteTitleWW2V, xteStateRC, xtePrefixRC, xteCatRC, xteSubCatRC, xtePrice, xteQuan, xtePrev ))\n",
    "\n",
    "print( xtr4.shape, ytrain.shape )\n",
    "print( xcv4.shape, ycv.shape )\n",
    "print( xte4.shape, ytest.shape )"
   ]
  },
  {
   "cell_type": "code",
   "execution_count": 59,
   "metadata": {},
   "outputs": [
    {
     "data": {
      "text/html": [
       "        <script type=\"text/javascript\">\n",
       "        window.PlotlyConfig = {MathJaxConfig: 'local'};\n",
       "        if (window.MathJax) {MathJax.Hub.Config({SVG: {font: \"STIX-Web\"}});}\n",
       "        if (typeof require !== 'undefined') {\n",
       "        require.undef(\"plotly\");\n",
       "        requirejs.config({\n",
       "            paths: {\n",
       "                'plotly': ['https://cdn.plot.ly/plotly-latest.min']\n",
       "            }\n",
       "        });\n",
       "        require(['plotly'], function(Plotly) {\n",
       "            window._Plotly = Plotly;\n",
       "        });\n",
       "        }\n",
       "        </script>\n",
       "        "
      ]
     },
     "metadata": {},
     "output_type": "display_data"
    },
    {
     "data": {
      "application/vnd.plotly.v1+json": {
       "config": {
        "linkText": "Export to plot.ly",
        "plotlyServerURL": "https://plot.ly",
        "responsive": true,
        "showLink": false
       },
       "data": [
        {
         "type": "scatter",
         "uid": "1dc89395-7b6c-4895-a284-04b7b959b10d",
         "x": [
          1,
          2,
          3,
          4
         ],
         "y": [
          4,
          3,
          2,
          1
         ]
        }
       ],
       "layout": {
        "title": {
         "text": "hello world"
        }
       }
      },
      "text/html": [
       "<div>\n",
       "        \n",
       "        \n",
       "            <div id=\"24c98417-168c-47c5-9ae5-9058e482da2b\" class=\"plotly-graph-div\" style=\"height:525px; width:100%;\"></div>\n",
       "            <script type=\"text/javascript\">\n",
       "                require([\"plotly\"], function(Plotly) {\n",
       "                    window.PLOTLYENV=window.PLOTLYENV || {};\n",
       "                    window.PLOTLYENV.BASE_URL='https://plot.ly';\n",
       "                    \n",
       "                if (document.getElementById(\"24c98417-168c-47c5-9ae5-9058e482da2b\")) {\n",
       "                    Plotly.newPlot(\n",
       "                        '24c98417-168c-47c5-9ae5-9058e482da2b',\n",
       "                        [{\"type\": \"scatter\", \"uid\": \"1ee4b1a7-a8bd-4f0c-9879-c9c995a442ca\", \"x\": [1, 2, 3, 4], \"y\": [4, 3, 2, 1]}],\n",
       "                        {\"title\": {\"text\": \"hello world\"}},\n",
       "                        {\"showLink\": false, \"linkText\": \"Export to plot.ly\", \"plotlyServerURL\": \"https://plot.ly\", \"responsive\": true}\n",
       "                    ).then(function(){\n",
       "                            \n",
       "var gd = document.getElementById('24c98417-168c-47c5-9ae5-9058e482da2b');\n",
       "var x = new MutationObserver(function (mutations, observer) {{\n",
       "        var display = window.getComputedStyle(gd).display;\n",
       "        if (!display || display === 'none') {{\n",
       "            console.log([gd, 'removed!']);\n",
       "            Plotly.purge(gd);\n",
       "            observer.disconnect();\n",
       "        }}\n",
       "}});\n",
       "\n",
       "// Listen for the removal of the full notebook cells\n",
       "var notebookContainer = gd.closest('#notebook-container');\n",
       "if (notebookContainer) {{\n",
       "    x.observe(notebookContainer, {childList: true});\n",
       "}}\n",
       "\n",
       "// Listen for the clearing of the current output cell\n",
       "var outputEl = gd.closest('.output');\n",
       "if (outputEl) {{\n",
       "    x.observe(outputEl, {childList: true});\n",
       "}}\n",
       "\n",
       "                        })\n",
       "                };\n",
       "                });\n",
       "            </script>\n",
       "        </div>"
      ]
     },
     "metadata": {},
     "output_type": "display_data"
    }
   ],
   "source": [
    "import plotly\n",
    "import plotly.graph_objs as go\n",
    "\n",
    "plotly.offline.init_notebook_mode(connected=True)\n",
    "\n",
    "plotly.offline.iplot({\n",
    "    \"data\": [go.Scatter(x=[1, 2, 3, 4], y=[4, 3, 2, 1])],\n",
    "    \"layout\": go.Layout(title=\"hello world\")\n",
    "})\n",
    "\n",
    "# Ref : https://plot.ly/python/"
   ]
  },
  {
   "cell_type": "markdown",
   "metadata": {
    "collapsed": true
   },
   "source": [
    "## Functions"
   ]
  },
  {
   "cell_type": "code",
   "execution_count": 71,
   "metadata": {},
   "outputs": [
    {
     "name": "stderr",
     "output_type": "stream",
     "text": [
      "D:\\Anaconda\\lib\\site-packages\\sklearn\\ensemble\\weight_boosting.py:29: DeprecationWarning:\n",
      "\n",
      "numpy.core.umath_tests is an internal NumPy module and should not be imported. It will be removed in a future NumPy release.\n",
      "\n",
      "IOPub data rate exceeded.\n",
      "The notebook server will temporarily stop sending output\n",
      "to the client in order to avoid crashing it.\n",
      "To change this limit, set the config variable\n",
      "`--NotebookApp.iopub_data_rate_limit`.\n"
     ]
    }
   ],
   "source": [
    "import matplotlib.pyplot as plt\n",
    "\n",
    "from sklearn.ensemble import RandomForestClassifier\n",
    "\n",
    "from sklearn.metrics import roc_auc_score\n",
    "from sklearn.metrics import roc_curve, auc\n",
    "from sklearn.metrics import confusion_matrix\n",
    "\n",
    "import plotly.offline as offline\n",
    "import plotly.graph_objs as go\n",
    "offline.init_notebook_mode()\n",
    "\n",
    "import seaborn as sn"
   ]
  },
  {
   "cell_type": "code",
   "execution_count": 64,
   "metadata": {
    "collapsed": true
   },
   "outputs": [],
   "source": [
    "def batchPredict( data, classifier ): # Predict the probablity of data points in batch i.e; some data points at once \n",
    "    \n",
    "    yPred = []\n",
    "    \n",
    "    loop = data.shape[0] - data.shape[0] % 1000   # data.shape[0] : no of rows in data matrix\n",
    "    # for ex data shape = 4489 then loop = 4489 - 4489%1000 = 4489 - 489 = 4000 \n",
    "    # Now we can divide our loop into 4 interval of 1000s and one remaining 489\n",
    "    # ie; 1-1000 in 1st iteration 1000-2000 in 2nd iteration 2000-3000 in 3rd 3000-4000 in 4th and 4000-4489 in the last iteraion\n",
    "    \n",
    "    for i in range( 0, loop, 1000 ):\n",
    "        # If loop = 4000 Computes proba for 0 - 4000 in 4 iterations\n",
    "       \n",
    "        yPred.extend( classifier.predict_proba( data[i : i+1000] )[ :, 1] ) # [ :, 1] : All row Only 1 col\n",
    "        # predict_proba : Return probability estimates for the test data X.\n",
    "\n",
    "    yPred.extend( classifier.predict_proba( data[ loop : ] )[ :, 1 ] )\n",
    "    # computes probab for remaining points\n",
    "\n",
    "    return yPred"
   ]
  },
  {
   "cell_type": "code",
   "execution_count": 65,
   "metadata": {
    "collapsed": true
   },
   "outputs": [],
   "source": [
    "def BestDE( xtr, xcv, ytr, ycv ):\n",
    "    \n",
    "    trAUC = []\n",
    "    cvAUC = []\n",
    "    \n",
    "    depth = [ 5, 11, 51, 101 ]\n",
    "    estimator = [10, 50, 100, 200]\n",
    "    d = []\n",
    "    e = []\n",
    "    print(' '*12,'- First -', ' '*16,'- Second -', ' '*17,'- Third -', ' '*16,'- Fourth -')\n",
    "    print('      ', end =' ')\n",
    "\n",
    "    for i in depth:\n",
    "        for j in estimator:\n",
    "            \n",
    "            clf = RandomForestClassifier( max_depth = i, n_estimators = j, class_weight = 'balanced', n_jobs=-1 )\n",
    "            clf.fit( xtr, ytr )\n",
    "            \n",
    "            ytrPred = batchPredict( xtr, clf )    \n",
    "            ycvPred = batchPredict( xcv, clf )\n",
    "\n",
    "            # roc_auc_score(y_true, y_score) the 2nd parameter should be probability estimates of the positive class\n",
    "            # not the predicted outputs \n",
    "\n",
    "            trAUC.append( roc_auc_score( ytr, ytrPred ))\n",
    "            cvAUC.append( roc_auc_score( ycv, ycvPred ))\n",
    "            d.append(i)\n",
    "            e.append(j)\n",
    "        print('#'*20, end ='        ')\n",
    "    \n",
    "    # d = [ 5,   5,  5,   5,    11, 11,  11, 11,     51, 51,  51,  51,    101, 101, 101, 101 ]\n",
    "    # e = [ 10, 50, 100, 200,   10, 50, 100, 200,    10, 50, 100, 200,    10,  50, 100, 200 ]\n",
    "\n",
    "    trace1 = go.Scatter3d( x = d, y = e , z = trAUC, name = 'Train')\n",
    "    trace2 = go.Scatter3d( x = d, y = e, z = cvAUC, name = 'Cross validation')\n",
    "\n",
    "    data = [trace1, trace2]\n",
    "\n",
    "    layout = go.Layout(scene = dict(\n",
    "        xaxis = dict(title='max_depth'),\n",
    "        yaxis = dict(title='n_estimators'),\n",
    "        zaxis = dict(title='AUC'),))\n",
    "\n",
    "    fig = go.Figure(data=data, layout=layout)\n",
    "    offline.iplot(fig, filename='3d-scatter-colorscale')"
   ]
  },
  {
   "cell_type": "markdown",
   "metadata": {},
   "source": [
    "## To Calculate and Plot CM"
   ]
  },
  {
   "cell_type": "code",
   "execution_count": 66,
   "metadata": {
    "collapsed": true
   },
   "outputs": [],
   "source": [
    "def predictCM( probab, threshold, fpr, tpr ):\n",
    "    \n",
    "    t = threshold[ np.argmax( fpr*( 1 - tpr ) ) ]  # returns the threshold val for the point with max fpr(1-tpr) value\n",
    "    # fpr*( 1 - tpr ) will be high if fpr is high and tpr is low\n",
    "    # argmax : Returns the indices of the maximum val along an axis\n",
    "    \n",
    "    print(\" The maximum value of tpr*(1-fpr) = \", max( tpr*(1-fpr) ), \" for threshold = \", np.round(t,3))\n",
    "    \n",
    "    pred = []\n",
    "    for i in probab: # i = Probability for all data points\n",
    "        \n",
    "        if i >= t:   #  if Probablity of a point is >= the Threshold value i,e; Threshold at index of max val of fpr(1-tpr) \n",
    "            pred.append(1)\n",
    "        else:\n",
    "            pred.append(0)\n",
    "            \n",
    "    return pred"
   ]
  },
  {
   "cell_type": "code",
   "execution_count": 67,
   "metadata": {
    "collapsed": true,
    "scrolled": false
   },
   "outputs": [],
   "source": [
    "def cm( ytr, yte, yTrainPred, trThreshold, trFPR, trTPR, yTestPred, teThreshold, teFPR, teTPR, sno ):\n",
    "    \n",
    "    print(\"Confusion Matrix for Train of Set \", sno)\n",
    "    \n",
    "    predicted = predictCM( yTrainPred, trThreshold, trFPR, trTPR )\n",
    "    cmtr = confusion_matrix( ytr, predicted )\n",
    "    print( cmtr  )\n",
    "\n",
    "    plt.figure(figsize = (8,6))\n",
    "    sn.set(font_scale=1.4) #for label size\n",
    "    sn.heatmap(cmtr, fmt=\".1f\", annot=True, annot_kws={\"size\": 18}, cmap='Blues_r')# font size\n",
    "    plt.ylabel('True label', size=18)\n",
    "    plt.xlabel('Predicted label', size=18)\n",
    "    plt.show()\n",
    "    plt.close()\n",
    "\n",
    "\n",
    "\n",
    "    print(\"\\n\\nConfusion Matrix for Test \", sno)\n",
    "    predicted = predictCM( yTestPred, teThreshold, teFPR, teTPR )\n",
    "\n",
    "    cmte = confusion_matrix( yte, predicted )\n",
    "    print( cmte )\n",
    "\n",
    "    plt.figure(figsize = (8,6))\n",
    "    sn.set(font_scale=1.4) #for label size\n",
    "    sn.heatmap(cmte, fmt=\".1f\", annot=True, annot_kws={\"size\": 18}, cmap='Blues_r')# font size\n",
    "    plt.ylabel('True label', size=18)\n",
    "    plt.xlabel('Predicted label', size=18)\n",
    "    plt.show()\n",
    "    plt.close()"
   ]
  },
  {
   "cell_type": "code",
   "execution_count": 68,
   "metadata": {
    "collapsed": true
   },
   "outputs": [],
   "source": [
    "def Predict( data, classifier ): # Predicts the probability of data points all at once\n",
    "    \n",
    "    yPred = []\n",
    "        \n",
    "    yPred.extend( classifier.predict_proba( data )[:, 1] ) # [ :, 1] : All row Only 1 col\n",
    "    # predict_proba : Return probability estimates for the test data X.\n",
    "    \n",
    "    return yPred"
   ]
  },
  {
   "cell_type": "code",
   "execution_count": 69,
   "metadata": {
    "collapsed": true
   },
   "outputs": [],
   "source": [
    "def roc( xtr, xte, ytr, yte, D, N, sno ):\n",
    "    \n",
    "    clf = RandomForestClassifier( n_estimators = N, max_depth = D, class_weight = 'balanced' )\n",
    "    clf.fit( xtr, ytr )\n",
    "\n",
    "    yTrainPred = Predict( xtr, clf )    \n",
    "    yTestPred = Predict( xte, clf )\n",
    "\n",
    "    trFPR, trTPR, trThreshold = roc_curve( ytr, yTrainPred ) # ytrain and YTrainPred must have same no. of points\n",
    "    teFPR, teTPR, teThreshold = roc_curve( yte, yTestPred )\n",
    "\n",
    "    # roc_curve() : Compute Receiver operating characteristic (ROC),\n",
    "    # this implementation is restricted to the binary classification task.\n",
    "    # roc_curve( yTrue, yScore ) : yTrue = True Binary labels, yScore = Target values Probablistic estimate, confidence values etc\n",
    "    # The func returns 3 arrays : fpr = false Positive rates, tpr = True Positive rates, Threshold \n",
    "\n",
    "    plt.figure( figsize = (15, 5) )\n",
    "    plt.plot( trFPR, trTPR, label=\"Train AUC = \" + str( auc( trFPR, trTPR ) ) )\n",
    "    plt.plot( teFPR, teTPR, label=\"Test AUC = \" + str( auc( teFPR, teTPR ) ) )\n",
    "\n",
    "    plt.legend()\n",
    "    plt.xlabel(\" Hyperparameter \")\n",
    "    plt.ylabel(\" AUC \")\n",
    "    plt.title(\"ERROR PLOTS for Set \"+str(sno))\n",
    "    plt.grid()\n",
    "    plt.show()\n",
    "    \n",
    "    \n",
    "    cm( ytr, yte, yTrainPred, trThreshold, trFPR, trTPR, yTestPred, teThreshold, teFPR, teTPR, sno )\n",
    "    \n"
   ]
  },
  {
   "cell_type": "markdown",
   "metadata": {
    "collapsed": true
   },
   "source": [
    "# Random Forest"
   ]
  },
  {
   "cell_type": "markdown",
   "metadata": {
    "collapsed": true
   },
   "source": [
    "## Operations on Set 1"
   ]
  },
  {
   "cell_type": "code",
   "execution_count": 72,
   "metadata": {
    "scrolled": false
   },
   "outputs": [
    {
     "name": "stdout",
     "output_type": "stream",
     "text": [
      "             - First -                  - Second -                   - Third -                  - Fourth -\n",
      "       ####################        ####################        ####################        ####################        "
     ]
    },
    {
     "data": {
      "application/vnd.plotly.v1+json": {
       "config": {
        "linkText": "Export to plot.ly",
        "plotlyServerURL": "https://plot.ly",
        "responsive": true,
        "showLink": false
       },
       "data": [
        {
         "name": "Train",
         "type": "scatter3d",
         "uid": "ba18416e-d6ba-4e65-a78c-2ca61baf8db7",
         "x": [
          5,
          5,
          5,
          5,
          11,
          11,
          11,
          11,
          51,
          51,
          51,
          51,
          101,
          101,
          101,
          101
         ],
         "y": [
          10,
          50,
          100,
          200,
          10,
          50,
          100,
          200,
          10,
          50,
          100,
          200,
          10,
          50,
          100,
          200
         ],
         "z": [
          0.6763975951440904,
          0.746459668632073,
          0.765063140352763,
          0.7671941772701788,
          0.8175294143884446,
          0.8921269714825965,
          0.916151616256786,
          0.9220957401685133,
          0.9984865443752312,
          0.999999482769107,
          1,
          1,
          0.9995487540774909,
          1,
          1,
          1
         ]
        },
        {
         "name": "Cross validation",
         "type": "scatter3d",
         "uid": "29672ee1-bf7f-4b44-9e6a-d2af6e0549e0",
         "x": [
          5,
          5,
          5,
          5,
          11,
          11,
          11,
          11,
          51,
          51,
          51,
          51,
          101,
          101,
          101,
          101
         ],
         "y": [
          10,
          50,
          100,
          200,
          10,
          50,
          100,
          200,
          10,
          50,
          100,
          200,
          10,
          50,
          100,
          200
         ],
         "z": [
          0.618907114965421,
          0.6608752489532203,
          0.6687117788197657,
          0.6742249753007041,
          0.6223452569510877,
          0.660219925666881,
          0.6672562297112926,
          0.6791898630953315,
          0.6062703592767419,
          0.6523969764925431,
          0.6588921228848778,
          0.6678669531262251,
          0.5811758433045304,
          0.6365034579014224,
          0.6586432794392084,
          0.6747755108441671
         ]
        }
       ],
       "layout": {
        "scene": {
         "xaxis": {
          "title": {
           "text": "n_estimators"
          }
         },
         "yaxis": {
          "title": {
           "text": "max_depth"
          }
         },
         "zaxis": {
          "title": {
           "text": "AUC"
          }
         }
        }
       }
      },
      "text/html": [
       "<div>\n",
       "        \n",
       "        \n",
       "            <div id=\"d73923fc-bc50-4b46-a739-69162f509000\" class=\"plotly-graph-div\" style=\"height:525px; width:100%;\"></div>\n",
       "            <script type=\"text/javascript\">\n",
       "                require([\"plotly\"], function(Plotly) {\n",
       "                    window.PLOTLYENV=window.PLOTLYENV || {};\n",
       "                    window.PLOTLYENV.BASE_URL='https://plot.ly';\n",
       "                    \n",
       "                if (document.getElementById(\"d73923fc-bc50-4b46-a739-69162f509000\")) {\n",
       "                    Plotly.newPlot(\n",
       "                        'd73923fc-bc50-4b46-a739-69162f509000',\n",
       "                        [{\"name\": \"Train\", \"type\": \"scatter3d\", \"uid\": \"1f24c132-6140-4405-9157-8a7a445398de\", \"x\": [5, 5, 5, 5, 11, 11, 11, 11, 51, 51, 51, 51, 101, 101, 101, 101], \"y\": [10, 50, 100, 200, 10, 50, 100, 200, 10, 50, 100, 200, 10, 50, 100, 200], \"z\": [0.6763975951440904, 0.746459668632073, 0.765063140352763, 0.7671941772701788, 0.8175294143884446, 0.8921269714825965, 0.916151616256786, 0.9220957401685133, 0.9984865443752312, 0.999999482769107, 1.0, 1.0, 0.9995487540774909, 1.0, 1.0, 1.0]}, {\"name\": \"Cross validation\", \"type\": \"scatter3d\", \"uid\": \"8d5844b1-55ff-4532-bed0-cf548b4f7738\", \"x\": [5, 5, 5, 5, 11, 11, 11, 11, 51, 51, 51, 51, 101, 101, 101, 101], \"y\": [10, 50, 100, 200, 10, 50, 100, 200, 10, 50, 100, 200, 10, 50, 100, 200], \"z\": [0.618907114965421, 0.6608752489532203, 0.6687117788197657, 0.6742249753007041, 0.6223452569510877, 0.660219925666881, 0.6672562297112926, 0.6791898630953315, 0.6062703592767419, 0.6523969764925431, 0.6588921228848778, 0.6678669531262251, 0.5811758433045304, 0.6365034579014224, 0.6586432794392084, 0.6747755108441671]}],\n",
       "                        {\"scene\": {\"xaxis\": {\"title\": {\"text\": \"n_estimators\"}}, \"yaxis\": {\"title\": {\"text\": \"max_depth\"}}, \"zaxis\": {\"title\": {\"text\": \"AUC\"}}}},\n",
       "                        {\"showLink\": false, \"linkText\": \"Export to plot.ly\", \"plotlyServerURL\": \"https://plot.ly\", \"responsive\": true}\n",
       "                    ).then(function(){\n",
       "                            \n",
       "var gd = document.getElementById('d73923fc-bc50-4b46-a739-69162f509000');\n",
       "var x = new MutationObserver(function (mutations, observer) {{\n",
       "        var display = window.getComputedStyle(gd).display;\n",
       "        if (!display || display === 'none') {{\n",
       "            console.log([gd, 'removed!']);\n",
       "            Plotly.purge(gd);\n",
       "            observer.disconnect();\n",
       "        }}\n",
       "}});\n",
       "\n",
       "// Listen for the removal of the full notebook cells\n",
       "var notebookContainer = gd.closest('#notebook-container');\n",
       "if (notebookContainer) {{\n",
       "    x.observe(notebookContainer, {childList: true});\n",
       "}}\n",
       "\n",
       "// Listen for the clearing of the current output cell\n",
       "var outputEl = gd.closest('.output');\n",
       "if (outputEl) {{\n",
       "    x.observe(outputEl, {childList: true});\n",
       "}}\n",
       "\n",
       "                        })\n",
       "                };\n",
       "                });\n",
       "            </script>\n",
       "        </div>"
      ]
     },
     "metadata": {},
     "output_type": "display_data"
    }
   ],
   "source": [
    "BestDE( xtr1, xcv1, ytrain, ycv )"
   ]
  },
  {
   "cell_type": "code",
   "execution_count": 76,
   "metadata": {},
   "outputs": [
    {
     "data": {
      "image/png": "[encoded data removed]",
      "text/plain": [
       "<matplotlib.figure.Figure at 0x1a99d7ffbe0>"
      ]
     },
     "metadata": {},
     "output_type": "display_data"
    },
    {
     "name": "stdout",
     "output_type": "stream",
     "text": [
      "Confusion Matrix for Train of Set  1\n",
      " The maximum value of tpr*(1-fpr) =  0.7072782266817937  for threshold =  0.838\n",
      "[[ 2906   557]\n",
      " [ 3038 15944]]\n"
     ]
    },
    {
     "data": {
      "image/png": "[encoded data removed]",
      "text/plain": [
       "<matplotlib.figure.Figure at 0x1a988a55908>"
      ]
     },
     "metadata": {},
     "output_type": "display_data"
    },
    {
     "name": "stdout",
     "output_type": "stream",
     "text": [
      "\n",
      "\n",
      "Confusion Matrix for Test  1\n",
      " The maximum value of tpr*(1-fpr) =  0.3904648659871212  for threshold =  0.846\n",
      "[[1651  895]\n",
      " [5643 8311]]\n"
     ]
    },
    {
     "data": {
      "image/png": "[encoded data removed]",
      "text/plain": [
       "<matplotlib.figure.Figure at 0x1a988a870f0>"
      ]
     },
     "metadata": {},
     "output_type": "display_data"
    }
   ],
   "source": [
    "bestD = 11\n",
    "bestN = 200\n",
    "\n",
    "roc( xtr1, xte1, ytrain, ytest, bestD, bestN, 1 )"
   ]
  },
  {
   "cell_type": "markdown",
   "metadata": {
    "collapsed": true
   },
   "source": [
    "## Opeartions on Set 2"
   ]
  },
  {
   "cell_type": "code",
   "execution_count": 73,
   "metadata": {
    "scrolled": false
   },
   "outputs": [
    {
     "name": "stdout",
     "output_type": "stream",
     "text": [
      "             - First -                  - Second -                   - Third -                  - Fourth -\n",
      "       ####################        ####################        ####################        ####################        "
     ]
    },
    {
     "data": {
      "application/vnd.plotly.v1+json": {
       "config": {
        "linkText": "Export to plot.ly",
        "plotlyServerURL": "https://plot.ly",
        "responsive": true,
        "showLink": false
       },
       "data": [
        {
         "name": "Train",
         "type": "scatter3d",
         "uid": "9ea60e4d-0e33-42d9-8d90-63ac7fb3156e",
         "x": [
          5,
          5,
          5,
          5,
          11,
          11,
          11,
          11,
          51,
          51,
          51,
          51,
          101,
          101,
          101,
          101
         ],
         "y": [
          10,
          50,
          100,
          200,
          10,
          50,
          100,
          200,
          10,
          50,
          100,
          200,
          10,
          50,
          100,
          200
         ],
         "z": [
          0.7076006897182683,
          0.7669936057787226,
          0.7727775022086519,
          0.7855808988213311,
          0.8206984804638697,
          0.9136883573729575,
          0.9278785869239832,
          0.9373647916610697,
          0.9987903947058923,
          0.9999999847873267,
          1,
          1,
          0.9995578132244561,
          1,
          0.9999999999999999,
          1
         ]
        },
        {
         "name": "Cross validation",
         "type": "scatter3d",
         "uid": "9f22937b-2f69-483d-ad5c-337ddc9955c0",
         "x": [
          5,
          5,
          5,
          5,
          11,
          11,
          11,
          11,
          51,
          51,
          51,
          51,
          101,
          101,
          101,
          101
         ],
         "y": [
          10,
          50,
          100,
          200,
          10,
          50,
          100,
          200,
          10,
          50,
          100,
          200,
          10,
          50,
          100,
          200
         ],
         "z": [
          0.620537048943811,
          0.6551264760769677,
          0.6602450797434409,
          0.6709614690984365,
          0.615359417880722,
          0.6548701993193972,
          0.6697989869368168,
          0.6753389057035771,
          0.5726349679301206,
          0.6364831966377593,
          0.6539345429454106,
          0.6716946382925337,
          0.5563105681622155,
          0.6337871312747974,
          0.6558182759107375,
          0.6599039315006194
         ]
        }
       ],
       "layout": {
        "scene": {
         "xaxis": {
          "title": {
           "text": "n_estimators"
          }
         },
         "yaxis": {
          "title": {
           "text": "max_depth"
          }
         },
         "zaxis": {
          "title": {
           "text": "AUC"
          }
         }
        }
       }
      },
      "text/html": [
       "<div>\n",
       "        \n",
       "        \n",
       "            <div id=\"1820e005-e558-481f-a701-77c5bd11612b\" class=\"plotly-graph-div\" style=\"height:525px; width:100%;\"></div>\n",
       "            <script type=\"text/javascript\">\n",
       "                require([\"plotly\"], function(Plotly) {\n",
       "                    window.PLOTLYENV=window.PLOTLYENV || {};\n",
       "                    window.PLOTLYENV.BASE_URL='https://plot.ly';\n",
       "                    \n",
       "                if (document.getElementById(\"1820e005-e558-481f-a701-77c5bd11612b\")) {\n",
       "                    Plotly.newPlot(\n",
       "                        '1820e005-e558-481f-a701-77c5bd11612b',\n",
       "                        [{\"name\": \"Train\", \"type\": \"scatter3d\", \"uid\": \"587902e4-37c8-41f3-87b4-0d0da6a82578\", \"x\": [5, 5, 5, 5, 11, 11, 11, 11, 51, 51, 51, 51, 101, 101, 101, 101], \"y\": [10, 50, 100, 200, 10, 50, 100, 200, 10, 50, 100, 200, 10, 50, 100, 200], \"z\": [0.7076006897182683, 0.7669936057787226, 0.7727775022086519, 0.7855808988213311, 0.8206984804638697, 0.9136883573729575, 0.9278785869239832, 0.9373647916610697, 0.9987903947058923, 0.9999999847873267, 1.0, 1.0, 0.9995578132244561, 1.0, 0.9999999999999999, 1.0]}, {\"name\": \"Cross validation\", \"type\": \"scatter3d\", \"uid\": \"5779a167-81f5-47ae-82d2-054e517d3d53\", \"x\": [5, 5, 5, 5, 11, 11, 11, 11, 51, 51, 51, 51, 101, 101, 101, 101], \"y\": [10, 50, 100, 200, 10, 50, 100, 200, 10, 50, 100, 200, 10, 50, 100, 200], \"z\": [0.620537048943811, 0.6551264760769677, 0.6602450797434409, 0.6709614690984365, 0.615359417880722, 0.6548701993193972, 0.6697989869368168, 0.6753389057035771, 0.5726349679301206, 0.6364831966377593, 0.6539345429454106, 0.6716946382925337, 0.5563105681622155, 0.6337871312747974, 0.6558182759107375, 0.6599039315006194]}],\n",
       "                        {\"scene\": {\"xaxis\": {\"title\": {\"text\": \"n_estimators\"}}, \"yaxis\": {\"title\": {\"text\": \"max_depth\"}}, \"zaxis\": {\"title\": {\"text\": \"AUC\"}}}},\n",
       "                        {\"showLink\": false, \"linkText\": \"Export to plot.ly\", \"plotlyServerURL\": \"https://plot.ly\", \"responsive\": true}\n",
       "                    ).then(function(){\n",
       "                            \n",
       "var gd = document.getElementById('1820e005-e558-481f-a701-77c5bd11612b');\n",
       "var x = new MutationObserver(function (mutations, observer) {{\n",
       "        var display = window.getComputedStyle(gd).display;\n",
       "        if (!display || display === 'none') {{\n",
       "            console.log([gd, 'removed!']);\n",
       "            Plotly.purge(gd);\n",
       "            observer.disconnect();\n",
       "        }}\n",
       "}});\n",
       "\n",
       "// Listen for the removal of the full notebook cells\n",
       "var notebookContainer = gd.closest('#notebook-container');\n",
       "if (notebookContainer) {{\n",
       "    x.observe(notebookContainer, {childList: true});\n",
       "}}\n",
       "\n",
       "// Listen for the clearing of the current output cell\n",
       "var outputEl = gd.closest('.output');\n",
       "if (outputEl) {{\n",
       "    x.observe(outputEl, {childList: true});\n",
       "}}\n",
       "\n",
       "                        })\n",
       "                };\n",
       "                });\n",
       "            </script>\n",
       "        </div>"
      ]
     },
     "metadata": {},
     "output_type": "display_data"
    }
   ],
   "source": [
    "BestDE( xtr2, xcv2, ytrain, ycv )"
   ]
  },
  {
   "cell_type": "code",
   "execution_count": 78,
   "metadata": {},
   "outputs": [
    {
     "data": {
      "image/png": "[encoded data removed]",
      "text/plain": [
       "<matplotlib.figure.Figure at 0x1a98c76dd30>"
      ]
     },
     "metadata": {},
     "output_type": "display_data"
    },
    {
     "name": "stdout",
     "output_type": "stream",
     "text": [
      "Confusion Matrix for Train of Set  2\n",
      " The maximum value of tpr*(1-fpr) =  0.6992772428477845  for threshold =  0.844\n",
      "[[ 2974   489]\n",
      " [ 3757 15225]]\n"
     ]
    },
    {
     "data": {
      "image/png": "[encoded data removed]",
      "text/plain": [
       "<matplotlib.figure.Figure at 0x1a9885d3208>"
      ]
     },
     "metadata": {},
     "output_type": "display_data"
    },
    {
     "name": "stdout",
     "output_type": "stream",
     "text": [
      "\n",
      "\n",
      "Confusion Matrix for Test  2\n",
      " The maximum value of tpr*(1-fpr) =  0.3775503080990722  for threshold =  0.847\n",
      "[[1521 1025]\n",
      " [5220 8734]]\n"
     ]
    },
    {
     "data": {
      "image/png": "[encoded data removed]",
      "text/plain": [
       "<matplotlib.figure.Figure at 0x1a988a591d0>"
      ]
     },
     "metadata": {},
     "output_type": "display_data"
    }
   ],
   "source": [
    "bestD = 11\n",
    "bestN = 200\n",
    "sn.set_style('whitegrid')\n",
    "\n",
    "roc( xtr2, xte2, ytrain, ytest, bestD, bestN, 2 )"
   ]
  },
  {
   "cell_type": "markdown",
   "metadata": {
    "collapsed": true
   },
   "source": [
    "## Opeartions on Set 3"
   ]
  },
  {
   "cell_type": "code",
   "execution_count": 74,
   "metadata": {},
   "outputs": [
    {
     "name": "stdout",
     "output_type": "stream",
     "text": [
      "             - First -                  - Second -                   - Third -                  - Fourth -\n",
      "       ####################        ####################        ####################        ####################        "
     ]
    },
    {
     "data": {
      "application/vnd.plotly.v1+json": {
       "config": {
        "linkText": "Export to plot.ly",
        "plotlyServerURL": "https://plot.ly",
        "responsive": true,
        "showLink": false
       },
       "data": [
        {
         "name": "Train",
         "type": "scatter3d",
         "uid": "a95bf121-e1ae-4289-8b4c-0e1f2e71d8ba",
         "x": [
          5,
          5,
          5,
          5,
          11,
          11,
          11,
          11,
          51,
          51,
          51,
          51,
          101,
          101,
          101,
          101
         ],
         "y": [
          10,
          50,
          100,
          200,
          10,
          50,
          100,
          200,
          10,
          50,
          100,
          200,
          10,
          50,
          100,
          200
         ],
         "z": [
          0.6936170786963457,
          0.7226380217707351,
          0.7273745332485602,
          0.7257824965597302,
          0.9368408215537293,
          0.985840484836418,
          0.989631574305101,
          0.9930973255420511,
          0.999635321795048,
          1,
          1,
          1,
          0.999659806592765,
          1,
          1,
          1
         ]
        },
        {
         "name": "Cross validation",
         "type": "scatter3d",
         "uid": "f95ecd18-a50b-487f-acb4-e5c1254eed56",
         "x": [
          5,
          5,
          5,
          5,
          11,
          11,
          11,
          11,
          51,
          51,
          51,
          51,
          101,
          101,
          101,
          101
         ],
         "y": [
          10,
          50,
          100,
          200,
          10,
          50,
          100,
          200,
          10,
          50,
          100,
          200,
          10,
          50,
          100,
          200
         ],
         "z": [
          0.6038291906472,
          0.6311571816143147,
          0.6334085655589882,
          0.6338986623174996,
          0.600335910423887,
          0.6203882258848621,
          0.6248076277698495,
          0.6298858030015525,
          0.5416118054793231,
          0.6048033308764721,
          0.6164711527906283,
          0.6277809211661204,
          0.5542500352847084,
          0.5963050794297992,
          0.6148721125346965,
          0.634374582464284
         ]
        }
       ],
       "layout": {
        "scene": {
         "xaxis": {
          "title": {
           "text": "n_estimators"
          }
         },
         "yaxis": {
          "title": {
           "text": "max_depth"
          }
         },
         "zaxis": {
          "title": {
           "text": "AUC"
          }
         }
        }
       }
      },
      "text/html": [
       "<div>\n",
       "        \n",
       "        \n",
       "            <div id=\"7d23ea74-58f6-43ae-a420-3adf015e818d\" class=\"plotly-graph-div\" style=\"height:525px; width:100%;\"></div>\n",
       "            <script type=\"text/javascript\">\n",
       "                require([\"plotly\"], function(Plotly) {\n",
       "                    window.PLOTLYENV=window.PLOTLYENV || {};\n",
       "                    window.PLOTLYENV.BASE_URL='https://plot.ly';\n",
       "                    \n",
       "                if (document.getElementById(\"7d23ea74-58f6-43ae-a420-3adf015e818d\")) {\n",
       "                    Plotly.newPlot(\n",
       "                        '7d23ea74-58f6-43ae-a420-3adf015e818d',\n",
       "                        [{\"name\": \"Train\", \"type\": \"scatter3d\", \"uid\": \"df227390-f018-45f5-aa5c-eee060b009bb\", \"x\": [5, 5, 5, 5, 11, 11, 11, 11, 51, 51, 51, 51, 101, 101, 101, 101], \"y\": [10, 50, 100, 200, 10, 50, 100, 200, 10, 50, 100, 200, 10, 50, 100, 200], \"z\": [0.6936170786963457, 0.7226380217707351, 0.7273745332485602, 0.7257824965597302, 0.9368408215537293, 0.985840484836418, 0.989631574305101, 0.9930973255420511, 0.999635321795048, 1.0, 1.0, 1.0, 0.999659806592765, 1.0, 1.0, 1.0]}, {\"name\": \"Cross validation\", \"type\": \"scatter3d\", \"uid\": \"965e0108-5319-4ef6-9a98-8a6f9fae5754\", \"x\": [5, 5, 5, 5, 11, 11, 11, 11, 51, 51, 51, 51, 101, 101, 101, 101], \"y\": [10, 50, 100, 200, 10, 50, 100, 200, 10, 50, 100, 200, 10, 50, 100, 200], \"z\": [0.6038291906472, 0.6311571816143147, 0.6334085655589882, 0.6338986623174996, 0.600335910423887, 0.6203882258848621, 0.6248076277698495, 0.6298858030015525, 0.5416118054793231, 0.6048033308764721, 0.6164711527906283, 0.6277809211661204, 0.5542500352847084, 0.5963050794297992, 0.6148721125346965, 0.634374582464284]}],\n",
       "                        {\"scene\": {\"xaxis\": {\"title\": {\"text\": \"n_estimators\"}}, \"yaxis\": {\"title\": {\"text\": \"max_depth\"}}, \"zaxis\": {\"title\": {\"text\": \"AUC\"}}}},\n",
       "                        {\"showLink\": false, \"linkText\": \"Export to plot.ly\", \"plotlyServerURL\": \"https://plot.ly\", \"responsive\": true}\n",
       "                    ).then(function(){\n",
       "                            \n",
       "var gd = document.getElementById('7d23ea74-58f6-43ae-a420-3adf015e818d');\n",
       "var x = new MutationObserver(function (mutations, observer) {{\n",
       "        var display = window.getComputedStyle(gd).display;\n",
       "        if (!display || display === 'none') {{\n",
       "            console.log([gd, 'removed!']);\n",
       "            Plotly.purge(gd);\n",
       "            observer.disconnect();\n",
       "        }}\n",
       "}});\n",
       "\n",
       "// Listen for the removal of the full notebook cells\n",
       "var notebookContainer = gd.closest('#notebook-container');\n",
       "if (notebookContainer) {{\n",
       "    x.observe(notebookContainer, {childList: true});\n",
       "}}\n",
       "\n",
       "// Listen for the clearing of the current output cell\n",
       "var outputEl = gd.closest('.output');\n",
       "if (outputEl) {{\n",
       "    x.observe(outputEl, {childList: true});\n",
       "}}\n",
       "\n",
       "                        })\n",
       "                };\n",
       "                });\n",
       "            </script>\n",
       "        </div>"
      ]
     },
     "metadata": {},
     "output_type": "display_data"
    }
   ],
   "source": [
    "BestDE( xtr3, xcv3, ytrain, ycv )"
   ]
  },
  {
   "cell_type": "code",
   "execution_count": 79,
   "metadata": {},
   "outputs": [
    {
     "data": {
      "image/png": "[encoded data removed]",
      "text/plain": [
       "<matplotlib.figure.Figure at 0x1a98bc04ef0>"
      ]
     },
     "metadata": {},
     "output_type": "display_data"
    },
    {
     "name": "stdout",
     "output_type": "stream",
     "text": [
      "Confusion Matrix for Train of Set  3\n",
      " The maximum value of tpr*(1-fpr) =  1.0  for threshold =  1.0\n",
      "[[ 3463     0]\n",
      " [18963    19]]\n"
     ]
    },
    {
     "data": {
      "image/png": "[encoded data removed]",
      "text/plain": [
       "<matplotlib.figure.Figure at 0x1a988a59390>"
      ]
     },
     "metadata": {},
     "output_type": "display_data"
    },
    {
     "name": "stdout",
     "output_type": "stream",
     "text": [
      "\n",
      "\n",
      "Confusion Matrix for Test  3\n",
      " The maximum value of tpr*(1-fpr) =  0.35482250568330165  for threshold =  0.845\n",
      "[[1691  855]\n",
      " [6873 7081]]\n"
     ]
    },
    {
     "data": {
      "image/png": "[encoded data removed]",
      "text/plain": [
       "<matplotlib.figure.Figure at 0x1a988e76d30>"
      ]
     },
     "metadata": {},
     "output_type": "display_data"
    }
   ],
   "source": [
    "bestD = 101\n",
    "bestN = 200\n",
    "sn.set_style('whitegrid')\n",
    "\n",
    "roc( xtr3, xte3, ytrain, ytest, bestD, bestN, 3 )"
   ]
  },
  {
   "cell_type": "code",
   "execution_count": null,
   "metadata": {
    "collapsed": true
   },
   "outputs": [],
   "source": []
  },
  {
   "cell_type": "markdown",
   "metadata": {
    "collapsed": true
   },
   "source": [
    "## Operations on Set 4"
   ]
  },
  {
   "cell_type": "code",
   "execution_count": 75,
   "metadata": {},
   "outputs": [
    {
     "name": "stdout",
     "output_type": "stream",
     "text": [
      "             - First -                  - Second -                   - Third -                  - Fourth -\n",
      "       ####################        ####################        ####################        ####################        "
     ]
    },
    {
     "data": {
      "application/vnd.plotly.v1+json": {
       "config": {
        "linkText": "Export to plot.ly",
        "plotlyServerURL": "https://plot.ly",
        "responsive": true,
        "showLink": false
       },
       "data": [
        {
         "name": "Train",
         "type": "scatter3d",
         "uid": "237d0d4a-4ff5-4e85-89da-aed2d4275a2c",
         "x": [
          5,
          5,
          5,
          5,
          11,
          11,
          11,
          11,
          51,
          51,
          51,
          51,
          101,
          101,
          101,
          101
         ],
         "y": [
          10,
          50,
          100,
          200,
          10,
          50,
          100,
          200,
          10,
          50,
          100,
          200,
          10,
          50,
          100,
          200
         ],
         "z": [
          0.696871312923382,
          0.7277667007542109,
          0.7317520408485837,
          0.7345292969161812,
          0.9401909032290511,
          0.986206045376423,
          0.9921110422923575,
          0.9943481571808701,
          0.9997397644037623,
          0.9999999999999999,
          0.9999999999999999,
          1,
          0.9996413916517047,
          1,
          1,
          1
         ]
        },
        {
         "name": "Cross validation",
         "type": "scatter3d",
         "uid": "cbbe4227-0d6c-4e9f-86bc-819ebff97052",
         "x": [
          5,
          5,
          5,
          5,
          11,
          11,
          11,
          11,
          51,
          51,
          51,
          51,
          101,
          101,
          101,
          101
         ],
         "y": [
          10,
          50,
          100,
          200,
          10,
          50,
          100,
          200,
          10,
          50,
          100,
          200,
          10,
          50,
          100,
          200
         ],
         "z": [
          0.613968353537096,
          0.6313863283516553,
          0.632889237379836,
          0.6379745009174025,
          0.5858595198143239,
          0.616292753305001,
          0.6268325622971129,
          0.6262617968541722,
          0.5654274781626859,
          0.6049994511267583,
          0.6147470635281572,
          0.6351374849059859,
          0.5452038515219471,
          0.5950632145153448,
          0.6257534147756678,
          0.6240267536500071
         ]
        }
       ],
       "layout": {
        "scene": {
         "xaxis": {
          "title": {
           "text": "n_estimators"
          }
         },
         "yaxis": {
          "title": {
           "text": "max_depth"
          }
         },
         "zaxis": {
          "title": {
           "text": "AUC"
          }
         }
        }
       }
      },
      "text/html": [
       "<div>\n",
       "        \n",
       "        \n",
       "            <div id=\"3a4cea1e-aced-463c-9488-55e2dfbd4dec\" class=\"plotly-graph-div\" style=\"height:525px; width:100%;\"></div>\n",
       "            <script type=\"text/javascript\">\n",
       "                require([\"plotly\"], function(Plotly) {\n",
       "                    window.PLOTLYENV=window.PLOTLYENV || {};\n",
       "                    window.PLOTLYENV.BASE_URL='https://plot.ly';\n",
       "                    \n",
       "                if (document.getElementById(\"3a4cea1e-aced-463c-9488-55e2dfbd4dec\")) {\n",
       "                    Plotly.newPlot(\n",
       "                        '3a4cea1e-aced-463c-9488-55e2dfbd4dec',\n",
       "                        [{\"name\": \"Train\", \"type\": \"scatter3d\", \"uid\": \"ef9cd4bc-34e9-4dbe-9491-2a15a50547cc\", \"x\": [5, 5, 5, 5, 11, 11, 11, 11, 51, 51, 51, 51, 101, 101, 101, 101], \"y\": [10, 50, 100, 200, 10, 50, 100, 200, 10, 50, 100, 200, 10, 50, 100, 200], \"z\": [0.696871312923382, 0.7277667007542109, 0.7317520408485837, 0.7345292969161812, 0.9401909032290511, 0.986206045376423, 0.9921110422923575, 0.9943481571808701, 0.9997397644037623, 0.9999999999999999, 0.9999999999999999, 1.0, 0.9996413916517047, 1.0, 1.0, 1.0]}, {\"name\": \"Cross validation\", \"type\": \"scatter3d\", \"uid\": \"2a0ff3a5-9b16-4dd0-a0af-b2aca733b7a7\", \"x\": [5, 5, 5, 5, 11, 11, 11, 11, 51, 51, 51, 51, 101, 101, 101, 101], \"y\": [10, 50, 100, 200, 10, 50, 100, 200, 10, 50, 100, 200, 10, 50, 100, 200], \"z\": [0.613968353537096, 0.6313863283516553, 0.632889237379836, 0.6379745009174025, 0.5858595198143239, 0.616292753305001, 0.6268325622971129, 0.6262617968541722, 0.5654274781626859, 0.6049994511267583, 0.6147470635281572, 0.6351374849059859, 0.5452038515219471, 0.5950632145153448, 0.6257534147756678, 0.6240267536500071]}],\n",
       "                        {\"scene\": {\"xaxis\": {\"title\": {\"text\": \"n_estimators\"}}, \"yaxis\": {\"title\": {\"text\": \"max_depth\"}}, \"zaxis\": {\"title\": {\"text\": \"AUC\"}}}},\n",
       "                        {\"showLink\": false, \"linkText\": \"Export to plot.ly\", \"plotlyServerURL\": \"https://plot.ly\", \"responsive\": true}\n",
       "                    ).then(function(){\n",
       "                            \n",
       "var gd = document.getElementById('3a4cea1e-aced-463c-9488-55e2dfbd4dec');\n",
       "var x = new MutationObserver(function (mutations, observer) {{\n",
       "        var display = window.getComputedStyle(gd).display;\n",
       "        if (!display || display === 'none') {{\n",
       "            console.log([gd, 'removed!']);\n",
       "            Plotly.purge(gd);\n",
       "            observer.disconnect();\n",
       "        }}\n",
       "}});\n",
       "\n",
       "// Listen for the removal of the full notebook cells\n",
       "var notebookContainer = gd.closest('#notebook-container');\n",
       "if (notebookContainer) {{\n",
       "    x.observe(notebookContainer, {childList: true});\n",
       "}}\n",
       "\n",
       "// Listen for the clearing of the current output cell\n",
       "var outputEl = gd.closest('.output');\n",
       "if (outputEl) {{\n",
       "    x.observe(outputEl, {childList: true});\n",
       "}}\n",
       "\n",
       "                        })\n",
       "                };\n",
       "                });\n",
       "            </script>\n",
       "        </div>"
      ]
     },
     "metadata": {},
     "output_type": "display_data"
    }
   ],
   "source": [
    "BestDE(xtr4, xcv4, ytrain, ycv)"
   ]
  },
  {
   "cell_type": "code",
   "execution_count": 80,
   "metadata": {},
   "outputs": [
    {
     "data": {
      "image/png": "[encoded data removed]",
      "text/plain": [
       "<matplotlib.figure.Figure at 0x1a99dff32e8>"
      ]
     },
     "metadata": {},
     "output_type": "display_data"
    },
    {
     "name": "stdout",
     "output_type": "stream",
     "text": [
      "Confusion Matrix for Train of Set  4\n",
      " The maximum value of tpr*(1-fpr) =  0.9351923990912193  for threshold =  0.8\n",
      "[[ 3360   103]\n",
      " [  686 18296]]\n"
     ]
    },
    {
     "data": {
      "image/png": "[encoded data removed]",
      "text/plain": [
       "<matplotlib.figure.Figure at 0x1a987a71cf8>"
      ]
     },
     "metadata": {},
     "output_type": "display_data"
    },
    {
     "name": "stdout",
     "output_type": "stream",
     "text": [
      "\n",
      "\n",
      "Confusion Matrix for Test  4\n",
      " The maximum value of tpr*(1-fpr) =  0.2869861876994335  for threshold =  1.0\n",
      "[[1675  871]\n",
      " [7867 6087]]\n"
     ]
    },
    {
     "data": {
      "image/png": "[encoded data removed]",
      "text/plain": [
       "<matplotlib.figure.Figure at 0x1a988e33748>"
      ]
     },
     "metadata": {},
     "output_type": "display_data"
    }
   ],
   "source": [
    "bestN = 5\n",
    "bestD = 100\n",
    "sn.set_style('whitegrid')\n",
    "\n",
    "roc( xtr4, xte4, ytrain, ytest, bestD, bestN, 4 )"
   ]
  },
  {
   "cell_type": "code",
   "execution_count": null,
   "metadata": {
    "collapsed": true
   },
   "outputs": [],
   "source": []
  },
  {
   "cell_type": "code",
   "execution_count": 94,
   "metadata": {},
   "outputs": [
    {
     "name": "stdout",
     "output_type": "stream",
     "text": [
      "\n",
      "\t\t\t Results of Random Forest Models\n",
      "+-----------------+---------+--------------+--------------+------------------+-------------+------------+\n",
      "|    Classifier   |   Set   |  Vectorizer  |  Best Depth  |  Best Estimator  |  Train AUC  |  Test AUC  |\n",
      "+-----------------+---------+--------------+--------------+------------------+-------------+------------+\n",
      "|  Random Forest  |  Set 1  |    B.O.W     |      11      |       200        |    0.9215   |   0.6691   |\n",
      "|  Random Forest  |  Set 2  |    TFIDF     |      11      |       200        |    0.9213   |   0.6587   |\n",
      "|  Random Forest  |  Set 3  |   Avg W2V    |     101      |       100        |     1.0     |   0.6290   |\n",
      "|  Random Forest  |  Set 4  |     WW2V     |      5       |       100        |    0.9914   |   0.5580   |\n",
      "+-----------------+---------+--------------+--------------+------------------+-------------+------------+\n"
     ]
    }
   ],
   "source": [
    "from prettytable import PrettyTable\n",
    "    \n",
    "x = PrettyTable()\n",
    "\n",
    "x.field_names = [\" Classifier \",\" Set \",\" Vectorizer \", \" Best Depth \", \" Best Estimator \", \" Train AUC \", \" Test AUC \"]\n",
    "\n",
    "x.add_row( [ \" Random Forest \", \" Set 1 \", \" B.O.W \", \" 11 \", \" 200 \", \" 0.9215 \", \" 0.6691 \" ] ) \n",
    "x.add_row( [ \" Random Forest \", \" Set 2 \", \" TFIDF \", \" 11 \", \" 200 \", \" 0.9213 \", \" 0.6587 \" ] )\n",
    "x.add_row( [ \" Random Forest \", \" Set 3 \", \" Avg W2V \", \" 101 \", \" 100 \", \" 1.0 \", \" 0.6290 \" ] )\n",
    "x.add_row( [ \" Random Forest \", \" Set 4 \", \" WW2V \", \" 5 \", \" 100 \", \" 0.9914 \", \" 0.5580 \" ] )\n",
    "\n",
    "\n",
    "print('\\n\\t\\t\\t Results of Random Forest Models')\n",
    "print( x )\n",
    "\n",
    "# Ref : http://zetcode.com/python/prettytable/"
   ]
  },
  {
   "cell_type": "markdown",
   "metadata": {},
   "source": [
    "## Observations\n",
    "\n",
    "Avg Word 2 Vec gives maximum Train AUC\n",
    "\n",
    "Amongst all the models B.O.W on set 2 gives maximum Test AUC"
   ]
  },
  {
   "cell_type": "markdown",
   "metadata": {},
   "source": [
    "## XG Boost"
   ]
  },
  {
   "cell_type": "markdown",
   "metadata": {
    "collapsed": true
   },
   "source": [
    "## Function to find best depth and eta"
   ]
  },
  {
   "cell_type": "code",
   "execution_count": 81,
   "metadata": {
    "collapsed": true
   },
   "outputs": [],
   "source": [
    "import xgboost as xgb\n",
    "\n",
    "def BestGB( xtr, xcv, ytr, ycv ):\n",
    "    \n",
    "    trAUC = []\n",
    "    cvAUC = []\n",
    "    \n",
    "    depth = [ 5, 11, 51, 101 ]\n",
    "    rate = [ 0.01, 0.1 , 1  ]\n",
    "    d = []\n",
    "    r = []\n",
    "    print(' '*12,'- First -', ' '*16,'- Second -', ' '*17,'- Third -', ' '*16,'- Fourth -')\n",
    "    print('      ', end =' ')\n",
    "\n",
    "    for i in depth:\n",
    "        for j in rate:\n",
    "            \n",
    "            clf = xgb.XGBClassifier( objective = \"binary:logistic\", random_state = 42, max_depth = i, eta = j, class_weight='balanced' )\n",
    "            clf.fit( xtr, ytr )\n",
    "            \n",
    "            ytrPred = batchPredict( xtr, clf )    \n",
    "            ycvPred = batchPredict( xcv, clf )\n",
    "\n",
    "            # roc_auc_score(y_true, y_score) the 2nd parameter should be probability estimates of the positive class\n",
    "            # not the predicted outputs \n",
    "\n",
    "            trAUC.append( roc_auc_score( ytr, ytrPred ))\n",
    "            cvAUC.append( roc_auc_score( ycv, ycvPred ))\n",
    "            d.append(i)\n",
    "            r.append(j)\n",
    "        print('#'*20, end ='        ')\n",
    "    \n",
    "    #d = [ 5,   5,  5,   5,    11, 11,  11, 11,     51, 51,  51,  51,    101, 101, 101, 101 ]\n",
    "    #e = [ 10, 50, 100, 200,   10, 50, 100, 200,    10, 50, 100, 200,    10,  50, 100, 200 ]\n",
    "\n",
    "    trace1 = go.Scatter3d( x = d, y = r , z = trAUC, name = 'Train')\n",
    "    trace2 = go.Scatter3d( x = d, y = r, z = cvAUC, name = 'Cross validation')\n",
    "\n",
    "    data = [trace1, trace2]\n",
    "\n",
    "    layout = go.Layout(scene = dict(\n",
    "        xaxis = dict(title='max_depth'),\n",
    "        yaxis = dict(title='learning_rate'),\n",
    "        zaxis = dict(title='AUC'),))\n",
    "\n",
    "    fig = go.Figure(data=data, layout=layout)\n",
    "    offline.iplot(fig, filename='3d-scatter-colorscale')"
   ]
  },
  {
   "cell_type": "code",
   "execution_count": 84,
   "metadata": {
    "collapsed": true
   },
   "outputs": [],
   "source": [
    "def rocGB( xtr, xte, ytr, yte, D, N, sno ):\n",
    "    \n",
    "    clf = xgb.XGBClassifier( objective = \"binary:logistic\", random_state=42, max_depth = D, eta = N, class_weight='balanced' )\n",
    "    clf.fit( xtr, ytr )\n",
    "\n",
    "    yTrainPred = batchPredict( xtr, clf )    \n",
    "    yTestPred = batchPredict( xte, clf )\n",
    "\n",
    "    trFPR, trTPR, trThreshold = roc_curve( ytr, yTrainPred ) # ytrain and YTrainPred must have same no. of points\n",
    "    teFPR, teTPR, teThreshold = roc_curve( yte, yTestPred )\n",
    "\n",
    "    # roc_curve() : Compute Receiver operating characteristic (ROC),\n",
    "    # this implementation is restricted to the binary classification task.\n",
    "    # roc_curve( yTrue, yScore ) : yTrue = True Binary labels, yScore = Target values Probablistic estimate, confidence values etc\n",
    "    # The func returns 3 arrays : fpr = false Positive rates, tpr = True Positive rates, Threshold \n",
    "\n",
    "    plt.figure( figsize = (15, 5) )\n",
    "    plt.plot( trFPR, trTPR, label=\"Train AUC = \" + str( auc( trFPR, trTPR ) ) )\n",
    "    plt.plot( teFPR, teTPR, label=\"Test AUC = \" + str( auc( teFPR, teTPR ) ) )\n",
    "\n",
    "    plt.legend()\n",
    "    plt.xlabel(\" Hyperparameter \")\n",
    "    plt.ylabel(\" AUC \")\n",
    "    plt.title(\"ERROR PLOTS for Set \"+str(sno))\n",
    "    plt.grid()\n",
    "    plt.show()\n",
    "    \n",
    "    \n",
    "    cm( ytr, yte, yTrainPred, trThreshold, trFPR, trTPR, yTestPred, teThreshold, teFPR, teTPR, sno )\n",
    "    \n"
   ]
  },
  {
   "cell_type": "markdown",
   "metadata": {},
   "source": [
    "## Operations on Set 1"
   ]
  },
  {
   "cell_type": "code",
   "execution_count": 83,
   "metadata": {},
   "outputs": [
    {
     "name": "stdout",
     "output_type": "stream",
     "text": [
      "             - First -                  - Second -                   - Third -                  - Fourth -\n",
      "       ####################        ####################        ####################        ####################        "
     ]
    },
    {
     "data": {
      "application/vnd.plotly.v1+json": {
       "config": {
        "linkText": "Export to plot.ly",
        "plotlyServerURL": "https://plot.ly",
        "responsive": true,
        "showLink": false
       },
       "data": [
        {
         "name": "Train",
         "type": "scatter3d",
         "uid": "c9fbc529-f3d2-4989-b663-19d2b2ea55e0",
         "x": [
          5,
          5,
          5,
          5,
          11,
          11,
          11,
          11,
          51,
          51,
          51,
          51,
          101,
          101,
          101,
          101
         ],
         "y": [
          0.01,
          0.1,
          0,
          1,
          0.01,
          0.1,
          0,
          1,
          0.01,
          0.1,
          0,
          1,
          0.01,
          0.1,
          0,
          1
         ],
         "z": [
          0.8997418652739486,
          0.8997418652739486,
          0.8997418652739486,
          0.8997418652739486,
          0.9997444118754631,
          0.9997444118754631,
          0.9997444118754631,
          0.9997444118754631,
          1,
          1,
          1,
          1,
          1,
          1,
          1,
          1
         ]
        },
        {
         "name": "Cross validation",
         "type": "scatter3d",
         "uid": "c1a821ed-423f-468c-b942-368ba2634ec8",
         "x": [
          5,
          5,
          5,
          5,
          11,
          11,
          11,
          11,
          51,
          51,
          51,
          51,
          101,
          101,
          101,
          101
         ],
         "y": [
          0.01,
          0.1,
          0,
          1,
          0.01,
          0.1,
          0,
          1,
          0.01,
          0.1,
          0,
          1,
          0.01,
          0.1,
          0,
          1
         ],
         "z": [
          0.6835520567064468,
          0.6835520567064468,
          0.6835520567064468,
          0.6835520567064468,
          0.6845455800021956,
          0.6845455800021956,
          0.6845455800021956,
          0.6845455800021956,
          0.6804433641225085,
          0.6804433641225085,
          0.6804433641225085,
          0.6804433641225085,
          0.6764102121787132,
          0.6764102121787132,
          0.6764102121787132,
          0.6764102121787132
         ]
        }
       ],
       "layout": {
        "scene": {
         "xaxis": {
          "title": {
           "text": "max_depth"
          }
         },
         "yaxis": {
          "title": {
           "text": "learning_rate"
          }
         },
         "zaxis": {
          "title": {
           "text": "AUC"
          }
         }
        }
       }
      },
      "text/html": [
       "<div>\n",
       "        \n",
       "        \n",
       "            <div id=\"9502576c-de78-4696-b5fd-9666e73cdde2\" class=\"plotly-graph-div\" style=\"height:525px; width:100%;\"></div>\n",
       "            <script type=\"text/javascript\">\n",
       "                require([\"plotly\"], function(Plotly) {\n",
       "                    window.PLOTLYENV=window.PLOTLYENV || {};\n",
       "                    window.PLOTLYENV.BASE_URL='https://plot.ly';\n",
       "                    \n",
       "                if (document.getElementById(\"9502576c-de78-4696-b5fd-9666e73cdde2\")) {\n",
       "                    Plotly.newPlot(\n",
       "                        '9502576c-de78-4696-b5fd-9666e73cdde2',\n",
       "                        [{\"name\": \"Train\", \"type\": \"scatter3d\", \"uid\": \"329ab983-e68d-4342-8928-6c559cd8c66f\", \"x\": [5, 5, 5, 5, 11, 11, 11, 11, 51, 51, 51, 51, 101, 101, 101, 101], \"y\": [0.01, 0.1, 0, 1, 0.01, 0.1, 0, 1, 0.01, 0.1, 0, 1, 0.01, 0.1, 0, 1], \"z\": [0.8997418652739486, 0.8997418652739486, 0.8997418652739486, 0.8997418652739486, 0.9997444118754631, 0.9997444118754631, 0.9997444118754631, 0.9997444118754631, 1.0, 1.0, 1.0, 1.0, 1.0, 1.0, 1.0, 1.0]}, {\"name\": \"Cross validation\", \"type\": \"scatter3d\", \"uid\": \"52ec7b3d-2709-412f-a036-18cfbdad6d8b\", \"x\": [5, 5, 5, 5, 11, 11, 11, 11, 51, 51, 51, 51, 101, 101, 101, 101], \"y\": [0.01, 0.1, 0, 1, 0.01, 0.1, 0, 1, 0.01, 0.1, 0, 1, 0.01, 0.1, 0, 1], \"z\": [0.6835520567064468, 0.6835520567064468, 0.6835520567064468, 0.6835520567064468, 0.6845455800021956, 0.6845455800021956, 0.6845455800021956, 0.6845455800021956, 0.6804433641225085, 0.6804433641225085, 0.6804433641225085, 0.6804433641225085, 0.6764102121787132, 0.6764102121787132, 0.6764102121787132, 0.6764102121787132]}],\n",
       "                        {\"scene\": {\"xaxis\": {\"title\": {\"text\": \"max_depth\"}}, \"yaxis\": {\"title\": {\"text\": \"learning_rate\"}}, \"zaxis\": {\"title\": {\"text\": \"AUC\"}}}},\n",
       "                        {\"showLink\": false, \"linkText\": \"Export to plot.ly\", \"plotlyServerURL\": \"https://plot.ly\", \"responsive\": true}\n",
       "                    ).then(function(){\n",
       "                            \n",
       "var gd = document.getElementById('9502576c-de78-4696-b5fd-9666e73cdde2');\n",
       "var x = new MutationObserver(function (mutations, observer) {{\n",
       "        var display = window.getComputedStyle(gd).display;\n",
       "        if (!display || display === 'none') {{\n",
       "            console.log([gd, 'removed!']);\n",
       "            Plotly.purge(gd);\n",
       "            observer.disconnect();\n",
       "        }}\n",
       "}});\n",
       "\n",
       "// Listen for the removal of the full notebook cells\n",
       "var notebookContainer = gd.closest('#notebook-container');\n",
       "if (notebookContainer) {{\n",
       "    x.observe(notebookContainer, {childList: true});\n",
       "}}\n",
       "\n",
       "// Listen for the clearing of the current output cell\n",
       "var outputEl = gd.closest('.output');\n",
       "if (outputEl) {{\n",
       "    x.observe(outputEl, {childList: true});\n",
       "}}\n",
       "\n",
       "                        })\n",
       "                };\n",
       "                });\n",
       "            </script>\n",
       "        </div>"
      ]
     },
     "metadata": {},
     "output_type": "display_data"
    }
   ],
   "source": [
    "BestGB( xtr1, xcv1, ytrain, ycv )"
   ]
  },
  {
   "cell_type": "code",
   "execution_count": 90,
   "metadata": {},
   "outputs": [
    {
     "data": {
      "image/png": "[encoded data removed]",
      "text/plain": [
       "<matplotlib.figure.Figure at 0x1a98b03a390>"
      ]
     },
     "metadata": {},
     "output_type": "display_data"
    },
    {
     "name": "stdout",
     "output_type": "stream",
     "text": [
      "Confusion Matrix for Train of Set  1\n",
      " The maximum value of tpr*(1-fpr) =  0.9853447494507693  for threshold =  0.749\n",
      "[[ 3420    43]\n",
      " [  103 18879]]\n"
     ]
    },
    {
     "data": {
      "image/png": "[encoded data removed]",
      "text/plain": [
       "<matplotlib.figure.Figure at 0x1a98c0d02b0>"
      ]
     },
     "metadata": {},
     "output_type": "display_data"
    },
    {
     "name": "stdout",
     "output_type": "stream",
     "text": [
      "\n",
      "\n",
      "Confusion Matrix for Test  1\n",
      " The maximum value of tpr*(1-fpr) =  0.4139541199278834  for threshold =  0.869\n",
      "[[1574  972]\n",
      " [4796 9158]]\n"
     ]
    },
    {
     "data": {
      "image/png": "[encoded data removed]",
      "text/plain": [
       "<matplotlib.figure.Figure at 0x1a98bc47080>"
      ]
     },
     "metadata": {},
     "output_type": "display_data"
    }
   ],
   "source": [
    "bestD = 11\n",
    "bestN = 0.01\n",
    "\n",
    "sn.set_style('whitegrid')\n",
    "\n",
    "rocGB( xtr1, xte1, ytrain, ytest, bestD, bestN, 1 )"
   ]
  },
  {
   "cell_type": "markdown",
   "metadata": {},
   "source": [
    "## Opeartions on Set 2"
   ]
  },
  {
   "cell_type": "code",
   "execution_count": 86,
   "metadata": {},
   "outputs": [
    {
     "name": "stdout",
     "output_type": "stream",
     "text": [
      "             - First -                  - Second -                   - Third -                  - Fourth -\n",
      "       ####################        ####################        ####################        ####################        "
     ]
    },
    {
     "data": {
      "application/vnd.plotly.v1+json": {
       "config": {
        "linkText": "Export to plot.ly",
        "plotlyServerURL": "https://plot.ly",
        "responsive": true,
        "showLink": false
       },
       "data": [
        {
         "name": "Train",
         "type": "scatter3d",
         "uid": "d2b15fd2-31fb-44d7-9a08-3ae26556b741",
         "x": [
          5,
          5,
          5,
          5,
          11,
          11,
          11,
          11,
          51,
          51,
          51,
          51,
          101,
          101,
          101,
          101
         ],
         "y": [
          0.01,
          0.1,
          0,
          1,
          0.01,
          0.1,
          0,
          1,
          0.01,
          0.1,
          0,
          1,
          0.01,
          0.1,
          0,
          1
         ],
         "z": [
          0.9292437189838312,
          0.9292437189838312,
          0.9292437189838312,
          0.9292437189838312,
          0.9998911000780014,
          0.9998911000780014,
          0.9998911000780014,
          0.9998911000780014,
          1,
          1,
          1,
          1,
          1,
          1,
          1,
          1
         ]
        },
        {
         "name": "Cross validation",
         "type": "scatter3d",
         "uid": "fc99d715-dfba-4413-8953-3c9eb23edec2",
         "x": [
          5,
          5,
          5,
          5,
          11,
          11,
          11,
          11,
          51,
          51,
          51,
          51,
          101,
          101,
          101,
          101
         ],
         "y": [
          0.01,
          0.1,
          0,
          1,
          0.01,
          0.1,
          0,
          1,
          0.01,
          0.1,
          0,
          1,
          0.01,
          0.1,
          0,
          1
         ],
         "z": [
          0.6874800445371431,
          0.6874800445371431,
          0.6874800445371431,
          0.6874800445371431,
          0.6799773236940738,
          0.6799773236940738,
          0.6799773236940738,
          0.6799773236940738,
          0.6743222042749385,
          0.6743222042749385,
          0.6743222042749385,
          0.6743222042749385,
          0.6767601423934009,
          0.6767601423934009,
          0.6767601423934009,
          0.6767601423934009
         ]
        }
       ],
       "layout": {
        "scene": {
         "xaxis": {
          "title": {
           "text": "max_depth"
          }
         },
         "yaxis": {
          "title": {
           "text": "learning_rate"
          }
         },
         "zaxis": {
          "title": {
           "text": "AUC"
          }
         }
        }
       }
      },
      "text/html": [
       "<div>\n",
       "        \n",
       "        \n",
       "            <div id=\"0a7652e6-d6e8-4bb7-a0b7-a5ff1b18ff72\" class=\"plotly-graph-div\" style=\"height:525px; width:100%;\"></div>\n",
       "            <script type=\"text/javascript\">\n",
       "                require([\"plotly\"], function(Plotly) {\n",
       "                    window.PLOTLYENV=window.PLOTLYENV || {};\n",
       "                    window.PLOTLYENV.BASE_URL='https://plot.ly';\n",
       "                    \n",
       "                if (document.getElementById(\"0a7652e6-d6e8-4bb7-a0b7-a5ff1b18ff72\")) {\n",
       "                    Plotly.newPlot(\n",
       "                        '0a7652e6-d6e8-4bb7-a0b7-a5ff1b18ff72',\n",
       "                        [{\"name\": \"Train\", \"type\": \"scatter3d\", \"uid\": \"a324c613-c3b7-4f9d-8f67-f3aeba62103d\", \"x\": [5, 5, 5, 5, 11, 11, 11, 11, 51, 51, 51, 51, 101, 101, 101, 101], \"y\": [0.01, 0.1, 0, 1, 0.01, 0.1, 0, 1, 0.01, 0.1, 0, 1, 0.01, 0.1, 0, 1], \"z\": [0.9292437189838312, 0.9292437189838312, 0.9292437189838312, 0.9292437189838312, 0.9998911000780014, 0.9998911000780014, 0.9998911000780014, 0.9998911000780014, 1.0, 1.0, 1.0, 1.0, 1.0, 1.0, 1.0, 1.0]}, {\"name\": \"Cross validation\", \"type\": \"scatter3d\", \"uid\": \"6670d85f-4b15-418f-930b-d66073d7320a\", \"x\": [5, 5, 5, 5, 11, 11, 11, 11, 51, 51, 51, 51, 101, 101, 101, 101], \"y\": [0.01, 0.1, 0, 1, 0.01, 0.1, 0, 1, 0.01, 0.1, 0, 1, 0.01, 0.1, 0, 1], \"z\": [0.6874800445371431, 0.6874800445371431, 0.6874800445371431, 0.6874800445371431, 0.6799773236940738, 0.6799773236940738, 0.6799773236940738, 0.6799773236940738, 0.6743222042749385, 0.6743222042749385, 0.6743222042749385, 0.6743222042749385, 0.6767601423934009, 0.6767601423934009, 0.6767601423934009, 0.6767601423934009]}],\n",
       "                        {\"scene\": {\"xaxis\": {\"title\": {\"text\": \"max_depth\"}}, \"yaxis\": {\"title\": {\"text\": \"learning_rate\"}}, \"zaxis\": {\"title\": {\"text\": \"AUC\"}}}},\n",
       "                        {\"showLink\": false, \"linkText\": \"Export to plot.ly\", \"plotlyServerURL\": \"https://plot.ly\", \"responsive\": true}\n",
       "                    ).then(function(){\n",
       "                            \n",
       "var gd = document.getElementById('0a7652e6-d6e8-4bb7-a0b7-a5ff1b18ff72');\n",
       "var x = new MutationObserver(function (mutations, observer) {{\n",
       "        var display = window.getComputedStyle(gd).display;\n",
       "        if (!display || display === 'none') {{\n",
       "            console.log([gd, 'removed!']);\n",
       "            Plotly.purge(gd);\n",
       "            observer.disconnect();\n",
       "        }}\n",
       "}});\n",
       "\n",
       "// Listen for the removal of the full notebook cells\n",
       "var notebookContainer = gd.closest('#notebook-container');\n",
       "if (notebookContainer) {{\n",
       "    x.observe(notebookContainer, {childList: true});\n",
       "}}\n",
       "\n",
       "// Listen for the clearing of the current output cell\n",
       "var outputEl = gd.closest('.output');\n",
       "if (outputEl) {{\n",
       "    x.observe(outputEl, {childList: true});\n",
       "}}\n",
       "\n",
       "                        })\n",
       "                };\n",
       "                });\n",
       "            </script>\n",
       "        </div>"
      ]
     },
     "metadata": {},
     "output_type": "display_data"
    }
   ],
   "source": [
    "BestGB( xtr2, xcv2, ytrain, ycv )"
   ]
  },
  {
   "cell_type": "code",
   "execution_count": 91,
   "metadata": {},
   "outputs": [
    {
     "data": {
      "image/png": "[encoded data removed]",
      "text/plain": [
       "<matplotlib.figure.Figure at 0x1a9872a5470>"
      ]
     },
     "metadata": {},
     "output_type": "display_data"
    },
    {
     "name": "stdout",
     "output_type": "stream",
     "text": [
      "Confusion Matrix for Train of Set  2\n",
      " The maximum value of tpr*(1-fpr) =  0.7184264692240163  for threshold =  0.818\n",
      "[[ 2944   519]\n",
      " [ 3045 15937]]\n"
     ]
    },
    {
     "data": {
      "image/png": "[encoded data removed]",
      "text/plain": [
       "<matplotlib.figure.Figure at 0x1a9880c4828>"
      ]
     },
     "metadata": {},
     "output_type": "display_data"
    },
    {
     "name": "stdout",
     "output_type": "stream",
     "text": [
      "\n",
      "\n",
      "Confusion Matrix for Test  2\n",
      " The maximum value of tpr*(1-fpr) =  0.4094643932183864  for threshold =  0.844\n",
      "[[1611  935]\n",
      " [5001 8953]]\n"
     ]
    },
    {
     "data": {
      "image/png": "[encoded data removed]",
      "text/plain": [
       "<matplotlib.figure.Figure at 0x1a989329240>"
      ]
     },
     "metadata": {},
     "output_type": "display_data"
    }
   ],
   "source": [
    "bestD = 5\n",
    "bestN = 0.01\n",
    "\n",
    "sn.set_style('whitegrid')\n",
    "\n",
    "rocGB( xtr2, xte2, ytrain, ytest, bestD, bestN, 2 )"
   ]
  },
  {
   "cell_type": "markdown",
   "metadata": {},
   "source": [
    "## Opeartions on Set 3"
   ]
  },
  {
   "cell_type": "code",
   "execution_count": 88,
   "metadata": {},
   "outputs": [
    {
     "name": "stdout",
     "output_type": "stream",
     "text": [
      "             - First -                  - Second -                   - Third -                  - Fourth -\n",
      "       ####################        ####################        ####################        ####################        "
     ]
    },
    {
     "data": {
      "application/vnd.plotly.v1+json": {
       "config": {
        "linkText": "Export to plot.ly",
        "plotlyServerURL": "https://plot.ly",
        "responsive": true,
        "showLink": false
       },
       "data": [
        {
         "name": "Train",
         "type": "scatter3d",
         "uid": "78935376-6028-4067-ba69-c4b9c2905424",
         "x": [
          5,
          5,
          5,
          5,
          11,
          11,
          11,
          11,
          51,
          51,
          51,
          51,
          101,
          101,
          101,
          101
         ],
         "y": [
          0.01,
          0.1,
          0,
          1,
          0.01,
          0.1,
          0,
          1,
          0.01,
          0.1,
          0,
          1,
          0.01,
          0.1,
          0,
          1
         ],
         "z": [
          0.8969436993868654,
          0.8969436993868654,
          0.8969436993868654,
          0.8969436993868654,
          0.9999999695746533,
          0.9999999695746533,
          0.9999999695746533,
          0.9999999695746533,
          1,
          1,
          1,
          1,
          1,
          1,
          1,
          1
         ]
        },
        {
         "name": "Cross validation",
         "type": "scatter3d",
         "uid": "7a35c279-0c61-4a47-a6ac-c2b770253a48",
         "x": [
          5,
          5,
          5,
          5,
          11,
          11,
          11,
          11,
          51,
          51,
          51,
          51,
          101,
          101,
          101,
          101
         ],
         "y": [
          0.01,
          0.1,
          0,
          1,
          0.01,
          0.1,
          0,
          1,
          0.01,
          0.1,
          0,
          1,
          0.01,
          0.1,
          0,
          1
         ],
         "z": [
          0.6418078316370537,
          0.6418078316370537,
          0.6418078316370537,
          0.6418078316370537,
          0.6407690811861935,
          0.6407690811861935,
          0.6407690811861935,
          0.6407690811861935,
          0.6456021766744554,
          0.6456021766744554,
          0.6456021766744554,
          0.6456021766744554,
          0.6429755516176078,
          0.6429755516176078,
          0.6429755516176078,
          0.6429755516176078
         ]
        }
       ],
       "layout": {
        "scene": {
         "xaxis": {
          "title": {
           "text": "max_depth"
          }
         },
         "yaxis": {
          "title": {
           "text": "learning_rate"
          }
         },
         "zaxis": {
          "title": {
           "text": "AUC"
          }
         }
        }
       }
      },
      "text/html": [
       "<div>\n",
       "        \n",
       "        \n",
       "            <div id=\"b5f869b5-b96b-4e25-b71e-385b67ea6016\" class=\"plotly-graph-div\" style=\"height:525px; width:100%;\"></div>\n",
       "            <script type=\"text/javascript\">\n",
       "                require([\"plotly\"], function(Plotly) {\n",
       "                    window.PLOTLYENV=window.PLOTLYENV || {};\n",
       "                    window.PLOTLYENV.BASE_URL='https://plot.ly';\n",
       "                    \n",
       "                if (document.getElementById(\"b5f869b5-b96b-4e25-b71e-385b67ea6016\")) {\n",
       "                    Plotly.newPlot(\n",
       "                        'b5f869b5-b96b-4e25-b71e-385b67ea6016',\n",
       "                        [{\"name\": \"Train\", \"type\": \"scatter3d\", \"uid\": \"b6215629-f9f9-46e4-ba24-09b748c82c02\", \"x\": [5, 5, 5, 5, 11, 11, 11, 11, 51, 51, 51, 51, 101, 101, 101, 101], \"y\": [0.01, 0.1, 0, 1, 0.01, 0.1, 0, 1, 0.01, 0.1, 0, 1, 0.01, 0.1, 0, 1], \"z\": [0.8969436993868654, 0.8969436993868654, 0.8969436993868654, 0.8969436993868654, 0.9999999695746533, 0.9999999695746533, 0.9999999695746533, 0.9999999695746533, 1.0, 1.0, 1.0, 1.0, 1.0, 1.0, 1.0, 1.0]}, {\"name\": \"Cross validation\", \"type\": \"scatter3d\", \"uid\": \"ba054896-6c3b-4a1e-a1e6-b62ca7f25f55\", \"x\": [5, 5, 5, 5, 11, 11, 11, 11, 51, 51, 51, 51, 101, 101, 101, 101], \"y\": [0.01, 0.1, 0, 1, 0.01, 0.1, 0, 1, 0.01, 0.1, 0, 1, 0.01, 0.1, 0, 1], \"z\": [0.6418078316370537, 0.6418078316370537, 0.6418078316370537, 0.6418078316370537, 0.6407690811861935, 0.6407690811861935, 0.6407690811861935, 0.6407690811861935, 0.6456021766744554, 0.6456021766744554, 0.6456021766744554, 0.6456021766744554, 0.6429755516176078, 0.6429755516176078, 0.6429755516176078, 0.6429755516176078]}],\n",
       "                        {\"scene\": {\"xaxis\": {\"title\": {\"text\": \"max_depth\"}}, \"yaxis\": {\"title\": {\"text\": \"learning_rate\"}}, \"zaxis\": {\"title\": {\"text\": \"AUC\"}}}},\n",
       "                        {\"showLink\": false, \"linkText\": \"Export to plot.ly\", \"plotlyServerURL\": \"https://plot.ly\", \"responsive\": true}\n",
       "                    ).then(function(){\n",
       "                            \n",
       "var gd = document.getElementById('b5f869b5-b96b-4e25-b71e-385b67ea6016');\n",
       "var x = new MutationObserver(function (mutations, observer) {{\n",
       "        var display = window.getComputedStyle(gd).display;\n",
       "        if (!display || display === 'none') {{\n",
       "            console.log([gd, 'removed!']);\n",
       "            Plotly.purge(gd);\n",
       "            observer.disconnect();\n",
       "        }}\n",
       "}});\n",
       "\n",
       "// Listen for the removal of the full notebook cells\n",
       "var notebookContainer = gd.closest('#notebook-container');\n",
       "if (notebookContainer) {{\n",
       "    x.observe(notebookContainer, {childList: true});\n",
       "}}\n",
       "\n",
       "// Listen for the clearing of the current output cell\n",
       "var outputEl = gd.closest('.output');\n",
       "if (outputEl) {{\n",
       "    x.observe(outputEl, {childList: true});\n",
       "}}\n",
       "\n",
       "                        })\n",
       "                };\n",
       "                });\n",
       "            </script>\n",
       "        </div>"
      ]
     },
     "metadata": {},
     "output_type": "display_data"
    }
   ],
   "source": [
    "BestGB( xtr3, xcv3, ytrain, ycv )"
   ]
  },
  {
   "cell_type": "code",
   "execution_count": 92,
   "metadata": {},
   "outputs": [
    {
     "data": {
      "image/png": "[encoded data removed]",
      "text/plain": [
       "<matplotlib.figure.Figure at 0x1a9872ede10>"
      ]
     },
     "metadata": {},
     "output_type": "display_data"
    },
    {
     "name": "stdout",
     "output_type": "stream",
     "text": [
      "Confusion Matrix for Train of Set  3\n",
      " The maximum value of tpr*(1-fpr) =  1.0  for threshold =  0.999\n",
      "[[ 3463     0]\n",
      " [18981     1]]\n"
     ]
    },
    {
     "data": {
      "image/png": "[encoded data removed]",
      "text/plain": [
       "<matplotlib.figure.Figure at 0x1a988e98320>"
      ]
     },
     "metadata": {},
     "output_type": "display_data"
    },
    {
     "name": "stdout",
     "output_type": "stream",
     "text": [
      "\n",
      "\n",
      "Confusion Matrix for Test  3\n",
      " The maximum value of tpr*(1-fpr) =  0.36910118545718784  for threshold =  0.964\n",
      "[[1489 1057]\n",
      " [5248 8706]]\n"
     ]
    },
    {
     "data": {
      "image/png": "[encoded data removed]",
      "text/plain": [
       "<matplotlib.figure.Figure at 0x1a98c3d20f0>"
      ]
     },
     "metadata": {},
     "output_type": "display_data"
    }
   ],
   "source": [
    "bestD = 51\n",
    "bestN = 0.01\n",
    "sn.set_style('whitegrid')\n",
    "\n",
    "rocGB( xtr3, xte3, ytrain, ytest, bestD, bestN, 3 )"
   ]
  },
  {
   "cell_type": "markdown",
   "metadata": {},
   "source": [
    "## Opeartions on Set 4"
   ]
  },
  {
   "cell_type": "code",
   "execution_count": 89,
   "metadata": {},
   "outputs": [
    {
     "name": "stdout",
     "output_type": "stream",
     "text": [
      "             - First -                  - Second -                   - Third -                  - Fourth -\n",
      "       ####################        ####################        ####################        ####################        "
     ]
    },
    {
     "data": {
      "application/vnd.plotly.v1+json": {
       "config": {
        "linkText": "Export to plot.ly",
        "plotlyServerURL": "https://plot.ly",
        "responsive": true,
        "showLink": false
       },
       "data": [
        {
         "name": "Train",
         "type": "scatter3d",
         "uid": "bcb57759-f563-4870-8af2-ea4f9490e30a",
         "x": [
          5,
          5,
          5,
          5,
          11,
          11,
          11,
          11,
          51,
          51,
          51,
          51,
          101,
          101,
          101,
          101
         ],
         "y": [
          0.01,
          0.1,
          0,
          1,
          0.01,
          0.1,
          0,
          1,
          0.01,
          0.1,
          0,
          1,
          0.01,
          0.1,
          0,
          1
         ],
         "z": [
          0.8939835261352054,
          0.8939835261352054,
          0.8939835261352054,
          0.8939835261352054,
          0.9999998326605934,
          0.9999998326605934,
          0.9999998326605934,
          0.9999998326605934,
          1,
          1,
          1,
          1,
          1,
          1,
          1,
          1
         ]
        },
        {
         "name": "Cross validation",
         "type": "scatter3d",
         "uid": "7d10027a-da2b-440a-96f8-22d928ddc2d8",
         "x": [
          5,
          5,
          5,
          5,
          11,
          11,
          11,
          11,
          51,
          51,
          51,
          51,
          101,
          101,
          101,
          101
         ],
         "y": [
          0.01,
          0.1,
          0,
          1,
          0.01,
          0.1,
          0,
          1,
          0.01,
          0.1,
          0,
          1,
          0.01,
          0.1,
          0,
          1
         ],
         "z": [
          0.6473413207458403,
          0.6473413207458403,
          0.6473413207458403,
          0.6473413207458403,
          0.6300109774648329,
          0.6300109774648329,
          0.6300109774648329,
          0.6300109774648329,
          0.634750356767607,
          0.634750356767607,
          0.634750356767607,
          0.634750356767607,
          0.634750356767607,
          0.634750356767607,
          0.634750356767607,
          0.634750356767607
         ]
        }
       ],
       "layout": {
        "scene": {
         "xaxis": {
          "title": {
           "text": "max_depth"
          }
         },
         "yaxis": {
          "title": {
           "text": "learning_rate"
          }
         },
         "zaxis": {
          "title": {
           "text": "AUC"
          }
         }
        }
       }
      },
      "text/html": [
       "<div>\n",
       "        \n",
       "        \n",
       "            <div id=\"56b1a779-5e5c-46b0-b0d6-bac19e2cfd59\" class=\"plotly-graph-div\" style=\"height:525px; width:100%;\"></div>\n",
       "            <script type=\"text/javascript\">\n",
       "                require([\"plotly\"], function(Plotly) {\n",
       "                    window.PLOTLYENV=window.PLOTLYENV || {};\n",
       "                    window.PLOTLYENV.BASE_URL='https://plot.ly';\n",
       "                    \n",
       "                if (document.getElementById(\"56b1a779-5e5c-46b0-b0d6-bac19e2cfd59\")) {\n",
       "                    Plotly.newPlot(\n",
       "                        '56b1a779-5e5c-46b0-b0d6-bac19e2cfd59',\n",
       "                        [{\"name\": \"Train\", \"type\": \"scatter3d\", \"uid\": \"747ea39a-aa00-478d-9fbe-e3f29c823620\", \"x\": [5, 5, 5, 5, 11, 11, 11, 11, 51, 51, 51, 51, 101, 101, 101, 101], \"y\": [0.01, 0.1, 0, 1, 0.01, 0.1, 0, 1, 0.01, 0.1, 0, 1, 0.01, 0.1, 0, 1], \"z\": [0.8939835261352054, 0.8939835261352054, 0.8939835261352054, 0.8939835261352054, 0.9999998326605934, 0.9999998326605934, 0.9999998326605934, 0.9999998326605934, 1.0, 1.0, 1.0, 1.0, 1.0, 1.0, 1.0, 1.0]}, {\"name\": \"Cross validation\", \"type\": \"scatter3d\", \"uid\": \"951493aa-ee80-4349-b6e3-df4bceb96235\", \"x\": [5, 5, 5, 5, 11, 11, 11, 11, 51, 51, 51, 51, 101, 101, 101, 101], \"y\": [0.01, 0.1, 0, 1, 0.01, 0.1, 0, 1, 0.01, 0.1, 0, 1, 0.01, 0.1, 0, 1], \"z\": [0.6473413207458403, 0.6473413207458403, 0.6473413207458403, 0.6473413207458403, 0.6300109774648329, 0.6300109774648329, 0.6300109774648329, 0.6300109774648329, 0.634750356767607, 0.634750356767607, 0.634750356767607, 0.634750356767607, 0.634750356767607, 0.634750356767607, 0.634750356767607, 0.634750356767607]}],\n",
       "                        {\"scene\": {\"xaxis\": {\"title\": {\"text\": \"max_depth\"}}, \"yaxis\": {\"title\": {\"text\": \"learning_rate\"}}, \"zaxis\": {\"title\": {\"text\": \"AUC\"}}}},\n",
       "                        {\"showLink\": false, \"linkText\": \"Export to plot.ly\", \"plotlyServerURL\": \"https://plot.ly\", \"responsive\": true}\n",
       "                    ).then(function(){\n",
       "                            \n",
       "var gd = document.getElementById('56b1a779-5e5c-46b0-b0d6-bac19e2cfd59');\n",
       "var x = new MutationObserver(function (mutations, observer) {{\n",
       "        var display = window.getComputedStyle(gd).display;\n",
       "        if (!display || display === 'none') {{\n",
       "            console.log([gd, 'removed!']);\n",
       "            Plotly.purge(gd);\n",
       "            observer.disconnect();\n",
       "        }}\n",
       "}});\n",
       "\n",
       "// Listen for the removal of the full notebook cells\n",
       "var notebookContainer = gd.closest('#notebook-container');\n",
       "if (notebookContainer) {{\n",
       "    x.observe(notebookContainer, {childList: true});\n",
       "}}\n",
       "\n",
       "// Listen for the clearing of the current output cell\n",
       "var outputEl = gd.closest('.output');\n",
       "if (outputEl) {{\n",
       "    x.observe(outputEl, {childList: true});\n",
       "}}\n",
       "\n",
       "                        })\n",
       "                };\n",
       "                });\n",
       "            </script>\n",
       "        </div>"
      ]
     },
     "metadata": {},
     "output_type": "display_data"
    }
   ],
   "source": [
    "BestGB( xtr4, xcv4, ytrain, ycv )"
   ]
  },
  {
   "cell_type": "code",
   "execution_count": 93,
   "metadata": {},
   "outputs": [
    {
     "data": {
      "image/png": "[encoded data removed]",
      "text/plain": [
       "<matplotlib.figure.Figure at 0x1a9874f2860>"
      ]
     },
     "metadata": {},
     "output_type": "display_data"
    },
    {
     "name": "stdout",
     "output_type": "stream",
     "text": [
      "Confusion Matrix for Train of Set  4\n",
      " The maximum value of tpr*(1-fpr) =  0.6563316834986277  for threshold =  0.838\n",
      "[[ 2946   517]\n",
      " [ 4790 14192]]\n"
     ]
    },
    {
     "data": {
      "image/png": "[encoded data removed]",
      "text/plain": [
       "<matplotlib.figure.Figure at 0x1a9892e9f60>"
      ]
     },
     "metadata": {},
     "output_type": "display_data"
    },
    {
     "name": "stdout",
     "output_type": "stream",
     "text": [
      "\n",
      "\n",
      "Confusion Matrix for Test  4\n",
      " The maximum value of tpr*(1-fpr) =  0.3808413087958967  for threshold =  0.846\n",
      "[[1486 1060]\n",
      " [5023 8931]]\n"
     ]
    },
    {
     "data": {
      "image/png": "[encoded data removed]",
      "text/plain": [
       "<matplotlib.figure.Figure at 0x1a9885e2080>"
      ]
     },
     "metadata": {},
     "output_type": "display_data"
    }
   ],
   "source": [
    "bestD = 5\n",
    "bestN = 0.01\n",
    "\n",
    "sn.set_style('whitegrid')\n",
    "\n",
    "rocGB( xtr4, xte4, ytrain, ytest, bestD, bestN, 4 )"
   ]
  },
  {
   "cell_type": "code",
   "execution_count": 95,
   "metadata": {},
   "outputs": [
    {
     "name": "stdout",
     "output_type": "stream",
     "text": [
      "\n",
      "\t\t\t Results of XG Boost model\n",
      "+--------------+---------+--------------+--------------+----------------------+-------------+------------+\n",
      "|  Classifier  |   Set   |  Vectorizer  |  Best Depth  |  Best Learning Rate  |  Train AUC  |  Test AUC  |\n",
      "+--------------+---------+--------------+--------------+----------------------+-------------+------------+\n",
      "|   XG Boost   |  Set 1  |    B.O.W     |      11      |         0.01         |    0.9997   |   0.6833   |\n",
      "|   XG Boost   |  Set 2  |    TFIDF     |      5       |         0.01         |     9292    |   0.6866   |\n",
      "|   XG Boost   |  Set 3  |   Avg W2V    |      51      |         0.01         |     1.0     |   0.6472   |\n",
      "|   XG Boost   |  Set 4  |     WW2V     |      5       |         0.01         |     8639    |   0.6572   |\n",
      "+--------------+---------+--------------+--------------+----------------------+-------------+------------+\n"
     ]
    }
   ],
   "source": [
    "from prettytable import PrettyTable\n",
    "    \n",
    "x = PrettyTable()\n",
    "\n",
    "x.field_names = [\" Classifier \",\" Set \",\" Vectorizer \", \" Best Depth \", \" Best Learning Rate \", \" Train AUC \", \" Test AUC \"]\n",
    "\n",
    "x.add_row( [ \" XG Boost \", \" Set 1 \", \" B.O.W \", \" 11 \", \" 0.01 \", \" 0.9997 \", \" 0.6833 \" ] ) \n",
    "x.add_row( [ \" XG Boost \", \" Set 2 \", \" TFIDF \", \" 5 \", \" 0.01 \", \" 9292 \", \" 0.6866 \" ] )\n",
    "x.add_row( [ \" XG Boost \", \" Set 3 \", \" Avg W2V \", \" 51 \", \" 0.01 \", \" 1.0 \", \" 0.6472 \" ] )\n",
    "x.add_row( [ \" XG Boost \", \" Set 4 \", \" WW2V \", \" 5 \", \" 0.01 \", \" 8639 \", \" 0.6572 \" ] )\n",
    "\n",
    "\n",
    "print('\\n\\t\\t\\t Results of XG Boost model')\n",
    "print( x )\n",
    "\n",
    "# Ref : http://zetcode.com/python/prettytable/"
   ]
  },
  {
   "cell_type": "markdown",
   "metadata": {
    "collapsed": true
   },
   "source": [
    "## Conclusions\n"
   ]
  },
  {
   "cell_type": "code",
   "execution_count": 98,
   "metadata": {},
   "outputs": [
    {
     "name": "stdout",
     "output_type": "stream",
     "text": [
      "+--------------+---------+--------------+--------------+----------------------+-------------+------------+\n",
      "|  Classifier  |   Set   |  Vectorizer  |  Best Depth  |  Best Learning Rate  |  Train AUC  |  Test AUC  |\n",
      "+--------------+---------+--------------+--------------+----------------------+-------------+------------+\n",
      "|   XG Boost   |  Set 1  |    B.O.W     |      11      |         0.01         |    0.9997   |   0.6833   |\n",
      "|   XG Boost   |  Set 2  |    TFIDF     |      5       |         0.01         |    0.9292   |   0.6866   |\n",
      "|   XG Boost   |  Set 3  |   Avg W2V    |      51      |         0.01         |     1.0     |   0.6472   |\n",
      "|   XG Boost   |  Set 4  |     WW2V     |      5       |         0.01         |    0.8639   |   0.6572   |\n",
      "+--------------+---------+--------------+--------------+----------------------+-------------+------------+\n",
      "\n",
      "+-----------------+---------+--------------+--------------+------------------+-------------+------------+\n",
      "|    Classifier   |   Set   |  Vectorizer  |  Best Depth  |  Best Estimator  |  Train AUC  |  Test AUC  |\n",
      "+-----------------+---------+--------------+--------------+------------------+-------------+------------+\n",
      "|  Random Forest  |  Set 1  |    B.O.W     |      11      |       200        |    0.9215   |   0.6691   |\n",
      "|  Random Forest  |  Set 2  |    TFIDF     |      11      |       200        |    0.9213   |   0.6587   |\n",
      "|  Random Forest  |  Set 3  |   Avg W2V    |     101      |       100        |     1.0     |   0.6290   |\n",
      "|  Random Forest  |  Set 4  |     WW2V     |      5       |       100        |    0.9914   |   0.5580   |\n",
      "+-----------------+---------+--------------+--------------+------------------+-------------+------------+\n"
     ]
    }
   ],
   "source": [
    "from prettytable import PrettyTable\n",
    "    \n",
    "x = PrettyTable()\n",
    "y = PrettyTable()\n",
    "\n",
    "\n",
    "x.field_names = [\" Classifier \",\" Set \",\" Vectorizer \", \" Best Depth \", \" Best Learning Rate \", \" Train AUC \", \" Test AUC \"]\n",
    "\n",
    "x.add_row( [ \" XG Boost \", \" Set 1 \", \" B.O.W \", \" 11 \", \" 0.01 \", \" 0.9997 \", \" 0.6833 \" ] ) \n",
    "x.add_row( [ \" XG Boost \", \" Set 2 \", \" TFIDF \", \" 5 \", \" 0.01 \", \" 0.9292 \", \" 0.6866 \" ] )\n",
    "x.add_row( [ \" XG Boost \", \" Set 3 \", \" Avg W2V \", \" 51 \", \" 0.01 \", \" 1.0 \", \" 0.6472 \" ] )\n",
    "x.add_row( [ \" XG Boost \", \" Set 4 \", \" WW2V \", \" 5 \", \" 0.01 \", \" 0.8639 \", \" 0.6572 \" ] )\n",
    "\n",
    "y.field_names = [\" Classifier \",\" Set \",\" Vectorizer \", \" Best Depth \", \" Best Estimator \", \" Train AUC \", \" Test AUC \"]\n",
    "\n",
    "y.add_row( [ \" Random Forest \", \" Set 1 \", \" B.O.W \", \" 11 \", \" 200 \", \" 0.9215 \", \" 0.6691 \" ] ) \n",
    "y.add_row( [ \" Random Forest \", \" Set 2 \", \" TFIDF \", \" 11 \", \" 200 \", \" 0.9213 \", \" 0.6587 \" ] )\n",
    "y.add_row( [ \" Random Forest \", \" Set 3 \", \" Avg W2V \", \" 101 \", \" 100 \", \" 1.0 \", \" 0.6290 \" ] )\n",
    "y.add_row( [ \" Random Forest \", \" Set 4 \", \" WW2V \", \" 5 \", \" 100 \", \" 0.9914 \", \" 0.5580 \" ] )\n",
    "\n",
    "print( x )\n",
    "print()\n",
    "print( y )\n",
    "# Ref : http://zetcode.com/python/prettytable/"
   ]
  },
  {
   "cell_type": "markdown",
   "metadata": {},
   "source": [
    "\n",
    "The Best Overall model is XG Boost on TFIDF vectorized dataset\n",
    "\n",
    "In both XG Boost and Random Forest models Avg word 2 Vec vectorizer provides highest Test AUC among all others\n",
    "\n",
    "TFIDF with XG Boost has the highest Test AUC\n",
    "\n",
    "TFIDF and BOW approach produce almost the same Test AUC\n",
    "\n",
    "XG Boost models prove much effective than Random Forest in this case"
   ]
  }
 ],
 "metadata": {
  "kernelspec": {
   "display_name": "Python 3",
   "language": "python",
   "name": "python3"
  },
  "language_info": {
   "codemirror_mode": {
    "name": "ipython",
    "version": 3
   },
   "file_extension": ".py",
   "mimetype": "text/x-python",
   "name": "python",
   "nbconvert_exporter": "python",
   "pygments_lexer": "ipython3",
   "version": "3.6.3"
  }
 },
 "nbformat": 4,
 "nbformat_minor": 2
}
