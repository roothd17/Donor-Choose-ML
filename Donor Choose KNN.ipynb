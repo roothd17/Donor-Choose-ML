{
 "cells": [
  {
   "cell_type": "markdown",
   "metadata": {
    "collapsed": true
   },
   "source": [
    "# Donor Choose : KNN"
   ]
  },
  {
   "cell_type": "code",
   "execution_count": 1,
   "metadata": {
    "collapsed": true
   },
   "outputs": [],
   "source": [
    "import os\n",
    "\n",
    "os.chdir('E:\\Datasets\\DonorChoose')"
   ]
  },
  {
   "cell_type": "code",
   "execution_count": 2,
   "metadata": {
    "collapsed": true
   },
   "outputs": [],
   "source": [
    "import pandas as pd"
   ]
  },
  {
   "cell_type": "code",
   "execution_count": 3,
   "metadata": {},
   "outputs": [
    {
     "data": {
      "text/html": [
       "<div>\n",
       "<style>\n",
       "    .dataframe thead tr:only-child th {\n",
       "        text-align: right;\n",
       "    }\n",
       "\n",
       "    .dataframe thead th {\n",
       "        text-align: left;\n",
       "    }\n",
       "\n",
       "    .dataframe tbody tr th {\n",
       "        vertical-align: top;\n",
       "    }\n",
       "</style>\n",
       "<table border=\"1\" class=\"dataframe\">\n",
       "  <thead>\n",
       "    <tr style=\"text-align: right;\">\n",
       "      <th></th>\n",
       "      <th>teacher_prefix</th>\n",
       "      <th>school_state</th>\n",
       "      <th>teacher_number_of_previously_posted_projects</th>\n",
       "      <th>project_is_approved</th>\n",
       "      <th>clean_categories</th>\n",
       "      <th>clean_subcategory</th>\n",
       "      <th>cleanEssay</th>\n",
       "      <th>price</th>\n",
       "      <th>quantity</th>\n",
       "      <th>cleanProjectGradeCategory</th>\n",
       "      <th>project_title</th>\n",
       "    </tr>\n",
       "  </thead>\n",
       "  <tbody>\n",
       "    <tr>\n",
       "      <th>0</th>\n",
       "      <td>Mrs.</td>\n",
       "      <td>IN</td>\n",
       "      <td>0</td>\n",
       "      <td>0</td>\n",
       "      <td>Literacy-Language</td>\n",
       "      <td>ESL Literacy</td>\n",
       "      <td>My students are English learners that are work...</td>\n",
       "      <td>154.6</td>\n",
       "      <td>23</td>\n",
       "      <td>PreK-Two</td>\n",
       "      <td>Educational Support for English Learners at Home</td>\n",
       "    </tr>\n",
       "    <tr>\n",
       "      <th>1</th>\n",
       "      <td>Mr.</td>\n",
       "      <td>FL</td>\n",
       "      <td>7</td>\n",
       "      <td>1</td>\n",
       "      <td>History-Civics Health-Sports</td>\n",
       "      <td>Civics-Government TeamSports</td>\n",
       "      <td>Our students arrive to our school eager to lea...</td>\n",
       "      <td>299.0</td>\n",
       "      <td>1</td>\n",
       "      <td>Six-Eight</td>\n",
       "      <td>Wanted: Projector for Hungry Learners</td>\n",
       "    </tr>\n",
       "  </tbody>\n",
       "</table>\n",
       "</div>"
      ],
      "text/plain": [
       "  teacher_prefix school_state  teacher_number_of_previously_posted_projects  \\\n",
       "0           Mrs.           IN                                             0   \n",
       "1            Mr.           FL                                             7   \n",
       "\n",
       "   project_is_approved              clean_categories  \\\n",
       "0                    0             Literacy-Language   \n",
       "1                    1  History-Civics Health-Sports   \n",
       "\n",
       "              clean_subcategory  \\\n",
       "0                  ESL Literacy   \n",
       "1  Civics-Government TeamSports   \n",
       "\n",
       "                                          cleanEssay  price  quantity  \\\n",
       "0  My students are English learners that are work...  154.6        23   \n",
       "1  Our students arrive to our school eager to lea...  299.0         1   \n",
       "\n",
       "  cleanProjectGradeCategory                                     project_title  \n",
       "0                  PreK-Two  Educational Support for English Learners at Home  \n",
       "1                 Six-Eight             Wanted: Projector for Hungry Learners  "
      ]
     },
     "execution_count": 3,
     "metadata": {},
     "output_type": "execute_result"
    }
   ],
   "source": [
    "donor = pd.read_csv('cleandonor4.csv')\n",
    "\n",
    "donor.head(2)\n",
    "# We removed the redundant features that were taking up space and created a new .csv file"
   ]
  },
  {
   "cell_type": "markdown",
   "metadata": {},
   "source": [
    "### Removing Stop Words from title"
   ]
  },
  {
   "cell_type": "code",
   "execution_count": 4,
   "metadata": {
    "collapsed": true
   },
   "outputs": [],
   "source": [
    "# We are removing the words from the stop words list: 'no', 'nor', 'not'\n",
    "stopwords= ['i', 'me', 'my', 'myself', 'we', 'our', 'ours', 'ourselves', 'you', \"you're\", \"you've\",\\\n",
    "            \"you'll\", \"you'd\", 'your', 'yours', 'yourself', 'yourselves', 'he', 'him', 'his', 'himself', \\\n",
    "            'she', \"she's\", 'her', 'hers', 'herself', 'it', \"it's\", 'its', 'itself', 'they', 'them', 'their',\\\n",
    "            'theirs', 'themselves', 'what', 'which', 'who', 'whom', 'this', 'that', \"that'll\", 'these', 'those', \\\n",
    "            'am', 'is', 'are', 'was', 'were', 'be', 'been', 'being', 'have', 'has', 'had', 'having', 'do', 'does', \\\n",
    "            'did', 'doing', 'a', 'an', 'the', 'and', 'but', 'if', 'or', 'because', 'as', 'until', 'while', 'of', \\\n",
    "            'at', 'by', 'for', 'with', 'about', 'against', 'between', 'into', 'through', 'during', 'before', 'after',\\\n",
    "            'above', 'below', 'to', 'from', 'up', 'down', 'in', 'out', 'on', 'off', 'over', 'under', 'again', 'further',\\\n",
    "            'then', 'once', 'here', 'there', 'when', 'where', 'why', 'how', 'all', 'any', 'both', 'each', 'few', 'more',\\\n",
    "            'most', 'other', 'some', 'such', 'only', 'own', 'same', 'so', 'than', 'too', 'very', \\\n",
    "            's', 't', 'can', 'will', 'just', 'don', \"don't\", 'should', \"should've\", 'now', 'd', 'll', 'm', 'o', 're', \\\n",
    "            've', 'y', 'ain', 'aren', \"aren't\", 'couldn', \"couldn't\", 'didn', \"didn't\", 'doesn', \"doesn't\", 'hadn',\\\n",
    "            \"hadn't\", 'hasn', \"hasn't\", 'haven', \"haven't\", 'isn', \"isn't\", 'ma', 'mightn', \"mightn't\", 'mustn',\\\n",
    "            \"mustn't\", 'needn', \"needn't\", 'shan', \"shan't\", 'shouldn', \"shouldn't\", 'wasn', \"wasn't\", 'weren', \"weren't\", \\\n",
    "            'won', \"won't\", 'wouldn', \"wouldn't\"]"
   ]
  },
  {
   "cell_type": "code",
   "execution_count": 5,
   "metadata": {},
   "outputs": [
    {
     "name": "stderr",
     "output_type": "stream",
     "text": [
      "100%|███████████████████████████████████████████████████████████████████████| 109248/109248 [00:01<00:00, 89640.03it/s]\n"
     ]
    }
   ],
   "source": [
    "from tqdm import tqdm\n",
    "ftitle = [] \n",
    "\n",
    "for sen in tqdm( donor['project_title'].values ): \n",
    "    strY = \" \"\n",
    "\n",
    "    for w in sen.lower().split():\n",
    "        \n",
    "        if w not in stopwords:\n",
    "            strY = strY + w + \" \"\n",
    "\n",
    "    ftitle.append( strY.strip() )\n",
    "    \n",
    "donor.drop(['project_title'], axis=1, inplace=True)\n",
    "donor['cleanTitle'] = ftitle"
   ]
  },
  {
   "cell_type": "code",
   "execution_count": 6,
   "metadata": {},
   "outputs": [
    {
     "data": {
      "text/plain": [
       "(109248, 11)"
      ]
     },
     "execution_count": 6,
     "metadata": {},
     "output_type": "execute_result"
    }
   ],
   "source": [
    "donor.shape"
   ]
  },
  {
   "cell_type": "markdown",
   "metadata": {
    "collapsed": true
   },
   "source": [
    "li = []\n",
    "\n",
    "for i in donor['project_grade_category'].values :\n",
    "    s = \"\"\n",
    "    for j in i.split(' '): # Will Split based on ,\n",
    "        j = j.replace('Grades','')   # remove The if present\n",
    "        j = j.replace('PreK-2', 'PreK-Two')\n",
    "        j = j.replace('3-5','Three-Five')\n",
    "        j = j.replace('6-8','Six-Eight')\n",
    "        j = j.replace('9-12','Nine-Twelve')\n",
    "        s += j.strip()+\" \" # Space to seperate two words\n",
    "    li.append( s.strip() )\n",
    "donor['cleanProjectGradeCategory'] = li\n",
    "donor.drop(['project_grade_category'], axis=1, inplace = True)"
   ]
  },
  {
   "cell_type": "code",
   "execution_count": 7,
   "metadata": {},
   "outputs": [
    {
     "data": {
      "text/html": [
       "<div>\n",
       "<style>\n",
       "    .dataframe thead tr:only-child th {\n",
       "        text-align: right;\n",
       "    }\n",
       "\n",
       "    .dataframe thead th {\n",
       "        text-align: left;\n",
       "    }\n",
       "\n",
       "    .dataframe tbody tr th {\n",
       "        vertical-align: top;\n",
       "    }\n",
       "</style>\n",
       "<table border=\"1\" class=\"dataframe\">\n",
       "  <thead>\n",
       "    <tr style=\"text-align: right;\">\n",
       "      <th></th>\n",
       "      <th>teacher_prefix</th>\n",
       "      <th>school_state</th>\n",
       "      <th>teacher_number_of_previously_posted_projects</th>\n",
       "      <th>project_is_approved</th>\n",
       "      <th>clean_categories</th>\n",
       "      <th>clean_subcategory</th>\n",
       "      <th>cleanEssay</th>\n",
       "      <th>price</th>\n",
       "      <th>quantity</th>\n",
       "      <th>cleanProjectGradeCategory</th>\n",
       "      <th>cleanTitle</th>\n",
       "    </tr>\n",
       "  </thead>\n",
       "  <tbody>\n",
       "  </tbody>\n",
       "</table>\n",
       "</div>"
      ],
      "text/plain": [
       "Empty DataFrame\n",
       "Columns: [teacher_prefix, school_state, teacher_number_of_previously_posted_projects, project_is_approved, clean_categories, clean_subcategory, cleanEssay, price, quantity, cleanProjectGradeCategory, cleanTitle]\n",
       "Index: []"
      ]
     },
     "execution_count": 7,
     "metadata": {},
     "output_type": "execute_result"
    }
   ],
   "source": [
    "nan = donor[ donor['teacher_prefix'].isnull() ]\n",
    "nan"
   ]
  },
  {
   "cell_type": "code",
   "execution_count": 8,
   "metadata": {},
   "outputs": [
    {
     "data": {
      "text/html": [
       "<div>\n",
       "<style>\n",
       "    .dataframe thead tr:only-child th {\n",
       "        text-align: right;\n",
       "    }\n",
       "\n",
       "    .dataframe thead th {\n",
       "        text-align: left;\n",
       "    }\n",
       "\n",
       "    .dataframe tbody tr th {\n",
       "        vertical-align: top;\n",
       "    }\n",
       "</style>\n",
       "<table border=\"1\" class=\"dataframe\">\n",
       "  <thead>\n",
       "    <tr style=\"text-align: right;\">\n",
       "      <th></th>\n",
       "      <th>teacher_prefix</th>\n",
       "      <th>school_state</th>\n",
       "      <th>teacher_number_of_previously_posted_projects</th>\n",
       "      <th>project_is_approved</th>\n",
       "      <th>clean_categories</th>\n",
       "      <th>clean_subcategory</th>\n",
       "      <th>cleanEssay</th>\n",
       "      <th>price</th>\n",
       "      <th>quantity</th>\n",
       "      <th>cleanProjectGradeCategory</th>\n",
       "      <th>cleanTitle</th>\n",
       "    </tr>\n",
       "  </thead>\n",
       "  <tbody>\n",
       "  </tbody>\n",
       "</table>\n",
       "</div>"
      ],
      "text/plain": [
       "Empty DataFrame\n",
       "Columns: [teacher_prefix, school_state, teacher_number_of_previously_posted_projects, project_is_approved, clean_categories, clean_subcategory, cleanEssay, price, quantity, cleanProjectGradeCategory, cleanTitle]\n",
       "Index: []"
      ]
     },
     "execution_count": 8,
     "metadata": {},
     "output_type": "execute_result"
    }
   ],
   "source": [
    "nan = donor[ donor['cleanTitle'].isnull() ]\n",
    "nan"
   ]
  },
  {
   "cell_type": "markdown",
   "metadata": {},
   "source": [
    "## Only considering 50k data points to avoid memory issues"
   ]
  },
  {
   "cell_type": "code",
   "execution_count": 9,
   "metadata": {
    "collapsed": true
   },
   "outputs": [],
   "source": [
    "donor = donor[0 : 50000]"
   ]
  },
  {
   "cell_type": "code",
   "execution_count": 10,
   "metadata": {},
   "outputs": [
    {
     "data": {
      "text/plain": [
       "(50000, 11)"
      ]
     },
     "execution_count": 10,
     "metadata": {},
     "output_type": "execute_result"
    }
   ],
   "source": [
    "donor.shape"
   ]
  },
  {
   "cell_type": "code",
   "execution_count": 11,
   "metadata": {},
   "outputs": [
    {
     "data": {
      "text/plain": [
       "50000"
      ]
     },
     "execution_count": 11,
     "metadata": {},
     "output_type": "execute_result"
    }
   ],
   "source": [
    "Y = donor['project_is_approved']\n",
    "\n",
    "len( Y )  # Y = label i.e; Project is approved ( 0 or 1 )"
   ]
  },
  {
   "cell_type": "code",
   "execution_count": 12,
   "metadata": {
    "collapsed": true
   },
   "outputs": [],
   "source": [
    "donor.drop( 'project_is_approved', axis=1, inplace=True )"
   ]
  },
  {
   "cell_type": "code",
   "execution_count": 13,
   "metadata": {},
   "outputs": [
    {
     "data": {
      "text/plain": [
       "(50000, 10)"
      ]
     },
     "execution_count": 13,
     "metadata": {},
     "output_type": "execute_result"
    }
   ],
   "source": [
    "donor.shape"
   ]
  },
  {
   "cell_type": "code",
   "execution_count": 14,
   "metadata": {
    "collapsed": true
   },
   "outputs": [],
   "source": [
    "X = donor  # X = our features "
   ]
  },
  {
   "cell_type": "code",
   "execution_count": 15,
   "metadata": {},
   "outputs": [
    {
     "data": {
      "text/html": [
       "<div>\n",
       "<style>\n",
       "    .dataframe thead tr:only-child th {\n",
       "        text-align: right;\n",
       "    }\n",
       "\n",
       "    .dataframe thead th {\n",
       "        text-align: left;\n",
       "    }\n",
       "\n",
       "    .dataframe tbody tr th {\n",
       "        vertical-align: top;\n",
       "    }\n",
       "</style>\n",
       "<table border=\"1\" class=\"dataframe\">\n",
       "  <thead>\n",
       "    <tr style=\"text-align: right;\">\n",
       "      <th></th>\n",
       "      <th>teacher_prefix</th>\n",
       "      <th>school_state</th>\n",
       "      <th>teacher_number_of_previously_posted_projects</th>\n",
       "      <th>clean_categories</th>\n",
       "      <th>clean_subcategory</th>\n",
       "      <th>cleanEssay</th>\n",
       "      <th>price</th>\n",
       "      <th>quantity</th>\n",
       "      <th>cleanProjectGradeCategory</th>\n",
       "      <th>cleanTitle</th>\n",
       "    </tr>\n",
       "  </thead>\n",
       "  <tbody>\n",
       "    <tr>\n",
       "      <th>0</th>\n",
       "      <td>Mrs.</td>\n",
       "      <td>IN</td>\n",
       "      <td>0</td>\n",
       "      <td>Literacy-Language</td>\n",
       "      <td>ESL Literacy</td>\n",
       "      <td>My students are English learners that are work...</td>\n",
       "      <td>154.6</td>\n",
       "      <td>23</td>\n",
       "      <td>PreK-Two</td>\n",
       "      <td>educational support english learners home</td>\n",
       "    </tr>\n",
       "    <tr>\n",
       "      <th>1</th>\n",
       "      <td>Mr.</td>\n",
       "      <td>FL</td>\n",
       "      <td>7</td>\n",
       "      <td>History-Civics Health-Sports</td>\n",
       "      <td>Civics-Government TeamSports</td>\n",
       "      <td>Our students arrive to our school eager to lea...</td>\n",
       "      <td>299.0</td>\n",
       "      <td>1</td>\n",
       "      <td>Six-Eight</td>\n",
       "      <td>wanted: projector hungry learners</td>\n",
       "    </tr>\n",
       "  </tbody>\n",
       "</table>\n",
       "</div>"
      ],
      "text/plain": [
       "  teacher_prefix school_state  teacher_number_of_previously_posted_projects  \\\n",
       "0           Mrs.           IN                                             0   \n",
       "1            Mr.           FL                                             7   \n",
       "\n",
       "               clean_categories             clean_subcategory  \\\n",
       "0             Literacy-Language                  ESL Literacy   \n",
       "1  History-Civics Health-Sports  Civics-Government TeamSports   \n",
       "\n",
       "                                          cleanEssay  price  quantity  \\\n",
       "0  My students are English learners that are work...  154.6        23   \n",
       "1  Our students arrive to our school eager to lea...  299.0         1   \n",
       "\n",
       "  cleanProjectGradeCategory                                 cleanTitle  \n",
       "0                  PreK-Two  educational support english learners home  \n",
       "1                 Six-Eight          wanted: projector hungry learners  "
      ]
     },
     "execution_count": 15,
     "metadata": {},
     "output_type": "execute_result"
    }
   ],
   "source": [
    "X.head(2)"
   ]
  },
  {
   "cell_type": "markdown",
   "metadata": {
    "collapsed": true
   },
   "source": [
    "## Splitting Data"
   ]
  },
  {
   "cell_type": "code",
   "execution_count": 16,
   "metadata": {
    "collapsed": true
   },
   "outputs": [],
   "source": [
    "from sklearn.model_selection import train_test_split\n",
    "\n",
    "xtrain, xtest, ytrain, ytest = train_test_split( X, Y, test_size = 0.33, stratify = Y) # Spliting into Test and Train\n",
    "\n",
    "# stratify : we need to pass array containing class label as an argument to stratify\n",
    "\n",
    "xtrain, xcv, ytrain, ycv = train_test_split( xtrain, ytrain, test_size = 0.33, stratify = ytrain )"
   ]
  },
  {
   "cell_type": "code",
   "execution_count": 17,
   "metadata": {},
   "outputs": [
    {
     "name": "stdout",
     "output_type": "stream",
     "text": [
      "(22445, 10)\n",
      "(11055, 10)\n",
      "(16500, 10)\n",
      "(22445,)\n",
      "(11055,)\n",
      "(16500,)\n"
     ]
    }
   ],
   "source": [
    "print( xtrain.shape )\n",
    "print( xcv.shape )\n",
    "print( xtest.shape )\n",
    "\n",
    "print( ytrain.shape )\n",
    "print( ycv.shape )\n",
    "print( ytest.shape )"
   ]
  },
  {
   "cell_type": "code",
   "execution_count": 18,
   "metadata": {},
   "outputs": [
    {
     "data": {
      "text/html": [
       "<div>\n",
       "<style>\n",
       "    .dataframe thead tr:only-child th {\n",
       "        text-align: right;\n",
       "    }\n",
       "\n",
       "    .dataframe thead th {\n",
       "        text-align: left;\n",
       "    }\n",
       "\n",
       "    .dataframe tbody tr th {\n",
       "        vertical-align: top;\n",
       "    }\n",
       "</style>\n",
       "<table border=\"1\" class=\"dataframe\">\n",
       "  <thead>\n",
       "    <tr style=\"text-align: right;\">\n",
       "      <th></th>\n",
       "      <th>teacher_prefix</th>\n",
       "      <th>school_state</th>\n",
       "      <th>teacher_number_of_previously_posted_projects</th>\n",
       "      <th>clean_categories</th>\n",
       "      <th>clean_subcategory</th>\n",
       "      <th>cleanEssay</th>\n",
       "      <th>price</th>\n",
       "      <th>quantity</th>\n",
       "      <th>cleanProjectGradeCategory</th>\n",
       "      <th>cleanTitle</th>\n",
       "    </tr>\n",
       "  </thead>\n",
       "  <tbody>\n",
       "    <tr>\n",
       "      <th>5327</th>\n",
       "      <td>Ms.</td>\n",
       "      <td>CA</td>\n",
       "      <td>155</td>\n",
       "      <td>AppliedLearning</td>\n",
       "      <td>Extracurricular Other</td>\n",
       "      <td>I am so thrilled to start this new school year...</td>\n",
       "      <td>144.81</td>\n",
       "      <td>69</td>\n",
       "      <td>Three-Five</td>\n",
       "      <td>holiday magic!</td>\n",
       "    </tr>\n",
       "    <tr>\n",
       "      <th>12025</th>\n",
       "      <td>Ms.</td>\n",
       "      <td>OR</td>\n",
       "      <td>0</td>\n",
       "      <td>Literacy-Language</td>\n",
       "      <td>Literature-Writing</td>\n",
       "      <td>Ours is a small, rural district with high pove...</td>\n",
       "      <td>5.83</td>\n",
       "      <td>130</td>\n",
       "      <td>Nine-Twelve</td>\n",
       "      <td>world’s video game: teaching ender’s game</td>\n",
       "    </tr>\n",
       "  </tbody>\n",
       "</table>\n",
       "</div>"
      ],
      "text/plain": [
       "      teacher_prefix school_state  \\\n",
       "5327             Ms.           CA   \n",
       "12025            Ms.           OR   \n",
       "\n",
       "       teacher_number_of_previously_posted_projects   clean_categories  \\\n",
       "5327                                            155    AppliedLearning   \n",
       "12025                                             0  Literacy-Language   \n",
       "\n",
       "           clean_subcategory  \\\n",
       "5327   Extracurricular Other   \n",
       "12025     Literature-Writing   \n",
       "\n",
       "                                              cleanEssay   price  quantity  \\\n",
       "5327   I am so thrilled to start this new school year...  144.81        69   \n",
       "12025  Ours is a small, rural district with high pove...    5.83       130   \n",
       "\n",
       "      cleanProjectGradeCategory                                 cleanTitle  \n",
       "5327                 Three-Five                             holiday magic!  \n",
       "12025               Nine-Twelve  world’s video game: teaching ender’s game  "
      ]
     },
     "execution_count": 18,
     "metadata": {},
     "output_type": "execute_result"
    }
   ],
   "source": [
    "xtrain.head(2)"
   ]
  },
  {
   "cell_type": "markdown",
   "metadata": {},
   "source": [
    "# Creating Data Matrix"
   ]
  },
  {
   "cell_type": "markdown",
   "metadata": {},
   "source": [
    "### Essay BOW"
   ]
  },
  {
   "cell_type": "code",
   "execution_count": 19,
   "metadata": {
    "collapsed": true
   },
   "outputs": [],
   "source": [
    "from sklearn.feature_extraction.text import CountVectorizer\n",
    "\n",
    "vect = CountVectorizer( min_df = 15, ngram_range=(1,2) )\n",
    "# ngram_range : The lower and upper boundary of the range of n-values for different n-grams to be extracted.\n",
    "\n",
    "vect.fit( xtrain['cleanEssay'].values )\n",
    "# vect.fit( text ): Means that internally it is only learning the vocabulary of `Text` i.e. unique n-grams\n",
    "\n",
    "# THE VOCABULARY SHOULD BUILT ONLY WITH THE WORDS OF TRAIN DATA\n",
    "\n",
    "xtrEssayBOW = vect.transform( xtrain['cleanEssay'].values ) \n",
    "xcvEssayBOW = vect.transform( xcv['cleanEssay'].values ) \n",
    "xteEssayBOW = vect.transform( xtest['cleanEssay'].values )"
   ]
  },
  {
   "cell_type": "code",
   "execution_count": 20,
   "metadata": {},
   "outputs": [
    {
     "name": "stdout",
     "output_type": "stream",
     "text": [
      "(22445, 46746)\n",
      "(11055, 46746)\n",
      "(16500, 46746)\n"
     ]
    }
   ],
   "source": [
    "print( xtrEssayBOW.shape )\n",
    "print( xcvEssayBOW.shape )\n",
    "print( xteEssayBOW.shape )"
   ]
  },
  {
   "cell_type": "code",
   "execution_count": 21,
   "metadata": {},
   "outputs": [
    {
     "data": {
      "text/plain": [
       "<22445x46746 sparse matrix of type '<class 'numpy.int64'>'\n",
       "\twith 6853540 stored elements in Compressed Sparse Row format>"
      ]
     },
     "execution_count": 21,
     "metadata": {},
     "output_type": "execute_result"
    }
   ],
   "source": [
    "xtrEssayBOW"
   ]
  },
  {
   "cell_type": "markdown",
   "metadata": {},
   "source": [
    "### Project title BOW"
   ]
  },
  {
   "cell_type": "code",
   "execution_count": 22,
   "metadata": {},
   "outputs": [
    {
     "name": "stdout",
     "output_type": "stream",
     "text": [
      "(22445, 1103)\n",
      "(11055, 1103)\n",
      "(16500, 1103)\n"
     ]
    }
   ],
   "source": [
    "from sklearn.feature_extraction.text import CountVectorizer\n",
    "\n",
    "vect = CountVectorizer( min_df = 15, ngram_range = (1,2) )\n",
    "\n",
    "vect.fit( xtrain['cleanTitle'].values )\n",
    "\n",
    "xtrTitleBOW = vect.transform( xtrain['cleanTitle'].values )\n",
    "xcvTitleBOW = vect.transform( xcv['cleanTitle'].values )\n",
    "xteTitleBOW = vect.transform( xtest['cleanTitle'].values )\n",
    "\n",
    "print( xtrTitleBOW.shape )\n",
    "print( xcvTitleBOW.shape )\n",
    "print( xteTitleBOW.shape )"
   ]
  },
  {
   "cell_type": "markdown",
   "metadata": {
    "collapsed": true
   },
   "source": [
    "### Essay TFIDF"
   ]
  },
  {
   "cell_type": "code",
   "execution_count": 38,
   "metadata": {},
   "outputs": [
    {
     "name": "stdout",
     "output_type": "stream",
     "text": [
      "(22445, 7447)\n",
      "(11055, 7447)\n",
      "(16500, 7447)\n"
     ]
    }
   ],
   "source": [
    "from sklearn.feature_extraction.text import TfidfVectorizer\n",
    "from sklearn.feature_extraction.text import TfidfTransformer\n",
    "\n",
    "tfidfvect = TfidfVectorizer( min_df = 15 )\n",
    "tfidfvect.fit( xtrain['cleanEssay'].values )\n",
    "\n",
    "xtrEssayTFIDF = tfidfvect.transform( xtrain['cleanEssay'].values )\n",
    "xcvEssayTFIDF = tfidfvect.transform( xcv['cleanEssay'].values )\n",
    "xteEssayTFIDF = tfidfvect.transform( xtest['cleanEssay'].values )\n",
    "\n",
    "print( xtrEssayTFIDF.shape )\n",
    "print( xcvEssayTFIDF.shape )\n",
    "print( xteEssayTFIDF.shape )"
   ]
  },
  {
   "cell_type": "markdown",
   "metadata": {
    "collapsed": true
   },
   "source": [
    "### Essay Word2Vec"
   ]
  },
  {
   "cell_type": "code",
   "execution_count": 39,
   "metadata": {
    "collapsed": true
   },
   "outputs": [],
   "source": [
    "# Function Creating a list that contains all the words in the data column\n",
    "\n",
    "def stow( data ):\n",
    "    sentence = []\n",
    "\n",
    "    for sen in tqdm( data.values ):\n",
    "        fsentence = []\n",
    "    \n",
    "        for w in sen.split():\n",
    "            for cw in w.split():\n",
    "            \n",
    "                if cw.isalpha():\n",
    "                    fsentence.append( cw.lower() )\n",
    "                else:\n",
    "                    continue\n",
    "        sentence.append( fsentence )\n",
    "    return sentence"
   ]
  },
  {
   "cell_type": "code",
   "execution_count": 40,
   "metadata": {},
   "outputs": [
    {
     "name": "stderr",
     "output_type": "stream",
     "text": [
      "100%|██████████████████████████████████████████████████████████████████████████| 22445/22445 [00:03<00:00, 7369.03it/s]\n"
     ]
    }
   ],
   "source": [
    "xtrw = stow( xtrain['cleanEssay'] ) # List of words for xtrain"
   ]
  },
  {
   "cell_type": "code",
   "execution_count": 41,
   "metadata": {},
   "outputs": [
    {
     "name": "stdout",
     "output_type": "stream",
     "text": [
      "22445\n"
     ]
    }
   ],
   "source": [
    "print( len( xtrw ) )\n",
    "\n",
    "import gensim\n",
    "\n",
    "xtrmodel = gensim.models.Word2Vec( xtrw, min_count = 15, size = 50, workers = 4 )\n",
    "# min_count : If a word dosent apper more then the value assigned do't construct w2v for it\n",
    "# size: dimension of vector to be constructed  ( 100 - 300 most cases )\n",
    "# workers: If you hav a multi cores you can set it to 4 for performence"
   ]
  },
  {
   "cell_type": "code",
   "execution_count": 42,
   "metadata": {},
   "outputs": [
    {
     "data": {
      "text/plain": [
       "6579"
      ]
     },
     "execution_count": 42,
     "metadata": {},
     "output_type": "execute_result"
    }
   ],
   "source": [
    "xtrwords = list( xtrmodel.wv.vocab )\n",
    "len( xtrwords )"
   ]
  },
  {
   "cell_type": "code",
   "execution_count": 43,
   "metadata": {},
   "outputs": [
    {
     "name": "stderr",
     "output_type": "stream",
     "text": [
      "100%|██████████████████████████████████████████████████████████████████████████| 11055/11055 [00:01<00:00, 6993.42it/s]\n"
     ]
    },
    {
     "name": "stdout",
     "output_type": "stream",
     "text": [
      "11055\n"
     ]
    },
    {
     "data": {
      "text/plain": [
       "4668"
      ]
     },
     "execution_count": 43,
     "metadata": {},
     "output_type": "execute_result"
    }
   ],
   "source": [
    "# For Cross validation\n",
    "\n",
    "xcvw = stow( xcv['cleanEssay'] )\n",
    "\n",
    "print( len( xcvw ) )\n",
    "\n",
    "import gensim\n",
    "\n",
    "xcvmodel = gensim.models.Word2Vec( xcvw, min_count = 15, size =50, workers = 4 )\n",
    "\n",
    "xcvwords = list( xcvmodel.wv.vocab )\n",
    "len( xcvwords )"
   ]
  },
  {
   "cell_type": "code",
   "execution_count": 44,
   "metadata": {},
   "outputs": [
    {
     "name": "stderr",
     "output_type": "stream",
     "text": [
      "100%|██████████████████████████████████████████████████████████████████████████| 16500/16500 [00:02<00:00, 7609.99it/s]\n"
     ]
    },
    {
     "name": "stdout",
     "output_type": "stream",
     "text": [
      "16500\n"
     ]
    },
    {
     "data": {
      "text/plain": [
       "5716"
      ]
     },
     "execution_count": 44,
     "metadata": {},
     "output_type": "execute_result"
    }
   ],
   "source": [
    "# For Test\n",
    "\n",
    "xtew = stow( xtest['cleanEssay'] )\n",
    "\n",
    "print( len( xtew ) )\n",
    "\n",
    "import gensim\n",
    "\n",
    "xtemodel = gensim.models.Word2Vec( xtew, min_count = 15, size =50, workers = 4 )\n",
    "\n",
    "xtewords = list( xtemodel.wv.vocab )\n",
    "len( xtewords )"
   ]
  },
  {
   "cell_type": "markdown",
   "metadata": {},
   "source": [
    "### Essay Avg Word 2 Vec"
   ]
  },
  {
   "cell_type": "code",
   "execution_count": 45,
   "metadata": {
    "collapsed": true
   },
   "outputs": [],
   "source": [
    "import numpy as np\n",
    "\n",
    "\n",
    "def avgw2v( data, words, model ):\n",
    "    sentV = [] # average word 2 vec for each essay is stored in this\n",
    "\n",
    "    for sent in tqdm( data ):\n",
    "    \n",
    "        svec = np.zeros(50)  # creates a np array with 50 0's we took 50 here cause we took 50 as our size in Word2Vec model\n",
    "        cnw = 0\n",
    "    \n",
    "        for w in sent:\n",
    "            if w in words:\n",
    "                vec = model.wv[ w ]  # Computing word 2 vec\n",
    "                svec += vec     # Add it to the svec\n",
    "                cnw += 1\n",
    "            \n",
    "        if cnw != 0:        \n",
    "            svec /= cnw  # Averaging with the count of number of words with valid vector in the Essay\n",
    "        sentV.append( svec )\n",
    "    \n",
    "    return sentV"
   ]
  },
  {
   "cell_type": "code",
   "execution_count": 46,
   "metadata": {},
   "outputs": [
    {
     "name": "stderr",
     "output_type": "stream",
     "text": [
      "100%|███████████████████████████████████████████████████████████████████████████| 22445/22445 [01:10<00:00, 320.53it/s]\n"
     ]
    }
   ],
   "source": [
    "xtrAW2V = np.asarray( avgw2v( xtrw, xtrwords, xtrmodel ) )"
   ]
  },
  {
   "cell_type": "code",
   "execution_count": 47,
   "metadata": {},
   "outputs": [
    {
     "data": {
      "text/plain": [
       "array([-1.25059635,  0.1914677 ,  0.4374716 , -0.129823  ,  0.76639134,\n",
       "       -0.54745269, -0.13731124, -0.76674645,  0.32691148,  0.60554792,\n",
       "       -0.27671862,  0.11046412,  0.1074014 , -0.03526609,  0.14862368,\n",
       "        0.19721731, -0.14954643, -0.84253739, -0.61805629,  0.31487736,\n",
       "        0.13128226,  0.53096872,  0.80961438, -0.41581719,  0.64518936,\n",
       "       -0.50654806,  0.12271502,  0.3414179 ,  0.11816001,  0.13129164,\n",
       "       -0.63854448,  0.08247713, -0.70874897,  0.60147698,  0.13622182,\n",
       "       -0.01541794,  0.35403659, -0.09284132,  0.25334305,  0.10145046,\n",
       "       -0.06626486,  0.21519509, -0.59397861, -0.14992149,  0.24925198,\n",
       "       -0.42466343, -0.3414171 ,  0.49069866, -0.24426915,  0.06603798])"
      ]
     },
     "execution_count": 47,
     "metadata": {},
     "output_type": "execute_result"
    }
   ],
   "source": [
    "xtrAW2V[20]"
   ]
  },
  {
   "cell_type": "code",
   "execution_count": 48,
   "metadata": {},
   "outputs": [
    {
     "name": "stderr",
     "output_type": "stream",
     "text": [
      "100%|███████████████████████████████████████████████████████████████████████████| 11055/11055 [00:28<00:00, 393.28it/s]\n"
     ]
    }
   ],
   "source": [
    "xcvAW2V = np.asarray( avgw2v( xcvw, xcvwords, xcvmodel ) )"
   ]
  },
  {
   "cell_type": "code",
   "execution_count": 49,
   "metadata": {},
   "outputs": [
    {
     "data": {
      "text/plain": [
       "(11055, 50)"
      ]
     },
     "execution_count": 49,
     "metadata": {},
     "output_type": "execute_result"
    }
   ],
   "source": [
    "xcvAW2V.shape"
   ]
  },
  {
   "cell_type": "code",
   "execution_count": 50,
   "metadata": {},
   "outputs": [
    {
     "name": "stderr",
     "output_type": "stream",
     "text": [
      "100%|███████████████████████████████████████████████████████████████████████████| 16500/16500 [00:44<00:00, 371.55it/s]\n"
     ]
    }
   ],
   "source": [
    "xteAW2V = np.asarray( avgw2v( xtew, xtewords, xtemodel ) )"
   ]
  },
  {
   "cell_type": "code",
   "execution_count": 51,
   "metadata": {},
   "outputs": [
    {
     "data": {
      "text/plain": [
       "(16500, 50)"
      ]
     },
     "execution_count": 51,
     "metadata": {},
     "output_type": "execute_result"
    }
   ],
   "source": [
    "xteAW2V.shape"
   ]
  },
  {
   "cell_type": "markdown",
   "metadata": {},
   "source": [
    "### Essay TFIDF WW2V"
   ]
  },
  {
   "cell_type": "code",
   "execution_count": 52,
   "metadata": {},
   "outputs": [
    {
     "name": "stdout",
     "output_type": "stream",
     "text": [
      "['cables', 'cad', 'caddies', 'cafe', 'cafeteria', 'calculate', 'calculating', 'calculations', 'calculator', 'calculators', 'calculus', 'calendar', 'california', 'call', 'called', 'calling', 'calls', 'calm', 'calmer', 'calming']\n"
     ]
    },
    {
     "data": {
      "text/plain": [
       "7447"
      ]
     },
     "execution_count": 52,
     "metadata": {},
     "output_type": "execute_result"
    }
   ],
   "source": [
    "print( tfidfvect.get_feature_names()[1000:1020] )\n",
    "len( tfidfvect.get_feature_names() )"
   ]
  },
  {
   "cell_type": "code",
   "execution_count": 53,
   "metadata": {
    "collapsed": true
   },
   "outputs": [],
   "source": [
    "essayFeatures = tfidfvect.get_feature_names()  # Tf idf words/ col names"
   ]
  },
  {
   "cell_type": "code",
   "execution_count": 54,
   "metadata": {
    "collapsed": true
   },
   "outputs": [],
   "source": [
    "def ww2v( data, model, TFIDF, feat = essayFeatures ):\n",
    "    \n",
    "    essayWw2v = []  # the Tfidf weighted w2v for each sentence is stored here\n",
    "    row = 0\n",
    "\n",
    "    for sent in tqdm( data ):\n",
    "        sv = np.zeros( 50 )  # as word vectors are of zero length\n",
    "        ws = 0  # ws : weight sum, num of words with a valid vector in the sentence/review\n",
    "\n",
    "        for w in sent:      \n",
    "\n",
    "            try:\n",
    "                vec = model.wv[ w ]\n",
    "                tfidf = TFIDF[ row, feat.index( w ) ]\n",
    "                # dicti[w] = idf value of word in whole courpus\n",
    "                # sent.count(w) = tf values of word in this review\n",
    "\n",
    "                sv += ( vec * tfidf )\n",
    "                ws += tfidf\n",
    "\n",
    "            except:\n",
    "                pass\n",
    "\n",
    "        if ws != 0:\n",
    "            sv /= ws\n",
    "        essayWw2v.append( sv )\n",
    "        row += 1\n",
    "\n",
    "    return essayWw2v"
   ]
  },
  {
   "cell_type": "code",
   "execution_count": 55,
   "metadata": {},
   "outputs": [
    {
     "name": "stderr",
     "output_type": "stream",
     "text": [
      "100%|████████████████████████████████████████████████████████████████████████████| 22445/22445 [10:11<00:00, 34.03it/s]\n"
     ]
    }
   ],
   "source": [
    "xtrWW2V = np.asarray( ww2v( xtrw, xtrmodel, xtrEssayTFIDF ) )"
   ]
  },
  {
   "cell_type": "code",
   "execution_count": 56,
   "metadata": {},
   "outputs": [
    {
     "data": {
      "text/plain": [
       "(22445, 50)"
      ]
     },
     "execution_count": 56,
     "metadata": {},
     "output_type": "execute_result"
    }
   ],
   "source": [
    "xtrWW2V.shape"
   ]
  },
  {
   "cell_type": "code",
   "execution_count": 57,
   "metadata": {},
   "outputs": [
    {
     "name": "stderr",
     "output_type": "stream",
     "text": [
      "100%|████████████████████████████████████████████████████████████████████████████| 11055/11055 [05:41<00:00, 32.37it/s]\n"
     ]
    }
   ],
   "source": [
    "xcvWW2V = np.asarray( ww2v( xcvw, xcvmodel, xcvEssayTFIDF ) )"
   ]
  },
  {
   "cell_type": "code",
   "execution_count": 58,
   "metadata": {},
   "outputs": [
    {
     "name": "stderr",
     "output_type": "stream",
     "text": [
      "100%|████████████████████████████████████████████████████████████████████████████| 16500/16500 [08:26<00:00, 32.57it/s]\n"
     ]
    }
   ],
   "source": [
    "xteWW2V = np.asarray( ww2v( xtew, xtemodel, xteEssayTFIDF ) )"
   ]
  },
  {
   "cell_type": "code",
   "execution_count": null,
   "metadata": {
    "collapsed": true
   },
   "outputs": [],
   "source": []
  },
  {
   "cell_type": "markdown",
   "metadata": {},
   "source": [
    "### Project Title TFIDF"
   ]
  },
  {
   "cell_type": "code",
   "execution_count": 59,
   "metadata": {},
   "outputs": [
    {
     "name": "stdout",
     "output_type": "stream",
     "text": [
      "(22445, 847)\n",
      "(11055, 847)\n",
      "(16500, 847)\n"
     ]
    }
   ],
   "source": [
    "from sklearn.feature_extraction.text import TfidfVectorizer\n",
    "from sklearn.feature_extraction.text import TfidfTransformer\n",
    "\n",
    "tfidfvect = TfidfVectorizer( min_df = 15 )\n",
    "tfidfvect.fit( xtrain['cleanTitle'].values )\n",
    "\n",
    "xtrTitleTFIDF = tfidfvect.transform( xtrain['cleanTitle'].values )\n",
    "xcvTitleTFIDF = tfidfvect.transform( xcv['cleanTitle'].values )\n",
    "xteTitleTFIDF = tfidfvect.transform( xtest['cleanTitle'].values )\n",
    "\n",
    "print( xtrTitleTFIDF.shape )\n",
    "print( xcvTitleTFIDF.shape )\n",
    "print( xteTitleTFIDF.shape )"
   ]
  },
  {
   "cell_type": "markdown",
   "metadata": {},
   "source": [
    "### Title Word2 vec"
   ]
  },
  {
   "cell_type": "code",
   "execution_count": 60,
   "metadata": {},
   "outputs": [
    {
     "name": "stderr",
     "output_type": "stream",
     "text": [
      "100%|█████████████████████████████████████████████████████████████████████████| 22445/22445 [00:00<00:00, 55705.98it/s]\n"
     ]
    },
    {
     "name": "stdout",
     "output_type": "stream",
     "text": [
      "22445\n"
     ]
    },
    {
     "data": {
      "text/plain": [
       "683"
      ]
     },
     "execution_count": 60,
     "metadata": {},
     "output_type": "execute_result"
    }
   ],
   "source": [
    "# For Train\n",
    "\n",
    "xtrTitlew = stow( xtrain['cleanTitle'] )  # stow : is a defined by me that coverts a list of sentences to words\n",
    "\n",
    "print( len( xtrTitlew ) )\n",
    "\n",
    "import gensim\n",
    "\n",
    "xtrTitlemodel = gensim.models.Word2Vec( xtrTitlew, min_count = 15, size =50, workers = 4 )\n",
    "\n",
    "xtrTitlewords = list( xtrTitlemodel.wv.vocab )\n",
    "len( xtrTitlewords )"
   ]
  },
  {
   "cell_type": "code",
   "execution_count": 61,
   "metadata": {},
   "outputs": [
    {
     "name": "stderr",
     "output_type": "stream",
     "text": [
      "100%|████████████████████████████████████████████████████████████████████████| 11055/11055 [00:00<00:00, 240970.53it/s]\n"
     ]
    },
    {
     "name": "stdout",
     "output_type": "stream",
     "text": [
      "11055\n"
     ]
    },
    {
     "data": {
      "text/plain": [
       "362"
      ]
     },
     "execution_count": 61,
     "metadata": {},
     "output_type": "execute_result"
    }
   ],
   "source": [
    "# For Cross Validation\n",
    "\n",
    "xcvTitlew = stow( xcv['cleanTitle'] )\n",
    "\n",
    "print( len( xcvTitlew ) )\n",
    "\n",
    "import gensim\n",
    "\n",
    "xcvTitlemodel = gensim.models.Word2Vec( xcvTitlew, min_count = 15, size =50, workers = 4 )\n",
    "\n",
    "xcvTitlewords = list( xcvTitlemodel.wv.vocab )\n",
    "len( xcvTitlewords )"
   ]
  },
  {
   "cell_type": "code",
   "execution_count": 62,
   "metadata": {},
   "outputs": [
    {
     "name": "stderr",
     "output_type": "stream",
     "text": [
      "100%|████████████████████████████████████████████████████████████████████████| 16500/16500 [00:00<00:00, 237673.53it/s]\n"
     ]
    },
    {
     "name": "stdout",
     "output_type": "stream",
     "text": [
      "16500\n"
     ]
    },
    {
     "data": {
      "text/plain": [
       "548"
      ]
     },
     "execution_count": 62,
     "metadata": {},
     "output_type": "execute_result"
    }
   ],
   "source": [
    "# For Test\n",
    "\n",
    "xteTitlew = stow( xtest['cleanTitle'] )\n",
    "\n",
    "print( len( xteTitlew ) )\n",
    "\n",
    "import gensim\n",
    "\n",
    "xteTitlemodel = gensim.models.Word2Vec( xteTitlew, min_count = 15, size =50, workers = 4 )\n",
    "\n",
    "xteTitlewords = list( xteTitlemodel.wv.vocab )\n",
    "len( xteTitlewords )"
   ]
  },
  {
   "cell_type": "markdown",
   "metadata": {},
   "source": [
    "### Title Avg Word 2 vec"
   ]
  },
  {
   "cell_type": "code",
   "execution_count": 63,
   "metadata": {},
   "outputs": [
    {
     "name": "stderr",
     "output_type": "stream",
     "text": [
      "100%|█████████████████████████████████████████████████████████████████████████| 22445/22445 [00:00<00:00, 27869.84it/s]\n"
     ]
    }
   ],
   "source": [
    "# For Train\n",
    "\n",
    "xtrTitleAW2V = np.asarray( avgw2v( xtrTitlew, xtrTitlewords, xtrTitlemodel ) )"
   ]
  },
  {
   "cell_type": "code",
   "execution_count": 64,
   "metadata": {},
   "outputs": [
    {
     "data": {
      "text/plain": [
       "(22445, 50)"
      ]
     },
     "execution_count": 64,
     "metadata": {},
     "output_type": "execute_result"
    }
   ],
   "source": [
    "xtrTitleAW2V.shape"
   ]
  },
  {
   "cell_type": "code",
   "execution_count": 65,
   "metadata": {},
   "outputs": [
    {
     "name": "stderr",
     "output_type": "stream",
     "text": [
      "100%|█████████████████████████████████████████████████████████████████████████| 11055/11055 [00:00<00:00, 35639.89it/s]\n"
     ]
    }
   ],
   "source": [
    "# For Cross validation\n",
    "\n",
    "xcvTitleAW2V = np.asarray( avgw2v( xcvTitlew, xcvTitlewords, xcvTitlemodel ) )"
   ]
  },
  {
   "cell_type": "code",
   "execution_count": 66,
   "metadata": {},
   "outputs": [
    {
     "data": {
      "text/plain": [
       "(11055, 50)"
      ]
     },
     "execution_count": 66,
     "metadata": {},
     "output_type": "execute_result"
    }
   ],
   "source": [
    "xcvTitleAW2V.shape"
   ]
  },
  {
   "cell_type": "code",
   "execution_count": 67,
   "metadata": {},
   "outputs": [
    {
     "name": "stderr",
     "output_type": "stream",
     "text": [
      "100%|█████████████████████████████████████████████████████████████████████████| 16500/16500 [00:00<00:00, 31277.43it/s]\n"
     ]
    }
   ],
   "source": [
    "# For Test\n",
    "\n",
    "xteTitleAW2V = np.asarray( avgw2v( xteTitlew, xteTitlewords, xteTitlemodel ) )"
   ]
  },
  {
   "cell_type": "code",
   "execution_count": 68,
   "metadata": {},
   "outputs": [
    {
     "data": {
      "text/plain": [
       "(16500, 50)"
      ]
     },
     "execution_count": 68,
     "metadata": {},
     "output_type": "execute_result"
    }
   ],
   "source": [
    "xteTitleAW2V.shape"
   ]
  },
  {
   "cell_type": "code",
   "execution_count": null,
   "metadata": {
    "collapsed": true
   },
   "outputs": [],
   "source": []
  },
  {
   "cell_type": "markdown",
   "metadata": {},
   "source": [
    "### Title Weighted Word 2 vec"
   ]
  },
  {
   "cell_type": "code",
   "execution_count": 69,
   "metadata": {},
   "outputs": [
    {
     "name": "stdout",
     "output_type": "stream",
     "text": [
      "['1st', '2016', '2017', '21st', '2nd', '3d', '3rd', '4th', '5th', '6th', 'abc', 'academic', 'access', 'achieve', 'achievement', 'across', 'action', 'active', 'activities', 'activity', 'add', 'adventure', 'adventures', 'again', 'age', 'ahead', 'air', 'algebra', 'alive', 'all']\n"
     ]
    },
    {
     "data": {
      "text/plain": [
       "847"
      ]
     },
     "execution_count": 69,
     "metadata": {},
     "output_type": "execute_result"
    }
   ],
   "source": [
    "print( tfidfvect.get_feature_names()[0:30] )\n",
    "len( tfidfvect.get_feature_names() )"
   ]
  },
  {
   "cell_type": "code",
   "execution_count": 70,
   "metadata": {
    "collapsed": true
   },
   "outputs": [],
   "source": [
    "titlefeatures = tfidfvect.get_feature_names()"
   ]
  },
  {
   "cell_type": "code",
   "execution_count": 71,
   "metadata": {},
   "outputs": [
    {
     "name": "stderr",
     "output_type": "stream",
     "text": [
      "100%|██████████████████████████████████████████████████████████████████████████| 22445/22445 [00:02<00:00, 7876.28it/s]\n"
     ]
    }
   ],
   "source": [
    "xtrTitleWW2V = np.asarray( ww2v( xtrTitlew, xtrTitlemodel, xtrTitleTFIDF, titlefeatures ) )"
   ]
  },
  {
   "cell_type": "code",
   "execution_count": 72,
   "metadata": {},
   "outputs": [
    {
     "data": {
      "text/plain": [
       "(22445, 50)"
      ]
     },
     "execution_count": 72,
     "metadata": {},
     "output_type": "execute_result"
    }
   ],
   "source": [
    "xtrTitleWW2V.shape"
   ]
  },
  {
   "cell_type": "code",
   "execution_count": 73,
   "metadata": {},
   "outputs": [
    {
     "name": "stderr",
     "output_type": "stream",
     "text": [
      "100%|██████████████████████████████████████████████████████████████████████████| 11055/11055 [00:01<00:00, 9896.53it/s]\n"
     ]
    }
   ],
   "source": [
    "xcvTitleWW2V = np.asarray( ww2v( xcvTitlew, xcvTitlemodel, xcvTitleTFIDF, titlefeatures ) )"
   ]
  },
  {
   "cell_type": "code",
   "execution_count": 74,
   "metadata": {},
   "outputs": [
    {
     "data": {
      "text/plain": [
       "(11055, 50)"
      ]
     },
     "execution_count": 74,
     "metadata": {},
     "output_type": "execute_result"
    }
   ],
   "source": [
    "xcvTitleWW2V.shape"
   ]
  },
  {
   "cell_type": "code",
   "execution_count": 75,
   "metadata": {},
   "outputs": [
    {
     "name": "stderr",
     "output_type": "stream",
     "text": [
      "100%|██████████████████████████████████████████████████████████████████████████| 16500/16500 [00:01<00:00, 9042.65it/s]\n"
     ]
    }
   ],
   "source": [
    "xteTitleWW2V = np.asarray( ww2v( xteTitlew, xteTitlemodel, xteTitleTFIDF, titlefeatures ) )"
   ]
  },
  {
   "cell_type": "code",
   "execution_count": 76,
   "metadata": {},
   "outputs": [
    {
     "data": {
      "text/plain": [
       "(16500, 50)"
      ]
     },
     "execution_count": 76,
     "metadata": {},
     "output_type": "execute_result"
    }
   ],
   "source": [
    "xteTitleWW2V.shape"
   ]
  },
  {
   "cell_type": "code",
   "execution_count": null,
   "metadata": {
    "collapsed": true
   },
   "outputs": [],
   "source": []
  },
  {
   "cell_type": "markdown",
   "metadata": {},
   "source": [
    "### State"
   ]
  },
  {
   "cell_type": "code",
   "execution_count": 23,
   "metadata": {
    "collapsed": true
   },
   "outputs": [],
   "source": [
    "vectorizer = CountVectorizer()\n",
    "\n",
    "vectorizer.fit( xtrain['school_state'].values )\n",
    "\n",
    "xtrState = vectorizer.transform( xtrain['school_state'].values )\n",
    "xcvState = vectorizer.transform( xcv['school_state'].values )\n",
    "xteState = vectorizer.transform( xtest['school_state'].values )"
   ]
  },
  {
   "cell_type": "code",
   "execution_count": 24,
   "metadata": {},
   "outputs": [
    {
     "name": "stdout",
     "output_type": "stream",
     "text": [
      "(22445, 51)\n",
      "(11055, 51)\n",
      "(16500, 51)\n"
     ]
    }
   ],
   "source": [
    "print( xtrState.shape )\n",
    "print( xcvState.shape )\n",
    "print( xteState.shape )"
   ]
  },
  {
   "cell_type": "code",
   "execution_count": 25,
   "metadata": {},
   "outputs": [
    {
     "name": "stdout",
     "output_type": "stream",
     "text": [
      "['ak', 'al', 'ar', 'az', 'ca', 'co', 'ct', 'dc', 'de', 'fl', 'ga', 'hi', 'ia', 'id', 'il', 'in', 'ks', 'ky', 'la', 'ma', 'md', 'me', 'mi', 'mn', 'mo', 'ms', 'mt', 'nc', 'nd', 'ne', 'nh', 'nj', 'nm', 'nv', 'ny', 'oh', 'ok', 'or', 'pa', 'ri', 'sc', 'sd', 'tn', 'tx', 'ut', 'va', 'vt', 'wa', 'wi', 'wv', 'wy']\n"
     ]
    }
   ],
   "source": [
    "print( vectorizer.get_feature_names() )"
   ]
  },
  {
   "cell_type": "markdown",
   "metadata": {},
   "source": [
    "### Teacher Prefix"
   ]
  },
  {
   "cell_type": "code",
   "execution_count": 26,
   "metadata": {
    "collapsed": true
   },
   "outputs": [],
   "source": [
    "vectorizer = CountVectorizer( vocabulary = ['dr','mr','mrs','ms','teacher'] )\n",
    "\n",
    "vectorizer.fit( xtrain['teacher_prefix'].values )\n",
    "\n",
    "xtrPrefix = vectorizer.transform( xtrain['teacher_prefix'].values )\n",
    "xcvPrefix = vectorizer.transform( xcv['teacher_prefix'].values )\n",
    "xtePrefix = vectorizer.transform( xtest['teacher_prefix'].values )"
   ]
  },
  {
   "cell_type": "code",
   "execution_count": 27,
   "metadata": {},
   "outputs": [
    {
     "name": "stdout",
     "output_type": "stream",
     "text": [
      "(22445, 5)\n",
      "(11055, 5)\n",
      "(16500, 5)\n"
     ]
    }
   ],
   "source": [
    "print( xtrPrefix.shape )\n",
    "print( xcvPrefix.shape )\n",
    "print( xtePrefix.shape )"
   ]
  },
  {
   "cell_type": "code",
   "execution_count": 28,
   "metadata": {},
   "outputs": [
    {
     "name": "stdout",
     "output_type": "stream",
     "text": [
      "['dr', 'mr', 'mrs', 'ms', 'teacher']\n"
     ]
    }
   ],
   "source": [
    "print( vectorizer.get_feature_names() )"
   ]
  },
  {
   "cell_type": "markdown",
   "metadata": {},
   "source": [
    "### Category"
   ]
  },
  {
   "cell_type": "code",
   "execution_count": 29,
   "metadata": {},
   "outputs": [
    {
     "name": "stdout",
     "output_type": "stream",
     "text": [
      "(22445, 15)\n",
      "(11055, 15)\n",
      "(16500, 15)\n"
     ]
    }
   ],
   "source": [
    "vectCat = CountVectorizer()\n",
    "\n",
    "vectCat.fit( xtrain['clean_categories'].values )\n",
    "\n",
    "xtrCat = vectCat.transform( xtrain['clean_categories'].values )\n",
    "xcvCat = vectCat.transform( xcv['clean_categories'].values )\n",
    "xteCat = vectCat.transform( xtest['clean_categories'].values )\n",
    "\n",
    "print( xtrCat.shape )\n",
    "print( xcvCat.shape )\n",
    "print( xteCat.shape )"
   ]
  },
  {
   "cell_type": "code",
   "execution_count": 30,
   "metadata": {},
   "outputs": [
    {
     "name": "stdout",
     "output_type": "stream",
     "text": [
      "['appliedlearning', 'arts', 'care', 'civics', 'health', 'history', 'hunger', 'language', 'literacy', 'math', 'music', 'science', 'specialneeds', 'sports', 'warmth']\n"
     ]
    }
   ],
   "source": [
    "print( vectCat.get_feature_names() )"
   ]
  },
  {
   "cell_type": "markdown",
   "metadata": {},
   "source": [
    "### Sub Category"
   ]
  },
  {
   "cell_type": "code",
   "execution_count": 31,
   "metadata": {},
   "outputs": [
    {
     "name": "stdout",
     "output_type": "stream",
     "text": [
      "(22445, 37)\n",
      "(11055, 37)\n",
      "(16500, 37)\n"
     ]
    }
   ],
   "source": [
    "vectSubCat = CountVectorizer()\n",
    "\n",
    "vectSubCat.fit( xtrain['clean_subcategory'].values )\n",
    "\n",
    "xtrSubCat = vectSubCat.transform( xtrain['clean_subcategory'].values )\n",
    "xcvSubCat = vectSubCat.transform( xcv['clean_subcategory'].values )\n",
    "xteSubCat = vectSubCat.transform( xtest['clean_subcategory'].values )\n",
    "\n",
    "print( xtrSubCat.shape )\n",
    "print( xcvSubCat.shape )\n",
    "print( xteSubCat.shape )"
   ]
  },
  {
   "cell_type": "code",
   "execution_count": 32,
   "metadata": {},
   "outputs": [
    {
     "name": "stdout",
     "output_type": "stream",
     "text": [
      "['appliedsciences', 'care', 'careerprep', 'charactereducation', 'civics', 'college', 'communityservice', 'earlydevelopment', 'economics', 'environmentalscience', 'esl', 'extracurricular', 'financialliteracy', 'fitness', 'foreignlanguages', 'geography', 'government', 'gym', 'health', 'history', 'hunger', 'lifescience', 'literacy', 'literature', 'mathematics', 'music', 'nutritioneducation', 'other', 'parentinvolvement', 'performingarts', 'socialsciences', 'specialneeds', 'teamsports', 'visualarts', 'warmth', 'wellness', 'writing']\n"
     ]
    }
   ],
   "source": [
    "print( vectSubCat.get_feature_names() )"
   ]
  },
  {
   "cell_type": "code",
   "execution_count": null,
   "metadata": {
    "collapsed": true
   },
   "outputs": [],
   "source": []
  },
  {
   "cell_type": "markdown",
   "metadata": {},
   "source": [
    "### Project Grade Category"
   ]
  },
  {
   "cell_type": "code",
   "execution_count": 33,
   "metadata": {},
   "outputs": [
    {
     "name": "stdout",
     "output_type": "stream",
     "text": [
      "(22445, 8)\n",
      "(11055, 8)\n",
      "(16500, 8)\n"
     ]
    }
   ],
   "source": [
    "vectGCat = CountVectorizer()\n",
    "\n",
    "vectGCat.fit( xtrain['cleanProjectGradeCategory'].values )\n",
    "\n",
    "xtrGCat = vectGCat.transform( xtrain['cleanProjectGradeCategory'].values )\n",
    "xcvGCat = vectGCat.transform( xcv['cleanProjectGradeCategory'].values )\n",
    "xteGCat = vectGCat.transform( xtest['cleanProjectGradeCategory'].values )\n",
    "\n",
    "print( xtrGCat.shape )\n",
    "print( xcvGCat.shape )\n",
    "print( xteGCat.shape )"
   ]
  },
  {
   "cell_type": "code",
   "execution_count": null,
   "metadata": {
    "collapsed": true
   },
   "outputs": [],
   "source": []
  },
  {
   "cell_type": "code",
   "execution_count": null,
   "metadata": {
    "collapsed": true
   },
   "outputs": [],
   "source": []
  },
  {
   "cell_type": "markdown",
   "metadata": {},
   "source": [
    "### Price"
   ]
  },
  {
   "cell_type": "code",
   "execution_count": 34,
   "metadata": {
    "collapsed": true
   },
   "outputs": [],
   "source": [
    "from sklearn.preprocessing import Normalizer\n",
    "\n",
    "norm = Normalizer()\n",
    "\n",
    "# norm.fit( xtrain['price'].values ) # gives error : Expected 2D array, got 1D array instead\n",
    "norm.fit( xtrain['price'].values.reshape(-1,1) )\n",
    "\n",
    "xtrPrice = norm.transform( xtrain['price'].values.reshape(-1,1) )\n",
    "xcvPrice = norm.transform( xcv['price'].values.reshape(-1,1) )\n",
    "xtePrice = norm.transform( xtest['price'].values.reshape(-1,1) )"
   ]
  },
  {
   "cell_type": "code",
   "execution_count": 35,
   "metadata": {},
   "outputs": [
    {
     "name": "stdout",
     "output_type": "stream",
     "text": [
      "(22445, 1)\n",
      "(11055, 1)\n",
      "(16500, 1)\n"
     ]
    }
   ],
   "source": [
    "print( xtrPrice.shape )\n",
    "print( xcvPrice.shape )\n",
    "print( xtePrice.shape )"
   ]
  },
  {
   "cell_type": "markdown",
   "metadata": {},
   "source": [
    "### Previously Posted projects"
   ]
  },
  {
   "cell_type": "code",
   "execution_count": 36,
   "metadata": {},
   "outputs": [
    {
     "name": "stdout",
     "output_type": "stream",
     "text": [
      "(22445, 1)\n",
      "(11055, 1)\n",
      "(16500, 1)\n"
     ]
    }
   ],
   "source": [
    "from sklearn.preprocessing import Normalizer\n",
    "\n",
    "norm = Normalizer()\n",
    "\n",
    "# norm.fit( xtrain['price'].values ) # gives error : Expected 2D array, got 1D array instead\n",
    "norm.fit( xtrain['teacher_number_of_previously_posted_projects'].values.reshape(-1,1) )\n",
    "\n",
    "xtrPrev = norm.transform( xtrain['teacher_number_of_previously_posted_projects'].values.reshape(-1,1) )\n",
    "xcvPrev = norm.transform( xcv['teacher_number_of_previously_posted_projects'].values.reshape(-1,1) )\n",
    "xtePrev = norm.transform( xtest['teacher_number_of_previously_posted_projects'].values.reshape(-1,1) )\n",
    "\n",
    "print( xtrPrev.shape )\n",
    "print( xcvPrev.shape )\n",
    "print( xtePrev.shape )"
   ]
  },
  {
   "cell_type": "markdown",
   "metadata": {},
   "source": [
    "### Quantity"
   ]
  },
  {
   "cell_type": "code",
   "execution_count": 37,
   "metadata": {},
   "outputs": [
    {
     "name": "stdout",
     "output_type": "stream",
     "text": [
      "(22445, 1)\n",
      "(11055, 1)\n",
      "(16500, 1)\n"
     ]
    }
   ],
   "source": [
    "from sklearn.preprocessing import Normalizer\n",
    "\n",
    "norm = Normalizer()\n",
    "\n",
    "# norm.fit( xtrain['price'].values ) # gives error : Expected 2D array, got 1D array instead\n",
    "norm.fit( xtrain['quantity'].values.reshape(-1,1) )\n",
    "\n",
    "xtrQuan = norm.transform( xtrain['quantity'].values.reshape(-1,1) )\n",
    "xcvQuan = norm.transform( xcv['quantity'].values.reshape(-1,1) )\n",
    "xteQuan = norm.transform( xtest['quantity'].values.reshape(-1,1) )\n",
    "\n",
    "print( xtrPrev.shape )\n",
    "print( xcvPrev.shape )\n",
    "print( xtePrev.shape )"
   ]
  },
  {
   "cell_type": "markdown",
   "metadata": {},
   "source": [
    "# Merging features"
   ]
  },
  {
   "cell_type": "markdown",
   "metadata": {},
   "source": [
    "### Set 1"
   ]
  },
  {
   "cell_type": "code",
   "execution_count": 77,
   "metadata": {},
   "outputs": [
    {
     "name": "stdout",
     "output_type": "stream",
     "text": [
      "(22445, 47968) (22445,)\n",
      "(11055, 47968) (11055,)\n",
      "(16500, 47968) (16500,)\n"
     ]
    }
   ],
   "source": [
    "from scipy.sparse import hstack\n",
    "\n",
    "xtr1 = hstack(( xtrEssayBOW, xtrTitleBOW, xtrState, xtrPrefix, xtrCat, xtrSubCat, xtrGCat, xtrPrice, xtrPrev, xtrQuan )).tocsr()\n",
    "xcv1 = hstack(( xcvEssayBOW, xcvTitleBOW, xcvState, xcvPrefix, xcvCat, xcvSubCat, xcvGCat, xcvPrice, xcvPrev, xcvQuan )).tocsr()\n",
    "xte1 = hstack(( xteEssayBOW, xteTitleBOW, xteState, xtePrefix, xteCat, xteSubCat, xteGCat, xtePrice, xtePrev, xteQuan )).tocsr()\n",
    "\n",
    "print( xtr1.shape, ytrain.shape )\n",
    "print( xcv1.shape, ycv.shape )\n",
    "print( xte1.shape, ytest.shape )"
   ]
  },
  {
   "cell_type": "code",
   "execution_count": null,
   "metadata": {
    "collapsed": true
   },
   "outputs": [],
   "source": []
  },
  {
   "cell_type": "markdown",
   "metadata": {},
   "source": [
    "### Set 2"
   ]
  },
  {
   "cell_type": "code",
   "execution_count": 78,
   "metadata": {},
   "outputs": [
    {
     "name": "stdout",
     "output_type": "stream",
     "text": [
      "(22445, 8413) (22445,)\n",
      "(11055, 8413) (11055,)\n",
      "(16500, 8413) (16500,)\n"
     ]
    }
   ],
   "source": [
    "from scipy.sparse import hstack\n",
    "\n",
    "xtr2 = hstack(( xtrEssayTFIDF, xtrTitleTFIDF, xtrState, xtrPrefix, xtrCat, xtrSubCat, xtrGCat, xtrPrice, xtrPrev, xtrQuan )).tocsr()\n",
    "xcv2 = hstack(( xcvEssayTFIDF, xcvTitleTFIDF, xcvState, xcvPrefix, xcvCat, xcvSubCat, xcvGCat, xcvPrice, xcvPrev, xcvQuan )).tocsr()\n",
    "xte2 = hstack(( xteEssayTFIDF, xteTitleTFIDF, xteState, xtePrefix, xteCat, xteSubCat, xteGCat, xtePrice, xtePrev, xteQuan )).tocsr()\n",
    "\n",
    "print( xtr2.shape, ytrain.shape )\n",
    "print( xcv2.shape, ycv.shape )\n",
    "print( xte2.shape, ytest.shape )"
   ]
  },
  {
   "cell_type": "markdown",
   "metadata": {},
   "source": [
    "### Set 3"
   ]
  },
  {
   "cell_type": "code",
   "execution_count": 79,
   "metadata": {},
   "outputs": [
    {
     "name": "stdout",
     "output_type": "stream",
     "text": [
      "(22445, 219) (22445,)\n",
      "(11055, 219) (11055,)\n",
      "(16500, 219) (16500,)\n"
     ]
    }
   ],
   "source": [
    "from scipy.sparse import hstack\n",
    "\n",
    "xtr3 = hstack(( xtrAW2V, xtrTitleAW2V, xtrState, xtrPrefix, xtrCat, xtrSubCat, xtrGCat, xtrPrice, xtrPrev, xtrQuan )).tocsr()\n",
    "xcv3 = hstack(( xcvAW2V, xcvTitleAW2V, xcvState, xcvPrefix, xcvCat, xcvSubCat, xcvGCat, xcvPrice, xcvPrev, xcvQuan )).tocsr()\n",
    "xte3 = hstack(( xteAW2V, xteTitleAW2V, xteState, xtePrefix, xteCat, xteSubCat, xteGCat, xtePrice, xtePrev, xteQuan )).tocsr()\n",
    "\n",
    "print( xtr3.shape, ytrain.shape )\n",
    "print( xcv3.shape, ycv.shape )\n",
    "print( xte3.shape, ytest.shape )"
   ]
  },
  {
   "cell_type": "markdown",
   "metadata": {},
   "source": [
    "### Set 4"
   ]
  },
  {
   "cell_type": "code",
   "execution_count": 80,
   "metadata": {},
   "outputs": [
    {
     "name": "stdout",
     "output_type": "stream",
     "text": [
      "(22445, 219) (22445,)\n",
      "(11055, 219) (11055,)\n",
      "(16500, 219) (16500,)\n"
     ]
    }
   ],
   "source": [
    "from scipy.sparse import hstack\n",
    "\n",
    "xtr4 = hstack(( xtrWW2V, xtrTitleWW2V, xtrState, xtrPrefix, xtrCat, xtrSubCat, xtrGCat, xtrPrice, xtrPrev, xtrQuan )).tocsr()\n",
    "xcv4 = hstack(( xcvWW2V, xcvTitleWW2V, xcvState, xcvPrefix, xcvCat, xcvSubCat, xcvGCat, xcvPrice, xcvPrev, xcvQuan )).tocsr()\n",
    "xte4 = hstack(( xteWW2V, xteTitleWW2V, xteState, xtePrefix, xteCat, xteSubCat, xteGCat, xtePrice, xtePrev, xteQuan )).tocsr()\n",
    "\n",
    "print( xtr4.shape, ytrain.shape )\n",
    "print( xcv4.shape, ycv.shape )\n",
    "print( xte4.shape, ytest.shape )"
   ]
  },
  {
   "cell_type": "markdown",
   "metadata": {
    "collapsed": true
   },
   "source": [
    "## Applying KNN"
   ]
  },
  {
   "cell_type": "code",
   "execution_count": 81,
   "metadata": {
    "collapsed": true
   },
   "outputs": [],
   "source": [
    "from sklearn.neighbors import KNeighborsClassifier\n",
    "from sklearn.model_selection import GridSearchCV\n",
    "from sklearn.metrics import roc_auc_score\n",
    "\n",
    "import matplotlib.pyplot as plt"
   ]
  },
  {
   "cell_type": "code",
   "execution_count": 82,
   "metadata": {
    "collapsed": true
   },
   "outputs": [],
   "source": [
    "def batchPredict( data, classifier ): # Predict the probablity of data points in batch i.e; some data points at once \n",
    "    \n",
    "    yPred = []\n",
    "    \n",
    "    loop = data.shape[0] - data.shape[0] % 1000   # data.shape[0] : no of rows in data matrix\n",
    "    # for ex data shape = 4489 then loop = 4489 - 4489%1000 = 4489 - 489 = 4000 \n",
    "    # Now we can divide our loop into 4 interval of 1000s and one remaining 489\n",
    "    # ie; 1-1000 in 1st iteration 1000-2000 in 2nd iteration 2000-3000 in 3rd 3000-4000 in 4th and 4000-4489 in the last iteraion\n",
    "    \n",
    "    for i in range( 0, loop, 1000 ):\n",
    "        # If loop = 4000 Computes proba for 0 - 4000 in 4 iterations\n",
    "       \n",
    "        yPred.extend( classifier.predict_proba( data[i : i+1000] )[ :, 1] ) # [ :, 1] : All row Only 1 col\n",
    "        # predict_proba : Return probability estimates for the test data X.\n",
    "\n",
    "    yPred.extend( classifier.predict_proba( data[ loop : ] )[ :, 1 ] )\n",
    "    # computes probab for remaining points\n",
    "\n",
    "    return yPred"
   ]
  },
  {
   "cell_type": "markdown",
   "metadata": {},
   "source": [
    "OR"
   ]
  },
  {
   "cell_type": "code",
   "execution_count": 83,
   "metadata": {
    "collapsed": true
   },
   "outputs": [],
   "source": [
    "def Predict( data, classifier ): # Predicts the probability of data points all at once\n",
    "    \n",
    "    yPred = []\n",
    "        \n",
    "    yPred.extend( classifier.predict_proba( data )[:, 1] )\n",
    "    \n",
    "    return yPred"
   ]
  },
  {
   "cell_type": "markdown",
   "metadata": {},
   "source": [
    "We can use Predict as well as batch Predict\n",
    "\n",
    "batchPredict() Predicts the data points in batches of 1000 whereas Predict() does it at once\n",
    "\n",
    "Use Batch Prediction when dealing with large dataset and in case of memory Limitation<br><br>"
   ]
  },
  {
   "cell_type": "raw",
   "metadata": {},
   "source": [
    "# Code for GridSearchCV()\n",
    "\n",
    "neigh = KNeighborsClassifier()\n",
    "\n",
    "parameters = { 'n_neighbors' : [ 5, 10, 25, 50, 100 ] } # n_neighbors = k i.e; the Hyperparameter here\n",
    "\n",
    "classifier = GridSearchCV( neigh, parameters, cv = 3, scoring = \"roc_auc\", n_jobs = -1 )\n",
    "# neigh : is the Estimator parameter for GridSearch \n",
    "# paramaters : Dictionary with parameters names (string) as keys\n",
    "# scoring : A single string or a callable to evaluate the predictions on the test set. \n",
    "# cv : No. of folds in cross validation.\n",
    "\n",
    "classifier.fit( xtr1, ytrain )"
   ]
  },
  {
   "cell_type": "raw",
   "metadata": {},
   "source": [
    "trainAUC = classifier.cv_results_['mean_train_score']\n",
    "# cv_results_ : is an attribute of GridSearchCV\n",
    "# cv_results_ : A dict with keys as column headers and values as columns\n",
    "# contains keys like mean_train_score, mean_test_score, std_train_score etc where the corresponding val is a numpy array\n",
    "\n",
    "trainAUCstd = classifier.cv_results_['std_train_score']\n",
    "\n",
    "cvAUC = classifier.cv_results_['mean_test_score']\n",
    "cvAUCstd = classifier.cv_results_['std_test_score']\n",
    "\n",
    "plt.close()\n",
    "plt.figure( figsize = ( 15, 5 ) )\n",
    "\n",
    "plt.plot( parameters['n_neighbors'], trainAUC, label = 'Train AUC' )\n",
    "\n",
    "plt.gca().fill_between( parameters['n_neighbors'], trainAUC - trainAUCstd, trainAUC + trainAUCstd, alpha=0.2, color='darkblue' )\n",
    "# plt.gca() : gca() Get Current Axis, Get the current Axes instance on the current figure matching the given keyword args\n",
    "# fill_between() : Fill the area between two horizontal curves.\n",
    "# fill_between(x, y1, y2=0, <more param> ) : This creates one or multiple polygons describing the filled area.\n",
    "# The curves are defined by the points (x, y1) and (x, y2)\n",
    "\n",
    "# x : array i.e; parameters['neighbors'] here\n",
    "# y1 : trainAUC - trainAUCstd,    y2 = cvAUC + cvAUCstd\n",
    "# alpha : Set the alpha tranparencies of the collection. alpha must be a float or None.\n",
    "\n",
    "plt.plot(parameters['n_neighbors'], cvAUC, label='CV AUC')\n",
    "\n",
    "plt.gca().fill_between( parameters['n_neighbors'], cvAUC - cvAUCstd, cvAUC + cvAUCstd, alpha=0.2, color='darkorange')\n",
    "\n",
    "\n",
    "\n",
    "plt.scatter( parameters['n_neighbors'], trainAUC, label='Train AUC points' )\n",
    "plt.scatter( parameters['n_neighbors'], cvAUC, label='CV AUC points' )\n",
    "\n",
    "\n",
    "plt.legend()\n",
    "plt.xlabel(\"K: hyperparameter\")\n",
    "plt.ylabel(\"AUC\")\n",
    "plt.title(\"Error Plots\")\n",
    "plt.grid()\n",
    "plt.show()"
   ]
  },
  {
   "cell_type": "markdown",
   "metadata": {},
   "source": [
    "## Opeartions on Set 1"
   ]
  },
  {
   "cell_type": "code",
   "execution_count": 84,
   "metadata": {},
   "outputs": [
    {
     "name": "stdout",
     "output_type": "stream",
     "text": [
      "      - First -           - Second -           - Third -           - Fourth -           - Fifth -           - Sixth -\n",
      "#################### #################### #################### #################### #################### #################### #################### "
     ]
    },
    {
     "data": {
      "image/png": "[encoded data removed]",
      "text/plain": [
       "<matplotlib.figure.Figure at 0x2d7d8b4d8d0>"
      ]
     },
     "metadata": {},
     "output_type": "display_data"
    }
   ],
   "source": [
    "trAUC = []\n",
    "cvAUC = []\n",
    "K = [ 5, 11, 15, 25, 35, 51, 101]\n",
    "\n",
    "print(' '*5,'- First -', ' '*9,'- Second -', ' '*9,'- Third -', ' '*9,'- Fourth -', ' '*9,'- Fifth -', ' '*9,'- Sixth -')\n",
    "\n",
    "for i in K:\n",
    "    \n",
    "    neigh = KNeighborsClassifier( n_neighbors = i )\n",
    "    neigh.fit(xtr1, ytrain)\n",
    "\n",
    "    ytrPred = batchPredict( xtr1, neigh )    \n",
    "    ycvPred = batchPredict( xcv1, neigh )\n",
    "\n",
    "    # roc_auc_score(y_true, y_score) the 2nd parameter should be probability estimates of the positive class\n",
    "    # not the predicted outputs \n",
    "    \n",
    "    trAUC.append( roc_auc_score( ytrain, ytrPred ))\n",
    "    cvAUC.append( roc_auc_score( ycv, ycvPred ))\n",
    "\n",
    "    print('#'*20, end =' ' )\n",
    "\n",
    "plt.figure( figsize = ( 15, 5 ) )\n",
    "    \n",
    "plt.plot( K, trAUC, label = 'Train AUC')\n",
    "plt.plot( K, cvAUC, label = 'CV AUC')\n",
    "\n",
    "plt.scatter( K, trAUC, label = 'Train AUC points')\n",
    "plt.scatter( K, cvAUC, label = 'CV AUC points')\n",
    "\n",
    "plt.legend()\n",
    "plt.xlabel(\"K: hyperparameter\")\n",
    "plt.ylabel(\"AUC\")\n",
    "plt.title(\"ERROR PLOTS\")\n",
    "plt.grid()\n",
    "plt.show()"
   ]
  },
  {
   "cell_type": "code",
   "execution_count": 85,
   "metadata": {
    "collapsed": true
   },
   "outputs": [],
   "source": [
    "# We choose K such that, we will have min gap between the train and CV AUC score and max AUC on CV data \n",
    "\n",
    "bestK = 101\n"
   ]
  },
  {
   "cell_type": "code",
   "execution_count": 86,
   "metadata": {},
   "outputs": [
    {
     "name": "stdout",
     "output_type": "stream",
     "text": [
      "[0.  0.5 0.5 1. ]\n",
      "[0.5 0.5 1.  1. ]\n",
      "[0.8  0.4  0.35 0.1 ]\n",
      "1\n",
      "0.4\n"
     ]
    }
   ],
   "source": [
    "## Understanding roc_curve()\n",
    "import numpy as np\n",
    "from sklearn import metrics\n",
    "\n",
    "y = np.array([0, 0, 1, 1])    # Actual Label\n",
    "scores = np.array([0.1, 0.4, 0.35, 0.8])  # Predicted Scores/ Probablistic Estimate\n",
    "\n",
    "fpr, tpr, thresholds = metrics.roc_curve(y, scores)\n",
    "# roc_curve() : Compute Receiver operating characteristic (ROC),\n",
    "# this implementation is restricted to the binary classification task.\n",
    "# If it isn't binary i.e; class labels are 1 and 2 there is a parameter called pos_label in roc_curve\n",
    "# pos_label : Label considered as positive and others are considered negative. pos_label=2 means 2 is +ve 1 is -ve\n",
    "# roc_curve( yTrue, yScore ) : yTrue = True Binary labels, yScore = Target values Probablistic estimate, confidence values etc\n",
    "# The func returns 3 arrays : fpr = false Positive rates, tpr = True Positive rates, Threshold \n",
    "\n",
    "print( fpr )\n",
    "print( tpr )\n",
    "print( thresholds )\n",
    "\n",
    "print( np.argmax( fpr*( 1 - tpr ) ) )   # argmax : Returns the indices of the maximum values along an axis.\n",
    "\n",
    "t = thresholds[ np.argmax( fpr*( 1 - tpr ) ) ] \n",
    "print(t)"
   ]
  },
  {
   "cell_type": "code",
   "execution_count": 87,
   "metadata": {},
   "outputs": [
    {
     "data": {
      "image/png": "[encoded data removed]",
      "text/plain": [
       "<matplotlib.figure.Figure at 0x2d7c46f5dd8>"
      ]
     },
     "metadata": {},
     "output_type": "display_data"
    }
   ],
   "source": [
    "from sklearn.metrics import roc_curve, auc\n",
    "\n",
    "neigh = KNeighborsClassifier( n_neighbors = bestK )\n",
    "neigh.fit( xtr1, ytrain )\n",
    "\n",
    "yTrainPred = batchPredict( xtr1, neigh )\n",
    "\n",
    "yTestPred = batchPredict( xte1, neigh )\n",
    "\n",
    "trFPR, trTPR, trThreshold = roc_curve( ytrain, yTrainPred ) # ytrain and YTrainPred must have same no. of points\n",
    "teFPR, teTPR, teThreshold = roc_curve( ytest, yTestPred )\n",
    "\n",
    "# roc_curve() : Compute Receiver operating characteristic (ROC),\n",
    "# this implementation is restricted to the binary classification task.\n",
    "# roc_curve( yTrue, yScore ) : yTrue = True Binary labels, yScore = Target values Probablistic estimate, confidence values etc\n",
    "# The func returns 3 arrays : fpr = false Positive rates, tpr = True Positive rates, Threshold \n",
    "\n",
    "plt.figure( figsize = (15, 5) )\n",
    "plt.plot( trFPR, trTPR, label=\"Train AUC = \" + str( auc( trFPR, trTPR ) ) )\n",
    "plt.plot( teFPR, teTPR, label=\"Test AUC = \" + str( auc( teFPR, teTPR ) ) )\n",
    "\n",
    "plt.legend()\n",
    "plt.xlabel(\"K: hyperparameter\")\n",
    "plt.ylabel(\"AUC\")\n",
    "plt.title(\"ERROR PLOTS\")\n",
    "plt.grid()\n",
    "plt.show()"
   ]
  },
  {
   "cell_type": "code",
   "execution_count": null,
   "metadata": {
    "collapsed": true
   },
   "outputs": [],
   "source": []
  },
  {
   "cell_type": "code",
   "execution_count": 88,
   "metadata": {},
   "outputs": [
    {
     "name": "stdout",
     "output_type": "stream",
     "text": [
      "[[2 0 0]\n",
      " [0 0 1]\n",
      " [1 0 2]]\n"
     ]
    }
   ],
   "source": [
    "# Understanding Confusion Matrix\n",
    "from sklearn.metrics import confusion_matrix\n",
    "\n",
    "ytrue = [2, 0, 2, 2, 0, 1]  # Three class ;abels : 0, 1, 2 i.e; we will get a 3x3 Confusion Matrix \n",
    "ypred = [0, 0, 2, 2, 0, 2]\n",
    "\n",
    "print( confusion_matrix( ytrue, ypred ) )\n",
    "\n",
    "# Let Xab be : Data point X is actually 'a' but is Predicted to be 'b' => X01 data point X is 0 predicted to be 1\n",
    "\n",
    "#            Actual->        0     1      2\n",
    "# Predicted->           0   X00   X10    X20        X20 : X is actually 2 but is predicted 0 i;e False Predicted\n",
    "#                       \n",
    "#                       1   X01   X11    X21        # X00, X11, X22 are the only data points that are correctly predicted\n",
    "#                       \n",
    "#                       2   X02   X12    X22       # Our model is good if the diagonal values are high"
   ]
  },
  {
   "cell_type": "code",
   "execution_count": null,
   "metadata": {
    "collapsed": true
   },
   "outputs": [],
   "source": []
  },
  {
   "cell_type": "code",
   "execution_count": 89,
   "metadata": {
    "collapsed": true
   },
   "outputs": [],
   "source": [
    "def predictCM( probab, threshold, fpr, tpr ):\n",
    "    \n",
    "    t = threshold[ np.argmax( fpr*( 1 - tpr ) ) ]  # returns the threshold val for the point with max fpr(1-tpr) value\n",
    "    # fpr*( 1 - tpr ) will be high if fpr is high and tpr is low, argmax : Returns the indices of the maximum val along an axis\n",
    "    \n",
    "    print(\" The maximum value of tpr*(1-fpr) = \", max( tpr*(1-fpr) ), \" for threshold = \", np.round(t,3))\n",
    "    \n",
    "    pred = []\n",
    "    for i in probab: # i = Probaility for all data points\n",
    "        if i >= t:   #  if Probablity of a point is >= the Threshold value i,e; Threshold at index of max val of fpr(1-tpr) \n",
    "            pred.append(1)\n",
    "        else:\n",
    "            pred.append(0)\n",
    "            \n",
    "    return pred"
   ]
  },
  {
   "cell_type": "code",
   "execution_count": 90,
   "metadata": {},
   "outputs": [
    {
     "name": "stdout",
     "output_type": "stream",
     "text": [
      "Confusion Matrix for Train 1 \n",
      " The maximum value of tpr*(1-fpr) =  0.37079284771904064  for threshold =  0.832\n",
      "[[ 2118  1345]\n",
      " [ 7474 11508]]\n"
     ]
    },
    {
     "data": {
      "image/png": "[encoded data removed]",
      "text/plain": [
       "<matplotlib.figure.Figure at 0x2d7fc5e9e80>"
      ]
     },
     "metadata": {},
     "output_type": "display_data"
    },
    {
     "name": "stdout",
     "output_type": "stream",
     "text": [
      "\n",
      "\n",
      "Confusion Matrix for Test 1 \n",
      " The maximum value of tpr*(1-fpr) =  0.3163350605136099  for threshold =  0.832\n",
      "[[1389 1157]\n",
      " [5863 8091]]\n"
     ]
    },
    {
     "data": {
      "image/png": "[encoded data removed]",
      "text/plain": [
       "<matplotlib.figure.Figure at 0x2d7fc811f28>"
      ]
     },
     "metadata": {},
     "output_type": "display_data"
    }
   ],
   "source": [
    "from sklearn.metrics import confusion_matrix\n",
    "import seaborn as sn\n",
    "\n",
    "\n",
    "print(\"Confusion Matrix for Train 1 \")\n",
    "predicted = predictCM( yTrainPred, trThreshold, trFPR, trTPR )\n",
    "\n",
    "cmtr = confusion_matrix( ytrain, predicted )\n",
    "print( cmtr  )\n",
    "\n",
    "plt.figure( figsize = (8,6) )\n",
    "sn.set( font_scale = 1.4 ) #for label size\n",
    "sn.heatmap( cmtr, fmt=\".1f\", annot = True, annot_kws={\"size\": 18}, cmap='Blues_r' )# font size\n",
    "plt.ylabel('True label', size=18)\n",
    "plt.xlabel('Predicted label', size=18)\n",
    "plt.show()\n",
    "plt.close()\n",
    "\n",
    "\n",
    "\n",
    "print(\"\\n\\nConfusion Matrix for Test 1 \")\n",
    "predicted = predictCM( yTestPred, teThreshold, teFPR, teTPR )\n",
    "\n",
    "cmte = confusion_matrix( ytest, predicted )\n",
    "print( cmte )\n",
    "\n",
    "plt.figure( figsize = (8,6) )\n",
    "sn.set( font_scale = 1.4 ) #for label size\n",
    "sn.heatmap( cmte, fmt=\".1f\", annot = True, annot_kws={\"size\": 18}, cmap='Blues_r' )# font size\n",
    "plt.ylabel('True label', size=18)\n",
    "plt.xlabel('Predicted label', size=18)\n",
    "plt.show()\n",
    "plt.close()\n",
    "\n"
   ]
  },
  {
   "cell_type": "code",
   "execution_count": null,
   "metadata": {
    "collapsed": true
   },
   "outputs": [],
   "source": []
  },
  {
   "cell_type": "code",
   "execution_count": 91,
   "metadata": {},
   "outputs": [
    {
     "data": {
      "text/plain": [
       "<module 'seaborn' from 'D:\\\\Anaconda\\\\lib\\\\site-packages\\\\seaborn\\\\__init__.py'>"
      ]
     },
     "execution_count": 91,
     "metadata": {},
     "output_type": "execute_result"
    }
   ],
   "source": [
    "import importlib\n",
    "importlib.reload(sn)"
   ]
  },
  {
   "cell_type": "markdown",
   "metadata": {},
   "source": [
    "## Creating functions for Code reusability"
   ]
  },
  {
   "cell_type": "markdown",
   "metadata": {},
   "source": [
    "### Function to Apply KNN on different K & finding best K using AUC "
   ]
  },
  {
   "cell_type": "code",
   "execution_count": 92,
   "metadata": {
    "collapsed": true
   },
   "outputs": [],
   "source": [
    "def batchPredict( data, classifier ): # Predict the probablity of data points in batch i.e; some data points at once \n",
    "    \n",
    "    yPred = []\n",
    "    \n",
    "    loop = data.shape[0] - data.shape[0] % 1000   # data.shape[0] : no of rows in data matrix\n",
    "    # for ex data shape = 4489 then loop = 4489 - 4489%1000 = 4489 - 489 = 4000 \n",
    "    # Now we can divide our loop into 4 interval of 1000s and one remaining 489\n",
    "    # ie; 1-1000 in 1st iteration 1000-2000 in 2nd iteration 2000-3000 in 3rd 3000-4000 in 4th and 4000-4489 in the last iteraion\n",
    "    \n",
    "    for i in range( 0, loop, 1000 ):\n",
    "        # If loop = 4000 Computes proba for 0 - 4000 in 4 iterations\n",
    "       \n",
    "        yPred.extend( classifier.predict_proba( data[i : i+1000] )[ :, 1] ) # [ :, 1] : All row Only 1 col\n",
    "        # predict_proba : Return probability estimates for the test data X.\n",
    "\n",
    "    yPred.extend( classifier.predict_proba( data[ loop : ] )[ :, 1 ] )\n",
    "    # computes probab for remaining points\n",
    "\n",
    "    return yPred"
   ]
  },
  {
   "cell_type": "code",
   "execution_count": 93,
   "metadata": {
    "collapsed": true
   },
   "outputs": [],
   "source": [
    "def BestK( xtr, xcv, ytr, ycv ):\n",
    "    \n",
    "    trAUC = []\n",
    "    cvAUC = []\n",
    "    K = [ 5, 11, 15, 25, 51, 101]\n",
    "\n",
    "    print(' '*5,'- First -', ' '*9,'- Second -', ' '*9,'- Third -', ' '*9,'- Fourth -', ' '*9,'- Fifth -', ' '*9,'- Sixth -')\n",
    "    for i in K :\n",
    "\n",
    "        neigh = KNeighborsClassifier( n_neighbors = i )\n",
    "        neigh.fit(xtr, ytr)\n",
    "\n",
    "        ytrPred = batchPredict( xtr, neigh )    \n",
    "        ycvPred = batchPredict( xcv, neigh )\n",
    "\n",
    "        # roc_auc_score(y_true, y_score) the 2nd parameter should be probability estimates of the positive class\n",
    "        # not the predicted outputs \n",
    "\n",
    "        trAUC.append( roc_auc_score( ytr, ytrPred ))\n",
    "        cvAUC.append( roc_auc_score( ycv, ycvPred ))\n",
    "        \n",
    "        print('#'*20, end =' ' )\n",
    "\n",
    "    plt.figure( figsize = ( 15, 5 ) )\n",
    "\n",
    "    plt.plot( K, trAUC, label = 'Train AUC')\n",
    "    plt.plot( K, cvAUC, label = 'CV AUC')\n",
    "\n",
    "    plt.scatter( K, trAUC, label = 'Train AUC points')\n",
    "    plt.scatter( K, cvAUC, label = 'CV AUC points')\n",
    "\n",
    "    plt.legend()\n",
    "    plt.xlabel(\"K: hyperparameter\")\n",
    "    plt.ylabel(\"AUC\")\n",
    "    plt.title(\"ERROR PLOTS\")\n",
    "    plt.grid()\n",
    "    plt.show()\n"
   ]
  },
  {
   "cell_type": "markdown",
   "metadata": {},
   "source": [
    "### <br>Function to convert Predicted Score to Binary and creating Confusion Matrix"
   ]
  },
  {
   "cell_type": "code",
   "execution_count": 94,
   "metadata": {
    "collapsed": true
   },
   "outputs": [],
   "source": [
    "def predictCM( probab, threshold, fpr, tpr ):\n",
    "    \n",
    "    t = threshold[ np.argmax( fpr*( 1 - tpr ) ) ]  # returns the threshold val for the point with max fpr(1-tpr) value\n",
    "    # fpr*( 1 - tpr ) will be high if fpr is high and tpr is low, argmax : Returns the indices of the maximum val along an axis\n",
    "    \n",
    "    print(\" The maximum value of tpr*(1-fpr) = \", max( tpr*(1-fpr) ), \" for threshold = \", np.round(t,3))\n",
    "    \n",
    "    pred = []\n",
    "    for i in probab: # i = Probability for all data points\n",
    "        if i >= t:   #  if Probablity of a point is >= the Threshold value i,e; Threshold at index of max val of fpr(1-tpr) \n",
    "            pred.append(1)\n",
    "        else:\n",
    "            pred.append(0)\n",
    "            \n",
    "    return pred"
   ]
  },
  {
   "cell_type": "code",
   "execution_count": 95,
   "metadata": {
    "collapsed": true
   },
   "outputs": [],
   "source": [
    "def cm( ytr, yte, yTrainPred, trThreshold, trFPR, trTPR, yTestPred, teThreshold, teFPR, teTPR, sno ):\n",
    "    \n",
    "    print(\"Confusion Matrix for Train of Set \", sno)\n",
    "    \n",
    "    predicted = predictCM( yTrainPred, trThreshold, trFPR, trTPR )\n",
    "    cmtr = confusion_matrix( ytr, predicted )\n",
    "    print( cmtr  )\n",
    "\n",
    "    plt.figure( figsize = (8,6) )\n",
    "    sn.set( font_scale = 1.4 ) #for label size\n",
    "    sn.heatmap( cmtr,fmt=\".1f\", annot = True, annot_kws={\"size\": 18}, cmap='Blues_r' )# font size\n",
    "    plt.ylabel('True label', size=18)\n",
    "    plt.xlabel('Predicted label', size=18)\n",
    "    plt.show()\n",
    "    plt.close()\n",
    "\n",
    "\n",
    "\n",
    "    print(\"\\n\\nConfusion Matrix for Test 1 \")\n",
    "    predicted = predictCM( yTestPred, teThreshold, teFPR, teTPR )\n",
    "\n",
    "    cmte = confusion_matrix( yte, predicted )\n",
    "    print( cmte )\n",
    "\n",
    "    plt.figure( figsize = (8,6) )\n",
    "    sn.set( font_scale = 1.4 ) #for label size\n",
    "    sn.heatmap( cmte,fmt=\".1f\", annot = True, annot_kws={\"size\": 18}, cmap='Blues_r' )# font size\n",
    "    plt.ylabel('True label', size=18)\n",
    "    plt.xlabel('Predicted label', size=18)\n",
    "    plt.show()\n",
    "    plt.close()\n",
    "    \n",
    "    importlib.reload(sn)"
   ]
  },
  {
   "cell_type": "markdown",
   "metadata": {},
   "source": [
    "### <br>Function to Predict probabilistic score and appling roc_curve()"
   ]
  },
  {
   "cell_type": "code",
   "execution_count": null,
   "metadata": {
    "collapsed": true
   },
   "outputs": [],
   "source": []
  },
  {
   "cell_type": "code",
   "execution_count": 96,
   "metadata": {
    "collapsed": true
   },
   "outputs": [],
   "source": [
    "def roc( xtr, xte, ytr, yte, bestK, sno ):\n",
    "    \n",
    "    neigh = KNeighborsClassifier( n_neighbors = bestK )\n",
    "    neigh.fit( xtr, ytr )\n",
    "\n",
    "    yTrainPred = batchPredict( xtr, neigh )    \n",
    "    yTestPred = batchPredict( xte, neigh )\n",
    "\n",
    "    trFPR, trTPR, trThreshold = roc_curve( ytr, yTrainPred ) # ytrain and YTrainPred must have same no. of points\n",
    "    teFPR, teTPR, teThreshold = roc_curve(yte, yTestPred )\n",
    "\n",
    "    # roc_curve() : Compute Receiver operating characteristic (ROC),\n",
    "    # this implementation is restricted to the binary classification task.\n",
    "    # roc_curve( yTrue, yScore ) : yTrue = True Binary labels, yScore = Target values Probablistic estimate, confidence values etc\n",
    "    # The func returns 3 arrays : fpr = false Positive rates, tpr = True Positive rates, Threshold \n",
    "\n",
    "    plt.figure( figsize = (15, 5) )\n",
    "    plt.plot( trFPR, trTPR, label=\"Train AUC = \" + str( auc( trFPR, trTPR ) ) )\n",
    "    plt.plot( teFPR, teTPR, label=\"Test AUC = \" + str( auc( teFPR, teTPR ) ) )\n",
    "\n",
    "    plt.legend()\n",
    "    plt.xlabel(\"K: hyperparameter\")\n",
    "    plt.ylabel(\"AUC\")\n",
    "    plt.title(\"ERROR PLOTS for Set \"+str(sno))\n",
    "    plt.grid()\n",
    "    plt.show()\n",
    "    \n",
    "    \n",
    "    cm( ytr, yte, yTrainPred, trThreshold, trFPR, trTPR, yTestPred, teThreshold, teFPR, teTPR, sno )"
   ]
  },
  {
   "cell_type": "code",
   "execution_count": null,
   "metadata": {
    "collapsed": true
   },
   "outputs": [],
   "source": []
  },
  {
   "cell_type": "markdown",
   "metadata": {},
   "source": [
    "# Operations on Set 2  TFIDF"
   ]
  },
  {
   "cell_type": "markdown",
   "metadata": {},
   "source": [
    "### Selecting Top 2K features from Set 2 "
   ]
  },
  {
   "cell_type": "code",
   "execution_count": 97,
   "metadata": {},
   "outputs": [
    {
     "name": "stdout",
     "output_type": "stream",
     "text": [
      "(22445, 8413)\n",
      "(22445, 2000)\n",
      "(11055, 8413)\n",
      "(11055, 2000)\n"
     ]
    },
    {
     "data": {
      "text/plain": [
       "(16500, 2000)"
      ]
     },
     "execution_count": 97,
     "metadata": {},
     "output_type": "execute_result"
    }
   ],
   "source": [
    "from sklearn.feature_selection import SelectKBest, chi2\n",
    "\n",
    "# Select features according to the k highest scores.\n",
    "\n",
    "topFeatures = SelectKBest( score_func = chi2, k = 2000 )\n",
    "# score_func : Score func which is applied to a pair of features X and label Y, It returns an array of scores 1 for each feature\n",
    "# then SelectKBest simply retains the first k features of dataset X with the highest scores.\n",
    "# k = no. of top features to be retained\n",
    "# chi2 : compute the chi2 statistic between each feature of X and Y a small val means the feature is independant of Y \n",
    "\n",
    "topFeatures.fit( xtr2, ytrain )  \n",
    "\n",
    "xtr2Top2k = topFeatures.transform( xtr2 )\n",
    "print( xtr2.shape )\n",
    "print( xtr2Top2k.shape )\n",
    "\n",
    "xcv2Top2k = topFeatures.transform( xcv2 ) \n",
    "\n",
    "print( xcv2.shape )\n",
    "print( xcv2Top2k.shape )\n",
    "\n",
    "xte2Top2k = topFeatures.transform( xte2 )\n",
    "\n",
    "xte2Top2k.shape"
   ]
  },
  {
   "cell_type": "code",
   "execution_count": null,
   "metadata": {
    "collapsed": true
   },
   "outputs": [],
   "source": []
  },
  {
   "cell_type": "markdown",
   "metadata": {},
   "source": [
    "### Finding best k & plotting roc_curve() & creating confusion_matrix"
   ]
  },
  {
   "cell_type": "code",
   "execution_count": null,
   "metadata": {
    "collapsed": true
   },
   "outputs": [],
   "source": []
  },
  {
   "cell_type": "code",
   "execution_count": 98,
   "metadata": {},
   "outputs": [
    {
     "name": "stdout",
     "output_type": "stream",
     "text": [
      "      - First -           - Second -           - Third -           - Fourth -           - Fifth -           - Sixth -\n",
      "#################### #################### #################### #################### #################### #################### "
     ]
    },
    {
     "data": {
      "image/png": "[encoded data removed]",
      "text/plain": [
       "<matplotlib.figure.Figure at 0x2d7fc857358>"
      ]
     },
     "metadata": {},
     "output_type": "display_data"
    }
   ],
   "source": [
    "BestK( xtr2Top2k, xcv2Top2k, ytrain, ycv )\n",
    "# BestK( xtr, xcv, ytr, ycv )"
   ]
  },
  {
   "cell_type": "code",
   "execution_count": 101,
   "metadata": {},
   "outputs": [
    {
     "data": {
      "image/png": "[encoded data removed]",
      "text/plain": [
       "<matplotlib.figure.Figure at 0x2d7d8b4d8d0>"
      ]
     },
     "metadata": {},
     "output_type": "display_data"
    },
    {
     "name": "stdout",
     "output_type": "stream",
     "text": [
      "Confusion Matrix for Train of Set  2\n",
      " The maximum value of tpr*(1-fpr) =  0.33559248631460303  for threshold =  0.842\n",
      "[[ 1861  1602]\n",
      " [ 7158 11824]]\n"
     ]
    },
    {
     "data": {
      "image/png": "[encoded data removed]",
      "text/plain": [
       "<matplotlib.figure.Figure at 0x2d7fd5066a0>"
      ]
     },
     "metadata": {},
     "output_type": "display_data"
    },
    {
     "name": "stdout",
     "output_type": "stream",
     "text": [
      "\n",
      "\n",
      "Confusion Matrix for Test 1 \n",
      " The maximum value of tpr*(1-fpr) =  0.28661179516897684  for threshold =  0.851\n",
      "[[1396 1150]\n",
      " [6660 7294]]\n"
     ]
    },
    {
     "data": {
      "image/png": "[encoded data removed]",
      "text/plain": [
       "<matplotlib.figure.Figure at 0x2d7fd5b9f98>"
      ]
     },
     "metadata": {},
     "output_type": "display_data"
    }
   ],
   "source": [
    "bestK = 101\n",
    "\n",
    "roc( xtr2Top2k, xte2Top2k, ytrain, ytest, bestK, 2 )"
   ]
  },
  {
   "cell_type": "markdown",
   "metadata": {
    "collapsed": true
   },
   "source": [
    "print(' '*5, '- First -', ' '*9, '- Second -', ' '*9, '- Third -', ' '*9, '- Fourth -', ' '*9, '- Fifth -', ' '*9, '- Sixth -')\n",
    "for i in range(0,6):\n",
    "    print('#'*20, end =' ' )\n"
   ]
  },
  {
   "cell_type": "markdown",
   "metadata": {},
   "source": [
    "# Operations on set 3 Avg w2v"
   ]
  },
  {
   "cell_type": "code",
   "execution_count": 99,
   "metadata": {},
   "outputs": [
    {
     "name": "stdout",
     "output_type": "stream",
     "text": [
      "      - First -           - Second -           - Third -           - Fourth -           - Fifth -           - Sixth -\n",
      "#################### #################### #################### #################### #################### #################### "
     ]
    },
    {
     "data": {
      "image/png": "[encoded data removed]",
      "text/plain": [
       "<matplotlib.figure.Figure at 0x2d7fc7d39e8>"
      ]
     },
     "metadata": {},
     "output_type": "display_data"
    }
   ],
   "source": [
    "BestK( xtr3, xcv3, ytrain, ycv )"
   ]
  },
  {
   "cell_type": "code",
   "execution_count": 102,
   "metadata": {},
   "outputs": [
    {
     "data": {
      "image/png": "[encoded data removed]",
      "text/plain": [
       "<matplotlib.figure.Figure at 0x2d7ec3ccba8>"
      ]
     },
     "metadata": {},
     "output_type": "display_data"
    },
    {
     "name": "stdout",
     "output_type": "stream",
     "text": [
      "Confusion Matrix for Train of Set  3\n",
      " The maximum value of tpr*(1-fpr) =  0.3663190438968687  for threshold =  0.857\n",
      "[[ 2030  1433]\n",
      " [ 7120 11862]]\n"
     ]
    },
    {
     "data": {
      "image/png": "[encoded data removed]",
      "text/plain": [
       "<matplotlib.figure.Figure at 0x2d806e366a0>"
      ]
     },
     "metadata": {},
     "output_type": "display_data"
    },
    {
     "name": "stdout",
     "output_type": "stream",
     "text": [
      "\n",
      "\n",
      "Confusion Matrix for Test 1 \n",
      " The maximum value of tpr*(1-fpr) =  0.29579042169867753  for threshold =  0.857\n",
      "[[1376 1170]\n",
      " [6317 7637]]\n"
     ]
    },
    {
     "data": {
      "image/png": "[encoded data removed]",
      "text/plain": [
       "<matplotlib.figure.Figure at 0x2d806ea9080>"
      ]
     },
     "metadata": {},
     "output_type": "display_data"
    }
   ],
   "source": [
    "bestK = 91\n",
    "\n",
    "roc( xtr3, xte3, ytrain, ytest, bestK, 3 )"
   ]
  },
  {
   "cell_type": "code",
   "execution_count": null,
   "metadata": {
    "collapsed": true
   },
   "outputs": [],
   "source": []
  },
  {
   "cell_type": "markdown",
   "metadata": {},
   "source": [
    "# Operations on set 4 Weighted w2v"
   ]
  },
  {
   "cell_type": "code",
   "execution_count": 100,
   "metadata": {},
   "outputs": [
    {
     "name": "stdout",
     "output_type": "stream",
     "text": [
      "      - First -           - Second -           - Third -           - Fourth -           - Fifth -           - Sixth -\n",
      "#################### #################### #################### #################### #################### #################### "
     ]
    },
    {
     "data": {
      "image/png": "[encoded data removed]",
      "text/plain": [
       "<matplotlib.figure.Figure at 0x2d7d841ada0>"
      ]
     },
     "metadata": {},
     "output_type": "display_data"
    }
   ],
   "source": [
    "BestK( xtr4, xcv4, ytrain, ycv )"
   ]
  },
  {
   "cell_type": "code",
   "execution_count": 103,
   "metadata": {},
   "outputs": [
    {
     "data": {
      "image/png": "[encoded data removed]",
      "text/plain": [
       "<matplotlib.figure.Figure at 0x2d7ec3cc5f8>"
      ]
     },
     "metadata": {},
     "output_type": "display_data"
    },
    {
     "name": "stdout",
     "output_type": "stream",
     "text": [
      "Confusion Matrix for Train of Set  4\n",
      " The maximum value of tpr*(1-fpr) =  0.3760163929333725  for threshold =  0.855\n",
      "[[ 2048  1415]\n",
      " [ 6913 12069]]\n"
     ]
    },
    {
     "data": {
      "image/png": "[encoded data removed]",
      "text/plain": [
       "<matplotlib.figure.Figure at 0x2d806ef3748>"
      ]
     },
     "metadata": {},
     "output_type": "display_data"
    },
    {
     "name": "stdout",
     "output_type": "stream",
     "text": [
      "\n",
      "\n",
      "Confusion Matrix for Test 1 \n",
      " The maximum value of tpr*(1-fpr) =  0.3043867286531518  for threshold =  0.843\n",
      "[[1301 1245]\n",
      " [5642 8312]]\n"
     ]
    },
    {
     "data": {
      "image/png": "[encoded data removed]",
      "text/plain": [
       "<matplotlib.figure.Figure at 0x2d8071b8438>"
      ]
     },
     "metadata": {},
     "output_type": "display_data"
    }
   ],
   "source": [
    "bestK = 83\n",
    "\n",
    "roc( xtr4, xte4, ytrain, ytest, bestK, 4 )"
   ]
  },
  {
   "cell_type": "code",
   "execution_count": null,
   "metadata": {
    "collapsed": true
   },
   "outputs": [],
   "source": []
  },
  {
   "cell_type": "code",
   "execution_count": null,
   "metadata": {
    "collapsed": true
   },
   "outputs": [],
   "source": []
  },
  {
   "cell_type": "code",
   "execution_count": 104,
   "metadata": {},
   "outputs": [
    {
     "name": "stdout",
     "output_type": "stream",
     "text": [
      "+--------------+----------+-------------+------------+\n",
      "|  Vectorizer  |  Best K  |  Train AUC  |  Test AUC  |\n",
      "+--------------+----------+-------------+------------+\n",
      "|    B.O.W     |   101    |    0.6484   |   0.5900   |\n",
      "|    TFIDF     |   101    |    0.6124   |   0.5530   |\n",
      "|   Avg W2V    |    91    |    0.6441   |   0.5631   |\n",
      "|     WW2V     |    83    |    0.6580   |   0.5711   |\n",
      "+--------------+----------+-------------+------------+\n"
     ]
    }
   ],
   "source": [
    "from prettytable import PrettyTable\n",
    "    \n",
    "x = PrettyTable()\n",
    "\n",
    "\n",
    "x.field_names = [\" Vectorizer \", \" Best K \", \" Train AUC \", \" Test AUC \"]\n",
    "\n",
    "x.add_row( [ \" B.O.W \", \" 101 \", \" 0.6484 \", \" 0.5900 \" ] ) \n",
    "x.add_row( [ \" TFIDF \", \" 101 \", \" 0.6124 \", \" 0.5530 \" ] )\n",
    "x.add_row( [ \" Avg W2V \", \" 91 \", \" 0.6441 \", \" 0.5631 \" ] )\n",
    "x.add_row( [ \" WW2V \", \" 83 \", \" 0.6580 \", \" 0.5711 \" ] )\n",
    "\n",
    "print( x )\n",
    "\n",
    "# Ref : http://zetcode.com/python/prettytable/"
   ]
  },
  {
   "cell_type": "markdown",
   "metadata": {
    "collapsed": true
   },
   "source": [
    "## Conclusions"
   ]
  },
  {
   "cell_type": "markdown",
   "metadata": {},
   "source": [
    "\n",
    "Weighted Word to Vec approach gives the best result in Train AUC \n",
    "\n",
    "Out of all the other approaches B.O.W. approach has the highest Test AUC"
   ]
  },
  {
   "cell_type": "code",
   "execution_count": null,
   "metadata": {
    "collapsed": true
   },
   "outputs": [],
   "source": []
  }
 ],
 "metadata": {
  "kernelspec": {
   "display_name": "Python 3",
   "language": "python",
   "name": "python3"
  },
  "language_info": {
   "codemirror_mode": {
    "name": "ipython",
    "version": 3
   },
   "file_extension": ".py",
   "mimetype": "text/x-python",
   "name": "python",
   "nbconvert_exporter": "python",
   "pygments_lexer": "ipython3",
   "version": "3.6.3"
  }
 },
 "nbformat": 4,
 "nbformat_minor": 2
}
