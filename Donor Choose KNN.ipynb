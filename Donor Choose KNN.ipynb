{
 "cells": [
  {
   "cell_type": "markdown",
   "metadata": {
    "collapsed": true
   },
   "source": [
    "# Donor Choose : KNN"
   ]
  },
  {
   "cell_type": "code",
   "execution_count": 1,
   "metadata": {
    "collapsed": true
   },
   "outputs": [],
   "source": [
    "import os\n",
    "\n",
    "os.chdir('E:\\Datasets\\DonorChoose')"
   ]
  },
  {
   "cell_type": "code",
   "execution_count": 2,
   "metadata": {
    "collapsed": true
   },
   "outputs": [],
   "source": [
    "import pandas as pd"
   ]
  },
  {
   "cell_type": "code",
   "execution_count": 3,
   "metadata": {},
   "outputs": [
    {
     "data": {
      "text/html": [
       "<div>\n",
       "<style>\n",
       "    .dataframe thead tr:only-child th {\n",
       "        text-align: right;\n",
       "    }\n",
       "\n",
       "    .dataframe thead th {\n",
       "        text-align: left;\n",
       "    }\n",
       "\n",
       "    .dataframe tbody tr th {\n",
       "        vertical-align: top;\n",
       "    }\n",
       "</style>\n",
       "<table border=\"1\" class=\"dataframe\">\n",
       "  <thead>\n",
       "    <tr style=\"text-align: right;\">\n",
       "      <th></th>\n",
       "      <th>teacher_prefix</th>\n",
       "      <th>school_state</th>\n",
       "      <th>project_title</th>\n",
       "      <th>project_resource_summary</th>\n",
       "      <th>teacher_number_of_previously_posted_projects</th>\n",
       "      <th>project_is_approved</th>\n",
       "      <th>clean_categories</th>\n",
       "      <th>clean_subcategory</th>\n",
       "      <th>price</th>\n",
       "      <th>quantity</th>\n",
       "      <th>cleanEssay</th>\n",
       "    </tr>\n",
       "  </thead>\n",
       "  <tbody>\n",
       "    <tr>\n",
       "      <th>0</th>\n",
       "      <td>Mrs.</td>\n",
       "      <td>IN</td>\n",
       "      <td>Educational Support for English Learners at Home</td>\n",
       "      <td>My students need opportunities to practice beg...</td>\n",
       "      <td>0</td>\n",
       "      <td>0</td>\n",
       "      <td>Literacy-Language</td>\n",
       "      <td>ESL Literacy</td>\n",
       "      <td>154.6</td>\n",
       "      <td>23</td>\n",
       "      <td>students english learners working english seco...</td>\n",
       "    </tr>\n",
       "    <tr>\n",
       "      <th>1</th>\n",
       "      <td>Mr.</td>\n",
       "      <td>FL</td>\n",
       "      <td>Wanted: Projector for Hungry Learners</td>\n",
       "      <td>My students need a projector to help with view...</td>\n",
       "      <td>7</td>\n",
       "      <td>1</td>\n",
       "      <td>History-Civics Health-Sports</td>\n",
       "      <td>Civics-Government TeamSports</td>\n",
       "      <td>299.0</td>\n",
       "      <td>1</td>\n",
       "      <td>students arrive school eager learn polite gene...</td>\n",
       "    </tr>\n",
       "  </tbody>\n",
       "</table>\n",
       "</div>"
      ],
      "text/plain": [
       "  teacher_prefix school_state  \\\n",
       "0           Mrs.           IN   \n",
       "1            Mr.           FL   \n",
       "\n",
       "                                      project_title  \\\n",
       "0  Educational Support for English Learners at Home   \n",
       "1             Wanted: Projector for Hungry Learners   \n",
       "\n",
       "                            project_resource_summary  \\\n",
       "0  My students need opportunities to practice beg...   \n",
       "1  My students need a projector to help with view...   \n",
       "\n",
       "   teacher_number_of_previously_posted_projects  project_is_approved  \\\n",
       "0                                             0                    0   \n",
       "1                                             7                    1   \n",
       "\n",
       "               clean_categories             clean_subcategory  price  \\\n",
       "0             Literacy-Language                  ESL Literacy  154.6   \n",
       "1  History-Civics Health-Sports  Civics-Government TeamSports  299.0   \n",
       "\n",
       "   quantity                                         cleanEssay  \n",
       "0        23  students english learners working english seco...  \n",
       "1         1  students arrive school eager learn polite gene...  "
      ]
     },
     "execution_count": 3,
     "metadata": {},
     "output_type": "execute_result"
    }
   ],
   "source": [
    "donor = pd.read_csv('cleandonor2.csv')\n",
    "\n",
    "donor.head(2)\n",
    "# We removed the redundant features that were taking up space and created a new .csv file"
   ]
  },
  {
   "cell_type": "markdown",
   "metadata": {},
   "source": [
    "### Removing Stop Words from title"
   ]
  },
  {
   "cell_type": "code",
   "execution_count": 4,
   "metadata": {
    "collapsed": true
   },
   "outputs": [],
   "source": [
    "# We are removing the words from the stop words list: 'no', 'nor', 'not'\n",
    "stopwords= ['i', 'me', 'my', 'myself', 'we', 'our', 'ours', 'ourselves', 'you', \"you're\", \"you've\",\\\n",
    "            \"you'll\", \"you'd\", 'your', 'yours', 'yourself', 'yourselves', 'he', 'him', 'his', 'himself', \\\n",
    "            'she', \"she's\", 'her', 'hers', 'herself', 'it', \"it's\", 'its', 'itself', 'they', 'them', 'their',\\\n",
    "            'theirs', 'themselves', 'what', 'which', 'who', 'whom', 'this', 'that', \"that'll\", 'these', 'those', \\\n",
    "            'am', 'is', 'are', 'was', 'were', 'be', 'been', 'being', 'have', 'has', 'had', 'having', 'do', 'does', \\\n",
    "            'did', 'doing', 'a', 'an', 'the', 'and', 'but', 'if', 'or', 'because', 'as', 'until', 'while', 'of', \\\n",
    "            'at', 'by', 'for', 'with', 'about', 'against', 'between', 'into', 'through', 'during', 'before', 'after',\\\n",
    "            'above', 'below', 'to', 'from', 'up', 'down', 'in', 'out', 'on', 'off', 'over', 'under', 'again', 'further',\\\n",
    "            'then', 'once', 'here', 'there', 'when', 'where', 'why', 'how', 'all', 'any', 'both', 'each', 'few', 'more',\\\n",
    "            'most', 'other', 'some', 'such', 'only', 'own', 'same', 'so', 'than', 'too', 'very', \\\n",
    "            's', 't', 'can', 'will', 'just', 'don', \"don't\", 'should', \"should've\", 'now', 'd', 'll', 'm', 'o', 're', \\\n",
    "            've', 'y', 'ain', 'aren', \"aren't\", 'couldn', \"couldn't\", 'didn', \"didn't\", 'doesn', \"doesn't\", 'hadn',\\\n",
    "            \"hadn't\", 'hasn', \"hasn't\", 'haven', \"haven't\", 'isn', \"isn't\", 'ma', 'mightn', \"mightn't\", 'mustn',\\\n",
    "            \"mustn't\", 'needn', \"needn't\", 'shan', \"shan't\", 'shouldn', \"shouldn't\", 'wasn', \"wasn't\", 'weren', \"weren't\", \\\n",
    "            'won', \"won't\", 'wouldn', \"wouldn't\"]"
   ]
  },
  {
   "cell_type": "code",
   "execution_count": null,
   "metadata": {
    "collapsed": true
   },
   "outputs": [],
   "source": []
  },
  {
   "cell_type": "code",
   "execution_count": 5,
   "metadata": {},
   "outputs": [
    {
     "name": "stderr",
     "output_type": "stream",
     "text": [
      "100%|███████████████████████████████████████████████████████████████████████| 109248/109248 [00:02<00:00, 53170.83it/s]\n"
     ]
    }
   ],
   "source": [
    "from tqdm import tqdm\n",
    "ftitle = [] \n",
    "\n",
    "for sen in tqdm( donor['project_title'].values ): \n",
    "    strY = \" \"\n",
    "\n",
    "    for w in sen.lower().split():\n",
    "        if w not in stopwords:\n",
    "            strY = strY + w + \" \"\n",
    "\n",
    "    ftitle.append( strY.strip() )"
   ]
  },
  {
   "cell_type": "code",
   "execution_count": 6,
   "metadata": {
    "collapsed": true
   },
   "outputs": [],
   "source": [
    "donor.drop(['project_title'], axis=1, inplace=True)\n",
    "donor['cleanTitle'] = ftitle"
   ]
  },
  {
   "cell_type": "code",
   "execution_count": 7,
   "metadata": {},
   "outputs": [
    {
     "data": {
      "text/html": [
       "<div>\n",
       "<style>\n",
       "    .dataframe thead tr:only-child th {\n",
       "        text-align: right;\n",
       "    }\n",
       "\n",
       "    .dataframe thead th {\n",
       "        text-align: left;\n",
       "    }\n",
       "\n",
       "    .dataframe tbody tr th {\n",
       "        vertical-align: top;\n",
       "    }\n",
       "</style>\n",
       "<table border=\"1\" class=\"dataframe\">\n",
       "  <thead>\n",
       "    <tr style=\"text-align: right;\">\n",
       "      <th></th>\n",
       "      <th>teacher_prefix</th>\n",
       "      <th>school_state</th>\n",
       "      <th>project_resource_summary</th>\n",
       "      <th>teacher_number_of_previously_posted_projects</th>\n",
       "      <th>project_is_approved</th>\n",
       "      <th>clean_categories</th>\n",
       "      <th>clean_subcategory</th>\n",
       "      <th>price</th>\n",
       "      <th>quantity</th>\n",
       "      <th>cleanEssay</th>\n",
       "      <th>cleanTitle</th>\n",
       "    </tr>\n",
       "  </thead>\n",
       "  <tbody>\n",
       "    <tr>\n",
       "      <th>0</th>\n",
       "      <td>Mrs.</td>\n",
       "      <td>IN</td>\n",
       "      <td>My students need opportunities to practice beg...</td>\n",
       "      <td>0</td>\n",
       "      <td>0</td>\n",
       "      <td>Literacy-Language</td>\n",
       "      <td>ESL Literacy</td>\n",
       "      <td>154.6</td>\n",
       "      <td>23</td>\n",
       "      <td>students english learners working english seco...</td>\n",
       "      <td>educational support english learners home</td>\n",
       "    </tr>\n",
       "    <tr>\n",
       "      <th>1</th>\n",
       "      <td>Mr.</td>\n",
       "      <td>FL</td>\n",
       "      <td>My students need a projector to help with view...</td>\n",
       "      <td>7</td>\n",
       "      <td>1</td>\n",
       "      <td>History-Civics Health-Sports</td>\n",
       "      <td>Civics-Government TeamSports</td>\n",
       "      <td>299.0</td>\n",
       "      <td>1</td>\n",
       "      <td>students arrive school eager learn polite gene...</td>\n",
       "      <td>wanted: projector hungry learners</td>\n",
       "    </tr>\n",
       "  </tbody>\n",
       "</table>\n",
       "</div>"
      ],
      "text/plain": [
       "  teacher_prefix school_state  \\\n",
       "0           Mrs.           IN   \n",
       "1            Mr.           FL   \n",
       "\n",
       "                            project_resource_summary  \\\n",
       "0  My students need opportunities to practice beg...   \n",
       "1  My students need a projector to help with view...   \n",
       "\n",
       "   teacher_number_of_previously_posted_projects  project_is_approved  \\\n",
       "0                                             0                    0   \n",
       "1                                             7                    1   \n",
       "\n",
       "               clean_categories             clean_subcategory  price  \\\n",
       "0             Literacy-Language                  ESL Literacy  154.6   \n",
       "1  History-Civics Health-Sports  Civics-Government TeamSports  299.0   \n",
       "\n",
       "   quantity                                         cleanEssay  \\\n",
       "0        23  students english learners working english seco...   \n",
       "1         1  students arrive school eager learn polite gene...   \n",
       "\n",
       "                                  cleanTitle  \n",
       "0  educational support english learners home  \n",
       "1          wanted: projector hungry learners  "
      ]
     },
     "execution_count": 7,
     "metadata": {},
     "output_type": "execute_result"
    }
   ],
   "source": [
    "donor.head(2)"
   ]
  },
  {
   "cell_type": "code",
   "execution_count": 8,
   "metadata": {},
   "outputs": [
    {
     "data": {
      "text/plain": [
       "(109248, 11)"
      ]
     },
     "execution_count": 8,
     "metadata": {},
     "output_type": "execute_result"
    }
   ],
   "source": [
    "donor.shape"
   ]
  },
  {
   "cell_type": "markdown",
   "metadata": {},
   "source": [
    "### Handling NAN values in Teacher Prefix"
   ]
  },
  {
   "cell_type": "code",
   "execution_count": 9,
   "metadata": {},
   "outputs": [
    {
     "data": {
      "text/html": [
       "<div>\n",
       "<style>\n",
       "    .dataframe thead tr:only-child th {\n",
       "        text-align: right;\n",
       "    }\n",
       "\n",
       "    .dataframe thead th {\n",
       "        text-align: left;\n",
       "    }\n",
       "\n",
       "    .dataframe tbody tr th {\n",
       "        vertical-align: top;\n",
       "    }\n",
       "</style>\n",
       "<table border=\"1\" class=\"dataframe\">\n",
       "  <thead>\n",
       "    <tr style=\"text-align: right;\">\n",
       "      <th></th>\n",
       "      <th>teacher_prefix</th>\n",
       "      <th>school_state</th>\n",
       "      <th>project_resource_summary</th>\n",
       "      <th>teacher_number_of_previously_posted_projects</th>\n",
       "      <th>project_is_approved</th>\n",
       "      <th>clean_categories</th>\n",
       "      <th>clean_subcategory</th>\n",
       "      <th>price</th>\n",
       "      <th>quantity</th>\n",
       "      <th>cleanEssay</th>\n",
       "      <th>cleanTitle</th>\n",
       "    </tr>\n",
       "  </thead>\n",
       "  <tbody>\n",
       "    <tr>\n",
       "      <th>7820</th>\n",
       "      <td>NaN</td>\n",
       "      <td>CA</td>\n",
       "      <td>My students need a classroom laptop that is ju...</td>\n",
       "      <td>1</td>\n",
       "      <td>1</td>\n",
       "      <td>Literacy-Language Math-Science</td>\n",
       "      <td>Literature-Writing Mathematics</td>\n",
       "      <td>910.87</td>\n",
       "      <td>2</td>\n",
       "      <td>children anna yates elementary school expressi...</td>\n",
       "      <td>1:7 increasing tech decrease achievement gaps</td>\n",
       "    </tr>\n",
       "    <tr>\n",
       "      <th>30368</th>\n",
       "      <td>NaN</td>\n",
       "      <td>SC</td>\n",
       "      <td>My students need 5 iPads for STEM stations.</td>\n",
       "      <td>0</td>\n",
       "      <td>1</td>\n",
       "      <td>Literacy-Language</td>\n",
       "      <td>Literature-Writing</td>\n",
       "      <td>285.86</td>\n",
       "      <td>16</td>\n",
       "      <td>within next 20 years every job involve form te...</td>\n",
       "      <td>ipads stem stations</td>\n",
       "    </tr>\n",
       "    <tr>\n",
       "      <th>57654</th>\n",
       "      <td>NaN</td>\n",
       "      <td>PA</td>\n",
       "      <td>My students need a Smart Document Camera to en...</td>\n",
       "      <td>0</td>\n",
       "      <td>1</td>\n",
       "      <td>Literacy-Language Math-Science</td>\n",
       "      <td>Literacy Mathematics</td>\n",
       "      <td>145.29</td>\n",
       "      <td>2</td>\n",
       "      <td>students robertsdale elementary live low socio...</td>\n",
       "      <td>document camera</td>\n",
       "    </tr>\n",
       "  </tbody>\n",
       "</table>\n",
       "</div>"
      ],
      "text/plain": [
       "      teacher_prefix school_state  \\\n",
       "7820             NaN           CA   \n",
       "30368            NaN           SC   \n",
       "57654            NaN           PA   \n",
       "\n",
       "                                project_resource_summary  \\\n",
       "7820   My students need a classroom laptop that is ju...   \n",
       "30368        My students need 5 iPads for STEM stations.   \n",
       "57654  My students need a Smart Document Camera to en...   \n",
       "\n",
       "       teacher_number_of_previously_posted_projects  project_is_approved  \\\n",
       "7820                                              1                    1   \n",
       "30368                                             0                    1   \n",
       "57654                                             0                    1   \n",
       "\n",
       "                     clean_categories               clean_subcategory   price  \\\n",
       "7820   Literacy-Language Math-Science  Literature-Writing Mathematics  910.87   \n",
       "30368               Literacy-Language              Literature-Writing  285.86   \n",
       "57654  Literacy-Language Math-Science            Literacy Mathematics  145.29   \n",
       "\n",
       "       quantity                                         cleanEssay  \\\n",
       "7820          2  children anna yates elementary school expressi...   \n",
       "30368        16  within next 20 years every job involve form te...   \n",
       "57654         2  students robertsdale elementary live low socio...   \n",
       "\n",
       "                                          cleanTitle  \n",
       "7820   1:7 increasing tech decrease achievement gaps  \n",
       "30368                            ipads stem stations  \n",
       "57654                                document camera  "
      ]
     },
     "execution_count": 9,
     "metadata": {},
     "output_type": "execute_result"
    }
   ],
   "source": [
    "nan = donor[ donor['teacher_prefix'].isnull() ]\n",
    "nan"
   ]
  },
  {
   "cell_type": "code",
   "execution_count": 10,
   "metadata": {
    "collapsed": true
   },
   "outputs": [],
   "source": [
    "donor.iloc[7820, 0] = \"Missing\" \n",
    "donor.iloc[30368, 0] = \"Missing\" \n",
    "donor.iloc[57654, 0] = \"Missing\" "
   ]
  },
  {
   "cell_type": "code",
   "execution_count": 11,
   "metadata": {},
   "outputs": [
    {
     "data": {
      "text/html": [
       "<div>\n",
       "<style>\n",
       "    .dataframe thead tr:only-child th {\n",
       "        text-align: right;\n",
       "    }\n",
       "\n",
       "    .dataframe thead th {\n",
       "        text-align: left;\n",
       "    }\n",
       "\n",
       "    .dataframe tbody tr th {\n",
       "        vertical-align: top;\n",
       "    }\n",
       "</style>\n",
       "<table border=\"1\" class=\"dataframe\">\n",
       "  <thead>\n",
       "    <tr style=\"text-align: right;\">\n",
       "      <th></th>\n",
       "      <th>teacher_prefix</th>\n",
       "      <th>school_state</th>\n",
       "      <th>project_resource_summary</th>\n",
       "      <th>teacher_number_of_previously_posted_projects</th>\n",
       "      <th>project_is_approved</th>\n",
       "      <th>clean_categories</th>\n",
       "      <th>clean_subcategory</th>\n",
       "      <th>price</th>\n",
       "      <th>quantity</th>\n",
       "      <th>cleanEssay</th>\n",
       "      <th>cleanTitle</th>\n",
       "    </tr>\n",
       "  </thead>\n",
       "  <tbody>\n",
       "  </tbody>\n",
       "</table>\n",
       "</div>"
      ],
      "text/plain": [
       "Empty DataFrame\n",
       "Columns: [teacher_prefix, school_state, project_resource_summary, teacher_number_of_previously_posted_projects, project_is_approved, clean_categories, clean_subcategory, price, quantity, cleanEssay, cleanTitle]\n",
       "Index: []"
      ]
     },
     "execution_count": 11,
     "metadata": {},
     "output_type": "execute_result"
    }
   ],
   "source": [
    "nan = donor[ donor['teacher_prefix'].isnull() ]\n",
    "nan"
   ]
  },
  {
   "cell_type": "markdown",
   "metadata": {},
   "source": [
    "## Only considering 30k data points to avoid memory issues"
   ]
  },
  {
   "cell_type": "code",
   "execution_count": 12,
   "metadata": {
    "collapsed": true
   },
   "outputs": [],
   "source": [
    "donor = donor[0 : 30000]"
   ]
  },
  {
   "cell_type": "code",
   "execution_count": 13,
   "metadata": {},
   "outputs": [
    {
     "data": {
      "text/plain": [
       "(30000, 11)"
      ]
     },
     "execution_count": 13,
     "metadata": {},
     "output_type": "execute_result"
    }
   ],
   "source": [
    "donor.shape"
   ]
  },
  {
   "cell_type": "code",
   "execution_count": 14,
   "metadata": {},
   "outputs": [
    {
     "data": {
      "text/plain": [
       "30000"
      ]
     },
     "execution_count": 14,
     "metadata": {},
     "output_type": "execute_result"
    }
   ],
   "source": [
    "Y = donor['project_is_approved']\n",
    "\n",
    "len( Y )  # Y = label i.e; Project is approved ( 0 or 1 )"
   ]
  },
  {
   "cell_type": "code",
   "execution_count": 15,
   "metadata": {
    "collapsed": true
   },
   "outputs": [],
   "source": [
    "donor.drop( 'project_is_approved', axis=1, inplace=True )"
   ]
  },
  {
   "cell_type": "code",
   "execution_count": 16,
   "metadata": {},
   "outputs": [
    {
     "data": {
      "text/plain": [
       "(30000, 10)"
      ]
     },
     "execution_count": 16,
     "metadata": {},
     "output_type": "execute_result"
    }
   ],
   "source": [
    "donor.shape"
   ]
  },
  {
   "cell_type": "code",
   "execution_count": 17,
   "metadata": {
    "collapsed": true
   },
   "outputs": [],
   "source": [
    "X = donor  # X = our features "
   ]
  },
  {
   "cell_type": "code",
   "execution_count": 18,
   "metadata": {},
   "outputs": [
    {
     "data": {
      "text/html": [
       "<div>\n",
       "<style>\n",
       "    .dataframe thead tr:only-child th {\n",
       "        text-align: right;\n",
       "    }\n",
       "\n",
       "    .dataframe thead th {\n",
       "        text-align: left;\n",
       "    }\n",
       "\n",
       "    .dataframe tbody tr th {\n",
       "        vertical-align: top;\n",
       "    }\n",
       "</style>\n",
       "<table border=\"1\" class=\"dataframe\">\n",
       "  <thead>\n",
       "    <tr style=\"text-align: right;\">\n",
       "      <th></th>\n",
       "      <th>teacher_prefix</th>\n",
       "      <th>school_state</th>\n",
       "      <th>project_resource_summary</th>\n",
       "      <th>teacher_number_of_previously_posted_projects</th>\n",
       "      <th>clean_categories</th>\n",
       "      <th>clean_subcategory</th>\n",
       "      <th>price</th>\n",
       "      <th>quantity</th>\n",
       "      <th>cleanEssay</th>\n",
       "      <th>cleanTitle</th>\n",
       "    </tr>\n",
       "  </thead>\n",
       "  <tbody>\n",
       "    <tr>\n",
       "      <th>0</th>\n",
       "      <td>Mrs.</td>\n",
       "      <td>IN</td>\n",
       "      <td>My students need opportunities to practice beg...</td>\n",
       "      <td>0</td>\n",
       "      <td>Literacy-Language</td>\n",
       "      <td>ESL Literacy</td>\n",
       "      <td>154.6</td>\n",
       "      <td>23</td>\n",
       "      <td>students english learners working english seco...</td>\n",
       "      <td>educational support english learners home</td>\n",
       "    </tr>\n",
       "    <tr>\n",
       "      <th>1</th>\n",
       "      <td>Mr.</td>\n",
       "      <td>FL</td>\n",
       "      <td>My students need a projector to help with view...</td>\n",
       "      <td>7</td>\n",
       "      <td>History-Civics Health-Sports</td>\n",
       "      <td>Civics-Government TeamSports</td>\n",
       "      <td>299.0</td>\n",
       "      <td>1</td>\n",
       "      <td>students arrive school eager learn polite gene...</td>\n",
       "      <td>wanted: projector hungry learners</td>\n",
       "    </tr>\n",
       "  </tbody>\n",
       "</table>\n",
       "</div>"
      ],
      "text/plain": [
       "  teacher_prefix school_state  \\\n",
       "0           Mrs.           IN   \n",
       "1            Mr.           FL   \n",
       "\n",
       "                            project_resource_summary  \\\n",
       "0  My students need opportunities to practice beg...   \n",
       "1  My students need a projector to help with view...   \n",
       "\n",
       "   teacher_number_of_previously_posted_projects              clean_categories  \\\n",
       "0                                             0             Literacy-Language   \n",
       "1                                             7  History-Civics Health-Sports   \n",
       "\n",
       "              clean_subcategory  price  quantity  \\\n",
       "0                  ESL Literacy  154.6        23   \n",
       "1  Civics-Government TeamSports  299.0         1   \n",
       "\n",
       "                                          cleanEssay  \\\n",
       "0  students english learners working english seco...   \n",
       "1  students arrive school eager learn polite gene...   \n",
       "\n",
       "                                  cleanTitle  \n",
       "0  educational support english learners home  \n",
       "1          wanted: projector hungry learners  "
      ]
     },
     "execution_count": 18,
     "metadata": {},
     "output_type": "execute_result"
    }
   ],
   "source": [
    "X.head(2)"
   ]
  },
  {
   "cell_type": "markdown",
   "metadata": {
    "collapsed": true
   },
   "source": [
    "## Splitting Data"
   ]
  },
  {
   "cell_type": "code",
   "execution_count": 19,
   "metadata": {
    "collapsed": true
   },
   "outputs": [],
   "source": [
    "from sklearn.model_selection import train_test_split\n",
    "\n",
    "xtrain, xtest, ytrain, ytest = train_test_split( X, Y, test_size = 0.33, stratify = Y) # Spliting into Test and Train\n",
    "\n",
    "# stratify : we need to pass array containing class label as an argument to stratify\n",
    "\n",
    "xtrain, xcv, ytrain, ycv = train_test_split( xtrain, ytrain, test_size = 0.33, stratify = ytrain )"
   ]
  },
  {
   "cell_type": "code",
   "execution_count": 20,
   "metadata": {},
   "outputs": [
    {
     "name": "stdout",
     "output_type": "stream",
     "text": [
      "(13467, 10)\n",
      "(6633, 10)\n",
      "(9900, 10)\n",
      "(13467,)\n",
      "(6633,)\n",
      "(9900,)\n"
     ]
    }
   ],
   "source": [
    "print( xtrain.shape )\n",
    "print( xcv.shape )\n",
    "print( xtest.shape )\n",
    "\n",
    "print( ytrain.shape )\n",
    "print( ycv.shape )\n",
    "print( ytest.shape )"
   ]
  },
  {
   "cell_type": "code",
   "execution_count": 21,
   "metadata": {},
   "outputs": [
    {
     "data": {
      "text/html": [
       "<div>\n",
       "<style>\n",
       "    .dataframe thead tr:only-child th {\n",
       "        text-align: right;\n",
       "    }\n",
       "\n",
       "    .dataframe thead th {\n",
       "        text-align: left;\n",
       "    }\n",
       "\n",
       "    .dataframe tbody tr th {\n",
       "        vertical-align: top;\n",
       "    }\n",
       "</style>\n",
       "<table border=\"1\" class=\"dataframe\">\n",
       "  <thead>\n",
       "    <tr style=\"text-align: right;\">\n",
       "      <th></th>\n",
       "      <th>teacher_prefix</th>\n",
       "      <th>school_state</th>\n",
       "      <th>project_resource_summary</th>\n",
       "      <th>teacher_number_of_previously_posted_projects</th>\n",
       "      <th>clean_categories</th>\n",
       "      <th>clean_subcategory</th>\n",
       "      <th>price</th>\n",
       "      <th>quantity</th>\n",
       "      <th>cleanEssay</th>\n",
       "      <th>cleanTitle</th>\n",
       "    </tr>\n",
       "  </thead>\n",
       "  <tbody>\n",
       "    <tr>\n",
       "      <th>5567</th>\n",
       "      <td>Ms.</td>\n",
       "      <td>OH</td>\n",
       "      <td>My students need snacks for breakfast, lunch, ...</td>\n",
       "      <td>0</td>\n",
       "      <td>SpecialNeeds</td>\n",
       "      <td>SpecialNeeds</td>\n",
       "      <td>267.78</td>\n",
       "      <td>11</td>\n",
       "      <td>special needs students high need supplies work...</td>\n",
       "      <td>brain snacks</td>\n",
       "    </tr>\n",
       "    <tr>\n",
       "      <th>1808</th>\n",
       "      <td>Mrs.</td>\n",
       "      <td>TN</td>\n",
       "      <td>My students need STEM station kits.  These kit...</td>\n",
       "      <td>36</td>\n",
       "      <td>Math-Science</td>\n",
       "      <td>Mathematics</td>\n",
       "      <td>433.05</td>\n",
       "      <td>2</td>\n",
       "      <td>help us stem way success kindergarten time imm...</td>\n",
       "      <td>help us stem learning!</td>\n",
       "    </tr>\n",
       "  </tbody>\n",
       "</table>\n",
       "</div>"
      ],
      "text/plain": [
       "     teacher_prefix school_state  \\\n",
       "5567            Ms.           OH   \n",
       "1808           Mrs.           TN   \n",
       "\n",
       "                               project_resource_summary  \\\n",
       "5567  My students need snacks for breakfast, lunch, ...   \n",
       "1808  My students need STEM station kits.  These kit...   \n",
       "\n",
       "      teacher_number_of_previously_posted_projects clean_categories  \\\n",
       "5567                                             0     SpecialNeeds   \n",
       "1808                                            36     Math-Science   \n",
       "\n",
       "     clean_subcategory   price  quantity  \\\n",
       "5567      SpecialNeeds  267.78        11   \n",
       "1808       Mathematics  433.05         2   \n",
       "\n",
       "                                             cleanEssay  \\\n",
       "5567  special needs students high need supplies work...   \n",
       "1808  help us stem way success kindergarten time imm...   \n",
       "\n",
       "                  cleanTitle  \n",
       "5567            brain snacks  \n",
       "1808  help us stem learning!  "
      ]
     },
     "execution_count": 21,
     "metadata": {},
     "output_type": "execute_result"
    }
   ],
   "source": [
    "xtrain.head(2)"
   ]
  },
  {
   "cell_type": "markdown",
   "metadata": {},
   "source": [
    "# Creating Data Matrix"
   ]
  },
  {
   "cell_type": "markdown",
   "metadata": {},
   "source": [
    "### Essay BOW"
   ]
  },
  {
   "cell_type": "code",
   "execution_count": 22,
   "metadata": {
    "collapsed": true
   },
   "outputs": [],
   "source": [
    "from sklearn.feature_extraction.text import CountVectorizer\n",
    "\n",
    "vect = CountVectorizer( min_df = 10, ngram_range=(1,4) )\n",
    "# ngram_range : The lower and upper boundary of the range of n-values for different n-grams to be extracted.\n",
    "\n",
    "vect.fit( xtrain['cleanEssay'].values )\n",
    "# vect.fit( text ): Means that internally it is only learning the vocabulary of `Text` i.e. unique n-grams\n",
    "\n",
    "# THE VOCABULARY SHOULD BUILT ONLY WITH THE WORDS OF TRAIN DATA\n",
    "\n",
    "xtrEssayBOW = vect.transform( xtrain['cleanEssay'].values ) \n",
    "xcvEssayBOW = vect.transform( xcv['cleanEssay'].values ) \n",
    "xteEssayBOW = vect.transform( xtest['cleanEssay'].values )"
   ]
  },
  {
   "cell_type": "code",
   "execution_count": 23,
   "metadata": {},
   "outputs": [
    {
     "name": "stdout",
     "output_type": "stream",
     "text": [
      "(13467, 37810)\n",
      "(6633, 37810)\n",
      "(9900, 37810)\n"
     ]
    }
   ],
   "source": [
    "print( xtrEssayBOW.shape )\n",
    "print( xcvEssayBOW.shape )\n",
    "print( xteEssayBOW.shape )"
   ]
  },
  {
   "cell_type": "code",
   "execution_count": 24,
   "metadata": {},
   "outputs": [
    {
     "data": {
      "text/plain": [
       "<13467x37810 sparse matrix of type '<class 'numpy.int64'>'\n",
       "\twith 2344605 stored elements in Compressed Sparse Row format>"
      ]
     },
     "execution_count": 24,
     "metadata": {},
     "output_type": "execute_result"
    }
   ],
   "source": [
    "xtrEssayBOW"
   ]
  },
  {
   "cell_type": "markdown",
   "metadata": {},
   "source": [
    "### Project title BOW"
   ]
  },
  {
   "cell_type": "code",
   "execution_count": 25,
   "metadata": {},
   "outputs": [
    {
     "name": "stdout",
     "output_type": "stream",
     "text": [
      "(13467, 1051)\n",
      "(6633, 1051)\n",
      "(9900, 1051)\n"
     ]
    }
   ],
   "source": [
    "from sklearn.feature_extraction.text import CountVectorizer\n",
    "\n",
    "vect = CountVectorizer( min_df = 10, ngram_range = (1,4) )\n",
    "\n",
    "vect.fit( xtrain['cleanTitle'].values )\n",
    "\n",
    "xtrTitleBOW = vect.transform( xtrain['cleanTitle'].values )\n",
    "xcvTitleBOW = vect.transform( xcv['cleanTitle'].values )\n",
    "xteTitleBOW = vect.transform( xtest['cleanTitle'].values )\n",
    "\n",
    "print( xtrTitleBOW.shape )\n",
    "print( xcvTitleBOW.shape )\n",
    "print( xteTitleBOW.shape )"
   ]
  },
  {
   "cell_type": "markdown",
   "metadata": {
    "collapsed": true
   },
   "source": [
    "### Essay TFIDF"
   ]
  },
  {
   "cell_type": "code",
   "execution_count": 26,
   "metadata": {},
   "outputs": [
    {
     "name": "stdout",
     "output_type": "stream",
     "text": [
      "(13467, 7029)\n",
      "(6633, 7029)\n",
      "(9900, 7029)\n"
     ]
    }
   ],
   "source": [
    "from sklearn.feature_extraction.text import TfidfVectorizer\n",
    "from sklearn.feature_extraction.text import TfidfTransformer\n",
    "\n",
    "tfidfvect = TfidfVectorizer( min_df = 10 )\n",
    "tfidfvect.fit( xtrain['cleanEssay'].values )\n",
    "\n",
    "xtrEssayTFIDF = tfidfvect.transform( xtrain['cleanEssay'].values )\n",
    "xcvEssayTFIDF = tfidfvect.transform( xcv['cleanEssay'].values )\n",
    "xteEssayTFIDF = tfidfvect.transform( xtest['cleanEssay'].values )\n",
    "\n",
    "print( xtrEssayTFIDF.shape )\n",
    "print( xcvEssayTFIDF.shape )\n",
    "print( xteEssayTFIDF.shape )"
   ]
  },
  {
   "cell_type": "markdown",
   "metadata": {
    "collapsed": true
   },
   "source": [
    "### Essay Word2Vec"
   ]
  },
  {
   "cell_type": "code",
   "execution_count": 27,
   "metadata": {
    "collapsed": true
   },
   "outputs": [],
   "source": [
    "# Function Creating a list that contains all the words in the data column\n",
    "\n",
    "def stow( data ):\n",
    "    sentence = []\n",
    "\n",
    "    for sen in tqdm( data.values ):\n",
    "        fsentence = []\n",
    "    \n",
    "        for w in sen.split():\n",
    "            for cw in w.split():\n",
    "            \n",
    "                if cw.isalpha():\n",
    "                    fsentence.append( cw.lower() )\n",
    "                else:\n",
    "                    continue\n",
    "        sentence.append( fsentence )\n",
    "    return sentence"
   ]
  },
  {
   "cell_type": "code",
   "execution_count": 28,
   "metadata": {},
   "outputs": [
    {
     "name": "stderr",
     "output_type": "stream",
     "text": [
      "100%|██████████████████████████████████████████████████████████████████████████| 13467/13467 [00:01<00:00, 9705.20it/s]\n"
     ]
    }
   ],
   "source": [
    "xtrw = stow( xtrain['cleanEssay'] ) # List of words for xtrain"
   ]
  },
  {
   "cell_type": "code",
   "execution_count": 29,
   "metadata": {},
   "outputs": [
    {
     "name": "stdout",
     "output_type": "stream",
     "text": [
      "13467\n"
     ]
    }
   ],
   "source": [
    "print( len( xtrw ) )\n",
    "\n",
    "import gensim\n",
    "\n",
    "xtrmodel = gensim.models.Word2Vec( xtrw, min_count = 5, size =50, workers = 4 )\n",
    "# min_count : If a word dosent apper more then the value assigned do't construct w2v for it\n",
    "# size: dimension of vector to be constructed  ( 100 - 300 most cases )\n",
    "# workers: If you hav a multi cores you can set it to 4 for performence"
   ]
  },
  {
   "cell_type": "code",
   "execution_count": 30,
   "metadata": {},
   "outputs": [
    {
     "data": {
      "text/plain": [
       "10013"
      ]
     },
     "execution_count": 30,
     "metadata": {},
     "output_type": "execute_result"
    }
   ],
   "source": [
    "xtrwords = list( xtrmodel.wv.vocab )\n",
    "len( xtrwords )"
   ]
  },
  {
   "cell_type": "code",
   "execution_count": 31,
   "metadata": {},
   "outputs": [
    {
     "name": "stderr",
     "output_type": "stream",
     "text": [
      "100%|███████████████████████████████████████████████████████████████████████████| 6633/6633 [00:00<00:00, 11855.19it/s]\n"
     ]
    },
    {
     "name": "stdout",
     "output_type": "stream",
     "text": [
      "6633\n"
     ]
    },
    {
     "data": {
      "text/plain": [
       "7441"
      ]
     },
     "execution_count": 31,
     "metadata": {},
     "output_type": "execute_result"
    }
   ],
   "source": [
    "# For Cross validation\n",
    "\n",
    "xcvw = stow( xcv['cleanEssay'] )\n",
    "\n",
    "print( len( xcvw ) )\n",
    "\n",
    "import gensim\n",
    "\n",
    "xcvmodel = gensim.models.Word2Vec( xcvw, min_count = 5, size =50, workers = 4 )\n",
    "\n",
    "xcvwords = list( xcvmodel.wv.vocab )\n",
    "len( xcvwords )"
   ]
  },
  {
   "cell_type": "code",
   "execution_count": 32,
   "metadata": {},
   "outputs": [
    {
     "name": "stderr",
     "output_type": "stream",
     "text": [
      "100%|███████████████████████████████████████████████████████████████████████████| 9900/9900 [00:00<00:00, 11076.32it/s]\n"
     ]
    },
    {
     "name": "stdout",
     "output_type": "stream",
     "text": [
      "9900\n"
     ]
    },
    {
     "data": {
      "text/plain": [
       "8862"
      ]
     },
     "execution_count": 32,
     "metadata": {},
     "output_type": "execute_result"
    }
   ],
   "source": [
    "# For Test\n",
    "\n",
    "xtew = stow( xtest['cleanEssay'] )\n",
    "\n",
    "print( len( xtew ) )\n",
    "\n",
    "import gensim\n",
    "\n",
    "xtemodel = gensim.models.Word2Vec( xtew, min_count = 5, size =50, workers = 4 )\n",
    "\n",
    "xtewords = list( xtemodel.wv.vocab )\n",
    "len( xtewords )"
   ]
  },
  {
   "cell_type": "markdown",
   "metadata": {},
   "source": [
    "### Essay Avg Word 2 Vec"
   ]
  },
  {
   "cell_type": "code",
   "execution_count": 33,
   "metadata": {
    "collapsed": true
   },
   "outputs": [],
   "source": [
    "import numpy as np\n",
    "\n",
    "\n",
    "def avgw2v( data, words, model ):\n",
    "    sentV = [] # average word 2 vec for each essay is stored in this\n",
    "\n",
    "    for sent in tqdm( data ):\n",
    "    \n",
    "        svec = np.zeros(50)  # creates a np array with 50 0's we took 50 here cause we took 50 as our size in Word2Vec model\n",
    "        cnw = 0\n",
    "    \n",
    "        for w in sent:\n",
    "            if w in words:\n",
    "                vec = model.wv[ w ]  # Computing word 2 vec\n",
    "                svec += vec     # Add it to the svec\n",
    "                cnw += 1\n",
    "            \n",
    "        if cnw != 0:        \n",
    "            svec /= cnw  # Averaging with the count of number of words with valid vector in the Essay\n",
    "        sentV.append( svec )\n",
    "    \n",
    "    return sentV"
   ]
  },
  {
   "cell_type": "code",
   "execution_count": 34,
   "metadata": {},
   "outputs": [
    {
     "name": "stderr",
     "output_type": "stream",
     "text": [
      "100%|███████████████████████████████████████████████████████████████████████████| 13467/13467 [01:27<00:00, 142.97it/s]\n"
     ]
    }
   ],
   "source": [
    "xtrAW2V = np.asarray( avgw2v( xtrw, xtrwords, xtrmodel ) )"
   ]
  },
  {
   "cell_type": "code",
   "execution_count": 35,
   "metadata": {},
   "outputs": [
    {
     "data": {
      "text/plain": [
       "array([ 1.06366025,  0.7290977 , -0.24385957, -0.67806055, -0.07830621,\n",
       "        0.35779306, -0.50996476,  0.24522405,  0.45867412,  0.10788751,\n",
       "       -0.49503898, -0.04192829,  0.50226089, -0.39514306, -0.38378569,\n",
       "       -0.6370759 , -0.54489195, -0.80532306,  0.81731869,  0.90831139,\n",
       "        0.24914087, -0.22633288, -0.22406234,  0.20649182,  0.19644526,\n",
       "        0.34599638, -0.4037781 ,  0.49821852,  0.28372414,  0.77013516,\n",
       "        0.70384943,  0.07098941,  0.29071842, -0.23406341,  0.60041102,\n",
       "        0.03949004, -0.13767749, -0.24316004,  0.15210738,  0.6418768 ,\n",
       "        0.64696533, -0.13532068, -0.50164849,  0.09989093, -0.48384338,\n",
       "        0.20149416, -0.04165731, -1.24596729,  0.07935168,  0.88661368])"
      ]
     },
     "execution_count": 35,
     "metadata": {},
     "output_type": "execute_result"
    }
   ],
   "source": [
    "xtrAW2V[20]"
   ]
  },
  {
   "cell_type": "code",
   "execution_count": 36,
   "metadata": {},
   "outputs": [
    {
     "name": "stderr",
     "output_type": "stream",
     "text": [
      "100%|█████████████████████████████████████████████████████████████████████████████| 6633/6633 [00:42<00:00, 156.42it/s]\n"
     ]
    }
   ],
   "source": [
    "xcvAW2V = np.asarray( avgw2v( xcvw, xcvwords, xcvmodel ) )"
   ]
  },
  {
   "cell_type": "code",
   "execution_count": 37,
   "metadata": {},
   "outputs": [
    {
     "data": {
      "text/plain": [
       "(6633, 50)"
      ]
     },
     "execution_count": 37,
     "metadata": {},
     "output_type": "execute_result"
    }
   ],
   "source": [
    "xcvAW2V.shape"
   ]
  },
  {
   "cell_type": "code",
   "execution_count": 38,
   "metadata": {},
   "outputs": [
    {
     "name": "stderr",
     "output_type": "stream",
     "text": [
      "100%|█████████████████████████████████████████████████████████████████████████████| 9900/9900 [00:49<00:00, 200.37it/s]\n"
     ]
    }
   ],
   "source": [
    "xteAW2V = np.asarray( avgw2v( xtew, xtewords, xtemodel ) )"
   ]
  },
  {
   "cell_type": "code",
   "execution_count": 39,
   "metadata": {},
   "outputs": [
    {
     "data": {
      "text/plain": [
       "(9900, 50)"
      ]
     },
     "execution_count": 39,
     "metadata": {},
     "output_type": "execute_result"
    }
   ],
   "source": [
    "xteAW2V.shape"
   ]
  },
  {
   "cell_type": "markdown",
   "metadata": {},
   "source": [
    "### Essay TFIDF WW2V"
   ]
  },
  {
   "cell_type": "code",
   "execution_count": 40,
   "metadata": {},
   "outputs": [
    {
     "name": "stdout",
     "output_type": "stream",
     "text": [
      "['carry', 'carrying', 'cars', 'cart', 'cartridge', 'cartridges', 'carts', 'case', 'caseload', 'cases', 'cash', 'cassette', 'cast', 'cat', 'catalog', 'catalyst', 'catch', 'catching', 'category', 'cater']\n"
     ]
    },
    {
     "data": {
      "text/plain": [
       "7029"
      ]
     },
     "execution_count": 40,
     "metadata": {},
     "output_type": "execute_result"
    }
   ],
   "source": [
    "print( tfidfvect.get_feature_names()[1000:1020] )\n",
    "len( tfidfvect.get_feature_names() )"
   ]
  },
  {
   "cell_type": "code",
   "execution_count": 41,
   "metadata": {
    "collapsed": true
   },
   "outputs": [],
   "source": [
    "essayFeatures = tfidfvect.get_feature_names()  # Tf idf words/ col names"
   ]
  },
  {
   "cell_type": "code",
   "execution_count": 42,
   "metadata": {
    "collapsed": true
   },
   "outputs": [],
   "source": [
    "def ww2v( data, model, TFIDF, feat = essayFeatures ):\n",
    "    \n",
    "    essayWw2v = []  # the Tfidf weighted w2v for each sentence is stored here\n",
    "    row = 0\n",
    "\n",
    "    for sent in tqdm( data ):\n",
    "        sv = np.zeros( 50 )  # as word vectors are of zero length\n",
    "        ws = 0  # ws : weight sum, num of words with a valid vector in the sentence/review\n",
    "\n",
    "        for w in sent:      \n",
    "\n",
    "            try:\n",
    "                vec = model.wv[ w ]\n",
    "                tfidf = TFIDF[ row, feat.index( w ) ]\n",
    "                # dicti[w] = idf value of word in whole courpus\n",
    "                # sent.count(w) = tf values of word in this review\n",
    "\n",
    "                sv += ( vec * tfidf )\n",
    "                ws += tfidf\n",
    "\n",
    "            except:\n",
    "                pass\n",
    "\n",
    "        if ws != 0:\n",
    "            sv /= ws\n",
    "        essayWw2v.append( sv )\n",
    "        row += 1\n",
    "\n",
    "    return essayWw2v"
   ]
  },
  {
   "cell_type": "code",
   "execution_count": 43,
   "metadata": {},
   "outputs": [
    {
     "name": "stderr",
     "output_type": "stream",
     "text": [
      "100%|████████████████████████████████████████████████████████████████████████████| 13467/13467 [04:30<00:00, 49.74it/s]\n"
     ]
    }
   ],
   "source": [
    "xtrWW2V = np.asarray( ww2v( xtrw, xtrmodel, xtrEssayTFIDF ) )"
   ]
  },
  {
   "cell_type": "code",
   "execution_count": 44,
   "metadata": {},
   "outputs": [
    {
     "data": {
      "text/plain": [
       "(13467, 50)"
      ]
     },
     "execution_count": 44,
     "metadata": {},
     "output_type": "execute_result"
    }
   ],
   "source": [
    "xtrWW2V.shape"
   ]
  },
  {
   "cell_type": "code",
   "execution_count": 45,
   "metadata": {},
   "outputs": [
    {
     "name": "stderr",
     "output_type": "stream",
     "text": [
      "100%|██████████████████████████████████████████████████████████████████████████████| 6633/6633 [03:25<00:00, 32.21it/s]\n"
     ]
    }
   ],
   "source": [
    "xcvWW2V = np.asarray( ww2v( xcvw, xcvmodel, xcvEssayTFIDF ) )"
   ]
  },
  {
   "cell_type": "code",
   "execution_count": 46,
   "metadata": {},
   "outputs": [
    {
     "name": "stderr",
     "output_type": "stream",
     "text": [
      "100%|██████████████████████████████████████████████████████████████████████████████| 9900/9900 [03:30<00:00, 46.98it/s]\n"
     ]
    }
   ],
   "source": [
    "xteWW2V = np.asarray( ww2v( xtew, xtemodel, xteEssayTFIDF ) )"
   ]
  },
  {
   "cell_type": "code",
   "execution_count": null,
   "metadata": {
    "collapsed": true
   },
   "outputs": [],
   "source": []
  },
  {
   "cell_type": "markdown",
   "metadata": {},
   "source": [
    "### Project Title TFIDF"
   ]
  },
  {
   "cell_type": "code",
   "execution_count": 47,
   "metadata": {},
   "outputs": [
    {
     "name": "stdout",
     "output_type": "stream",
     "text": [
      "(13467, 793)\n",
      "(6633, 793)\n",
      "(9900, 793)\n"
     ]
    }
   ],
   "source": [
    "from sklearn.feature_extraction.text import TfidfVectorizer\n",
    "from sklearn.feature_extraction.text import TfidfTransformer\n",
    "\n",
    "tfidfvect = TfidfVectorizer( min_df=10 )\n",
    "tfidfvect.fit( xtrain['cleanTitle'].values )\n",
    "\n",
    "xtrTitleTFIDF = tfidfvect.transform( xtrain['cleanTitle'].values )\n",
    "xcvTitleTFIDF = tfidfvect.transform( xcv['cleanTitle'].values )\n",
    "xteTitleTFIDF = tfidfvect.transform( xtest['cleanTitle'].values )\n",
    "\n",
    "print( xtrTitleTFIDF.shape )\n",
    "print( xcvTitleTFIDF.shape )\n",
    "print( xteTitleTFIDF.shape )"
   ]
  },
  {
   "cell_type": "markdown",
   "metadata": {},
   "source": [
    "### Title Word2 vec"
   ]
  },
  {
   "cell_type": "code",
   "execution_count": 48,
   "metadata": {},
   "outputs": [
    {
     "name": "stderr",
     "output_type": "stream",
     "text": [
      "100%|████████████████████████████████████████████████████████████████████████| 13467/13467 [00:00<00:00, 210985.00it/s]\n"
     ]
    },
    {
     "name": "stdout",
     "output_type": "stream",
     "text": [
      "13467\n"
     ]
    },
    {
     "data": {
      "text/plain": [
       "1180"
      ]
     },
     "execution_count": 48,
     "metadata": {},
     "output_type": "execute_result"
    }
   ],
   "source": [
    "# For Train\n",
    "\n",
    "xtrTitlew = stow( xtrain['cleanTitle'] )  # stow : is a defined by me that coverts a list of sentences to words\n",
    "\n",
    "print( len( xtrTitlew ) )\n",
    "\n",
    "import gensim\n",
    "\n",
    "xtrTitlemodel = gensim.models.Word2Vec( xtrTitlew, min_count = 5, size =50, workers = 4 )\n",
    "\n",
    "xtrTitlewords = list( xtrTitlemodel.wv.vocab )\n",
    "len( xtrTitlewords )"
   ]
  },
  {
   "cell_type": "code",
   "execution_count": 49,
   "metadata": {},
   "outputs": [
    {
     "name": "stderr",
     "output_type": "stream",
     "text": [
      "100%|██████████████████████████████████████████████████████████████████████████| 6633/6633 [00:00<00:00, 289197.70it/s]\n"
     ]
    },
    {
     "name": "stdout",
     "output_type": "stream",
     "text": [
      "6633\n"
     ]
    },
    {
     "data": {
      "text/plain": [
       "681"
      ]
     },
     "execution_count": 49,
     "metadata": {},
     "output_type": "execute_result"
    }
   ],
   "source": [
    "# For Cross Validation\n",
    "\n",
    "xcvTitlew = stow( xcv['cleanTitle'] )\n",
    "\n",
    "print( len( xcvTitlew ) )\n",
    "\n",
    "import gensim\n",
    "\n",
    "xcvTitlemodel = gensim.models.Word2Vec( xcvTitlew, min_count = 5, size =50, workers = 4 )\n",
    "\n",
    "xcvTitlewords = list( xcvTitlemodel.wv.vocab )\n",
    "len( xcvTitlewords )"
   ]
  },
  {
   "cell_type": "code",
   "execution_count": 50,
   "metadata": {},
   "outputs": [
    {
     "name": "stderr",
     "output_type": "stream",
     "text": [
      "100%|███████████████████████████████████████████████████████████████████████████| 9900/9900 [00:00<00:00, 43922.39it/s]\n"
     ]
    },
    {
     "name": "stdout",
     "output_type": "stream",
     "text": [
      "9900\n"
     ]
    },
    {
     "data": {
      "text/plain": [
       "933"
      ]
     },
     "execution_count": 50,
     "metadata": {},
     "output_type": "execute_result"
    }
   ],
   "source": [
    "# For Test\n",
    "\n",
    "xteTitlew = stow( xtest['cleanTitle'] )\n",
    "\n",
    "print( len( xteTitlew ) )\n",
    "\n",
    "import gensim\n",
    "\n",
    "xteTitlemodel = gensim.models.Word2Vec( xteTitlew, min_count = 5, size =50, workers = 4 )\n",
    "\n",
    "xteTitlewords = list( xteTitlemodel.wv.vocab )\n",
    "len( xteTitlewords )"
   ]
  },
  {
   "cell_type": "markdown",
   "metadata": {},
   "source": [
    "### Title Avg Word 2 vec"
   ]
  },
  {
   "cell_type": "code",
   "execution_count": 51,
   "metadata": {},
   "outputs": [
    {
     "name": "stderr",
     "output_type": "stream",
     "text": [
      "100%|█████████████████████████████████████████████████████████████████████████| 13467/13467 [00:00<00:00, 17824.89it/s]\n"
     ]
    }
   ],
   "source": [
    "# For Train\n",
    "\n",
    "xtrTitleAW2V = np.asarray( avgw2v( xtrTitlew, xtrTitlewords, xtrTitlemodel ) )"
   ]
  },
  {
   "cell_type": "code",
   "execution_count": 52,
   "metadata": {},
   "outputs": [
    {
     "data": {
      "text/plain": [
       "(13467, 50)"
      ]
     },
     "execution_count": 52,
     "metadata": {},
     "output_type": "execute_result"
    }
   ],
   "source": [
    "xtrTitleAW2V.shape"
   ]
  },
  {
   "cell_type": "code",
   "execution_count": 53,
   "metadata": {},
   "outputs": [
    {
     "name": "stderr",
     "output_type": "stream",
     "text": [
      "100%|███████████████████████████████████████████████████████████████████████████| 6633/6633 [00:00<00:00, 27593.15it/s]\n"
     ]
    }
   ],
   "source": [
    "# For Cross validation\n",
    "\n",
    "xcvTitleAW2V = np.asarray( avgw2v( xcvTitlew, xcvTitlewords, xcvTitlemodel ) )"
   ]
  },
  {
   "cell_type": "code",
   "execution_count": 54,
   "metadata": {},
   "outputs": [
    {
     "data": {
      "text/plain": [
       "(6633, 50)"
      ]
     },
     "execution_count": 54,
     "metadata": {},
     "output_type": "execute_result"
    }
   ],
   "source": [
    "xcvTitleAW2V.shape"
   ]
  },
  {
   "cell_type": "code",
   "execution_count": 55,
   "metadata": {},
   "outputs": [
    {
     "name": "stderr",
     "output_type": "stream",
     "text": [
      "100%|███████████████████████████████████████████████████████████████████████████| 9900/9900 [00:00<00:00, 27762.70it/s]\n"
     ]
    }
   ],
   "source": [
    "# For Test\n",
    "\n",
    "xteTitleAW2V = np.asarray( avgw2v( xteTitlew, xteTitlewords, xteTitlemodel ) )"
   ]
  },
  {
   "cell_type": "code",
   "execution_count": 56,
   "metadata": {},
   "outputs": [
    {
     "data": {
      "text/plain": [
       "(9900, 50)"
      ]
     },
     "execution_count": 56,
     "metadata": {},
     "output_type": "execute_result"
    }
   ],
   "source": [
    "xteTitleAW2V.shape"
   ]
  },
  {
   "cell_type": "code",
   "execution_count": null,
   "metadata": {
    "collapsed": true
   },
   "outputs": [],
   "source": []
  },
  {
   "cell_type": "markdown",
   "metadata": {},
   "source": [
    "### Title Weighted Word 2 vec"
   ]
  },
  {
   "cell_type": "code",
   "execution_count": 57,
   "metadata": {},
   "outputs": [
    {
     "name": "stdout",
     "output_type": "stream",
     "text": [
      "['16', '1st', '2016', '2017', '21st', '2nd', '3d', '3rd', '4th', '5th', 'academic', 'access', 'action', 'active', 'activities', 'activity', 'add', 'adding', 'adventure', 'adventures', 'again', 'age', 'ahead', 'air', 'algebra', 'alive', 'all', 'aloud', 'alouds', 'alternative']\n"
     ]
    },
    {
     "data": {
      "text/plain": [
       "793"
      ]
     },
     "execution_count": 57,
     "metadata": {},
     "output_type": "execute_result"
    }
   ],
   "source": [
    "print( tfidfvect.get_feature_names()[0:30] )\n",
    "len( tfidfvect.get_feature_names() )"
   ]
  },
  {
   "cell_type": "code",
   "execution_count": 58,
   "metadata": {
    "collapsed": true
   },
   "outputs": [],
   "source": [
    "titlefeatures = tfidfvect.get_feature_names()"
   ]
  },
  {
   "cell_type": "code",
   "execution_count": 59,
   "metadata": {},
   "outputs": [
    {
     "name": "stderr",
     "output_type": "stream",
     "text": [
      "100%|██████████████████████████████████████████████████████████████████████████| 13467/13467 [00:02<00:00, 6496.12it/s]\n"
     ]
    }
   ],
   "source": [
    "xtrTitleWW2V = np.asarray( ww2v( xtrTitlew, xtrTitlemodel, xtrTitleTFIDF, titlefeatures ) )"
   ]
  },
  {
   "cell_type": "code",
   "execution_count": 60,
   "metadata": {},
   "outputs": [
    {
     "data": {
      "text/plain": [
       "(13467, 50)"
      ]
     },
     "execution_count": 60,
     "metadata": {},
     "output_type": "execute_result"
    }
   ],
   "source": [
    "xtrTitleWW2V.shape"
   ]
  },
  {
   "cell_type": "code",
   "execution_count": 61,
   "metadata": {},
   "outputs": [
    {
     "name": "stderr",
     "output_type": "stream",
     "text": [
      "100%|████████████████████████████████████████████████████████████████████████████| 6633/6633 [00:00<00:00, 9004.83it/s]\n"
     ]
    }
   ],
   "source": [
    "xcvTitleWW2V = np.asarray( ww2v( xcvTitlew, xcvTitlemodel, xcvTitleTFIDF, titlefeatures ) )"
   ]
  },
  {
   "cell_type": "code",
   "execution_count": 62,
   "metadata": {},
   "outputs": [
    {
     "data": {
      "text/plain": [
       "(6633, 50)"
      ]
     },
     "execution_count": 62,
     "metadata": {},
     "output_type": "execute_result"
    }
   ],
   "source": [
    "xcvTitleWW2V.shape"
   ]
  },
  {
   "cell_type": "code",
   "execution_count": 63,
   "metadata": {},
   "outputs": [
    {
     "name": "stderr",
     "output_type": "stream",
     "text": [
      "100%|████████████████████████████████████████████████████████████████████████████| 9900/9900 [00:01<00:00, 6328.71it/s]\n"
     ]
    }
   ],
   "source": [
    "xteTitleWW2V = np.asarray( ww2v( xteTitlew, xteTitlemodel, xteTitleTFIDF, titlefeatures ) )"
   ]
  },
  {
   "cell_type": "code",
   "execution_count": 64,
   "metadata": {},
   "outputs": [
    {
     "data": {
      "text/plain": [
       "(9900, 50)"
      ]
     },
     "execution_count": 64,
     "metadata": {},
     "output_type": "execute_result"
    }
   ],
   "source": [
    "xteTitleWW2V.shape"
   ]
  },
  {
   "cell_type": "code",
   "execution_count": null,
   "metadata": {
    "collapsed": true
   },
   "outputs": [],
   "source": []
  },
  {
   "cell_type": "markdown",
   "metadata": {},
   "source": [
    "### State"
   ]
  },
  {
   "cell_type": "code",
   "execution_count": 65,
   "metadata": {
    "collapsed": true
   },
   "outputs": [],
   "source": [
    "vectorizer = CountVectorizer()\n",
    "\n",
    "vectorizer.fit( xtrain['school_state'].values )\n",
    "\n",
    "xtrState = vectorizer.transform( xtrain['school_state'].values )\n",
    "xcvState = vectorizer.transform( xcv['school_state'].values )\n",
    "xteState = vectorizer.transform( xtest['school_state'].values )"
   ]
  },
  {
   "cell_type": "code",
   "execution_count": 66,
   "metadata": {},
   "outputs": [
    {
     "name": "stdout",
     "output_type": "stream",
     "text": [
      "(13467, 51)\n",
      "(6633, 51)\n",
      "(9900, 51)\n"
     ]
    }
   ],
   "source": [
    "print( xtrState.shape )\n",
    "print( xcvState.shape )\n",
    "print( xteState.shape )"
   ]
  },
  {
   "cell_type": "code",
   "execution_count": 67,
   "metadata": {},
   "outputs": [
    {
     "name": "stdout",
     "output_type": "stream",
     "text": [
      "['ak', 'al', 'ar', 'az', 'ca', 'co', 'ct', 'dc', 'de', 'fl', 'ga', 'hi', 'ia', 'id', 'il', 'in', 'ks', 'ky', 'la', 'ma', 'md', 'me', 'mi', 'mn', 'mo', 'ms', 'mt', 'nc', 'nd', 'ne', 'nh', 'nj', 'nm', 'nv', 'ny', 'oh', 'ok', 'or', 'pa', 'ri', 'sc', 'sd', 'tn', 'tx', 'ut', 'va', 'vt', 'wa', 'wi', 'wv', 'wy']\n"
     ]
    }
   ],
   "source": [
    "print( vectorizer.get_feature_names() )"
   ]
  },
  {
   "cell_type": "markdown",
   "metadata": {},
   "source": [
    "### Teacher Prefix"
   ]
  },
  {
   "cell_type": "code",
   "execution_count": 68,
   "metadata": {
    "collapsed": true
   },
   "outputs": [],
   "source": [
    "vectorizer = CountVectorizer()\n",
    "\n",
    "vectorizer.fit( xtrain['teacher_prefix'].values )\n",
    "\n",
    "xtrPrefix = vectorizer.transform( xtrain['teacher_prefix'].values )\n",
    "xcvPrefix = vectorizer.transform( xcv['teacher_prefix'].values )\n",
    "xtePrefix = vectorizer.transform( xtest['teacher_prefix'].values )"
   ]
  },
  {
   "cell_type": "code",
   "execution_count": 69,
   "metadata": {},
   "outputs": [
    {
     "name": "stdout",
     "output_type": "stream",
     "text": [
      "(13467, 4)\n",
      "(6633, 4)\n",
      "(9900, 4)\n"
     ]
    }
   ],
   "source": [
    "print( xtrPrefix.shape )\n",
    "print( xcvPrefix.shape )\n",
    "print( xtePrefix.shape )"
   ]
  },
  {
   "cell_type": "code",
   "execution_count": 70,
   "metadata": {},
   "outputs": [
    {
     "name": "stdout",
     "output_type": "stream",
     "text": [
      "['mr', 'mrs', 'ms', 'teacher']\n"
     ]
    }
   ],
   "source": [
    "print( vectorizer.get_feature_names() )"
   ]
  },
  {
   "cell_type": "code",
   "execution_count": null,
   "metadata": {
    "collapsed": true
   },
   "outputs": [],
   "source": []
  },
  {
   "cell_type": "markdown",
   "metadata": {},
   "source": [
    "### Price"
   ]
  },
  {
   "cell_type": "code",
   "execution_count": 71,
   "metadata": {
    "collapsed": true
   },
   "outputs": [],
   "source": [
    "from sklearn.preprocessing import Normalizer\n",
    "\n",
    "norm = Normalizer()\n",
    "\n",
    "# norm.fit( xtrain['price'].values ) # gives error : Expected 2D array, got 1D array instead\n",
    "norm.fit( xtrain['price'].values.reshape(-1,1) )\n",
    "\n",
    "xtrPrice = norm.transform( xtrain['price'].values.reshape(-1,1) )\n",
    "xcvPrice = norm.transform( xcv['price'].values.reshape(-1,1) )\n",
    "xtePrice = norm.transform( xtest['price'].values.reshape(-1,1) )"
   ]
  },
  {
   "cell_type": "code",
   "execution_count": 72,
   "metadata": {},
   "outputs": [
    {
     "name": "stdout",
     "output_type": "stream",
     "text": [
      "(13467, 1)\n",
      "(6633, 1)\n",
      "(9900, 1)\n"
     ]
    }
   ],
   "source": [
    "print( xtrPrice.shape )\n",
    "print( xcvPrice.shape )\n",
    "print( xtePrice.shape )"
   ]
  },
  {
   "cell_type": "code",
   "execution_count": null,
   "metadata": {
    "collapsed": true
   },
   "outputs": [],
   "source": []
  },
  {
   "cell_type": "code",
   "execution_count": null,
   "metadata": {
    "collapsed": true
   },
   "outputs": [],
   "source": []
  },
  {
   "cell_type": "markdown",
   "metadata": {},
   "source": [
    "# Merging features"
   ]
  },
  {
   "cell_type": "markdown",
   "metadata": {},
   "source": [
    "### Set 1"
   ]
  },
  {
   "cell_type": "code",
   "execution_count": 73,
   "metadata": {},
   "outputs": [
    {
     "name": "stdout",
     "output_type": "stream",
     "text": [
      "(13467, 38917) (13467,)\n",
      "(6633, 38917) (6633,)\n",
      "(9900, 38917) (9900,)\n"
     ]
    }
   ],
   "source": [
    "from scipy.sparse import hstack\n",
    "\n",
    "xtr1 = hstack(( xtrEssayBOW, xtrTitleBOW, xtrState, xtrPrefix, xtrPrice )).tocsr()\n",
    "xcv1 = hstack(( xcvEssayBOW, xcvTitleBOW, xcvState, xcvPrefix, xcvPrice )).tocsr()\n",
    "xte1 = hstack(( xteEssayBOW, xteTitleBOW, xteState, xtePrefix, xtePrice )).tocsr()\n",
    "\n",
    "print( xtr1.shape, ytrain.shape )\n",
    "print( xcv1.shape, ycv.shape )\n",
    "print( xte1.shape, ytest.shape )"
   ]
  },
  {
   "cell_type": "markdown",
   "metadata": {},
   "source": [
    "### Set 2"
   ]
  },
  {
   "cell_type": "code",
   "execution_count": 74,
   "metadata": {},
   "outputs": [
    {
     "name": "stdout",
     "output_type": "stream",
     "text": [
      "(13467, 7878) (13467,)\n",
      "(6633, 7878) (6633,)\n",
      "(9900, 7878) (9900,)\n"
     ]
    }
   ],
   "source": [
    "xtr2 = hstack(( xtrEssayTFIDF, xtrTitleTFIDF, xtrState, xtrPrefix, xtrPrice )).tocsr()\n",
    "xcv2 = hstack(( xcvEssayTFIDF, xcvTitleTFIDF, xcvState, xcvPrefix, xcvPrice )).tocsr()\n",
    "xte2 = hstack(( xteEssayTFIDF, xteTitleTFIDF, xteState, xtePrefix, xtePrice )).tocsr()\n",
    "\n",
    "print( xtr2.shape, ytrain.shape )\n",
    "print( xcv2.shape, ycv.shape )\n",
    "print( xte2.shape, ytest.shape )"
   ]
  },
  {
   "cell_type": "markdown",
   "metadata": {},
   "source": [
    "### Set 3"
   ]
  },
  {
   "cell_type": "code",
   "execution_count": 75,
   "metadata": {},
   "outputs": [
    {
     "name": "stdout",
     "output_type": "stream",
     "text": [
      "(13467, 156) (13467,)\n",
      "(6633, 156) (6633,)\n",
      "(9900, 156) (9900,)\n"
     ]
    }
   ],
   "source": [
    "xtr3 = hstack(( xtrAW2V, xtrTitleAW2V, xtrState, xtrPrefix, xtrPrice )).tocsr()\n",
    "xcv3 = hstack(( xcvAW2V, xcvTitleAW2V, xcvState, xcvPrefix, xcvPrice )).tocsr()\n",
    "xte3 = hstack(( xteAW2V, xteTitleAW2V, xteState, xtePrefix, xtePrice )).tocsr()\n",
    "\n",
    "print( xtr3.shape, ytrain.shape )\n",
    "print( xcv3.shape, ycv.shape )\n",
    "print( xte3.shape, ytest.shape )"
   ]
  },
  {
   "cell_type": "markdown",
   "metadata": {},
   "source": [
    "### Set 4"
   ]
  },
  {
   "cell_type": "code",
   "execution_count": 76,
   "metadata": {},
   "outputs": [
    {
     "name": "stdout",
     "output_type": "stream",
     "text": [
      "(13467, 156) (13467,)\n",
      "(6633, 156) (6633,)\n",
      "(9900, 156) (9900,)\n"
     ]
    }
   ],
   "source": [
    "xtr4 = hstack(( xtrWW2V, xtrTitleWW2V, xtrState, xtrPrefix, xtrPrice )).tocsr()\n",
    "xcv4 = hstack(( xcvWW2V, xcvTitleWW2V, xcvState, xcvPrefix, xcvPrice )).tocsr()\n",
    "xte4 = hstack(( xteWW2V, xteTitleWW2V, xteState, xtePrefix, xtePrice )).tocsr()\n",
    "\n",
    "print( xtr4.shape, ytrain.shape )\n",
    "print( xcv4.shape, ycv.shape )\n",
    "print( xte4.shape, ytest.shape )"
   ]
  },
  {
   "cell_type": "markdown",
   "metadata": {
    "collapsed": true
   },
   "source": [
    "## Applying KNN"
   ]
  },
  {
   "cell_type": "code",
   "execution_count": 77,
   "metadata": {
    "collapsed": true
   },
   "outputs": [],
   "source": [
    "from sklearn.neighbors import KNeighborsClassifier\n",
    "from sklearn.model_selection import GridSearchCV\n",
    "import matplotlib.pyplot as plt"
   ]
  },
  {
   "cell_type": "code",
   "execution_count": 78,
   "metadata": {},
   "outputs": [
    {
     "data": {
      "text/plain": [
       "GridSearchCV(cv=3, error_score='raise',\n",
       "       estimator=KNeighborsClassifier(algorithm='auto', leaf_size=30, metric='minkowski',\n",
       "           metric_params=None, n_jobs=1, n_neighbors=5, p=2,\n",
       "           weights='uniform'),\n",
       "       fit_params=None, iid=True, n_jobs=-1,\n",
       "       param_grid={'n_neighbors': [1, 5, 10, 15, 21, 31, 41, 51]},\n",
       "       pre_dispatch='2*n_jobs', refit=True, return_train_score='warn',\n",
       "       scoring='roc_auc', verbose=0)"
      ]
     },
     "execution_count": 78,
     "metadata": {},
     "output_type": "execute_result"
    }
   ],
   "source": [
    "\n",
    "neigh = KNeighborsClassifier()\n",
    "\n",
    "parameters = { 'n_neighbors' : [ 1, 5, 10, 15, 21, 31, 41, 51 ] } # n_neighbors = k i.e; the Hyperparameter here\n",
    "\n",
    "classifier = GridSearchCV( neigh, parameters, cv = 3, scoring = \"roc_auc\", n_jobs = -1 )\n",
    "# neigh : is the Estimator parameter for GridSearch \n",
    "# paramaters : Dictionary with parameters names (string) as keys\n",
    "# scoring : A single string or a callable to evaluate the predictions on the test set. \n",
    "# cv : No. of folds in cross validation.\n",
    "\n",
    "classifier.fit( xtr1, ytrain )"
   ]
  },
  {
   "cell_type": "code",
   "execution_count": 79,
   "metadata": {},
   "outputs": [
    {
     "name": "stderr",
     "output_type": "stream",
     "text": [
      "D:\\Anaconda\\lib\\site-packages\\sklearn\\utils\\deprecation.py:122: FutureWarning: You are accessing a training score ('mean_train_score'), which will not be available by default any more in 0.21. If you need training scores, please set return_train_score=True\n",
      "  warnings.warn(*warn_args, **warn_kwargs)\n",
      "D:\\Anaconda\\lib\\site-packages\\sklearn\\utils\\deprecation.py:122: FutureWarning: You are accessing a training score ('std_train_score'), which will not be available by default any more in 0.21. If you need training scores, please set return_train_score=True\n",
      "  warnings.warn(*warn_args, **warn_kwargs)\n"
     ]
    },
    {
     "data": {
      "image/png": "[encoded data removed]",
      "text/plain": [
       "<matplotlib.figure.Figure at 0x2711ef3ed30>"
      ]
     },
     "metadata": {},
     "output_type": "display_data"
    }
   ],
   "source": [
    "trainAUC = classifier.cv_results_['mean_train_score']\n",
    "# cv_results_ : is an attribute of GridSearchCV\n",
    "# cv_results_ : A dict with keys as column headers and values as columns\n",
    "# contains keys like mean_train_score, mean_test_score, std_train_score etc where the corresponding val is a numpy array\n",
    "\n",
    "trainAUCstd = classifier.cv_results_['std_train_score']\n",
    "\n",
    "cvAUC = classifier.cv_results_['mean_test_score']\n",
    "cvAUCstd = classifier.cv_results_['std_test_score']\n",
    "\n",
    "plt.close()\n",
    "plt.figure( figsize = ( 15, 5 ) )\n",
    "\n",
    "plt.plot( parameters['n_neighbors'], trainAUC, label = 'Train AUC' )\n",
    "\n",
    "plt.gca().fill_between( parameters['n_neighbors'], trainAUC - trainAUCstd, trainAUC + trainAUCstd, alpha=0.2, color='darkblue' )\n",
    "# plt.gca() : gca() Get Current Axis, Get the current Axes instance on the current figure matching the given keyword args\n",
    "# fill_between() : Fill the area between two horizontal curves.\n",
    "# fill_between(x, y1, y2=0, <more param> ) : This creates one or multiple polygons describing the filled area.\n",
    "# The curves are defined by the points (x, y1) and (x, y2)\n",
    "\n",
    "# x : array i.e; parameters['neighbors'] here\n",
    "# y1 : trainAUC - trainAUCstd,    y2 = cvAUC + cvAUCstd\n",
    "# alpha : Set the alpha tranparencies of the collection. alpha must be a float or None.\n",
    "\n",
    "plt.plot(parameters['n_neighbors'], cvAUC, label='CV AUC')\n",
    "\n",
    "plt.gca().fill_between( parameters['n_neighbors'], cvAUC - cvAUCstd, cvAUC + cvAUCstd, alpha=0.2, color='darkorange')\n",
    "\n",
    "\n",
    "\n",
    "plt.scatter( parameters['n_neighbors'], trainAUC, label='Train AUC points' )\n",
    "plt.scatter( parameters['n_neighbors'], cvAUC, label='CV AUC points' )\n",
    "\n",
    "\n",
    "plt.legend()\n",
    "plt.xlabel(\"K: hyperparameter\")\n",
    "plt.ylabel(\"AUC\")\n",
    "plt.title(\"Error Plots\")\n",
    "plt.grid()\n",
    "plt.show()"
   ]
  },
  {
   "cell_type": "code",
   "execution_count": 80,
   "metadata": {
    "collapsed": true
   },
   "outputs": [],
   "source": [
    "# We choose K such that, we will have maximum AUC on cv data and gap between the train and cv is less\n",
    "\n",
    "bestK = 51\n"
   ]
  },
  {
   "cell_type": "code",
   "execution_count": 81,
   "metadata": {
    "collapsed": true
   },
   "outputs": [],
   "source": [
    "def batchPredict( data, classifier ): # Predict the probablity of data points in batch i.e; some data points at once \n",
    "    \n",
    "    yPred = []\n",
    "    \n",
    "    loop = data.shape[0] - data.shape[0] % 1000   # data.shape[0] : no of rows in data matrix\n",
    "    # for ex data shape = 4489 then loop = 4489 - 4489%1000 = 4489 - 489 = 4000 \n",
    "    # Now we can divide our loop into 4 interval of 1000s and one remaining 489\n",
    "    # ie; 1-1000 in 1st iteration 1000-2000 in 2nd iteration 2000-3000 in 3rd 3000-4000 in 4th and 4000-4489 in the last iteraion\n",
    "    \n",
    "    for i in range( 0, loop, 1000 ):\n",
    "        # If loop = 4000 Computes proba for 0 - 4000 in 4 iterations\n",
    "       \n",
    "        yPred.extend( classifier.predict_proba( data[i : i+1000] )[ :, 1] ) # [ :, 1] : All row Only 1 col\n",
    "        # predict_proba : Return probability estimates for the test data X.\n",
    "\n",
    "    yPred.extend( classifier.predict_proba( data[ loop : ] )[ :, 1 ] )\n",
    "    # computes probab for remaining points\n",
    "\n",
    "    return yPred"
   ]
  },
  {
   "cell_type": "markdown",
   "metadata": {},
   "source": [
    "OR"
   ]
  },
  {
   "cell_type": "code",
   "execution_count": 82,
   "metadata": {
    "collapsed": true
   },
   "outputs": [],
   "source": [
    "def Predict( data, classifier ): # Predicts the probability of data points all at once\n",
    "    \n",
    "    yPred = []\n",
    "        \n",
    "    yPred.extend( classifier.predict_proba( data )[:, 1] )\n",
    "    \n",
    "    return yPred"
   ]
  },
  {
   "cell_type": "markdown",
   "metadata": {},
   "source": [
    "We can use Predict as well as batch Predict\n",
    "\n",
    "batchPredict() Predicts the data points in batches of 1000 whereas Predict() does it at once\n",
    "\n",
    "Use Batch Prediction when dealing with large dataset and in case of memory Limitation<br><br>"
   ]
  },
  {
   "cell_type": "code",
   "execution_count": 83,
   "metadata": {},
   "outputs": [
    {
     "name": "stdout",
     "output_type": "stream",
     "text": [
      "[0.  0.5 0.5 1. ]\n",
      "[0.5 0.5 1.  1. ]\n",
      "[0.8  0.4  0.35 0.1 ]\n",
      "1\n",
      "0.4\n"
     ]
    }
   ],
   "source": [
    "## Understanding roc_curve()\n",
    "import numpy as np\n",
    "from sklearn import metrics\n",
    "\n",
    "y = np.array([0, 0, 1, 1])    # Actual Label\n",
    "scores = np.array([0.1, 0.4, 0.35, 0.8])  # Predicted Scores/ Probablistic Estimate\n",
    "\n",
    "fpr, tpr, thresholds = metrics.roc_curve(y, scores)\n",
    "# roc_curve() : Compute Receiver operating characteristic (ROC),\n",
    "# this implementation is restricted to the binary classification task.\n",
    "# If it isn't binary i.e; class labels are 1 and 2 there is a parameter called pos_label in roc_curve\n",
    "# pos_label : Label considered as positive and others are considered negative. pos_label=2 means 2 is +ve 1 is -ve\n",
    "# roc_curve( yTrue, yScore ) : yTrue = True Binary labels, yScore = Target values Probablistic estimate, confidence values etc\n",
    "# The func returns 3 arrays : fpr = false Positive rates, tpr = True Positive rates, Threshold \n",
    "\n",
    "print( fpr )\n",
    "print( tpr )\n",
    "print( thresholds )\n",
    "\n",
    "print( np.argmax( fpr*( 1 - tpr ) ) )   # argmax : Returns the indices of the maximum values along an axis.\n",
    "\n",
    "t = thresholds[ np.argmax( fpr*( 1 - tpr ) ) ] \n",
    "print(t)"
   ]
  },
  {
   "cell_type": "code",
   "execution_count": 84,
   "metadata": {},
   "outputs": [
    {
     "data": {
      "image/png": "[encoded data removed]",
      "text/plain": [
       "<matplotlib.figure.Figure at 0x27122470748>"
      ]
     },
     "metadata": {},
     "output_type": "display_data"
    }
   ],
   "source": [
    "from sklearn.metrics import roc_curve, auc\n",
    "\n",
    "neigh = KNeighborsClassifier( n_neighbors = bestK )\n",
    "neigh.fit( xtr1, ytrain )\n",
    "\n",
    "yTrainPred = Predict( xtr1, neigh )\n",
    "\n",
    "yTestPred = Predict( xte1, neigh )\n",
    "\n",
    "trFPR, trTPR, trThreshold = roc_curve( ytrain, yTrainPred ) # ytrain and YTrainPred must have same no. of points\n",
    "teFPR, teTPR, teThreshold = roc_curve(ytest, yTestPred )\n",
    "\n",
    "# roc_curve() : Compute Receiver operating characteristic (ROC),\n",
    "# this implementation is restricted to the binary classification task.\n",
    "# roc_curve( yTrue, yScore ) : yTrue = True Binary labels, yScore = Target values Probablistic estimate, confidence values etc\n",
    "# The func returns 3 arrays : fpr = false Positive rates, tpr = True Positive rates, Threshold \n",
    "\n",
    "plt.figure( figsize = (15, 5) )\n",
    "plt.plot( trFPR, trTPR, label=\"Train AUC = \" + str( auc( trFPR, trTPR ) ) )\n",
    "plt.plot( teFPR, teTPR, label=\"Test AUC = \" + str( auc( teFPR, teTPR ) ) )\n",
    "\n",
    "plt.legend()\n",
    "plt.xlabel(\"K: hyperparameter\")\n",
    "plt.ylabel(\"AUC\")\n",
    "plt.title(\"ERROR PLOTS\")\n",
    "plt.grid()\n",
    "plt.show()"
   ]
  },
  {
   "cell_type": "code",
   "execution_count": null,
   "metadata": {
    "collapsed": true
   },
   "outputs": [],
   "source": []
  },
  {
   "cell_type": "code",
   "execution_count": 85,
   "metadata": {},
   "outputs": [
    {
     "name": "stdout",
     "output_type": "stream",
     "text": [
      "[[2 0 0]\n",
      " [0 0 1]\n",
      " [1 0 2]]\n"
     ]
    }
   ],
   "source": [
    "# Understanding Confusion Matrix\n",
    "from sklearn.metrics import confusion_matrix\n",
    "\n",
    "ytrue = [2, 0, 2, 2, 0, 1]  # Three class ;abels : 0, 1, 2 i.e; we will get a 3x3 Confusion Matrix \n",
    "ypred = [0, 0, 2, 2, 0, 2]\n",
    "\n",
    "print( confusion_matrix( ytrue, ypred ) )\n",
    "\n",
    "# Let Xab be : Data point X is actually 'a' but is Predicted to be 'b' => X01 data point X is 0 predicted to be 1\n",
    "\n",
    "#            Actual->        0     1      2\n",
    "# Predicted->           0   X00   X10    X20        X20 : X is actually 2 but is predicted 0 i;e False Predicted\n",
    "#                       \n",
    "#                       1   X01   X11    X21        # X00, X11, X22 are the only data points that are correctly predicted\n",
    "#                       \n",
    "#                       2   X02   X12    X22       # Our model is good if the diagonal values are high"
   ]
  },
  {
   "cell_type": "code",
   "execution_count": null,
   "metadata": {
    "collapsed": true
   },
   "outputs": [],
   "source": []
  },
  {
   "cell_type": "code",
   "execution_count": 86,
   "metadata": {
    "collapsed": true
   },
   "outputs": [],
   "source": [
    "def predictCM( probab, threshold, fpr, tpr ):\n",
    "    \n",
    "    t = threshold[ np.argmax( fpr*( 1 - tpr ) ) ]  # returns the threshold val for the point with max fpr(1-tpr) value\n",
    "    # fpr*( 1 - tpr ) will be high if fpr is high and tpr is low, argmax : Returns the indices of the maximum val along an axis\n",
    "    \n",
    "    print(\" The maximum value of tpr*(1-fpr) = \", max( tpr*(1-fpr) ), \" for threshold = \", np.round(t,3))\n",
    "    \n",
    "    pred = []\n",
    "    for i in probab: # i = Probaility for all data points\n",
    "        if i >= t:   #  if Probablity of a point is >= the Threshold value i,e; Threshold at index of max val of fpr(1-tpr) \n",
    "            pred.append(1)\n",
    "        else:\n",
    "            pred.append(0)\n",
    "            \n",
    "    return pred"
   ]
  },
  {
   "cell_type": "code",
   "execution_count": 109,
   "metadata": {},
   "outputs": [
    {
     "name": "stdout",
     "output_type": "stream",
     "text": [
      "Confusion Matrix for Train 1 \n",
      " The maximum value of tpr*(1-fpr) =  0.3584081683748865  for threshold =  0.784\n",
      "[[1224  850]\n",
      " [4474 6919]]\n"
     ]
    },
    {
     "data": {
      "image/png": "[encoded data removed]",
      "text/plain": [
       "<matplotlib.figure.Figure at 0x2712a404668>"
      ]
     },
     "metadata": {},
     "output_type": "display_data"
    },
    {
     "name": "stdout",
     "output_type": "stream",
     "text": [
      "\n",
      "\n",
      "Confusion Matrix for Test 1 \n",
      " The maximum value of tpr*(1-fpr) =  0.2929364717396623  for threshold =  0.804\n",
      "[[ 908  617]\n",
      " [4358 4017]]\n"
     ]
    },
    {
     "data": {
      "image/png": "[encoded data removed]",
      "text/plain": [
       "<matplotlib.figure.Figure at 0x2711a23ce48>"
      ]
     },
     "metadata": {},
     "output_type": "display_data"
    }
   ],
   "source": [
    "from sklearn.metrics import confusion_matrix\n",
    "import seaborn as sn\n",
    "\n",
    "\n",
    "print(\"Confusion Matrix for Train 1 \")\n",
    "predicted = predictCM( yTrainPred, trThreshold, trFPR, trTPR )\n",
    "\n",
    "cmtr = confusion_matrix( ytrain, predicted )\n",
    "print( cmtr  )\n",
    "\n",
    "plt.figure( figsize = (8,6) )\n",
    "sn.set( font_scale = 1.4 ) #for label size\n",
    "sn.heatmap( cmtr, annot = True, annot_kws={\"size\": 18} )# font size\n",
    "plt.show()\n",
    "plt.close()\n",
    "\n",
    "\n",
    "\n",
    "print(\"\\n\\nConfusion Matrix for Test 1 \")\n",
    "predicted = predictCM( yTestPred, teThreshold, teFPR, teTPR )\n",
    "\n",
    "cmte = confusion_matrix( ytest, predicted )\n",
    "print( cmte )\n",
    "\n",
    "plt.figure( figsize = (8,6) )\n",
    "sn.set( font_scale = 1.4 ) #for label size\n",
    "sn.heatmap( cmte, fmt=\".3f\" annot = True, annot_kws={\"size\": 18} )# font size\n",
    "plt.show()\n",
    "plt.close()"
   ]
  },
  {
   "cell_type": "code",
   "execution_count": null,
   "metadata": {
    "collapsed": true
   },
   "outputs": [],
   "source": []
  },
  {
   "cell_type": "code",
   "execution_count": null,
   "metadata": {
    "collapsed": true
   },
   "outputs": [],
   "source": []
  },
  {
   "cell_type": "markdown",
   "metadata": {},
   "source": [
    "## Creating functions for Code reusability"
   ]
  },
  {
   "cell_type": "markdown",
   "metadata": {},
   "source": [
    "### Function to Apply KNN on different K & finding best K using GridSearchCV() "
   ]
  },
  {
   "cell_type": "code",
   "execution_count": 110,
   "metadata": {
    "collapsed": true
   },
   "outputs": [],
   "source": [
    "def BestK( x, y ):\n",
    "    \n",
    "    neigh = KNeighborsClassifier()\n",
    "\n",
    "    parameters = { 'n_neighbors' : [ 1, 5, 10, 15, 21, 31, 41, 51 ] } \n",
    "\n",
    "    classifier = GridSearchCV( neigh, parameters, cv = 3, scoring = \"roc_auc\", n_jobs = -1 )\n",
    "    # neigh : is the Estimator parameter for GridSearch \n",
    "    # paramaters : Dictionary with parameters names (string) as keys\n",
    "    # scoring : A single string or a callable to evaluate the predictions on the test set. \n",
    "    # cv : No. of folds in cross validation. cv = 3 means data divided into 3 parts each time 1 part is used for test\n",
    "\n",
    "    classifier.fit( x, y )\n",
    "    \n",
    "    xAUC = classifier.cv_results_['mean_train_score']\n",
    "    # cv_results_ : is an attribute of GridSearchCV\n",
    "    # cv_results_ : A dict with keys as column headers and values as columns\n",
    "    # contains keys like mean_train_score, mean_test_score, std_train_score etc where the corresponding val is a numpy array\n",
    "\n",
    "    xAUCstd = classifier.cv_results_['std_train_score']\n",
    "\n",
    "    cvAUC = classifier.cv_results_['mean_test_score']\n",
    "    cvAUCstd = classifier.cv_results_['std_test_score']\n",
    "\n",
    "    plt.close()\n",
    "    plt.figure( figsize = ( 15, 5 ) )\n",
    "\n",
    "    plt.plot( parameters['n_neighbors'], xAUC, label = 'Train AUC' )\n",
    "\n",
    "    plt.gca().fill_between( parameters['n_neighbors'], xAUC - xAUCstd, xAUC + xAUCstd, alpha=0.2, color='darkblue' )\n",
    "    # plt.gca() : gca() Get Current Axis, Get the current Axes instance on the current figure matching the given keyword args\n",
    "    # fill_between() : Fill the area between two horizontal curves.\n",
    "    # fill_between(x, y1, y2=0, <more param> ) : This creates one or multiple polygons describing the filled area.\n",
    "    # The curves are defined by the points (x, y1) and (x, y2)\n",
    "\n",
    "    # x : array i.e; parameters['neighbors'] here\n",
    "    # y1 : trainAUC - trainAUCstd,    y2 = cvAUC + cvAUCstd\n",
    "    # alpha : Set the alpha tranparencies of the collection. alpha must be a float or None.\n",
    "\n",
    "    plt.plot(parameters['n_neighbors'], cvAUC, label='CV AUC')\n",
    "\n",
    "    plt.gca().fill_between( parameters['n_neighbors'], cvAUC - cvAUCstd, cvAUC + cvAUCstd, alpha=0.2, color='darkorange')\n",
    "\n",
    "\n",
    "\n",
    "    plt.scatter( parameters['n_neighbors'], xAUC, label='Train AUC points' )\n",
    "    plt.scatter( parameters['n_neighbors'], cvAUC, label='CV AUC points' )\n",
    "\n",
    "\n",
    "    plt.legend()\n",
    "    plt.xlabel(\"K: hyperparameter\")\n",
    "    plt.ylabel(\"AUC\")\n",
    "    plt.title(\"Error Plots\")\n",
    "    plt.grid()\n",
    "    plt.show()\n"
   ]
  },
  {
   "cell_type": "markdown",
   "metadata": {},
   "source": [
    "### <br>Function to convert Predicted Score to Binary and creating Confusion Matrix"
   ]
  },
  {
   "cell_type": "code",
   "execution_count": 111,
   "metadata": {
    "collapsed": true
   },
   "outputs": [],
   "source": [
    "def predictCM( probab, threshold, fpr, tpr ):\n",
    "    \n",
    "    t = threshold[ np.argmax( fpr*( 1 - tpr ) ) ]  # returns the threshold val for the point with max fpr(1-tpr) value\n",
    "    # fpr*( 1 - tpr ) will be high if fpr is high and tpr is low, argmax : Returns the indices of the maximum val along an axis\n",
    "    \n",
    "    print(\" The maximum value of tpr*(1-fpr) = \", max( tpr*(1-fpr) ), \" for threshold = \", np.round(t,3))\n",
    "    \n",
    "    pred = []\n",
    "    for i in probab: # i = Probability for all data points\n",
    "        if i >= t:   #  if Probablity of a point is >= the Threshold value i,e; Threshold at index of max val of fpr(1-tpr) \n",
    "            pred.append(1)\n",
    "        else:\n",
    "            pred.append(0)\n",
    "            \n",
    "    return pred"
   ]
  },
  {
   "cell_type": "code",
   "execution_count": 115,
   "metadata": {
    "collapsed": true
   },
   "outputs": [],
   "source": [
    "def cm( ytr, yte, yTrainPred, trThreshold, trFPR, trTPR, yTestPred, teThreshold, teFPR, teTPR, sno ):\n",
    "    \n",
    "    print(\"Confusion Matrix for Train of Set \", sno)\n",
    "    \n",
    "    predicted = predictCM( yTrainPred, trThreshold, trFPR, trTPR )\n",
    "    cmtr = confusion_matrix( ytr, predicted )\n",
    "    print( cmtr  )\n",
    "\n",
    "    plt.figure( figsize = (8,6) )\n",
    "    sn.set( font_scale = 1.4 ) #for label size\n",
    "    sn.heatmap( cmtr,fmt=\".3f\" annot = True, annot_kws={\"size\": 18} )# font size\n",
    "    plt.show()\n",
    "    plt.close()\n",
    "\n",
    "\n",
    "\n",
    "    print(\"\\n\\nConfusion Matrix for Test 1 \")\n",
    "    predicted = predictCM( yTestPred, teThreshold, teFPR, teTPR )\n",
    "\n",
    "    cmte = confusion_matrix( yte, predicted )\n",
    "    print( cmte )\n",
    "\n",
    "    plt.figure( figsize = (8,6) )\n",
    "    sn.set( font_scale = 1.4 ) #for label size\n",
    "    sn.heatmap( cmte,fmt=\".3f\" annot = True, annot_kws={\"size\": 18} )# font size\n",
    "    plt.show()\n",
    "    plt.close()"
   ]
  },
  {
   "cell_type": "markdown",
   "metadata": {},
   "source": [
    "### <br>Function to Predict probabilistic score and appling roc_curve()"
   ]
  },
  {
   "cell_type": "code",
   "execution_count": 116,
   "metadata": {
    "collapsed": true
   },
   "outputs": [],
   "source": [
    "def Predict( data, classifier ): # Predicts the probability of data points all at once\n",
    "    \n",
    "    yPred = []\n",
    "        \n",
    "    yPred.extend( classifier.predict_proba( data )[:, 1] )\n",
    "    return yPred"
   ]
  },
  {
   "cell_type": "code",
   "execution_count": 117,
   "metadata": {
    "collapsed": true
   },
   "outputs": [],
   "source": [
    "def roc( xtr, xte, ytr, yte, bestK, sno ):\n",
    "    \n",
    "    neigh = KNeighborsClassifier( n_neighbors = bestK )\n",
    "    neigh.fit( xtr, ytr )\n",
    "\n",
    "    yTrainPred = Predict( xtr, neigh )    \n",
    "    yTestPred = Predict( xte, neigh )\n",
    "\n",
    "    trFPR, trTPR, trThreshold = roc_curve( ytr, yTrainPred ) # ytrain and YTrainPred must have same no. of points\n",
    "    teFPR, teTPR, teThreshold = roc_curve(yte, yTestPred )\n",
    "\n",
    "    # roc_curve() : Compute Receiver operating characteristic (ROC),\n",
    "    # this implementation is restricted to the binary classification task.\n",
    "    # roc_curve( yTrue, yScore ) : yTrue = True Binary labels, yScore = Target values Probablistic estimate, confidence values etc\n",
    "    # The func returns 3 arrays : fpr = false Positive rates, tpr = True Positive rates, Threshold \n",
    "\n",
    "    plt.figure( figsize = (15, 5) )\n",
    "    plt.plot( trFPR, trTPR, label=\"Train AUC = \" + str( auc( trFPR, trTPR ) ) )\n",
    "    plt.plot( teFPR, teTPR, label=\"Test AUC = \" + str( auc( teFPR, teTPR ) ) )\n",
    "\n",
    "    plt.legend()\n",
    "    plt.xlabel(\"K: hyperparameter\")\n",
    "    plt.ylabel(\"AUC\")\n",
    "    plt.title(\"ERROR PLOTS for Set \"+str(sno))\n",
    "    plt.grid()\n",
    "    plt.show()\n",
    "    \n",
    "    \n",
    "    cm( ytr, yte, yTrainPred, trThreshold, trFPR, trTPR, yTestPred, teThreshold, teFPR, teTPR, sno )"
   ]
  },
  {
   "cell_type": "code",
   "execution_count": null,
   "metadata": {
    "collapsed": true
   },
   "outputs": [],
   "source": []
  },
  {
   "cell_type": "markdown",
   "metadata": {},
   "source": [
    "# Operations on Set 2  TFIDF"
   ]
  },
  {
   "cell_type": "markdown",
   "metadata": {},
   "source": [
    "### Selecting Top 2K features from Set 2 "
   ]
  },
  {
   "cell_type": "code",
   "execution_count": 118,
   "metadata": {},
   "outputs": [
    {
     "name": "stdout",
     "output_type": "stream",
     "text": [
      "(13467, 7878)\n",
      "(13467, 2000)\n"
     ]
    },
    {
     "data": {
      "text/plain": [
       "(9900, 2000)"
      ]
     },
     "execution_count": 118,
     "metadata": {},
     "output_type": "execute_result"
    }
   ],
   "source": [
    "from sklearn.feature_selection import SelectKBest, chi2\n",
    "\n",
    "# Select features according to the k highest scores.\n",
    "\n",
    "topFeatures = SelectKBest( score_func = chi2, k = 2000 )\n",
    "# score_func : Score func which is applied to a pair of features X and label Y, It returns an array of scores 1 for each feature\n",
    "# then SelectKBest simply retains the first k features of dataset X with the highest scores.\n",
    "# k = no. of top features to be retained\n",
    "# chi2 : compute the chi2 statistic between each feature of X and Y a small val means the feature is independant of Y \n",
    "\n",
    "xtr2Top2k = topFeatures.fit_transform( xtr2, ytrain )  \n",
    "\n",
    "print( xtr2.shape )\n",
    "print( xtr2Top2k.shape )\n",
    "\n",
    "xte2Top2k = topFeatures.fit_transform( xte2, ytest )\n",
    "\n",
    "xte2Top2k.shape"
   ]
  },
  {
   "cell_type": "code",
   "execution_count": null,
   "metadata": {
    "collapsed": true
   },
   "outputs": [],
   "source": []
  },
  {
   "cell_type": "markdown",
   "metadata": {},
   "source": [
    "### Finding best k & plotting roc_curve() & creating confusion_matrix"
   ]
  },
  {
   "cell_type": "code",
   "execution_count": 119,
   "metadata": {},
   "outputs": [
    {
     "name": "stderr",
     "output_type": "stream",
     "text": [
      "D:\\Anaconda\\lib\\site-packages\\sklearn\\utils\\deprecation.py:122: FutureWarning: You are accessing a training score ('mean_train_score'), which will not be available by default any more in 0.21. If you need training scores, please set return_train_score=True\n",
      "  warnings.warn(*warn_args, **warn_kwargs)\n",
      "D:\\Anaconda\\lib\\site-packages\\sklearn\\utils\\deprecation.py:122: FutureWarning: You are accessing a training score ('std_train_score'), which will not be available by default any more in 0.21. If you need training scores, please set return_train_score=True\n",
      "  warnings.warn(*warn_args, **warn_kwargs)\n"
     ]
    },
    {
     "data": {
      "image/png": "[encoded data removed]",
      "text/plain": [
       "<matplotlib.figure.Figure at 0x271323160f0>"
      ]
     },
     "metadata": {},
     "output_type": "display_data"
    }
   ],
   "source": [
    "BestK( xtr2Top2k, ytrain )"
   ]
  },
  {
   "cell_type": "code",
   "execution_count": 120,
   "metadata": {},
   "outputs": [
    {
     "data": {
      "image/png": "[encoded data removed]",
      "text/plain": [
       "<matplotlib.figure.Figure at 0x271324c7da0>"
      ]
     },
     "metadata": {},
     "output_type": "display_data"
    },
    {
     "name": "stdout",
     "output_type": "stream",
     "text": [
      "Confusion Matrix for Train of Set  2\n",
      " The maximum value of tpr*(1-fpr) =  0.36949844263945586  for threshold =  0.843\n",
      "[[1353  721]\n",
      " [4940 6453]]\n"
     ]
    },
    {
     "data": {
      "image/png": "[encoded data removed]",
      "text/plain": [
       "<matplotlib.figure.Figure at 0x2712228acc0>"
      ]
     },
     "metadata": {},
     "output_type": "display_data"
    },
    {
     "name": "stdout",
     "output_type": "stream",
     "text": [
      "\n",
      "\n",
      "Confusion Matrix for Test 1 \n",
      " The maximum value of tpr*(1-fpr) =  0.2415457401517005  for threshold =  0.843\n",
      "[[ 817  708]\n",
      " [4599 3776]]\n"
     ]
    },
    {
     "data": {
      "image/png": "[encoded data removed]",
      "text/plain": [
       "<matplotlib.figure.Figure at 0x27129a97208>"
      ]
     },
     "metadata": {},
     "output_type": "display_data"
    }
   ],
   "source": [
    "bestK = 51\n",
    "\n",
    "roc( xtr2Top2k, xte2Top2k, ytrain, ytest, bestK, 2 )\n"
   ]
  },
  {
   "cell_type": "code",
   "execution_count": null,
   "metadata": {
    "collapsed": true
   },
   "outputs": [],
   "source": []
  },
  {
   "cell_type": "markdown",
   "metadata": {},
   "source": [
    "# Operations on set 3 Avg w2v"
   ]
  },
  {
   "cell_type": "code",
   "execution_count": 121,
   "metadata": {},
   "outputs": [
    {
     "name": "stderr",
     "output_type": "stream",
     "text": [
      "D:\\Anaconda\\lib\\site-packages\\sklearn\\utils\\deprecation.py:122: FutureWarning: You are accessing a training score ('mean_train_score'), which will not be available by default any more in 0.21. If you need training scores, please set return_train_score=True\n",
      "  warnings.warn(*warn_args, **warn_kwargs)\n",
      "D:\\Anaconda\\lib\\site-packages\\sklearn\\utils\\deprecation.py:122: FutureWarning: You are accessing a training score ('std_train_score'), which will not be available by default any more in 0.21. If you need training scores, please set return_train_score=True\n",
      "  warnings.warn(*warn_args, **warn_kwargs)\n"
     ]
    },
    {
     "data": {
      "image/png": "[encoded data removed]",
      "text/plain": [
       "<matplotlib.figure.Figure at 0x2713248e940>"
      ]
     },
     "metadata": {},
     "output_type": "display_data"
    }
   ],
   "source": [
    "BestK( xtr3, ytrain )"
   ]
  },
  {
   "cell_type": "code",
   "execution_count": 122,
   "metadata": {},
   "outputs": [
    {
     "data": {
      "image/png": "[encoded data removed]",
      "text/plain": [
       "<matplotlib.figure.Figure at 0x2712a3c3278>"
      ]
     },
     "metadata": {},
     "output_type": "display_data"
    },
    {
     "name": "stdout",
     "output_type": "stream",
     "text": [
      "Confusion Matrix for Train of Set  3\n",
      " The maximum value of tpr*(1-fpr) =  0.3975694019767675  for threshold =  0.863\n",
      "[[1275  799]\n",
      " [4025 7368]]\n"
     ]
    },
    {
     "data": {
      "image/png": "[encoded data removed]",
      "text/plain": [
       "<matplotlib.figure.Figure at 0x2713248e128>"
      ]
     },
     "metadata": {},
     "output_type": "display_data"
    },
    {
     "name": "stdout",
     "output_type": "stream",
     "text": [
      "\n",
      "\n",
      "Confusion Matrix for Test 1 \n",
      " The maximum value of tpr*(1-fpr) =  0.3011358160019574  for threshold =  0.882\n",
      "[[ 787  738]\n",
      " [3488 4887]]\n"
     ]
    },
    {
     "data": {
      "image/png": "[encoded data removed]",
      "text/plain": [
       "<matplotlib.figure.Figure at 0x2712223ecc0>"
      ]
     },
     "metadata": {},
     "output_type": "display_data"
    }
   ],
   "source": [
    "bestK = 51\n",
    "\n",
    "roc( xtr3, xte3, ytrain, ytest, bestK, 3 )"
   ]
  },
  {
   "cell_type": "code",
   "execution_count": null,
   "metadata": {
    "collapsed": true
   },
   "outputs": [],
   "source": []
  },
  {
   "cell_type": "markdown",
   "metadata": {},
   "source": [
    "# Operations on set 4 Weighted w2v"
   ]
  },
  {
   "cell_type": "code",
   "execution_count": 123,
   "metadata": {},
   "outputs": [
    {
     "name": "stderr",
     "output_type": "stream",
     "text": [
      "D:\\Anaconda\\lib\\site-packages\\sklearn\\utils\\deprecation.py:122: FutureWarning: You are accessing a training score ('mean_train_score'), which will not be available by default any more in 0.21. If you need training scores, please set return_train_score=True\n",
      "  warnings.warn(*warn_args, **warn_kwargs)\n",
      "D:\\Anaconda\\lib\\site-packages\\sklearn\\utils\\deprecation.py:122: FutureWarning: You are accessing a training score ('std_train_score'), which will not be available by default any more in 0.21. If you need training scores, please set return_train_score=True\n",
      "  warnings.warn(*warn_args, **warn_kwargs)\n"
     ]
    },
    {
     "data": {
      "image/png": "[encoded data removed]",
      "text/plain": [
       "<matplotlib.figure.Figure at 0x2713246bc18>"
      ]
     },
     "metadata": {},
     "output_type": "display_data"
    }
   ],
   "source": [
    "BestK( xtr4, ytrain )"
   ]
  },
  {
   "cell_type": "code",
   "execution_count": 124,
   "metadata": {},
   "outputs": [
    {
     "data": {
      "image/png": "[encoded data removed]",
      "text/plain": [
       "<matplotlib.figure.Figure at 0x2712a149198>"
      ]
     },
     "metadata": {},
     "output_type": "display_data"
    },
    {
     "name": "stdout",
     "output_type": "stream",
     "text": [
      "Confusion Matrix for Train of Set  4\n",
      " The maximum value of tpr*(1-fpr) =  0.4198846150688376  for threshold =  0.863\n",
      "[[1328  746]\n",
      " [3922 7471]]\n"
     ]
    },
    {
     "data": {
      "image/png": "[encoded data removed]",
      "text/plain": [
       "<matplotlib.figure.Figure at 0x27129814e80>"
      ]
     },
     "metadata": {},
     "output_type": "display_data"
    },
    {
     "name": "stdout",
     "output_type": "stream",
     "text": [
      "\n",
      "\n",
      "Confusion Matrix for Test 1 \n",
      " The maximum value of tpr*(1-fpr) =  0.31102246146317586  for threshold =  0.882\n",
      "[[ 860  665]\n",
      " [3756 4619]]\n"
     ]
    },
    {
     "data": {
      "image/png": "[encoded data removed]",
      "text/plain": [
       "<matplotlib.figure.Figure at 0x27129ac1c50>"
      ]
     },
     "metadata": {},
     "output_type": "display_data"
    }
   ],
   "source": [
    "bestK = 51\n",
    "\n",
    "roc( xtr4, xte4, ytrain, ytest, bestK, 4 )"
   ]
  },
  {
   "cell_type": "code",
   "execution_count": null,
   "metadata": {
    "collapsed": true
   },
   "outputs": [],
   "source": []
  },
  {
   "cell_type": "code",
   "execution_count": null,
   "metadata": {
    "collapsed": true
   },
   "outputs": [],
   "source": []
  },
  {
   "cell_type": "code",
   "execution_count": 125,
   "metadata": {},
   "outputs": [
    {
     "name": "stdout",
     "output_type": "stream",
     "text": [
      "+--------------+------------------+----------+-------------+------------+\n",
      "|  Vectorizer  |  GridSearchCV()  |  Best K  |  Train AUC  |  Test AUC  |\n",
      "+--------------+------------------+----------+-------------+------------+\n",
      "|    B.O.W     |      Brute       |    51    |    0.6396   |   0.5484   |\n",
      "|    TFIDF     |      Brute       |    41    |   0.6481    |   0.4800   |\n",
      "|   Avg W2V    |      Brute       |    51    |    0.6858   |   0.5660   |\n",
      "|     WW2V     |      Brute       |    51    |   0.7021    |   0.5877   |\n",
      "+--------------+------------------+----------+-------------+------------+\n"
     ]
    }
   ],
   "source": [
    "from prettytable import PrettyTable\n",
    "    \n",
    "x = PrettyTable()\n",
    "\n",
    "\n",
    "x.field_names = [\" Vectorizer \", \" GridSearchCV() \", \" Best K \", \" Train AUC \", \" Test AUC \"]\n",
    "\n",
    "x.add_row( [ \" B.O.W \", \" Brute \", \" 51 \", \" 0.6396 \", \" 0.5484 \" ] ) \n",
    "x.add_row( [ \" TFIDF \", \" Brute \", \" 41 \", \" 0.6481  \", \" 0.4800 \" ] )\n",
    "x.add_row( [ \" Avg W2V \", \" Brute \", \" 51 \", \" 0.6858 \", \" 0.5660 \" ] )\n",
    "x.add_row( [ \" WW2V \", \" Brute \", \" 51 \", \" 0.7021  \", \" 0.5877 \" ] )\n",
    "\n",
    "print( x )\n",
    "\n",
    "# Ref : http://zetcode.com/python/prettytable/"
   ]
  },
  {
   "cell_type": "markdown",
   "metadata": {
    "collapsed": true
   },
   "source": [
    "## Conclusions"
   ]
  },
  {
   "cell_type": "markdown",
   "metadata": {},
   "source": [
    "There are some missing values in teacher_prefix column\n",
    "\n",
    "Weighted Word to Vec approach gives the best result in Train AUC \n",
    "\n",
    "Out of all the other approaches Weighted Word to Vec approach has the highest Test AUC"
   ]
  }
 ],
 "metadata": {
  "kernelspec": {
   "display_name": "Python 3",
   "language": "python",
   "name": "python3"
  },
  "language_info": {
   "codemirror_mode": {
    "name": "ipython",
    "version": 3
   },
   "file_extension": ".py",
   "mimetype": "text/x-python",
   "name": "python",
   "nbconvert_exporter": "python",
   "pygments_lexer": "ipython3",
   "version": "3.6.3"
  }
 },
 "nbformat": 4,
 "nbformat_minor": 2
}
