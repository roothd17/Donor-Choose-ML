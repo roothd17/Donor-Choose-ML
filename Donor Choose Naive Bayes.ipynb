{
 "cells": [
  {
   "cell_type": "markdown",
   "metadata": {},
   "source": [
    "# Donor Choose : Naive Bayes"
   ]
  },
  {
   "cell_type": "code",
   "execution_count": 1,
   "metadata": {
    "collapsed": true
   },
   "outputs": [],
   "source": [
    "import os\n",
    "\n",
    "os.chdir('E:\\Datasets\\DonorChoose')"
   ]
  },
  {
   "cell_type": "code",
   "execution_count": 2,
   "metadata": {},
   "outputs": [
    {
     "data": {
      "text/html": [
       "<div>\n",
       "<style>\n",
       "    .dataframe thead tr:only-child th {\n",
       "        text-align: right;\n",
       "    }\n",
       "\n",
       "    .dataframe thead th {\n",
       "        text-align: left;\n",
       "    }\n",
       "\n",
       "    .dataframe tbody tr th {\n",
       "        vertical-align: top;\n",
       "    }\n",
       "</style>\n",
       "<table border=\"1\" class=\"dataframe\">\n",
       "  <thead>\n",
       "    <tr style=\"text-align: right;\">\n",
       "      <th></th>\n",
       "      <th>teacher_prefix</th>\n",
       "      <th>school_state</th>\n",
       "      <th>teacher_number_of_previously_posted_projects</th>\n",
       "      <th>project_is_approved</th>\n",
       "      <th>clean_categories</th>\n",
       "      <th>clean_subcategory</th>\n",
       "      <th>cleanEssay</th>\n",
       "      <th>price</th>\n",
       "      <th>quantity</th>\n",
       "      <th>cleanProjectGradeCategory</th>\n",
       "      <th>project_title</th>\n",
       "    </tr>\n",
       "  </thead>\n",
       "  <tbody>\n",
       "    <tr>\n",
       "      <th>0</th>\n",
       "      <td>Mrs.</td>\n",
       "      <td>IN</td>\n",
       "      <td>0</td>\n",
       "      <td>0</td>\n",
       "      <td>Literacy-Language</td>\n",
       "      <td>ESL Literacy</td>\n",
       "      <td>My students are English learners that are work...</td>\n",
       "      <td>154.6</td>\n",
       "      <td>23</td>\n",
       "      <td>PreK-Two</td>\n",
       "      <td>Educational Support for English Learners at Home</td>\n",
       "    </tr>\n",
       "    <tr>\n",
       "      <th>1</th>\n",
       "      <td>Mr.</td>\n",
       "      <td>FL</td>\n",
       "      <td>7</td>\n",
       "      <td>1</td>\n",
       "      <td>History-Civics Health-Sports</td>\n",
       "      <td>Civics-Government TeamSports</td>\n",
       "      <td>Our students arrive to our school eager to lea...</td>\n",
       "      <td>299.0</td>\n",
       "      <td>1</td>\n",
       "      <td>Six-Eight</td>\n",
       "      <td>Wanted: Projector for Hungry Learners</td>\n",
       "    </tr>\n",
       "  </tbody>\n",
       "</table>\n",
       "</div>"
      ],
      "text/plain": [
       "  teacher_prefix school_state  teacher_number_of_previously_posted_projects  \\\n",
       "0           Mrs.           IN                                             0   \n",
       "1            Mr.           FL                                             7   \n",
       "\n",
       "   project_is_approved              clean_categories  \\\n",
       "0                    0             Literacy-Language   \n",
       "1                    1  History-Civics Health-Sports   \n",
       "\n",
       "              clean_subcategory  \\\n",
       "0                  ESL Literacy   \n",
       "1  Civics-Government TeamSports   \n",
       "\n",
       "                                          cleanEssay  price  quantity  \\\n",
       "0  My students are English learners that are work...  154.6        23   \n",
       "1  Our students arrive to our school eager to lea...  299.0         1   \n",
       "\n",
       "  cleanProjectGradeCategory                                     project_title  \n",
       "0                  PreK-Two  Educational Support for English Learners at Home  \n",
       "1                 Six-Eight             Wanted: Projector for Hungry Learners  "
      ]
     },
     "execution_count": 2,
     "metadata": {},
     "output_type": "execute_result"
    }
   ],
   "source": [
    "import pandas as pd\n",
    "\n",
    "donor = pd.read_csv('cleandonor4.csv')\n",
    "\n",
    "donor.head(2)"
   ]
  },
  {
   "cell_type": "markdown",
   "metadata": {},
   "source": [
    "### Removing Stop Words from title"
   ]
  },
  {
   "cell_type": "code",
   "execution_count": 3,
   "metadata": {
    "collapsed": true
   },
   "outputs": [],
   "source": [
    "# We are removing the words from the stop words list: 'no', 'nor', 'not'\n",
    "stopwords= ['i', 'me', 'my', 'myself', 'we', 'our', 'ours', 'ourselves', 'you', \"you're\", \"you've\",\\\n",
    "            \"you'll\", \"you'd\", 'your', 'yours', 'yourself', 'yourselves', 'he', 'him', 'his', 'himself', \\\n",
    "            'she', \"she's\", 'her', 'hers', 'herself', 'it', \"it's\", 'its', 'itself', 'they', 'them', 'their',\\\n",
    "            'theirs', 'themselves', 'what', 'which', 'who', 'whom', 'this', 'that', \"that'll\", 'these', 'those', \\\n",
    "            'am', 'is', 'are', 'was', 'were', 'be', 'been', 'being', 'have', 'has', 'had', 'having', 'do', 'does', \\\n",
    "            'did', 'doing', 'a', 'an', 'the', 'and', 'but', 'if', 'or', 'because', 'as', 'until', 'while', 'of', \\\n",
    "            'at', 'by', 'for', 'with', 'about', 'against', 'between', 'into', 'through', 'during', 'before', 'after',\\\n",
    "            'above', 'below', 'to', 'from', 'up', 'down', 'in', 'out', 'on', 'off', 'over', 'under', 'again', 'further',\\\n",
    "            'then', 'once', 'here', 'there', 'when', 'where', 'why', 'how', 'all', 'any', 'both', 'each', 'few', 'more',\\\n",
    "            'most', 'other', 'some', 'such', 'only', 'own', 'same', 'so', 'than', 'too', 'very', \\\n",
    "            's', 't', 'can', 'will', 'just', 'don', \"don't\", 'should', \"should've\", 'now', 'd', 'll', 'm', 'o', 're', \\\n",
    "            've', 'y', 'ain', 'aren', \"aren't\", 'couldn', \"couldn't\", 'didn', \"didn't\", 'doesn', \"doesn't\", 'hadn',\\\n",
    "            \"hadn't\", 'hasn', \"hasn't\", 'haven', \"haven't\", 'isn', \"isn't\", 'ma', 'mightn', \"mightn't\", 'mustn',\\\n",
    "            \"mustn't\", 'needn', \"needn't\", 'shan', \"shan't\", 'shouldn', \"shouldn't\", 'wasn', \"wasn't\", 'weren', \"weren't\", \\\n",
    "            'won', \"won't\", 'wouldn', \"wouldn't\"]"
   ]
  },
  {
   "cell_type": "code",
   "execution_count": 4,
   "metadata": {},
   "outputs": [
    {
     "name": "stderr",
     "output_type": "stream",
     "text": [
      "100%|███████████████████████████████████████████████████████████████████████| 109248/109248 [00:01<00:00, 79387.47it/s]\n"
     ]
    }
   ],
   "source": [
    "from tqdm import tqdm\n",
    "ftitle = [] \n",
    "\n",
    "for sen in tqdm( donor['project_title'].values ): \n",
    "    strY = \" \"\n",
    "\n",
    "    for w in sen.lower().split():\n",
    "        if w not in stopwords:\n",
    "            strY = strY + w + \" \"\n",
    "\n",
    "    ftitle.append( strY.strip() )"
   ]
  },
  {
   "cell_type": "code",
   "execution_count": 5,
   "metadata": {
    "collapsed": true
   },
   "outputs": [],
   "source": [
    "donor.drop(['project_title'], axis=1, inplace=True)\n",
    "donor['cleanTitle'] = ftitle"
   ]
  },
  {
   "cell_type": "code",
   "execution_count": 7,
   "metadata": {},
   "outputs": [
    {
     "data": {
      "text/plain": [
       "'chromebooks special education reading program'"
      ]
     },
     "execution_count": 7,
     "metadata": {},
     "output_type": "execute_result"
    }
   ],
   "source": [
    "donor['cleanTitle'][6]"
   ]
  },
  {
   "cell_type": "code",
   "execution_count": 8,
   "metadata": {},
   "outputs": [
    {
     "name": "stderr",
     "output_type": "stream",
     "text": [
      "100%|████████████████████████████████████████████████████████████████████████| 109248/109248 [00:57<00:00, 1907.36it/s]\n"
     ]
    }
   ],
   "source": [
    "from tqdm import tqdm\n",
    "fessay = [] \n",
    "\n",
    "for sen in tqdm( donor['cleanEssay'].values ): \n",
    "    strY = \" \"\n",
    "\n",
    "    for w in sen.lower().split():\n",
    "        if w not in stopwords:\n",
    "            strY = strY + w + \" \"\n",
    "\n",
    "    fessay.append( strY.strip() )"
   ]
  },
  {
   "cell_type": "code",
   "execution_count": 9,
   "metadata": {
    "collapsed": true
   },
   "outputs": [],
   "source": [
    "donor.drop(['cleanEssay'], axis=1, inplace=True)\n",
    "donor['cleanEssay'] = fessay"
   ]
  },
  {
   "cell_type": "code",
   "execution_count": 10,
   "metadata": {},
   "outputs": [
    {
     "data": {
      "text/plain": [
       "'students enthusiastic inquisitive learners k-6 title school. love learning, respond well learning new things. active learners enjoy freedoms, flexible seating arrangements use ipads instructional tools classroom. students variety interests - including sports, singing, dancing, art, gymnastics, playing indoor/outdoor games. school friendly atmosphere learners; evident moment enter building. teachers engaged high-interest lessons, one often find parents and/or volunteers assisting students throughout school. teachers constantly searching new inviting ways motivate learners.my second graders need extra activity time class time help stay focused. school recently received two new online programs--go noodle plus light sail--both supporting movement classrooms. students asked additional chromebooks use rotating small groups. one chromebook love share. programs, need laptops rotating groups. students say learning fun light, portable devices. enjoy responsibility taking care chromebook share. students keep telling learners focused work using devices like chromebooks. project provide students opportunities healthy movement beyond p.e. recess. also steer students struggle attention issues successful small groups move interact classroom. project make definite difference classroom. support movement class. three additional chromebooks scoot success learning way. want that.nannan'"
      ]
     },
     "execution_count": 10,
     "metadata": {},
     "output_type": "execute_result"
    }
   ],
   "source": [
    "donor['cleanEssay'][8]"
   ]
  },
  {
   "cell_type": "code",
   "execution_count": 11,
   "metadata": {},
   "outputs": [
    {
     "data": {
      "text/html": [
       "<div>\n",
       "<style>\n",
       "    .dataframe thead tr:only-child th {\n",
       "        text-align: right;\n",
       "    }\n",
       "\n",
       "    .dataframe thead th {\n",
       "        text-align: left;\n",
       "    }\n",
       "\n",
       "    .dataframe tbody tr th {\n",
       "        vertical-align: top;\n",
       "    }\n",
       "</style>\n",
       "<table border=\"1\" class=\"dataframe\">\n",
       "  <thead>\n",
       "    <tr style=\"text-align: right;\">\n",
       "      <th></th>\n",
       "      <th>teacher_prefix</th>\n",
       "      <th>school_state</th>\n",
       "      <th>teacher_number_of_previously_posted_projects</th>\n",
       "      <th>project_is_approved</th>\n",
       "      <th>clean_categories</th>\n",
       "      <th>clean_subcategory</th>\n",
       "      <th>price</th>\n",
       "      <th>quantity</th>\n",
       "      <th>cleanProjectGradeCategory</th>\n",
       "      <th>cleanTitle</th>\n",
       "      <th>cleanEssay</th>\n",
       "    </tr>\n",
       "  </thead>\n",
       "  <tbody>\n",
       "    <tr>\n",
       "      <th>0</th>\n",
       "      <td>Mrs.</td>\n",
       "      <td>IN</td>\n",
       "      <td>0</td>\n",
       "      <td>0</td>\n",
       "      <td>Literacy-Language</td>\n",
       "      <td>ESL Literacy</td>\n",
       "      <td>154.6</td>\n",
       "      <td>23</td>\n",
       "      <td>PreK-Two</td>\n",
       "      <td>educational support english learners home</td>\n",
       "      <td>students english learners working english seco...</td>\n",
       "    </tr>\n",
       "    <tr>\n",
       "      <th>1</th>\n",
       "      <td>Mr.</td>\n",
       "      <td>FL</td>\n",
       "      <td>7</td>\n",
       "      <td>1</td>\n",
       "      <td>History-Civics Health-Sports</td>\n",
       "      <td>Civics-Government TeamSports</td>\n",
       "      <td>299.0</td>\n",
       "      <td>1</td>\n",
       "      <td>Six-Eight</td>\n",
       "      <td>wanted: projector hungry learners</td>\n",
       "      <td>students arrive school eager learn. polite, ge...</td>\n",
       "    </tr>\n",
       "  </tbody>\n",
       "</table>\n",
       "</div>"
      ],
      "text/plain": [
       "  teacher_prefix school_state  teacher_number_of_previously_posted_projects  \\\n",
       "0           Mrs.           IN                                             0   \n",
       "1            Mr.           FL                                             7   \n",
       "\n",
       "   project_is_approved              clean_categories  \\\n",
       "0                    0             Literacy-Language   \n",
       "1                    1  History-Civics Health-Sports   \n",
       "\n",
       "              clean_subcategory  price  quantity cleanProjectGradeCategory  \\\n",
       "0                  ESL Literacy  154.6        23                  PreK-Two   \n",
       "1  Civics-Government TeamSports  299.0         1                 Six-Eight   \n",
       "\n",
       "                                  cleanTitle  \\\n",
       "0  educational support english learners home   \n",
       "1          wanted: projector hungry learners   \n",
       "\n",
       "                                          cleanEssay  \n",
       "0  students english learners working english seco...  \n",
       "1  students arrive school eager learn. polite, ge...  "
      ]
     },
     "execution_count": 11,
     "metadata": {},
     "output_type": "execute_result"
    }
   ],
   "source": [
    "donor.head(2)"
   ]
  },
  {
   "cell_type": "code",
   "execution_count": 12,
   "metadata": {},
   "outputs": [
    {
     "data": {
      "text/plain": [
       "(109248, 11)"
      ]
     },
     "execution_count": 12,
     "metadata": {},
     "output_type": "execute_result"
    }
   ],
   "source": [
    "donor.shape"
   ]
  },
  {
   "cell_type": "code",
   "execution_count": 13,
   "metadata": {},
   "outputs": [
    {
     "data": {
      "text/html": [
       "<div>\n",
       "<style>\n",
       "    .dataframe thead tr:only-child th {\n",
       "        text-align: right;\n",
       "    }\n",
       "\n",
       "    .dataframe thead th {\n",
       "        text-align: left;\n",
       "    }\n",
       "\n",
       "    .dataframe tbody tr th {\n",
       "        vertical-align: top;\n",
       "    }\n",
       "</style>\n",
       "<table border=\"1\" class=\"dataframe\">\n",
       "  <thead>\n",
       "    <tr style=\"text-align: right;\">\n",
       "      <th></th>\n",
       "      <th>teacher_prefix</th>\n",
       "      <th>school_state</th>\n",
       "      <th>teacher_number_of_previously_posted_projects</th>\n",
       "      <th>project_is_approved</th>\n",
       "      <th>clean_categories</th>\n",
       "      <th>clean_subcategory</th>\n",
       "      <th>price</th>\n",
       "      <th>quantity</th>\n",
       "      <th>cleanProjectGradeCategory</th>\n",
       "      <th>cleanTitle</th>\n",
       "      <th>cleanEssay</th>\n",
       "    </tr>\n",
       "  </thead>\n",
       "  <tbody>\n",
       "  </tbody>\n",
       "</table>\n",
       "</div>"
      ],
      "text/plain": [
       "Empty DataFrame\n",
       "Columns: [teacher_prefix, school_state, teacher_number_of_previously_posted_projects, project_is_approved, clean_categories, clean_subcategory, price, quantity, cleanProjectGradeCategory, cleanTitle, cleanEssay]\n",
       "Index: []"
      ]
     },
     "execution_count": 13,
     "metadata": {},
     "output_type": "execute_result"
    }
   ],
   "source": [
    "nan = donor[ donor['teacher_prefix'].isnull() ]\n",
    "\n",
    "nan"
   ]
  },
  {
   "cell_type": "code",
   "execution_count": 14,
   "metadata": {},
   "outputs": [
    {
     "data": {
      "text/html": [
       "<div>\n",
       "<style>\n",
       "    .dataframe thead tr:only-child th {\n",
       "        text-align: right;\n",
       "    }\n",
       "\n",
       "    .dataframe thead th {\n",
       "        text-align: left;\n",
       "    }\n",
       "\n",
       "    .dataframe tbody tr th {\n",
       "        vertical-align: top;\n",
       "    }\n",
       "</style>\n",
       "<table border=\"1\" class=\"dataframe\">\n",
       "  <thead>\n",
       "    <tr style=\"text-align: right;\">\n",
       "      <th></th>\n",
       "      <th>teacher_prefix</th>\n",
       "      <th>school_state</th>\n",
       "      <th>teacher_number_of_previously_posted_projects</th>\n",
       "      <th>project_is_approved</th>\n",
       "      <th>clean_categories</th>\n",
       "      <th>clean_subcategory</th>\n",
       "      <th>price</th>\n",
       "      <th>quantity</th>\n",
       "      <th>cleanProjectGradeCategory</th>\n",
       "      <th>cleanTitle</th>\n",
       "      <th>cleanEssay</th>\n",
       "    </tr>\n",
       "  </thead>\n",
       "  <tbody>\n",
       "  </tbody>\n",
       "</table>\n",
       "</div>"
      ],
      "text/plain": [
       "Empty DataFrame\n",
       "Columns: [teacher_prefix, school_state, teacher_number_of_previously_posted_projects, project_is_approved, clean_categories, clean_subcategory, price, quantity, cleanProjectGradeCategory, cleanTitle, cleanEssay]\n",
       "Index: []"
      ]
     },
     "execution_count": 14,
     "metadata": {},
     "output_type": "execute_result"
    }
   ],
   "source": [
    "donor[ donor['teacher_prefix'] == 'missing']"
   ]
  },
  {
   "cell_type": "code",
   "execution_count": 15,
   "metadata": {
    "collapsed": true
   },
   "outputs": [],
   "source": [
    "donor = donor[0:50000]"
   ]
  },
  {
   "cell_type": "code",
   "execution_count": 16,
   "metadata": {},
   "outputs": [
    {
     "data": {
      "text/plain": [
       "50000"
      ]
     },
     "execution_count": 16,
     "metadata": {},
     "output_type": "execute_result"
    }
   ],
   "source": [
    "Y = donor['project_is_approved']\n",
    "\n",
    "len( Y )  # Y = label i.e; Project is approved ( 0 or 1 )"
   ]
  },
  {
   "cell_type": "code",
   "execution_count": 17,
   "metadata": {
    "collapsed": true
   },
   "outputs": [],
   "source": [
    "donor.drop( 'project_is_approved', axis=1, inplace=True )"
   ]
  },
  {
   "cell_type": "code",
   "execution_count": 18,
   "metadata": {
    "collapsed": true
   },
   "outputs": [],
   "source": [
    "X = donor"
   ]
  },
  {
   "cell_type": "code",
   "execution_count": 19,
   "metadata": {},
   "outputs": [
    {
     "data": {
      "text/html": [
       "<div>\n",
       "<style>\n",
       "    .dataframe thead tr:only-child th {\n",
       "        text-align: right;\n",
       "    }\n",
       "\n",
       "    .dataframe thead th {\n",
       "        text-align: left;\n",
       "    }\n",
       "\n",
       "    .dataframe tbody tr th {\n",
       "        vertical-align: top;\n",
       "    }\n",
       "</style>\n",
       "<table border=\"1\" class=\"dataframe\">\n",
       "  <thead>\n",
       "    <tr style=\"text-align: right;\">\n",
       "      <th></th>\n",
       "      <th>teacher_prefix</th>\n",
       "      <th>school_state</th>\n",
       "      <th>teacher_number_of_previously_posted_projects</th>\n",
       "      <th>clean_categories</th>\n",
       "      <th>clean_subcategory</th>\n",
       "      <th>price</th>\n",
       "      <th>quantity</th>\n",
       "      <th>cleanProjectGradeCategory</th>\n",
       "      <th>cleanTitle</th>\n",
       "      <th>cleanEssay</th>\n",
       "    </tr>\n",
       "  </thead>\n",
       "  <tbody>\n",
       "    <tr>\n",
       "      <th>0</th>\n",
       "      <td>Mrs.</td>\n",
       "      <td>IN</td>\n",
       "      <td>0</td>\n",
       "      <td>Literacy-Language</td>\n",
       "      <td>ESL Literacy</td>\n",
       "      <td>154.6</td>\n",
       "      <td>23</td>\n",
       "      <td>PreK-Two</td>\n",
       "      <td>educational support english learners home</td>\n",
       "      <td>students english learners working english seco...</td>\n",
       "    </tr>\n",
       "    <tr>\n",
       "      <th>1</th>\n",
       "      <td>Mr.</td>\n",
       "      <td>FL</td>\n",
       "      <td>7</td>\n",
       "      <td>History-Civics Health-Sports</td>\n",
       "      <td>Civics-Government TeamSports</td>\n",
       "      <td>299.0</td>\n",
       "      <td>1</td>\n",
       "      <td>Six-Eight</td>\n",
       "      <td>wanted: projector hungry learners</td>\n",
       "      <td>students arrive school eager learn. polite, ge...</td>\n",
       "    </tr>\n",
       "  </tbody>\n",
       "</table>\n",
       "</div>"
      ],
      "text/plain": [
       "  teacher_prefix school_state  teacher_number_of_previously_posted_projects  \\\n",
       "0           Mrs.           IN                                             0   \n",
       "1            Mr.           FL                                             7   \n",
       "\n",
       "               clean_categories             clean_subcategory  price  \\\n",
       "0             Literacy-Language                  ESL Literacy  154.6   \n",
       "1  History-Civics Health-Sports  Civics-Government TeamSports  299.0   \n",
       "\n",
       "   quantity cleanProjectGradeCategory  \\\n",
       "0        23                  PreK-Two   \n",
       "1         1                 Six-Eight   \n",
       "\n",
       "                                  cleanTitle  \\\n",
       "0  educational support english learners home   \n",
       "1          wanted: projector hungry learners   \n",
       "\n",
       "                                          cleanEssay  \n",
       "0  students english learners working english seco...  \n",
       "1  students arrive school eager learn. polite, ge...  "
      ]
     },
     "execution_count": 19,
     "metadata": {},
     "output_type": "execute_result"
    }
   ],
   "source": [
    "X.head(2)"
   ]
  },
  {
   "cell_type": "markdown",
   "metadata": {},
   "source": [
    "## Splitting Data"
   ]
  },
  {
   "cell_type": "code",
   "execution_count": 20,
   "metadata": {
    "collapsed": true
   },
   "outputs": [],
   "source": [
    "from sklearn.model_selection import train_test_split\n",
    "\n",
    "xtrain, xtest, ytrain, ytest = train_test_split( X, Y, test_size = 0.33, stratify = Y) # Spliting into Test and Train\n",
    "\n",
    "# stratify : we need to pass array containing class label as an argument to stratify\n",
    "\n",
    "xtrain, xcv, ytrain, ycv = train_test_split( xtrain, ytrain, test_size = 0.33, stratify = ytrain )"
   ]
  },
  {
   "cell_type": "code",
   "execution_count": 21,
   "metadata": {},
   "outputs": [
    {
     "name": "stdout",
     "output_type": "stream",
     "text": [
      "(22445, 10)\n",
      "(11055, 10)\n",
      "(16500, 10)\n",
      "(22445,)\n",
      "(11055,)\n",
      "(16500,)\n"
     ]
    }
   ],
   "source": [
    "print( xtrain.shape )\n",
    "print( xcv.shape )\n",
    "print( xtest.shape )\n",
    "\n",
    "print( ytrain.shape )\n",
    "print( ycv.shape )\n",
    "print( ytest.shape )"
   ]
  },
  {
   "cell_type": "markdown",
   "metadata": {},
   "source": [
    "## Creating Data Matrix "
   ]
  },
  {
   "cell_type": "markdown",
   "metadata": {},
   "source": [
    "### Essay BOW"
   ]
  },
  {
   "cell_type": "code",
   "execution_count": 22,
   "metadata": {
    "collapsed": true
   },
   "outputs": [],
   "source": [
    "from sklearn.feature_extraction.text import CountVectorizer\n",
    "\n",
    "vect = CountVectorizer( min_df = 10, ngram_range=(1,4) )\n",
    "# ngram_range : The lower and upper boundary of the range of n-values for different n-grams to be extracted.\n",
    "\n",
    "vect.fit( xtrain['cleanEssay'].values )\n",
    "# vect.fit( text ): Means that internally it is only learning the vocabulary of `Text` i.e. unique n-grams\n",
    "\n",
    "# THE VOCABULARY SHOULD BUILT ONLY WITH THE WORDS OF TRAIN DATA\n",
    "\n",
    "xtrEssayBOW = vect.transform( xtrain['cleanEssay'].values ) \n",
    "xcvEssayBOW = vect.transform( xcv['cleanEssay'].values ) \n",
    "xteEssayBOW = vect.transform( xtest['cleanEssay'].values )"
   ]
  },
  {
   "cell_type": "code",
   "execution_count": 23,
   "metadata": {},
   "outputs": [
    {
     "name": "stdout",
     "output_type": "stream",
     "text": [
      "(22445, 65668)\n",
      "(11055, 65668)\n",
      "(16500, 65668)\n"
     ]
    }
   ],
   "source": [
    "print( xtrEssayBOW.shape )\n",
    "print( xcvEssayBOW.shape )\n",
    "print( xteEssayBOW.shape )"
   ]
  },
  {
   "cell_type": "markdown",
   "metadata": {},
   "source": [
    "### Essay TFIDF"
   ]
  },
  {
   "cell_type": "code",
   "execution_count": 24,
   "metadata": {},
   "outputs": [
    {
     "name": "stdout",
     "output_type": "stream",
     "text": [
      "(22445, 8892)\n",
      "(11055, 8892)\n",
      "(16500, 8892)\n"
     ]
    }
   ],
   "source": [
    "from sklearn.feature_extraction.text import TfidfVectorizer\n",
    "from sklearn.feature_extraction.text import TfidfTransformer\n",
    "\n",
    "tfidfvect = TfidfVectorizer( min_df = 10 )\n",
    "\n",
    "tfidfvect.fit( xtrain['cleanEssay'].values )\n",
    "\n",
    "xtrEssayTFIDF = tfidfvect.transform( xtrain['cleanEssay'].values )\n",
    "xcvEssayTFIDF = tfidfvect.transform( xcv['cleanEssay'].values )\n",
    "xteEssayTFIDF = tfidfvect.transform( xtest['cleanEssay'].values )\n",
    "\n",
    "print( xtrEssayTFIDF.shape )\n",
    "print( xcvEssayTFIDF.shape )\n",
    "print( xteEssayTFIDF.shape )"
   ]
  },
  {
   "cell_type": "markdown",
   "metadata": {},
   "source": [
    "### Project Title BOW"
   ]
  },
  {
   "cell_type": "code",
   "execution_count": 25,
   "metadata": {},
   "outputs": [
    {
     "name": "stdout",
     "output_type": "stream",
     "text": [
      "(22445, 1737)\n",
      "(11055, 1737)\n",
      "(16500, 1737)\n"
     ]
    }
   ],
   "source": [
    "from sklearn.feature_extraction.text import CountVectorizer\n",
    "\n",
    "vectTF = CountVectorizer( min_df = 10, ngram_range = (1,4) )\n",
    "\n",
    "vectTF.fit( xtrain['cleanTitle'].values )\n",
    "\n",
    "xtrTitleBOW = vectTF.transform( xtrain['cleanTitle'].values )\n",
    "xcvTitleBOW = vectTF.transform( xcv['cleanTitle'].values )\n",
    "xteTitleBOW = vectTF.transform( xtest['cleanTitle'].values )\n",
    "\n",
    "print( xtrTitleBOW.shape )\n",
    "print( xcvTitleBOW.shape )\n",
    "print( xteTitleBOW.shape )"
   ]
  },
  {
   "cell_type": "markdown",
   "metadata": {},
   "source": [
    "### Project Title TFIDF"
   ]
  },
  {
   "cell_type": "code",
   "execution_count": 26,
   "metadata": {},
   "outputs": [
    {
     "name": "stdout",
     "output_type": "stream",
     "text": [
      "(22445, 1194)\n",
      "(11055, 1194)\n",
      "(16500, 1194)\n"
     ]
    }
   ],
   "source": [
    "from sklearn.feature_extraction.text import TfidfVectorizer\n",
    "from sklearn.feature_extraction.text import TfidfTransformer\n",
    "\n",
    "tfidfvectTF = TfidfVectorizer( min_df=10 )\n",
    "tfidfvectTF.fit( xtrain['cleanTitle'].values )\n",
    "\n",
    "xtrTitleTFIDF = tfidfvectTF.transform( xtrain['cleanTitle'].values )\n",
    "xcvTitleTFIDF = tfidfvectTF.transform( xcv['cleanTitle'].values )\n",
    "xteTitleTFIDF = tfidfvectTF.transform( xtest['cleanTitle'].values )\n",
    "\n",
    "print( xtrTitleTFIDF.shape )\n",
    "print( xcvTitleTFIDF.shape )\n",
    "print( xteTitleTFIDF.shape )"
   ]
  },
  {
   "cell_type": "markdown",
   "metadata": {},
   "source": [
    "### State"
   ]
  },
  {
   "cell_type": "code",
   "execution_count": 27,
   "metadata": {
    "collapsed": true
   },
   "outputs": [],
   "source": [
    "vectState = CountVectorizer()\n",
    "\n",
    "vectState.fit( xtrain['school_state'].values )\n",
    "\n",
    "xtrState = vectState.transform( xtrain['school_state'].values )\n",
    "xcvState = vectState.transform( xcv['school_state'].values )\n",
    "xteState = vectState.transform( xtest['school_state'].values )"
   ]
  },
  {
   "cell_type": "code",
   "execution_count": 28,
   "metadata": {},
   "outputs": [
    {
     "name": "stdout",
     "output_type": "stream",
     "text": [
      "(22445, 51)\n",
      "(11055, 51)\n",
      "(16500, 51)\n"
     ]
    }
   ],
   "source": [
    "print( xtrState.shape )\n",
    "print( xcvState.shape )\n",
    "print( xteState.shape )"
   ]
  },
  {
   "cell_type": "code",
   "execution_count": 29,
   "metadata": {},
   "outputs": [
    {
     "name": "stdout",
     "output_type": "stream",
     "text": [
      "['ak', 'al', 'ar', 'az', 'ca', 'co', 'ct', 'dc', 'de', 'fl', 'ga', 'hi', 'ia', 'id', 'il', 'in', 'ks', 'ky', 'la', 'ma', 'md', 'me', 'mi', 'mn', 'mo', 'ms', 'mt', 'nc', 'nd', 'ne', 'nh', 'nj', 'nm', 'nv', 'ny', 'oh', 'ok', 'or', 'pa', 'ri', 'sc', 'sd', 'tn', 'tx', 'ut', 'va', 'vt', 'wa', 'wi', 'wv', 'wy']\n"
     ]
    }
   ],
   "source": [
    "print( vectState.get_feature_names() )"
   ]
  },
  {
   "cell_type": "markdown",
   "metadata": {},
   "source": [
    "### Teacher Prefix"
   ]
  },
  {
   "cell_type": "code",
   "execution_count": 30,
   "metadata": {
    "collapsed": true
   },
   "outputs": [],
   "source": [
    "vectPrefix = CountVectorizer( vocabulary=['dr', 'mr', 'mrs', 'ms', 'teacher'] )\n",
    "\n",
    "vectPrefix.fit( xtrain['teacher_prefix'].values  )\n",
    "\n",
    "xtrPrefix = vectPrefix.transform( xtrain['teacher_prefix'].values )\n",
    "xcvPrefix = vectPrefix.transform( xcv['teacher_prefix'].values )\n",
    "xtePrefix = vectPrefix.transform( xtest['teacher_prefix'].values )"
   ]
  },
  {
   "cell_type": "code",
   "execution_count": 31,
   "metadata": {},
   "outputs": [
    {
     "name": "stdout",
     "output_type": "stream",
     "text": [
      "(22445, 5)\n",
      "(11055, 5)\n",
      "(16500, 5)\n"
     ]
    }
   ],
   "source": [
    "print( xtrPrefix.shape )\n",
    "print( xcvPrefix.shape )\n",
    "print( xtePrefix.shape )"
   ]
  },
  {
   "cell_type": "code",
   "execution_count": 32,
   "metadata": {},
   "outputs": [
    {
     "name": "stdout",
     "output_type": "stream",
     "text": [
      "['dr', 'mr', 'mrs', 'ms', 'teacher']\n"
     ]
    }
   ],
   "source": [
    "print( vectPrefix.get_feature_names() )"
   ]
  },
  {
   "cell_type": "markdown",
   "metadata": {},
   "source": [
    "### Category"
   ]
  },
  {
   "cell_type": "code",
   "execution_count": 33,
   "metadata": {},
   "outputs": [
    {
     "name": "stdout",
     "output_type": "stream",
     "text": [
      "(22445, 15)\n",
      "(11055, 15)\n",
      "(16500, 15)\n"
     ]
    }
   ],
   "source": [
    "vectCat = CountVectorizer()\n",
    "\n",
    "vectCat.fit( xtrain['clean_categories'].values )\n",
    "\n",
    "xtrCat = vectCat.transform( xtrain['clean_categories'].values )\n",
    "xcvCat = vectCat.transform( xcv['clean_categories'].values )\n",
    "xteCat = vectCat.transform( xtest['clean_categories'].values )\n",
    "\n",
    "print( xtrCat.shape )\n",
    "print( xcvCat.shape )\n",
    "print( xteCat.shape )"
   ]
  },
  {
   "cell_type": "markdown",
   "metadata": {},
   "source": [
    "### Sub Category"
   ]
  },
  {
   "cell_type": "code",
   "execution_count": 34,
   "metadata": {},
   "outputs": [
    {
     "name": "stdout",
     "output_type": "stream",
     "text": [
      "(22445, 37)\n",
      "(11055, 37)\n",
      "(16500, 37)\n"
     ]
    }
   ],
   "source": [
    "vectSubCat = CountVectorizer()\n",
    "\n",
    "vectSubCat.fit( xtrain['clean_subcategory'].values )\n",
    "\n",
    "xtrSubCat = vectSubCat.transform( xtrain['clean_subcategory'].values )\n",
    "xcvSubCat = vectSubCat.transform( xcv['clean_subcategory'].values )\n",
    "xteSubCat = vectSubCat.transform( xtest['clean_subcategory'].values )\n",
    "\n",
    "print( xtrSubCat.shape )\n",
    "print( xcvSubCat.shape )\n",
    "print( xteSubCat.shape )"
   ]
  },
  {
   "cell_type": "markdown",
   "metadata": {},
   "source": [
    "### Project Grade Category"
   ]
  },
  {
   "cell_type": "code",
   "execution_count": 35,
   "metadata": {},
   "outputs": [
    {
     "name": "stdout",
     "output_type": "stream",
     "text": [
      "(22445, 8)\n",
      "(11055, 8)\n",
      "(16500, 8)\n"
     ]
    }
   ],
   "source": [
    "vectGCat = CountVectorizer()\n",
    "\n",
    "vectGCat.fit( xtrain['cleanProjectGradeCategory'].values )\n",
    "\n",
    "xtrGCat = vectGCat.transform( xtrain['cleanProjectGradeCategory'].values )\n",
    "xcvGCat = vectGCat.transform( xcv['cleanProjectGradeCategory'].values )\n",
    "xteGCat = vectGCat.transform( xtest['cleanProjectGradeCategory'].values )\n",
    "\n",
    "print( xtrGCat.shape )\n",
    "print( xcvGCat.shape )\n",
    "print( xteGCat.shape )"
   ]
  },
  {
   "cell_type": "markdown",
   "metadata": {},
   "source": [
    "### Price"
   ]
  },
  {
   "cell_type": "code",
   "execution_count": 36,
   "metadata": {
    "collapsed": true
   },
   "outputs": [],
   "source": [
    "from sklearn.preprocessing import Normalizer\n",
    "\n",
    "norm = Normalizer()\n",
    "\n",
    "# norm.fit( xtrain['price'].values ) # gives error : Expected 2D array, got 1D array instead\n",
    "norm.fit( xtrain['price'].values.reshape(-1,1) )\n",
    "\n",
    "xtrPrice = norm.transform( xtrain['price'].values.reshape(-1,1) )\n",
    "xcvPrice = norm.transform( xcv['price'].values.reshape(-1,1) )\n",
    "xtePrice = norm.transform( xtest['price'].values.reshape(-1,1) )"
   ]
  },
  {
   "cell_type": "code",
   "execution_count": 37,
   "metadata": {},
   "outputs": [
    {
     "name": "stdout",
     "output_type": "stream",
     "text": [
      "(22445, 1)\n",
      "(11055, 1)\n",
      "(16500, 1)\n"
     ]
    }
   ],
   "source": [
    "print( xtrPrice.shape )\n",
    "print( xcvPrice.shape )\n",
    "print( xtePrice.shape )"
   ]
  },
  {
   "cell_type": "markdown",
   "metadata": {},
   "source": [
    "### Previously Posted projects"
   ]
  },
  {
   "cell_type": "code",
   "execution_count": 38,
   "metadata": {},
   "outputs": [
    {
     "name": "stdout",
     "output_type": "stream",
     "text": [
      "(22445, 1)\n",
      "(11055, 1)\n",
      "(16500, 1)\n"
     ]
    }
   ],
   "source": [
    "from sklearn.preprocessing import Normalizer\n",
    "\n",
    "norm = Normalizer()\n",
    "\n",
    "# norm.fit( xtrain['price'].values ) # gives error : Expected 2D array, got 1D array instead\n",
    "norm.fit( xtrain['teacher_number_of_previously_posted_projects'].values.reshape(-1,1) )\n",
    "\n",
    "xtrPrev = norm.transform( xtrain['teacher_number_of_previously_posted_projects'].values.reshape(-1,1) )\n",
    "xcvPrev = norm.transform( xcv['teacher_number_of_previously_posted_projects'].values.reshape(-1,1) )\n",
    "xtePrev = norm.transform( xtest['teacher_number_of_previously_posted_projects'].values.reshape(-1,1) )\n",
    "\n",
    "print( xtrPrev.shape )\n",
    "print( xcvPrev.shape )\n",
    "print( xtePrev.shape )"
   ]
  },
  {
   "cell_type": "markdown",
   "metadata": {},
   "source": [
    "### Quantity"
   ]
  },
  {
   "cell_type": "code",
   "execution_count": 39,
   "metadata": {},
   "outputs": [
    {
     "name": "stdout",
     "output_type": "stream",
     "text": [
      "(22445, 1)\n",
      "(11055, 1)\n",
      "(16500, 1)\n"
     ]
    }
   ],
   "source": [
    "from sklearn.preprocessing import Normalizer\n",
    "\n",
    "norm = Normalizer()\n",
    "\n",
    "# norm.fit( xtrain['price'].values ) # gives error : Expected 2D array, got 1D array instead\n",
    "norm.fit( xtrain['quantity'].values.reshape(-1,1) )\n",
    "\n",
    "xtrQuan = norm.transform( xtrain['quantity'].values.reshape(-1,1) )\n",
    "xcvQuan = norm.transform( xcv['quantity'].values.reshape(-1,1) )\n",
    "xteQuan = norm.transform( xtest['quantity'].values.reshape(-1,1) )\n",
    "\n",
    "print( xtrPrev.shape )\n",
    "print( xcvPrev.shape )\n",
    "print( xtePrev.shape )"
   ]
  },
  {
   "cell_type": "markdown",
   "metadata": {},
   "source": [
    "## Merging Features"
   ]
  },
  {
   "cell_type": "markdown",
   "metadata": {},
   "source": [
    "### Set 1"
   ]
  },
  {
   "cell_type": "code",
   "execution_count": 40,
   "metadata": {},
   "outputs": [
    {
     "name": "stdout",
     "output_type": "stream",
     "text": [
      "(22445, 67524) (22445,)\n",
      "(11055, 67524) (11055,)\n",
      "(16500, 67524) (16500,)\n"
     ]
    }
   ],
   "source": [
    "from scipy.sparse import hstack\n",
    "\n",
    "xtr1 = hstack(( xtrEssayBOW, xtrTitleBOW, xtrState, xtrPrefix, xtrCat, xtrSubCat, xtrGCat, xtrPrice, xtrPrev, xtrQuan )).tocsr()\n",
    "xcv1 = hstack(( xcvEssayBOW, xcvTitleBOW, xcvState, xcvPrefix, xcvCat, xcvSubCat, xcvGCat, xcvPrice, xcvPrev, xcvQuan )).tocsr()\n",
    "xte1 = hstack(( xteEssayBOW, xteTitleBOW, xteState, xtePrefix, xteCat, xteSubCat, xteGCat, xtePrice, xtePrev, xteQuan )).tocsr()\n",
    "\n",
    "print( xtr1.shape, ytrain.shape )\n",
    "print( xcv1.shape, ycv.shape )\n",
    "print( xte1.shape, ytest.shape )"
   ]
  },
  {
   "cell_type": "markdown",
   "metadata": {},
   "source": [
    "### Set 2"
   ]
  },
  {
   "cell_type": "code",
   "execution_count": 41,
   "metadata": {},
   "outputs": [
    {
     "name": "stdout",
     "output_type": "stream",
     "text": [
      "(22445, 10205) (22445,)\n",
      "(11055, 10205) (11055,)\n",
      "(16500, 10205) (16500,)\n"
     ]
    }
   ],
   "source": [
    "from scipy.sparse import hstack\n",
    "\n",
    "xtr2 = hstack(( xtrEssayTFIDF, xtrTitleTFIDF, xtrState, xtrPrefix, xtrCat, xtrSubCat, xtrGCat, xtrPrice, xtrPrev, xtrQuan )).tocsr()\n",
    "xcv2 = hstack(( xcvEssayTFIDF, xcvTitleTFIDF, xcvState, xcvPrefix, xcvCat, xcvSubCat, xcvGCat, xcvPrice, xcvPrev, xcvQuan )).tocsr()\n",
    "xte2 = hstack(( xteEssayTFIDF, xteTitleTFIDF, xteState, xtePrefix, xteCat, xteSubCat, xteGCat, xtePrice, xtePrev, xteQuan )).tocsr()\n",
    "\n",
    "print( xtr2.shape, ytrain.shape )\n",
    "print( xcv2.shape, ycv.shape )\n",
    "print( xte2.shape, ytest.shape )"
   ]
  },
  {
   "cell_type": "code",
   "execution_count": 42,
   "metadata": {},
   "outputs": [
    {
     "name": "stdout",
     "output_type": "stream",
     "text": [
      "0.1\n"
     ]
    }
   ],
   "source": [
    "import numpy as np\n",
    "a = 10**-1\n",
    "print( np.round(a,5) )"
   ]
  },
  {
   "cell_type": "code",
   "execution_count": 43,
   "metadata": {
    "collapsed": true
   },
   "outputs": [],
   "source": [
    "from sklearn.naive_bayes import MultinomialNB\n",
    "import matplotlib.pyplot as plt"
   ]
  },
  {
   "cell_type": "markdown",
   "metadata": {},
   "source": [
    "## Functions for Code Resuability"
   ]
  },
  {
   "cell_type": "markdown",
   "metadata": {},
   "source": [
    "### Function to plot Errors"
   ]
  },
  {
   "cell_type": "code",
   "execution_count": 44,
   "metadata": {
    "collapsed": true
   },
   "outputs": [],
   "source": [
    "def batchPredict( data, classifier ): # Predict the probablity of data points in batch i.e; some data points at once \n",
    "    \n",
    "    yPred = []\n",
    "    \n",
    "    loop = data.shape[0] - data.shape[0] % 1000   # data.shape[0] : no of rows in data matrix\n",
    "    # for ex data shape = 4489 then loop = 4489 - 4489%1000 = 4489 - 489 = 4000 \n",
    "    # Now we can divide our loop into 4 interval of 1000s and one remaining 489\n",
    "    # ie; 1-1000 in 1st iteration 1000-2000 in 2nd iteration 2000-3000 in 3rd 3000-4000 in 4th and 4000-4489 in the last iteraion\n",
    "    \n",
    "    for i in range( 0, loop, 1000 ):\n",
    "        # If loop = 4000 Computes proba for 0 - 4000 in 4 iterations\n",
    "       \n",
    "        yPred.extend( classifier.predict_proba( data[i : i+1000] )[ :, 1] ) # [ :, 1] : All row Only 1 col\n",
    "        # predict_proba : Return probability estimates for the test data X.\n",
    "\n",
    "    yPred.extend( classifier.predict_proba( data[ loop : ] )[ :, 1 ] )\n",
    "    # computes probab for remaining points\n",
    "\n",
    "    return yPred"
   ]
  },
  {
   "cell_type": "code",
   "execution_count": null,
   "metadata": {
    "collapsed": true
   },
   "outputs": [],
   "source": []
  },
  {
   "cell_type": "code",
   "execution_count": 45,
   "metadata": {
    "collapsed": true
   },
   "outputs": [],
   "source": [
    "from sklearn.metrics import roc_auc_score\n",
    "\n",
    "def NB( xtr, xcv, ytr, ycv ):\n",
    "\n",
    "    trAUC = []\n",
    "    cvAUC = []\n",
    "    \n",
    "    a = [ 10**-5, 10**-4, 10**-3, 10**-2, 0.1, 1, 10, 100 ] \n",
    "    \n",
    "    print(' '*4,'- First -', ' '*4,'- Second -', ' '*4,'- Third -', ' '*4,'- Fourth -', ' '*4,'- Fifth -', ' '*4,'- Sixth -'\n",
    "         , ' '*4,'- Seven -', ' '*4,'- Eight -')\n",
    "\n",
    "\n",
    "    for i in a:\n",
    "\n",
    "        naive = MultinomialNB( alpha = i )\n",
    "        naive.fit(xtr, ytr)\n",
    "\n",
    "        ytrPred = batchPredict( xtr, naive )    \n",
    "        ycvPred = batchPredict( xcv, naive )\n",
    "\n",
    "        # roc_auc_score(y_true, y_score) the 2nd parameter should be probability estimates of the positive class\n",
    "        # not the predicted outputs \n",
    "\n",
    "        trAUC.append( roc_auc_score( ytrain, ytrPred ))\n",
    "        cvAUC.append( roc_auc_score( ycv, ycvPred ))\n",
    "\n",
    "        print('#'*14, end ='  ' )\n",
    "\n",
    "    plt.figure( figsize = ( 15, 5 ) )\n",
    "\n",
    "    plt.plot( np.log(a), trAUC, label = 'Train AUC')\n",
    "    plt.plot( np.log(a), cvAUC, label = 'CV AUC')\n",
    "\n",
    "    plt.scatter( np.log(a), trAUC, label = 'Train AUC points')\n",
    "    plt.scatter( np.log(a), cvAUC, label = 'CV AUC points')\n",
    "\n",
    "    plt.legend()\n",
    "    plt.xlabel(\"alpha: hyperparameter\")\n",
    "    plt.ylabel(\"AUC\")\n",
    "    plt.title(\"ERROR PLOTS\")\n",
    "    plt.grid()\n",
    "    plt.show()"
   ]
  },
  {
   "cell_type": "code",
   "execution_count": 46,
   "metadata": {
    "collapsed": true
   },
   "outputs": [],
   "source": [
    "import numpy as np\n",
    "import seaborn as sns"
   ]
  },
  {
   "cell_type": "markdown",
   "metadata": {},
   "source": [
    "### Function to calculate and plot Confusion matrix"
   ]
  },
  {
   "cell_type": "code",
   "execution_count": 47,
   "metadata": {
    "collapsed": true
   },
   "outputs": [],
   "source": [
    "def predictCM( probab, threshold, fpr, tpr ):\n",
    "    \n",
    "    t = threshold[ np.argmax( fpr*( 1 - tpr ) ) ]  # returns the threshold val for the point with max fpr(1-tpr) value\n",
    "    # fpr*( 1 - tpr ) will be high if fpr is high and tpr is low, argmax : Returns the indices of the maximum val along an axis\n",
    "    \n",
    "    print(\" The maximum value of tpr*(1-fpr) = \", max( tpr*(1-fpr) ), \" for threshold = \", np.round(t,3))\n",
    "    \n",
    "    pred = []\n",
    "    for i in probab: # i = Probaility for all data points\n",
    "        if i >= t:   #  if Probablity of a point is >= the Threshold value i,e; Threshold at index of max val of fpr(1-tpr) \n",
    "            pred.append(1)\n",
    "        else:\n",
    "            pred.append(0)\n",
    "            \n",
    "    return pred"
   ]
  },
  {
   "cell_type": "code",
   "execution_count": 48,
   "metadata": {
    "collapsed": true
   },
   "outputs": [],
   "source": [
    "from sklearn.metrics import confusion_matrix\n",
    "\n",
    "def cm( ytr, yte, yTrainPred, trThreshold, trFPR, trTPR, yTestPred, teThreshold, teFPR, teTPR, sno ):\n",
    "   \n",
    "    print(\"Confusion Matrix for Train of Set \", sno)\n",
    "    \n",
    "    predicted = predictCM( yTrainPred, trThreshold, trFPR, trTPR )\n",
    "    cmtr = confusion_matrix( ytr, predicted )\n",
    "    print( cmtr  )\n",
    "\n",
    "    plt.figure( figsize = (8,6) )\n",
    "    sns.set( font_scale = 1.4 ) #for label size\n",
    "    sns.heatmap( cmtr,fmt=\".1f\", annot = True, annot_kws={\"size\": 18}, cmap='Blues_r' )# font size\n",
    "    plt.show()\n",
    "    plt.close()\n",
    "\n",
    "\n",
    "\n",
    "    print(\"\\n\\nConfusion Matrix for Test 1 \")\n",
    "    predicted = predictCM( yTestPred, teThreshold, teFPR, teTPR )\n",
    "\n",
    "    cmte = confusion_matrix( yte, predicted )\n",
    "    print( cmte )\n",
    "\n",
    "    plt.figure( figsize = (8,6) )\n",
    "    sns.set( font_scale = 1.4 ) #for label size\n",
    "    sns.heatmap( cmte, fmt=\".1f\", annot = True, annot_kws={\"size\": 18}, cmap='Blues_r' )# font size\n",
    "    plt.show()\n",
    "    plt.close()"
   ]
  },
  {
   "cell_type": "markdown",
   "metadata": {},
   "source": [
    "### Function to plot roc and calculating AUC"
   ]
  },
  {
   "cell_type": "code",
   "execution_count": null,
   "metadata": {
    "collapsed": true
   },
   "outputs": [],
   "source": []
  },
  {
   "cell_type": "code",
   "execution_count": 49,
   "metadata": {
    "collapsed": true
   },
   "outputs": [],
   "source": [
    "from sklearn.metrics import roc_curve, auc\n",
    "\n",
    "def roc( xtr, ytr, xte, bestA, sno  ):\n",
    "    \n",
    "    naive = MultinomialNB( alpha = bestA )\n",
    "    naive.fit( xtr, ytr )\n",
    "\n",
    "    yTrainPred = batchPredict( xtr, naive )\n",
    "\n",
    "    yTestPred = batchPredict( xte, naive )\n",
    "\n",
    "    trFPR, trTPR, trThreshold = roc_curve( ytrain, yTrainPred ) # ytrain and YTrainPred must have same no. of points\n",
    "    teFPR, teTPR, teThreshold = roc_curve(ytest, yTestPred )\n",
    "\n",
    "    # roc_curve() : Compute Receiver operating characteristic (ROC),\n",
    "    # this implementation is restricted to the binary classification task.\n",
    "    # roc_curve( yTrue, yScore ) : yTrue = True Binary labels, yScore = Target values Probablistic estimate, confidence values etc\n",
    "    # The func returns 3 arrays : fpr = false Positive rates, tpr = True Positive rates, Threshold \n",
    "\n",
    "    plt.figure( figsize = (15, 5) )\n",
    "    plt.plot( trFPR, trTPR, label=\"Train AUC = \" + str( auc( trFPR, trTPR ) ) )\n",
    "    plt.plot( teFPR, teTPR, label=\"Test AUC = \" + str( auc( teFPR, teTPR ) ) )\n",
    "\n",
    "    plt.legend()\n",
    "    plt.xlabel(\"A: hyperparameter\")\n",
    "    plt.ylabel(\"AUC\")\n",
    "    plt.title(\"ERROR PLOTS\")\n",
    "    plt.grid()\n",
    "    plt.show()\n",
    "    \n",
    "    cm( ytr, ytest, yTrainPred, trThreshold, trFPR, trTPR, yTestPred, teThreshold, teFPR, teTPR, sno )"
   ]
  },
  {
   "cell_type": "markdown",
   "metadata": {
    "collapsed": true
   },
   "source": [
    "# Opeartions on Set 1"
   ]
  },
  {
   "cell_type": "code",
   "execution_count": 50,
   "metadata": {},
   "outputs": [
    {
     "name": "stdout",
     "output_type": "stream",
     "text": [
      "     - First -      - Second -      - Third -      - Fourth -      - Fifth -      - Sixth -      - Seven -      - Eight -\n",
      "##############  ##############  ##############  ##############  ##############  ##############  ##############  ##############  "
     ]
    },
    {
     "data": {
      "image/png": "[encoded data removed]",
      "text/plain": [
       "<matplotlib.figure.Figure at 0x248b48f33c8>"
      ]
     },
     "metadata": {},
     "output_type": "display_data"
    }
   ],
   "source": [
    "NB( xtr1, xcv1, ytrain, ycv )\n",
    "\n",
    "# [ 10**-5, 10**-4, 10**-3, 10**-2, 0.1, 1, 10, 100 ]"
   ]
  },
  {
   "cell_type": "code",
   "execution_count": null,
   "metadata": {
    "collapsed": true
   },
   "outputs": [],
   "source": []
  },
  {
   "cell_type": "code",
   "execution_count": 51,
   "metadata": {},
   "outputs": [
    {
     "data": {
      "text/plain": [
       "67524"
      ]
     },
     "execution_count": 51,
     "metadata": {},
     "output_type": "execute_result"
    }
   ],
   "source": [
    "# Getting all the features of BOW ( i.e; Set 1 )\n",
    "\n",
    "feat = [] \n",
    "\n",
    "feat.extend( vect.get_feature_names() ) \n",
    "feat.extend( vectTF.get_feature_names() ) \n",
    "feat.extend( vectState.get_feature_names() )\n",
    "feat.extend( vectPrefix.get_feature_names() )\n",
    "feat.extend( vectCat.get_feature_names() )\n",
    "feat.extend( vectSubCat.get_feature_names() )\n",
    "feat.extend( vectGCat.get_feature_names() )\n",
    "feat.append('Price')\n",
    "feat.append('Previously Posted Projects')\n",
    "feat.append('Quantity')\n",
    "\n",
    "len(feat)"
   ]
  },
  {
   "cell_type": "code",
   "execution_count": 52,
   "metadata": {},
   "outputs": [
    {
     "name": "stdout",
     "output_type": "stream",
     "text": [
      "[52355 46740 30152  9371 29295 24322 67523 67521 36739 34052]\n"
     ]
    }
   ],
   "source": [
    "bestA = 1\n",
    "\n",
    "naive = MultinomialNB( alpha = bestA )\n",
    "\n",
    "naive.fit( xtr1, ytrain )\n",
    "\n",
    "NegProb = naive.feature_log_prob_[0, :].argsort() # Class 0 all Features\n",
    "# argsort() will sort indices from low probability to high probability\n",
    "# So we need to reverse our indicies list\n",
    "NegProb = NegProb[::-1]\n",
    "print( NegProb[:10] )\n",
    "\n",
    "# feature_log_prob_ : Empirical log probability of features given a class, P(x_i|y).\n",
    "# array, shape (n_classes, n_features)"
   ]
  },
  {
   "cell_type": "code",
   "execution_count": 53,
   "metadata": {},
   "outputs": [
    {
     "name": "stdout",
     "output_type": "stream",
     "text": [
      " Top 10 -ve class ( 0 ) features\n",
      "1 .  students\n",
      "2 .  school\n",
      "3 .  learning\n",
      "4 .  classroom\n",
      "5 .  learn\n",
      "6 .  help\n",
      "7 .  Quantity\n",
      "8 .  Price\n",
      "9 .  nannan\n",
      "10 .  many\n"
     ]
    }
   ],
   "source": [
    "print(' Top 10 -ve class ( 0 ) features')\n",
    "c = 0\n",
    "for i in NegProb[:10]:\n",
    "    c +=1\n",
    "    print(c,'. ',feat[i])"
   ]
  },
  {
   "cell_type": "code",
   "execution_count": 54,
   "metadata": {},
   "outputs": [
    {
     "name": "stdout",
     "output_type": "stream",
     "text": [
      "[52355 46740 30152  9371 29295 24322 67523 67521 34052 36739]\n"
     ]
    }
   ],
   "source": [
    "PosProb = naive.feature_log_prob_[1, :].argsort() # Class 0 all Features\n",
    "\n",
    "PosProb = PosProb[::-1]\n",
    "print( PosProb[:10])\n",
    "\n",
    "# feature_log_prob_ : Empirical log probability of features given a class, P(x_i|y).\n",
    "# array, shape (n_classes, n_features)"
   ]
  },
  {
   "cell_type": "code",
   "execution_count": 55,
   "metadata": {},
   "outputs": [
    {
     "name": "stdout",
     "output_type": "stream",
     "text": [
      " Top 10 +ve class ( 1 ) features\n",
      "1 .  students\n",
      "2 .  school\n",
      "3 .  learning\n",
      "4 .  classroom\n",
      "5 .  learn\n",
      "6 .  help\n",
      "7 .  Quantity\n",
      "8 .  Price\n",
      "9 .  many\n",
      "10 .  nannan\n"
     ]
    }
   ],
   "source": [
    "print(' Top 10 +ve class ( 1 ) features')\n",
    "c = 0\n",
    "for i in PosProb[0:10]:\n",
    "    c +=1\n",
    "    print(c,'. ',feat[i])"
   ]
  },
  {
   "cell_type": "code",
   "execution_count": 56,
   "metadata": {},
   "outputs": [
    {
     "data": {
      "image/png": "[encoded data removed]",
      "text/plain": [
       "<matplotlib.figure.Figure at 0x2488423d048>"
      ]
     },
     "metadata": {},
     "output_type": "display_data"
    },
    {
     "name": "stdout",
     "output_type": "stream",
     "text": [
      "Confusion Matrix for Train of Set  1\n",
      " The maximum value of tpr*(1-fpr) =  0.7373290525276268  for threshold =  0.769\n",
      "[[ 2916   547]\n",
      " [ 2437 16545]]\n"
     ]
    },
    {
     "data": {
      "image/png": "[encoded data removed]",
      "text/plain": [
       "<matplotlib.figure.Figure at 0x2488423dda0>"
      ]
     },
     "metadata": {},
     "output_type": "display_data"
    },
    {
     "name": "stdout",
     "output_type": "stream",
     "text": [
      "\n",
      "\n",
      "Confusion Matrix for Test 1 \n",
      " The maximum value of tpr*(1-fpr) =  0.403284903905448  for threshold =  1.0\n",
      "[[1526 1020]\n",
      " [4697 9257]]\n"
     ]
    },
    {
     "data": {
      "image/png": "[encoded data removed]",
      "text/plain": [
       "<matplotlib.figure.Figure at 0x248ef24e780>"
      ]
     },
     "metadata": {},
     "output_type": "display_data"
    }
   ],
   "source": [
    "roc( xtr1, ytrain, xte1, bestA, 1 )"
   ]
  },
  {
   "cell_type": "code",
   "execution_count": 57,
   "metadata": {
    "collapsed": true
   },
   "outputs": [],
   "source": [
    "sns.set_style('whitegrid')"
   ]
  },
  {
   "cell_type": "markdown",
   "metadata": {
    "collapsed": true
   },
   "source": [
    "## Opeartions on set 2"
   ]
  },
  {
   "cell_type": "code",
   "execution_count": 58,
   "metadata": {},
   "outputs": [
    {
     "name": "stdout",
     "output_type": "stream",
     "text": [
      "     - First -      - Second -      - Third -      - Fourth -      - Fifth -      - Sixth -      - Seven -      - Eight -\n",
      "##############  ##############  ##############  ##############  ##############  ##############  ##############  ##############  "
     ]
    },
    {
     "data": {
      "image/png": "[encoded data removed]",
      "text/plain": [
       "<matplotlib.figure.Figure at 0x248e5d2e5c0>"
      ]
     },
     "metadata": {},
     "output_type": "display_data"
    }
   ],
   "source": [
    "NB( xtr2, xcv2, ytrain, ycv )\n",
    "\n",
    "# NB( xtr1, xcv1, ytrain, ycv )"
   ]
  },
  {
   "cell_type": "code",
   "execution_count": 59,
   "metadata": {},
   "outputs": [
    {
     "data": {
      "text/plain": [
       "10205"
      ]
     },
     "execution_count": 59,
     "metadata": {},
     "output_type": "execute_result"
    }
   ],
   "source": [
    "# Getting all the features of TFIDF ( i.e; Set 2 )\n",
    "\n",
    "feat = [] \n",
    "\n",
    "feat.extend( tfidfvect.get_feature_names() ) \n",
    "feat.extend( tfidfvectTF.get_feature_names() ) \n",
    "feat.extend( vectState.get_feature_names() )\n",
    "feat.extend( vectPrefix.get_feature_names() )\n",
    "feat.extend( vectCat.get_feature_names() )\n",
    "feat.extend( vectSubCat.get_feature_names() )\n",
    "feat.extend( vectGCat.get_feature_names() )\n",
    "feat.append('Price')\n",
    "feat.append('Previously Posted Projects')\n",
    "feat.append('Quantity')\n",
    "\n",
    "len(feat)"
   ]
  },
  {
   "cell_type": "code",
   "execution_count": 60,
   "metadata": {},
   "outputs": [
    {
     "data": {
      "text/plain": [
       "MultinomialNB(alpha=0.1, class_prior=None, fit_prior=True)"
      ]
     },
     "execution_count": 60,
     "metadata": {},
     "output_type": "execute_result"
    }
   ],
   "source": [
    "bestA = 0.1\n",
    "\n",
    "naive = MultinomialNB( alpha = bestA )\n",
    "\n",
    "naive.fit( xtr2, ytrain )"
   ]
  },
  {
   "cell_type": "code",
   "execution_count": null,
   "metadata": {
    "collapsed": true
   },
   "outputs": [],
   "source": []
  },
  {
   "cell_type": "code",
   "execution_count": 61,
   "metadata": {},
   "outputs": [
    {
     "name": "stdout",
     "output_type": "stream",
     "text": [
      "[10204 10202 10203 10139 10149 10150 10201 10197 10151 10153]\n",
      "\n",
      " Top 10 -ve class ( 0 ) features\n",
      "1 . :  Quantity\n",
      "2 . :  Price\n",
      "3 . :  Previously Posted Projects\n",
      "4 . :  mrs\n",
      "5 . :  language\n",
      "6 . :  literacy\n",
      "7 . :  two\n",
      "8 . :  prek\n",
      "9 . :  math\n",
      "10 . :  science\n"
     ]
    }
   ],
   "source": [
    "NegProb = naive.feature_log_prob_[0, :].argsort() # Class 0 all Features\n",
    "NegProb = NegProb[::-1]\n",
    "print( NegProb[0:10] )\n",
    "# feature_log_prob_ : Empirical log probability of features given a class, P(x_i|y).\n",
    "# array, shape (n_classes, n_features)\n",
    "\n",
    "print('\\n Top 10 -ve class ( 0 ) features')\n",
    "c = 0\n",
    "for i in NegProb[:10]:\n",
    "    c = c + 1\n",
    "    print(c,'. : ',feat[i])"
   ]
  },
  {
   "cell_type": "code",
   "execution_count": 62,
   "metadata": {},
   "outputs": [
    {
     "name": "stdout",
     "output_type": "stream",
     "text": [
      "[10204 10202 10203 10139 10149 10150 10201 10197 10151 10153]\n",
      "\n",
      " Top 10 +ve class ( 1 ) features\n",
      "1 .  Quantity\n",
      "2 .  Price\n",
      "3 .  Previously Posted Projects\n",
      "4 .  mrs\n",
      "5 .  language\n",
      "6 .  literacy\n",
      "7 .  two\n",
      "8 .  prek\n",
      "9 .  math\n",
      "10 .  science\n"
     ]
    }
   ],
   "source": [
    "PosProb = naive.feature_log_prob_[1, :].argsort() # Class 0 all Features\n",
    "PosProb = PosProb[::-1]\n",
    "\n",
    "print( PosProb[:10])\n",
    "# feature_log_prob_ : Empirical log probability of features given a class, P(x_i|y).\n",
    "# array, shape (n_classes, n_features)\n",
    "\n",
    "print('\\n Top 10 +ve class ( 1 ) features')\n",
    "c = 0\n",
    "for i in PosProb[:10]:\n",
    "    c +=1\n",
    "    print(c,'. ',feat[i])"
   ]
  },
  {
   "cell_type": "code",
   "execution_count": 63,
   "metadata": {},
   "outputs": [
    {
     "data": {
      "image/png": "[encoded data removed]",
      "text/plain": [
       "<matplotlib.figure.Figure at 0x24887071d68>"
      ]
     },
     "metadata": {},
     "output_type": "display_data"
    },
    {
     "name": "stdout",
     "output_type": "stream",
     "text": [
      "Confusion Matrix for Train of Set  2\n",
      " The maximum value of tpr*(1-fpr) =  0.5357421455522418  for threshold =  0.831\n",
      "[[ 2429  1034]\n",
      " [ 4692 14290]]\n"
     ]
    },
    {
     "data": {
      "image/png": "[encoded data removed]",
      "text/plain": [
       "<matplotlib.figure.Figure at 0x24887078b00>"
      ]
     },
     "metadata": {},
     "output_type": "display_data"
    },
    {
     "name": "stdout",
     "output_type": "stream",
     "text": [
      "\n",
      "\n",
      "Confusion Matrix for Test 1 \n",
      " The maximum value of tpr*(1-fpr) =  0.3736525837728972  for threshold =  0.865\n",
      "[[1468 1078]\n",
      " [5073 8881]]\n"
     ]
    },
    {
     "data": {
      "image/png": "[encoded data removed]",
      "text/plain": [
       "<matplotlib.figure.Figure at 0x248eb8b5e80>"
      ]
     },
     "metadata": {},
     "output_type": "display_data"
    }
   ],
   "source": [
    "roc( xtr2, ytrain, xte2, bestA, 2 )"
   ]
  },
  {
   "cell_type": "markdown",
   "metadata": {},
   "source": [
    "## Conclusions"
   ]
  },
  {
   "cell_type": "code",
   "execution_count": 64,
   "metadata": {},
   "outputs": [
    {
     "name": "stdout",
     "output_type": "stream",
     "text": [
      "+--------------+--------------+-------------+------------+\n",
      "|  Vectorizer  |  Best alpha  |  Train AUC  |  Test AUC  |\n",
      "+--------------+--------------+-------------+------------+\n",
      "|    B.O.W     |      1       |    0.9328   |   0.6725   |\n",
      "|    TFIDF     |     0.1      |    0.8085   |   0.6480   |\n",
      "+--------------+--------------+-------------+------------+\n"
     ]
    }
   ],
   "source": [
    "from prettytable import PrettyTable\n",
    "    \n",
    "x = PrettyTable()\n",
    "\n",
    "\n",
    "x.field_names = [\" Vectorizer \", \" Best alpha \", \" Train AUC \", \" Test AUC \"]\n",
    "\n",
    "x.add_row( [ \" B.O.W \", \" 1 \", \" 0.9328 \", \" 0.6725 \" ] ) \n",
    "x.add_row( [ \" TFIDF \", \" 0.1 \", \" 0.8085 \", \" 0.6480 \" ] )\n",
    "\n",
    "print( x )\n",
    "\n",
    "# Ref : http://zetcode.com/python/prettytable/"
   ]
  },
  {
   "cell_type": "markdown",
   "metadata": {},
   "source": [
    "B.O.W vectorizer gives the highest Train AUC\n",
    "\n",
    "B.O.W vectorizer gives the highest Test AUC"
   ]
  },
  {
   "cell_type": "code",
   "execution_count": null,
   "metadata": {
    "collapsed": true
   },
   "outputs": [],
   "source": []
  }
 ],
 "metadata": {
  "kernelspec": {
   "display_name": "Python 3",
   "language": "python",
   "name": "python3"
  },
  "language_info": {
   "codemirror_mode": {
    "name": "ipython",
    "version": 3
   },
   "file_extension": ".py",
   "mimetype": "text/x-python",
   "name": "python",
   "nbconvert_exporter": "python",
   "pygments_lexer": "ipython3",
   "version": "3.6.3"
  }
 },
 "nbformat": 4,
 "nbformat_minor": 2
}
