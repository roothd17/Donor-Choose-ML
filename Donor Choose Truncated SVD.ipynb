{
 "cells": [
  {
   "cell_type": "markdown",
   "metadata": {
    "collapsed": true
   },
   "source": [
    "## Donor Choose : Truncated SVD and XG Boost"
   ]
  },
  {
   "cell_type": "code",
   "execution_count": 1,
   "metadata": {
    "collapsed": true
   },
   "outputs": [],
   "source": [
    "import os\n",
    "\n",
    "os.chdir('E:\\Datasets\\DonorChoose')"
   ]
  },
  {
   "cell_type": "code",
   "execution_count": 2,
   "metadata": {},
   "outputs": [
    {
     "data": {
      "text/html": [
       "<div>\n",
       "<style>\n",
       "    .dataframe thead tr:only-child th {\n",
       "        text-align: right;\n",
       "    }\n",
       "\n",
       "    .dataframe thead th {\n",
       "        text-align: left;\n",
       "    }\n",
       "\n",
       "    .dataframe tbody tr th {\n",
       "        vertical-align: top;\n",
       "    }\n",
       "</style>\n",
       "<table border=\"1\" class=\"dataframe\">\n",
       "  <thead>\n",
       "    <tr style=\"text-align: right;\">\n",
       "      <th></th>\n",
       "      <th>teacher_prefix</th>\n",
       "      <th>school_state</th>\n",
       "      <th>teacher_number_of_previously_posted_projects</th>\n",
       "      <th>project_is_approved</th>\n",
       "      <th>clean_categories</th>\n",
       "      <th>clean_subcategory</th>\n",
       "      <th>cleanEssay</th>\n",
       "      <th>price</th>\n",
       "      <th>quantity</th>\n",
       "      <th>cleanProjectGradeCategory</th>\n",
       "      <th>project_title</th>\n",
       "    </tr>\n",
       "  </thead>\n",
       "  <tbody>\n",
       "    <tr>\n",
       "      <th>0</th>\n",
       "      <td>Mrs.</td>\n",
       "      <td>IN</td>\n",
       "      <td>0</td>\n",
       "      <td>0</td>\n",
       "      <td>Literacy-Language</td>\n",
       "      <td>ESL Literacy</td>\n",
       "      <td>My students are English learners that are work...</td>\n",
       "      <td>154.6</td>\n",
       "      <td>23</td>\n",
       "      <td>PreK-Two</td>\n",
       "      <td>Educational Support for English Learners at Home</td>\n",
       "    </tr>\n",
       "    <tr>\n",
       "      <th>1</th>\n",
       "      <td>Mr.</td>\n",
       "      <td>FL</td>\n",
       "      <td>7</td>\n",
       "      <td>1</td>\n",
       "      <td>History-Civics Health-Sports</td>\n",
       "      <td>Civics-Government TeamSports</td>\n",
       "      <td>Our students arrive to our school eager to lea...</td>\n",
       "      <td>299.0</td>\n",
       "      <td>1</td>\n",
       "      <td>Six-Eight</td>\n",
       "      <td>Wanted: Projector for Hungry Learners</td>\n",
       "    </tr>\n",
       "  </tbody>\n",
       "</table>\n",
       "</div>"
      ],
      "text/plain": [
       "  teacher_prefix school_state  teacher_number_of_previously_posted_projects  \\\n",
       "0           Mrs.           IN                                             0   \n",
       "1            Mr.           FL                                             7   \n",
       "\n",
       "   project_is_approved              clean_categories  \\\n",
       "0                    0             Literacy-Language   \n",
       "1                    1  History-Civics Health-Sports   \n",
       "\n",
       "              clean_subcategory  \\\n",
       "0                  ESL Literacy   \n",
       "1  Civics-Government TeamSports   \n",
       "\n",
       "                                          cleanEssay  price  quantity  \\\n",
       "0  My students are English learners that are work...  154.6        23   \n",
       "1  Our students arrive to our school eager to lea...  299.0         1   \n",
       "\n",
       "  cleanProjectGradeCategory                                     project_title  \n",
       "0                  PreK-Two  Educational Support for English Learners at Home  \n",
       "1                 Six-Eight             Wanted: Projector for Hungry Learners  "
      ]
     },
     "execution_count": 2,
     "metadata": {},
     "output_type": "execute_result"
    }
   ],
   "source": [
    "import pandas as pd\n",
    "\n",
    "donor = pd.read_csv('cleandonor4.csv')\n",
    "\n",
    "donor.head(2)\n",
    "# We removed the redundant features that were taking up space and created a new .csv file"
   ]
  },
  {
   "cell_type": "code",
   "execution_count": 3,
   "metadata": {
    "collapsed": true
   },
   "outputs": [],
   "source": [
    "# We are removing the words from the stop words list: 'no', 'nor', 'not'\n",
    "stopwords= ['i', 'me', 'my', 'myself', 'we', 'our', 'ours', 'ourselves', 'you', \"you're\", \"you've\",\\\n",
    "            \"you'll\", \"you'd\", 'your', 'yours', 'yourself', 'yourselves', 'he', 'him', 'his', 'himself', \\\n",
    "            'she', \"she's\", 'her', 'hers', 'herself', 'it', \"it's\", 'its', 'itself', 'they', 'them', 'their',\\\n",
    "            'theirs', 'themselves', 'what', 'which', 'who', 'whom', 'this', 'that', \"that'll\", 'these', 'those', \\\n",
    "            'am', 'is', 'are', 'was', 'were', 'be', 'been', 'being', 'have', 'has', 'had', 'having', 'do', 'does', \\\n",
    "            'did', 'doing', 'a', 'an', 'the', 'and', 'but', 'if', 'or', 'because', 'as', 'until', 'while', 'of', \\\n",
    "            'at', 'by', 'for', 'with', 'about', 'against', 'between', 'into', 'through', 'during', 'before', 'after',\\\n",
    "            'above', 'below', 'to', 'from', 'up', 'down', 'in', 'out', 'on', 'off', 'over', 'under', 'again', 'further',\\\n",
    "            'then', 'once', 'here', 'there', 'when', 'where', 'why', 'how', 'all', 'any', 'both', 'each', 'few', 'more',\\\n",
    "            'most', 'other', 'some', 'such', 'only', 'own', 'same', 'so', 'than', 'too', 'very', \\\n",
    "            's', 't', 'can', 'will', 'just', 'don', \"don't\", 'should', \"should've\", 'now', 'd', 'll', 'm', 'o', 're', \\\n",
    "            've', 'y', 'ain', 'aren', \"aren't\", 'couldn', \"couldn't\", 'didn', \"didn't\", 'doesn', \"doesn't\", 'hadn',\\\n",
    "            \"hadn't\", 'hasn', \"hasn't\", 'haven', \"haven't\", 'isn', \"isn't\", 'ma', 'mightn', \"mightn't\", 'mustn',\\\n",
    "            \"mustn't\", 'needn', \"needn't\", 'shan', \"shan't\", 'shouldn', \"shouldn't\", 'wasn', \"wasn't\", 'weren', \"weren't\", \\\n",
    "            'won', \"won't\", 'wouldn', \"wouldn't\"]"
   ]
  },
  {
   "cell_type": "code",
   "execution_count": 4,
   "metadata": {},
   "outputs": [
    {
     "name": "stderr",
     "output_type": "stream",
     "text": [
      "100%|███████████████████████████████████████████████████████████████████████| 109248/109248 [00:02<00:00, 50798.10it/s]\n"
     ]
    }
   ],
   "source": [
    "from tqdm import tqdm\n",
    "ftitle = [] \n",
    "\n",
    "for sen in tqdm( donor['project_title'].values ): \n",
    "    strY = \" \"\n",
    "\n",
    "    for w in sen.lower().split():\n",
    "        \n",
    "        if w not in stopwords:\n",
    "            strY = strY + w + \" \"\n",
    "\n",
    "    ftitle.append( strY.strip() )\n",
    "    \n",
    "donor.drop(['project_title'], axis=1, inplace=True)\n",
    "donor['cleanTitle'] = ftitle"
   ]
  },
  {
   "cell_type": "code",
   "execution_count": 5,
   "metadata": {},
   "outputs": [
    {
     "data": {
      "text/plain": [
       "(109248, 11)"
      ]
     },
     "execution_count": 5,
     "metadata": {},
     "output_type": "execute_result"
    }
   ],
   "source": [
    "donor.shape"
   ]
  },
  {
   "cell_type": "code",
   "execution_count": 6,
   "metadata": {},
   "outputs": [
    {
     "data": {
      "text/html": [
       "<div>\n",
       "<style>\n",
       "    .dataframe thead tr:only-child th {\n",
       "        text-align: right;\n",
       "    }\n",
       "\n",
       "    .dataframe thead th {\n",
       "        text-align: left;\n",
       "    }\n",
       "\n",
       "    .dataframe tbody tr th {\n",
       "        vertical-align: top;\n",
       "    }\n",
       "</style>\n",
       "<table border=\"1\" class=\"dataframe\">\n",
       "  <thead>\n",
       "    <tr style=\"text-align: right;\">\n",
       "      <th></th>\n",
       "      <th>teacher_prefix</th>\n",
       "      <th>school_state</th>\n",
       "      <th>teacher_number_of_previously_posted_projects</th>\n",
       "      <th>project_is_approved</th>\n",
       "      <th>clean_categories</th>\n",
       "      <th>clean_subcategory</th>\n",
       "      <th>cleanEssay</th>\n",
       "      <th>price</th>\n",
       "      <th>quantity</th>\n",
       "      <th>cleanProjectGradeCategory</th>\n",
       "      <th>cleanTitle</th>\n",
       "    </tr>\n",
       "  </thead>\n",
       "  <tbody>\n",
       "  </tbody>\n",
       "</table>\n",
       "</div>"
      ],
      "text/plain": [
       "Empty DataFrame\n",
       "Columns: [teacher_prefix, school_state, teacher_number_of_previously_posted_projects, project_is_approved, clean_categories, clean_subcategory, cleanEssay, price, quantity, cleanProjectGradeCategory, cleanTitle]\n",
       "Index: []"
      ]
     },
     "execution_count": 6,
     "metadata": {},
     "output_type": "execute_result"
    }
   ],
   "source": [
    "nan = donor[ donor['teacher_prefix'].isnull() ]\n",
    "nan"
   ]
  },
  {
   "cell_type": "code",
   "execution_count": 7,
   "metadata": {
    "collapsed": true
   },
   "outputs": [],
   "source": [
    "donor = donor[0 : 50000]"
   ]
  },
  {
   "cell_type": "code",
   "execution_count": 8,
   "metadata": {},
   "outputs": [
    {
     "data": {
      "text/plain": [
       "50000"
      ]
     },
     "execution_count": 8,
     "metadata": {},
     "output_type": "execute_result"
    }
   ],
   "source": [
    "Y = donor['project_is_approved']\n",
    "\n",
    "len( Y )  # Y = label i.e; Project is approved ( 0 or 1 )"
   ]
  },
  {
   "cell_type": "code",
   "execution_count": 9,
   "metadata": {
    "collapsed": true
   },
   "outputs": [],
   "source": [
    "donor.drop( 'project_is_approved', axis=1, inplace=True )"
   ]
  },
  {
   "cell_type": "code",
   "execution_count": 10,
   "metadata": {
    "collapsed": true
   },
   "outputs": [],
   "source": [
    "donor['combined'] = donor['cleanEssay'] + ' ' + donor['cleanTitle']"
   ]
  },
  {
   "cell_type": "code",
   "execution_count": 11,
   "metadata": {},
   "outputs": [
    {
     "data": {
      "text/html": [
       "<div>\n",
       "<style>\n",
       "    .dataframe thead tr:only-child th {\n",
       "        text-align: right;\n",
       "    }\n",
       "\n",
       "    .dataframe thead th {\n",
       "        text-align: left;\n",
       "    }\n",
       "\n",
       "    .dataframe tbody tr th {\n",
       "        vertical-align: top;\n",
       "    }\n",
       "</style>\n",
       "<table border=\"1\" class=\"dataframe\">\n",
       "  <thead>\n",
       "    <tr style=\"text-align: right;\">\n",
       "      <th></th>\n",
       "      <th>teacher_prefix</th>\n",
       "      <th>school_state</th>\n",
       "      <th>teacher_number_of_previously_posted_projects</th>\n",
       "      <th>clean_categories</th>\n",
       "      <th>clean_subcategory</th>\n",
       "      <th>cleanEssay</th>\n",
       "      <th>price</th>\n",
       "      <th>quantity</th>\n",
       "      <th>cleanProjectGradeCategory</th>\n",
       "      <th>cleanTitle</th>\n",
       "      <th>combined</th>\n",
       "    </tr>\n",
       "  </thead>\n",
       "  <tbody>\n",
       "    <tr>\n",
       "      <th>0</th>\n",
       "      <td>Mrs.</td>\n",
       "      <td>IN</td>\n",
       "      <td>0</td>\n",
       "      <td>Literacy-Language</td>\n",
       "      <td>ESL Literacy</td>\n",
       "      <td>My students are English learners that are work...</td>\n",
       "      <td>154.6</td>\n",
       "      <td>23</td>\n",
       "      <td>PreK-Two</td>\n",
       "      <td>educational support english learners home</td>\n",
       "      <td>My students are English learners that are work...</td>\n",
       "    </tr>\n",
       "    <tr>\n",
       "      <th>1</th>\n",
       "      <td>Mr.</td>\n",
       "      <td>FL</td>\n",
       "      <td>7</td>\n",
       "      <td>History-Civics Health-Sports</td>\n",
       "      <td>Civics-Government TeamSports</td>\n",
       "      <td>Our students arrive to our school eager to lea...</td>\n",
       "      <td>299.0</td>\n",
       "      <td>1</td>\n",
       "      <td>Six-Eight</td>\n",
       "      <td>wanted: projector hungry learners</td>\n",
       "      <td>Our students arrive to our school eager to lea...</td>\n",
       "    </tr>\n",
       "  </tbody>\n",
       "</table>\n",
       "</div>"
      ],
      "text/plain": [
       "  teacher_prefix school_state  teacher_number_of_previously_posted_projects  \\\n",
       "0           Mrs.           IN                                             0   \n",
       "1            Mr.           FL                                             7   \n",
       "\n",
       "               clean_categories             clean_subcategory  \\\n",
       "0             Literacy-Language                  ESL Literacy   \n",
       "1  History-Civics Health-Sports  Civics-Government TeamSports   \n",
       "\n",
       "                                          cleanEssay  price  quantity  \\\n",
       "0  My students are English learners that are work...  154.6        23   \n",
       "1  Our students arrive to our school eager to lea...  299.0         1   \n",
       "\n",
       "  cleanProjectGradeCategory                                 cleanTitle  \\\n",
       "0                  PreK-Two  educational support english learners home   \n",
       "1                 Six-Eight          wanted: projector hungry learners   \n",
       "\n",
       "                                            combined  \n",
       "0  My students are English learners that are work...  \n",
       "1  Our students arrive to our school eager to lea...  "
      ]
     },
     "execution_count": 11,
     "metadata": {},
     "output_type": "execute_result"
    }
   ],
   "source": [
    "donor.head(2)"
   ]
  },
  {
   "cell_type": "markdown",
   "metadata": {
    "collapsed": true
   },
   "source": [
    "### Computing Sentiment Scores"
   ]
  },
  {
   "cell_type": "code",
   "execution_count": 12,
   "metadata": {},
   "outputs": [
    {
     "name": "stderr",
     "output_type": "stream",
     "text": [
      "D:\\Anaconda\\lib\\site-packages\\nltk\\twitter\\__init__.py:20: UserWarning: The twython library has not been installed. Some functionality from the twitter package will not be available.\n",
      "  warnings.warn(\"The twython library has not been installed. \"\n",
      "100%|███████████████████████████████████████████████████████████████████████████| 50000/50000 [03:17<00:00, 253.64it/s]\n"
     ]
    }
   ],
   "source": [
    "import nltk\n",
    "from nltk.sentiment.vader import SentimentIntensityAnalyzer\n",
    "\n",
    "s = SentimentIntensityAnalyzer()\n",
    "\n",
    "neg = []\n",
    "pos = []\n",
    "neu = []\n",
    "comp = []\n",
    "\n",
    "for sentence in tqdm( donor['cleanEssay'].values ) :\n",
    "    \n",
    "    Sscore = s.polarity_scores( sentence )\n",
    "\n",
    "    neg.append( Sscore['neg'] )\n",
    "    pos.append( Sscore['pos'] )\n",
    "    neu.append( Sscore['neu'] )\n",
    "    comp.append( Sscore['compound'] )"
   ]
  },
  {
   "cell_type": "code",
   "execution_count": 13,
   "metadata": {},
   "outputs": [
    {
     "name": "stdout",
     "output_type": "stream",
     "text": [
      "[0.008, 0.037, 0.058, 0.053, 0.016, 0.077, 0.028, 0.019, 0.007, 0.05, 0.068, 0.021, 0.005, 0.078, 0.023]\n",
      "[0.08, 0.111, 0.183, 0.215, 0.087, 0.146, 0.172, 0.155, 0.249, 0.281, 0.177, 0.246, 0.228, 0.094, 0.142]\n",
      "[0.912, 0.852, 0.759, 0.732, 0.897, 0.777, 0.8, 0.826, 0.744, 0.669, 0.755, 0.733, 0.767, 0.828, 0.835]\n",
      "[0.9611, 0.9267, 0.9953, 0.9931, 0.9192, 0.9553, 0.9815, 0.9937, 0.9975, 0.9969, 0.9862, 0.9992, 0.9948, 0.4401, 0.972]\n"
     ]
    }
   ],
   "source": [
    "print( neg[0: 15] )\n",
    "print( pos[0: 15] )\n",
    "print( neu[0: 15] )\n",
    "print( comp[0: 15] )"
   ]
  },
  {
   "cell_type": "code",
   "execution_count": 14,
   "metadata": {
    "collapsed": true
   },
   "outputs": [],
   "source": [
    "donor['neg'] = neg\n",
    "donor['pos'] = pos\n",
    "donor['neu'] = neu\n",
    "donor['comp'] = comp"
   ]
  },
  {
   "cell_type": "markdown",
   "metadata": {
    "collapsed": true
   },
   "source": [
    "### Computing no. of words in Essay and Title"
   ]
  },
  {
   "cell_type": "code",
   "execution_count": 15,
   "metadata": {
    "collapsed": true
   },
   "outputs": [],
   "source": [
    "def totalWords( col ):\n",
    "    \n",
    "    words = []\n",
    "    for sent in tqdm( donor[col].values ) :\n",
    "        w = 0\n",
    "        \n",
    "        for word in sent.split():\n",
    "            w += 1\n",
    "    \n",
    "        words.append(w)\n",
    "    \n",
    "    return words"
   ]
  },
  {
   "cell_type": "code",
   "execution_count": 16,
   "metadata": {},
   "outputs": [
    {
     "name": "stderr",
     "output_type": "stream",
     "text": [
      "100%|████████████████████████████████████████████████████████████████████████| 50000/50000 [00:00<00:00, 642740.20it/s]\n"
     ]
    },
    {
     "name": "stdout",
     "output_type": "stream",
     "text": [
      "[5, 4, 6, 2, 3, 7, 5, 2, 3, 3, 3, 5, 4, 3, 4]\n"
     ]
    },
    {
     "data": {
      "text/plain": [
       "50000"
      ]
     },
     "execution_count": 16,
     "metadata": {},
     "output_type": "execute_result"
    }
   ],
   "source": [
    "titleWords = totalWords('cleanTitle')\n",
    "\n",
    "print( titleWords[0:15] )\n",
    "len( titleWords )"
   ]
  },
  {
   "cell_type": "code",
   "execution_count": 17,
   "metadata": {},
   "outputs": [
    {
     "name": "stderr",
     "output_type": "stream",
     "text": [
      "100%|█████████████████████████████████████████████████████████████████████████| 50000/50000 [00:01<00:00, 25722.79it/s]\n"
     ]
    },
    {
     "data": {
      "text/plain": [
       "50000"
      ]
     },
     "execution_count": 17,
     "metadata": {},
     "output_type": "execute_result"
    }
   ],
   "source": [
    "essayWords = totalWords('cleanEssay')\n",
    "\n",
    "len( essayWords )"
   ]
  },
  {
   "cell_type": "code",
   "execution_count": 18,
   "metadata": {
    "collapsed": true
   },
   "outputs": [],
   "source": [
    "donor['totalWordsTitle'] = titleWords\n",
    "\n",
    "donor['totalWordsEssay'] = essayWords"
   ]
  },
  {
   "cell_type": "code",
   "execution_count": null,
   "metadata": {
    "collapsed": true
   },
   "outputs": [],
   "source": []
  },
  {
   "cell_type": "code",
   "execution_count": 19,
   "metadata": {
    "collapsed": true
   },
   "outputs": [],
   "source": [
    "X = donor  # X = our features "
   ]
  },
  {
   "cell_type": "markdown",
   "metadata": {},
   "source": [
    "### Test Train Split"
   ]
  },
  {
   "cell_type": "code",
   "execution_count": 20,
   "metadata": {
    "collapsed": true
   },
   "outputs": [],
   "source": [
    "from sklearn.model_selection import train_test_split\n",
    "\n",
    "xtrain, xtest, ytrain, ytest = train_test_split( X, Y, test_size = 0.33, stratify = Y) # Spliting into Test and Train\n",
    "\n",
    "# stratify : we need to pass array containing class label as an argument to stratify\n",
    "\n",
    "xtrain, xcv, ytrain, ycv = train_test_split( xtrain, ytrain, test_size = 0.33, stratify = ytrain )"
   ]
  },
  {
   "cell_type": "code",
   "execution_count": 21,
   "metadata": {},
   "outputs": [
    {
     "name": "stdout",
     "output_type": "stream",
     "text": [
      "(22445, 17)\n",
      "(11055, 17)\n",
      "(16500, 17)\n",
      "(22445,)\n",
      "(11055,)\n",
      "(16500,)\n"
     ]
    }
   ],
   "source": [
    "print( xtrain.shape )\n",
    "print( xcv.shape )\n",
    "print( xtest.shape )\n",
    "\n",
    "print( ytrain.shape )\n",
    "print( ycv.shape )\n",
    "print( ytest.shape )"
   ]
  },
  {
   "cell_type": "code",
   "execution_count": 22,
   "metadata": {},
   "outputs": [
    {
     "name": "stdout",
     "output_type": "stream",
     "text": [
      "\"True champions aren't always the ones that win, but those with the most guts.\" By Mia Hamm This quote best describes how the students at Cholla Middle School approach playing sports, especially for the girls and boys soccer teams. The teams are made up of 7th and 8th grade students, and most of them have not had the opportunity to play in an organized sport due to family financial difficulties. I teach at a Title One middle school in an urban neighborhood. 74% of our students qualify for free and reduced lunch and many come from very activity/ sport opportunity-poor homes. My students love to participate in sports to learn new skills and be apart of team atmosphere. My school lacks the funding to meet my students’ needs and I am concerned that their lack of exposure will not prepare them for the participating in sports and teams in high school. By the end of the school year, the goal is to provide our students with an opportunity to learn a variety of soccer skills, and positive qualities of a person who actively participates on a team.The students on the campus come to school knowing they face an uphill battle when it comes to participating in organized sports. The players would thrive on the field, with the confidence from having the appropriate soccer equipment to play soccer to the best of their abilities. The students will experience how to be a helpful person by being part of team that teaches them to be positive, supportive, and encouraging to others. My students will be using the soccer equipment during practice and games on a daily basis to learn and practice the necessary skills to develop a strong soccer team. This experience will create the opportunity for students to learn about being part of a team, and how to be a positive contribution for their teammates. The students will get the opportunity to learn and practice a variety of soccer skills, and how to use those skills during a game. Access to this type of experience is nearly impossible without soccer equipment for the students/ players to utilize during practice and games .nannan\n"
     ]
    }
   ],
   "source": [
    "print( xtrain['cleanEssay'][2] )"
   ]
  },
  {
   "cell_type": "code",
   "execution_count": 23,
   "metadata": {},
   "outputs": [
    {
     "data": {
      "text/plain": [
       "'\"True champions aren\\'t always the ones that win, but those with the most guts.\" By Mia Hamm This quote best describes how the students at Cholla Middle School approach playing sports, especially for the girls and boys soccer teams. The teams are made up of 7th and 8th grade students, and most of them have not had the opportunity to play in an organized sport due to family financial difficulties. I teach at a Title One middle school in an urban neighborhood. 74% of our students qualify for free and reduced lunch and many come from very activity/ sport opportunity-poor homes. My students love to participate in sports to learn new skills and be apart of team atmosphere. My school lacks the funding to meet my students’ needs and I am concerned that their lack of exposure will not prepare them for the participating in sports and teams in high school. By the end of the school year, the goal is to provide our students with an opportunity to learn a variety of soccer skills, and positive qualities of a person who actively participates on a team.The students on the campus come to school knowing they face an uphill battle when it comes to participating in organized sports. The players would thrive on the field, with the confidence from having the appropriate soccer equipment to play soccer to the best of their abilities. The students will experience how to be a helpful person by being part of team that teaches them to be positive, supportive, and encouraging to others. My students will be using the soccer equipment during practice and games on a daily basis to learn and practice the necessary skills to develop a strong soccer team. This experience will create the opportunity for students to learn about being part of a team, and how to be a positive contribution for their teammates. The students will get the opportunity to learn and practice a variety of soccer skills, and how to use those skills during a game. Access to this type of experience is nearly impossible without soccer equipment for the students/ players to utilize during practice and games .nannan soccer equipment awesome middle school students'"
      ]
     },
     "execution_count": 23,
     "metadata": {},
     "output_type": "execute_result"
    }
   ],
   "source": [
    "xtrain['combined'][2]"
   ]
  },
  {
   "cell_type": "markdown",
   "metadata": {},
   "source": [
    "### Selecting Top 2k features from Essay and Title Text"
   ]
  },
  {
   "cell_type": "code",
   "execution_count": 24,
   "metadata": {},
   "outputs": [
    {
     "name": "stdout",
     "output_type": "stream",
     "text": [
      "(22445, 7558)\n"
     ]
    }
   ],
   "source": [
    "from sklearn.feature_extraction.text import TfidfVectorizer\n",
    "\n",
    "tfidfvect = TfidfVectorizer( min_df = 15 )\n",
    "\n",
    "vect = tfidfvect.fit_transform( xtrain['combined'].values )\n",
    "\n",
    "print( vect.shape )"
   ]
  },
  {
   "cell_type": "code",
   "execution_count": 25,
   "metadata": {
    "collapsed": true
   },
   "outputs": [],
   "source": [
    "import numpy as np\n",
    "\n",
    "ind = np.argsort( tfidfvect.idf_ )[ ::-1 ]\n",
    "\n",
    "feat = tfidfvect.get_feature_names()"
   ]
  },
  {
   "cell_type": "code",
   "execution_count": 26,
   "metadata": {},
   "outputs": [
    {
     "name": "stdout",
     "output_type": "stream",
     "text": [
      "[('homemade', 8.24627898133642), ('theatrical', 8.24627898133642), ('corporation', 8.24627898133642), ('manipulates', 8.24627898133642), ('wedo', 8.24627898133642), ('correlated', 8.24627898133642), ('aligns', 8.24627898133642), ('familial', 8.24627898133642), ('stix', 8.24627898133642), ('rob', 8.24627898133642), ('margaret', 8.24627898133642), ('raining', 8.24627898133642), ('rods', 8.24627898133642), ('factory', 8.24627898133642), ('stigma', 8.24627898133642), ('ceases', 8.24627898133642), ('pile', 8.24627898133642), ('cores', 8.24627898133642), ('photosynthesis', 8.24627898133642), ('chants', 8.24627898133642)]\n"
     ]
    }
   ],
   "source": [
    "n = 2000\n",
    "\n",
    "topFeat = [ feat[i] for i in ind[:n] ]\n",
    "topIDF = [ tfidfvect.idf_[i] for i in ind[:n] ]\n",
    "\n",
    "featIDF = list( zip(topFeat, topIDF) )\n",
    "\n",
    "print( featIDF[:20] )"
   ]
  },
  {
   "cell_type": "code",
   "execution_count": 27,
   "metadata": {},
   "outputs": [
    {
     "name": "stdout",
     "output_type": "stream",
     "text": [
      "2000\n",
      "['homemade', 'theatrical', 'corporation', 'manipulates', 'wedo', 'correlated', 'aligns', 'familial', 'stix', 'rob', 'margaret', 'raining', 'rods', 'factory', 'stigma', 'ceases', 'pile', 'cores', 'photosynthesis', 'chants']\n"
     ]
    }
   ],
   "source": [
    "print( len(topFeat) )\n",
    "print( topFeat[:20] )"
   ]
  },
  {
   "cell_type": "markdown",
   "metadata": {},
   "source": [
    "### Creating Co-Occurence matrix with these 2k features"
   ]
  },
  {
   "cell_type": "code",
   "execution_count": 28,
   "metadata": {
    "collapsed": true
   },
   "outputs": [],
   "source": [
    "def COmatrix( data, words, cw=5 ):\n",
    "    \n",
    "    cm = pd.DataFrame( np.zeros((len(words), len(words))), index=words, columns=words )\n",
    "    \n",
    "    for sent in data['combined']:\n",
    "        \n",
    "        word = sent.split()\n",
    "        \n",
    "        for ind in range( len(word) ):\n",
    "            \n",
    "            if cm.get( word[ind] ) is None:\n",
    "                continue\n",
    "                \n",
    "            for i in range(1, cw + 1 ):\n",
    "                \n",
    "                if ind - i >= 0:\n",
    "                    if cm.get( word[ind - i] ) is not None:\n",
    "                        \n",
    "                        cm[ word[ind-i]].loc[word[ind]] =  (cm.get( word[ind-i] ).loc[ word[ind] ] + 1) \n",
    "                        cm[word[ind]].loc[ word[ind-i] ] = (cm.get( word[ind] ).loc[ word[ind-i] ] + 1) \n",
    "                \n",
    "                if ind + i < len(word):\n",
    "                    if cm.get( word[ind+i] ) is not None:\n",
    "                        \n",
    "                        cm[ word[ind+i]].loc[word[ind]] =  (cm.get( word[ind+i] ).loc[ word[ind] ] + 1)                     \n",
    "                        cm[word[ind]].loc[ word[ind+i] ] = (cm.get( word[ind] ).loc[ word[ind+i] ] + 1) \n",
    "                        \n",
    "    \n",
    "    np.fill_diagonal( cm.values, 0 )\n",
    "    cm = cm.div(2)\n",
    "    \n",
    "    return cm"
   ]
  },
  {
   "cell_type": "code",
   "execution_count": 29,
   "metadata": {},
   "outputs": [
    {
     "data": {
      "text/html": [
       "<div>\n",
       "<style>\n",
       "    .dataframe thead tr:only-child th {\n",
       "        text-align: right;\n",
       "    }\n",
       "\n",
       "    .dataframe thead th {\n",
       "        text-align: left;\n",
       "    }\n",
       "\n",
       "    .dataframe tbody tr th {\n",
       "        vertical-align: top;\n",
       "    }\n",
       "</style>\n",
       "<table border=\"1\" class=\"dataframe\">\n",
       "  <thead>\n",
       "    <tr style=\"text-align: right;\">\n",
       "      <th></th>\n",
       "      <th>combined</th>\n",
       "    </tr>\n",
       "  </thead>\n",
       "  <tbody>\n",
       "    <tr>\n",
       "      <th>0</th>\n",
       "      <td>abc def ijk pqr</td>\n",
       "    </tr>\n",
       "    <tr>\n",
       "      <th>1</th>\n",
       "      <td>pqr klm opq</td>\n",
       "    </tr>\n",
       "    <tr>\n",
       "      <th>2</th>\n",
       "      <td>lmn pqr xyz abc def pqr abc</td>\n",
       "    </tr>\n",
       "  </tbody>\n",
       "</table>\n",
       "</div>"
      ],
      "text/plain": [
       "                      combined\n",
       "0              abc def ijk pqr\n",
       "1                  pqr klm opq\n",
       "2  lmn pqr xyz abc def pqr abc"
      ]
     },
     "execution_count": 29,
     "metadata": {},
     "output_type": "execute_result"
    }
   ],
   "source": [
    "# Taking Sample Data, Just to check\n",
    "\n",
    "import pandas as pd\n",
    "import numpy as np\n",
    "\n",
    "li = ['abc def ijk pqr', 'pqr klm opq', 'lmn pqr xyz abc def pqr abc']\n",
    "\n",
    "df = pd.DataFrame()\n",
    "df['combined'] = li\n",
    "df.head()"
   ]
  },
  {
   "cell_type": "code",
   "execution_count": 30,
   "metadata": {},
   "outputs": [
    {
     "data": {
      "text/html": [
       "<div>\n",
       "<style>\n",
       "    .dataframe thead tr:only-child th {\n",
       "        text-align: right;\n",
       "    }\n",
       "\n",
       "    .dataframe thead th {\n",
       "        text-align: left;\n",
       "    }\n",
       "\n",
       "    .dataframe tbody tr th {\n",
       "        vertical-align: top;\n",
       "    }\n",
       "</style>\n",
       "<table border=\"1\" class=\"dataframe\">\n",
       "  <thead>\n",
       "    <tr style=\"text-align: right;\">\n",
       "      <th></th>\n",
       "      <th>abc</th>\n",
       "      <th>pqr</th>\n",
       "      <th>def</th>\n",
       "    </tr>\n",
       "  </thead>\n",
       "  <tbody>\n",
       "    <tr>\n",
       "      <th>abc</th>\n",
       "      <td>0.0</td>\n",
       "      <td>3.0</td>\n",
       "      <td>3.0</td>\n",
       "    </tr>\n",
       "    <tr>\n",
       "      <th>pqr</th>\n",
       "      <td>3.0</td>\n",
       "      <td>0.0</td>\n",
       "      <td>2.0</td>\n",
       "    </tr>\n",
       "    <tr>\n",
       "      <th>def</th>\n",
       "      <td>3.0</td>\n",
       "      <td>2.0</td>\n",
       "      <td>0.0</td>\n",
       "    </tr>\n",
       "  </tbody>\n",
       "</table>\n",
       "</div>"
      ],
      "text/plain": [
       "     abc  pqr  def\n",
       "abc  0.0  3.0  3.0\n",
       "pqr  3.0  0.0  2.0\n",
       "def  3.0  2.0  0.0"
      ]
     },
     "execution_count": 30,
     "metadata": {},
     "output_type": "execute_result"
    }
   ],
   "source": [
    "tf = ['abc','pqr', 'def']\n",
    "c = COmatrix( df, tf, 2 )\n",
    "c"
   ]
  },
  {
   "cell_type": "code",
   "execution_count": 31,
   "metadata": {
    "collapsed": true
   },
   "outputs": [],
   "source": [
    "cmtr = COmatrix( xtrain, topFeat )"
   ]
  },
  {
   "cell_type": "code",
   "execution_count": 32,
   "metadata": {},
   "outputs": [
    {
     "data": {
      "text/plain": [
       "(2000, 2000)"
      ]
     },
     "execution_count": 32,
     "metadata": {},
     "output_type": "execute_result"
    }
   ],
   "source": [
    "cmtr.shape"
   ]
  },
  {
   "cell_type": "code",
   "execution_count": 33,
   "metadata": {},
   "outputs": [
    {
     "data": {
      "text/html": [
       "<div>\n",
       "<style>\n",
       "    .dataframe thead tr:only-child th {\n",
       "        text-align: right;\n",
       "    }\n",
       "\n",
       "    .dataframe thead th {\n",
       "        text-align: left;\n",
       "    }\n",
       "\n",
       "    .dataframe tbody tr th {\n",
       "        vertical-align: top;\n",
       "    }\n",
       "</style>\n",
       "<table border=\"1\" class=\"dataframe\">\n",
       "  <thead>\n",
       "    <tr style=\"text-align: right;\">\n",
       "      <th></th>\n",
       "      <th>homemade</th>\n",
       "      <th>theatrical</th>\n",
       "      <th>corporation</th>\n",
       "      <th>manipulates</th>\n",
       "      <th>wedo</th>\n",
       "      <th>correlated</th>\n",
       "      <th>aligns</th>\n",
       "      <th>familial</th>\n",
       "      <th>stix</th>\n",
       "      <th>rob</th>\n",
       "      <th>...</th>\n",
       "      <th>gallery</th>\n",
       "      <th>equation</th>\n",
       "      <th>composing</th>\n",
       "      <th>eraser</th>\n",
       "      <th>respecting</th>\n",
       "      <th>massive</th>\n",
       "      <th>impede</th>\n",
       "      <th>singers</th>\n",
       "      <th>errors</th>\n",
       "      <th>curiosities</th>\n",
       "    </tr>\n",
       "  </thead>\n",
       "  <tbody>\n",
       "    <tr>\n",
       "      <th>homemade</th>\n",
       "      <td>0.0</td>\n",
       "      <td>0.0</td>\n",
       "      <td>0.0</td>\n",
       "      <td>0.0</td>\n",
       "      <td>0.0</td>\n",
       "      <td>0.0</td>\n",
       "      <td>0.0</td>\n",
       "      <td>0.0</td>\n",
       "      <td>0.0</td>\n",
       "      <td>0.0</td>\n",
       "      <td>...</td>\n",
       "      <td>0.0</td>\n",
       "      <td>0.0</td>\n",
       "      <td>0.0</td>\n",
       "      <td>0.0</td>\n",
       "      <td>0.0</td>\n",
       "      <td>0.0</td>\n",
       "      <td>0.0</td>\n",
       "      <td>0.0</td>\n",
       "      <td>0.0</td>\n",
       "      <td>0.0</td>\n",
       "    </tr>\n",
       "    <tr>\n",
       "      <th>theatrical</th>\n",
       "      <td>0.0</td>\n",
       "      <td>0.0</td>\n",
       "      <td>0.0</td>\n",
       "      <td>0.0</td>\n",
       "      <td>0.0</td>\n",
       "      <td>0.0</td>\n",
       "      <td>0.0</td>\n",
       "      <td>0.0</td>\n",
       "      <td>0.0</td>\n",
       "      <td>0.0</td>\n",
       "      <td>...</td>\n",
       "      <td>0.0</td>\n",
       "      <td>0.0</td>\n",
       "      <td>0.0</td>\n",
       "      <td>0.0</td>\n",
       "      <td>0.0</td>\n",
       "      <td>0.0</td>\n",
       "      <td>0.0</td>\n",
       "      <td>0.0</td>\n",
       "      <td>0.0</td>\n",
       "      <td>0.0</td>\n",
       "    </tr>\n",
       "    <tr>\n",
       "      <th>corporation</th>\n",
       "      <td>0.0</td>\n",
       "      <td>0.0</td>\n",
       "      <td>0.0</td>\n",
       "      <td>0.0</td>\n",
       "      <td>0.0</td>\n",
       "      <td>0.0</td>\n",
       "      <td>0.0</td>\n",
       "      <td>0.0</td>\n",
       "      <td>0.0</td>\n",
       "      <td>0.0</td>\n",
       "      <td>...</td>\n",
       "      <td>0.0</td>\n",
       "      <td>0.0</td>\n",
       "      <td>0.0</td>\n",
       "      <td>0.0</td>\n",
       "      <td>0.0</td>\n",
       "      <td>0.0</td>\n",
       "      <td>0.0</td>\n",
       "      <td>0.0</td>\n",
       "      <td>0.0</td>\n",
       "      <td>0.0</td>\n",
       "    </tr>\n",
       "  </tbody>\n",
       "</table>\n",
       "<p>3 rows × 2000 columns</p>\n",
       "</div>"
      ],
      "text/plain": [
       "             homemade  theatrical  corporation  manipulates  wedo  correlated  \\\n",
       "homemade          0.0         0.0          0.0          0.0   0.0         0.0   \n",
       "theatrical        0.0         0.0          0.0          0.0   0.0         0.0   \n",
       "corporation       0.0         0.0          0.0          0.0   0.0         0.0   \n",
       "\n",
       "             aligns  familial  stix  rob     ...       gallery  equation  \\\n",
       "homemade        0.0       0.0   0.0  0.0     ...           0.0       0.0   \n",
       "theatrical      0.0       0.0   0.0  0.0     ...           0.0       0.0   \n",
       "corporation     0.0       0.0   0.0  0.0     ...           0.0       0.0   \n",
       "\n",
       "             composing  eraser  respecting  massive  impede  singers  errors  \\\n",
       "homemade           0.0     0.0         0.0      0.0     0.0      0.0     0.0   \n",
       "theatrical         0.0     0.0         0.0      0.0     0.0      0.0     0.0   \n",
       "corporation        0.0     0.0         0.0      0.0     0.0      0.0     0.0   \n",
       "\n",
       "             curiosities  \n",
       "homemade             0.0  \n",
       "theatrical           0.0  \n",
       "corporation          0.0  \n",
       "\n",
       "[3 rows x 2000 columns]"
      ]
     },
     "execution_count": 33,
     "metadata": {},
     "output_type": "execute_result"
    }
   ],
   "source": [
    "cmtr.head(3)"
   ]
  },
  {
   "cell_type": "code",
   "execution_count": 36,
   "metadata": {},
   "outputs": [
    {
     "data": {
      "text/html": [
       "<div>\n",
       "<style>\n",
       "    .dataframe thead tr:only-child th {\n",
       "        text-align: right;\n",
       "    }\n",
       "\n",
       "    .dataframe thead th {\n",
       "        text-align: left;\n",
       "    }\n",
       "\n",
       "    .dataframe tbody tr th {\n",
       "        vertical-align: top;\n",
       "    }\n",
       "</style>\n",
       "<table border=\"1\" class=\"dataframe\">\n",
       "  <thead>\n",
       "    <tr style=\"text-align: right;\">\n",
       "      <th></th>\n",
       "      <th>homemade</th>\n",
       "      <th>theatrical</th>\n",
       "      <th>corporation</th>\n",
       "      <th>manipulates</th>\n",
       "      <th>wedo</th>\n",
       "      <th>correlated</th>\n",
       "      <th>aligns</th>\n",
       "      <th>familial</th>\n",
       "      <th>stix</th>\n",
       "      <th>rob</th>\n",
       "      <th>...</th>\n",
       "      <th>gallery</th>\n",
       "      <th>equation</th>\n",
       "      <th>composing</th>\n",
       "      <th>eraser</th>\n",
       "      <th>respecting</th>\n",
       "      <th>massive</th>\n",
       "      <th>impede</th>\n",
       "      <th>singers</th>\n",
       "      <th>errors</th>\n",
       "      <th>curiosities</th>\n",
       "    </tr>\n",
       "  </thead>\n",
       "  <tbody>\n",
       "    <tr>\n",
       "      <th>crate</th>\n",
       "      <td>1.0</td>\n",
       "      <td>0.0</td>\n",
       "      <td>0.0</td>\n",
       "      <td>0.0</td>\n",
       "      <td>0.0</td>\n",
       "      <td>0.0</td>\n",
       "      <td>0.0</td>\n",
       "      <td>0.0</td>\n",
       "      <td>0.0</td>\n",
       "      <td>0.0</td>\n",
       "      <td>...</td>\n",
       "      <td>0.0</td>\n",
       "      <td>0.0</td>\n",
       "      <td>0.0</td>\n",
       "      <td>0.0</td>\n",
       "      <td>0.0</td>\n",
       "      <td>0.0</td>\n",
       "      <td>0.0</td>\n",
       "      <td>0.0</td>\n",
       "      <td>0.0</td>\n",
       "      <td>0.0</td>\n",
       "    </tr>\n",
       "    <tr>\n",
       "      <th>dishes</th>\n",
       "      <td>1.0</td>\n",
       "      <td>0.0</td>\n",
       "      <td>0.0</td>\n",
       "      <td>0.0</td>\n",
       "      <td>0.0</td>\n",
       "      <td>0.0</td>\n",
       "      <td>0.0</td>\n",
       "      <td>0.0</td>\n",
       "      <td>0.0</td>\n",
       "      <td>0.0</td>\n",
       "      <td>...</td>\n",
       "      <td>0.0</td>\n",
       "      <td>0.0</td>\n",
       "      <td>0.0</td>\n",
       "      <td>0.0</td>\n",
       "      <td>0.0</td>\n",
       "      <td>0.0</td>\n",
       "      <td>0.0</td>\n",
       "      <td>0.0</td>\n",
       "      <td>0.0</td>\n",
       "      <td>0.0</td>\n",
       "    </tr>\n",
       "    <tr>\n",
       "      <th>delicious</th>\n",
       "      <td>1.0</td>\n",
       "      <td>0.0</td>\n",
       "      <td>0.0</td>\n",
       "      <td>0.0</td>\n",
       "      <td>0.0</td>\n",
       "      <td>0.0</td>\n",
       "      <td>0.0</td>\n",
       "      <td>0.0</td>\n",
       "      <td>0.0</td>\n",
       "      <td>0.0</td>\n",
       "      <td>...</td>\n",
       "      <td>0.0</td>\n",
       "      <td>0.0</td>\n",
       "      <td>0.0</td>\n",
       "      <td>0.0</td>\n",
       "      <td>0.0</td>\n",
       "      <td>0.0</td>\n",
       "      <td>0.0</td>\n",
       "      <td>0.0</td>\n",
       "      <td>0.0</td>\n",
       "      <td>0.0</td>\n",
       "    </tr>\n",
       "    <tr>\n",
       "      <th>milk</th>\n",
       "      <td>1.0</td>\n",
       "      <td>0.0</td>\n",
       "      <td>0.0</td>\n",
       "      <td>0.0</td>\n",
       "      <td>0.0</td>\n",
       "      <td>0.0</td>\n",
       "      <td>0.0</td>\n",
       "      <td>0.0</td>\n",
       "      <td>0.0</td>\n",
       "      <td>0.0</td>\n",
       "      <td>...</td>\n",
       "      <td>0.0</td>\n",
       "      <td>0.0</td>\n",
       "      <td>0.0</td>\n",
       "      <td>0.0</td>\n",
       "      <td>0.0</td>\n",
       "      <td>0.0</td>\n",
       "      <td>0.0</td>\n",
       "      <td>0.0</td>\n",
       "      <td>0.0</td>\n",
       "      <td>0.0</td>\n",
       "    </tr>\n",
       "  </tbody>\n",
       "</table>\n",
       "<p>4 rows × 2000 columns</p>\n",
       "</div>"
      ],
      "text/plain": [
       "           homemade  theatrical  corporation  manipulates  wedo  correlated  \\\n",
       "crate           1.0         0.0          0.0          0.0   0.0         0.0   \n",
       "dishes          1.0         0.0          0.0          0.0   0.0         0.0   \n",
       "delicious       1.0         0.0          0.0          0.0   0.0         0.0   \n",
       "milk            1.0         0.0          0.0          0.0   0.0         0.0   \n",
       "\n",
       "           aligns  familial  stix  rob     ...       gallery  equation  \\\n",
       "crate         0.0       0.0   0.0  0.0     ...           0.0       0.0   \n",
       "dishes        0.0       0.0   0.0  0.0     ...           0.0       0.0   \n",
       "delicious     0.0       0.0   0.0  0.0     ...           0.0       0.0   \n",
       "milk          0.0       0.0   0.0  0.0     ...           0.0       0.0   \n",
       "\n",
       "           composing  eraser  respecting  massive  impede  singers  errors  \\\n",
       "crate            0.0     0.0         0.0      0.0     0.0      0.0     0.0   \n",
       "dishes           0.0     0.0         0.0      0.0     0.0      0.0     0.0   \n",
       "delicious        0.0     0.0         0.0      0.0     0.0      0.0     0.0   \n",
       "milk             0.0     0.0         0.0      0.0     0.0      0.0     0.0   \n",
       "\n",
       "           curiosities  \n",
       "crate              0.0  \n",
       "dishes             0.0  \n",
       "delicious          0.0  \n",
       "milk               0.0  \n",
       "\n",
       "[4 rows x 2000 columns]"
      ]
     },
     "execution_count": 36,
     "metadata": {},
     "output_type": "execute_result"
    }
   ],
   "source": [
    "cmtr[ cmtr['homemade'] > 0.0 ]"
   ]
  },
  {
   "cell_type": "code",
   "execution_count": 37,
   "metadata": {},
   "outputs": [
    {
     "data": {
      "text/plain": [
       "homemade       1.0\n",
       "theatrical     NaN\n",
       "corporation    NaN\n",
       "manipulates    NaN\n",
       "wedo           NaN\n",
       "correlated     1.0\n",
       "aligns         NaN\n",
       "familial       NaN\n",
       "stix           3.0\n",
       "rob            NaN\n",
       "dtype: float64"
      ]
     },
     "execution_count": 37,
     "metadata": {},
     "output_type": "execute_result"
    }
   ],
   "source": [
    "cmtr[ cmtr != 0 ].cumsum(axis=1).min(axis=1)[:10]"
   ]
  },
  {
   "cell_type": "code",
   "execution_count": null,
   "metadata": {
    "collapsed": true
   },
   "outputs": [],
   "source": [
    "co = pd.DataFrame(columns=['row', 'col','co-occurence'])\n",
    "\n",
    "r = []\n",
    "c = []\n",
    "coo = []\n",
    "\n",
    "count = 0\n",
    "\n",
    "for i in tqdm(cmtr.index):\n",
    "    for j in cmtr.index:\n",
    "        \n",
    "        if cmtr.loc[j][i] != 0:\n",
    "    \n",
    "            r.append(j) \n",
    "            c.append(i) \n",
    "            coo.append( cmtr.loc[j][i] )\n",
    "            \n",
    "            count += 1\n",
    "            \n",
    "        if count == 10:\n",
    "            break\n",
    "\n",
    "co['row'] = r\n",
    "co['col'] = c\n",
    "co['co-occurence'] = coo\n"
   ]
  },
  {
   "cell_type": "code",
   "execution_count": 38,
   "metadata": {},
   "outputs": [
    {
     "data": {
      "text/html": [
       "<div>\n",
       "<style>\n",
       "    .dataframe thead tr:only-child th {\n",
       "        text-align: right;\n",
       "    }\n",
       "\n",
       "    .dataframe thead th {\n",
       "        text-align: left;\n",
       "    }\n",
       "\n",
       "    .dataframe tbody tr th {\n",
       "        vertical-align: top;\n",
       "    }\n",
       "</style>\n",
       "<table border=\"1\" class=\"dataframe\">\n",
       "  <thead>\n",
       "    <tr style=\"text-align: right;\">\n",
       "      <th></th>\n",
       "      <th>row</th>\n",
       "      <th>col</th>\n",
       "      <th>co-occurence</th>\n",
       "    </tr>\n",
       "  </thead>\n",
       "  <tbody>\n",
       "    <tr>\n",
       "      <th>0</th>\n",
       "      <td>sophomores</td>\n",
       "      <td>solace</td>\n",
       "      <td>2.0</td>\n",
       "    </tr>\n",
       "    <tr>\n",
       "      <th>1</th>\n",
       "      <td>refuge</td>\n",
       "      <td>solace</td>\n",
       "      <td>2.0</td>\n",
       "    </tr>\n",
       "    <tr>\n",
       "      <th>2</th>\n",
       "      <td>repetitive</td>\n",
       "      <td>motions</td>\n",
       "      <td>2.0</td>\n",
       "    </tr>\n",
       "    <tr>\n",
       "      <th>3</th>\n",
       "      <td>bulbs</td>\n",
       "      <td>motions</td>\n",
       "      <td>2.0</td>\n",
       "    </tr>\n",
       "    <tr>\n",
       "      <th>4</th>\n",
       "      <td>facial</td>\n",
       "      <td>motions</td>\n",
       "      <td>2.0</td>\n",
       "    </tr>\n",
       "  </tbody>\n",
       "</table>\n",
       "</div>"
      ],
      "text/plain": [
       "          row      col  co-occurence\n",
       "0  sophomores   solace           2.0\n",
       "1      refuge   solace           2.0\n",
       "2  repetitive  motions           2.0\n",
       "3       bulbs  motions           2.0\n",
       "4      facial  motions           2.0"
      ]
     },
     "execution_count": 38,
     "metadata": {},
     "output_type": "execute_result"
    }
   ],
   "source": [
    "co.head()"
   ]
  },
  {
   "cell_type": "markdown",
   "metadata": {},
   "source": [
    "### TruncatedSVD on calculated Co-Occurence matrix"
   ]
  },
  {
   "cell_type": "code",
   "execution_count": 39,
   "metadata": {
    "collapsed": true
   },
   "outputs": [],
   "source": [
    "from sklearn.decomposition import TruncatedSVD\n",
    "\n",
    "# Dim-reduction using Truncated SVD, and getting the Top Singular Values explaining the most variance\n",
    "\n",
    "svd = TruncatedSVD( n_components = 1999, random_state=42 )\n",
    "\n",
    "trsvd = svd.fit_transform( cmtr )\n",
    "\n",
    "cumVarianceExplained = np.cumsum( svd.explained_variance_ratio_ )"
   ]
  },
  {
   "cell_type": "code",
   "execution_count": 40,
   "metadata": {},
   "outputs": [
    {
     "data": {
      "image/png": "[encoded data removed]",
      "text/plain": [
       "<matplotlib.figure.Figure at 0x28b00492be0>"
      ]
     },
     "metadata": {},
     "output_type": "display_data"
    }
   ],
   "source": [
    "# Plot the Truncated SVD spectrum\n",
    "\n",
    "import matplotlib.pyplot as plt\n",
    "\n",
    "plt.figure( figsize=(16, 5))\n",
    "\n",
    "plt.plot( cumVarianceExplained, linewidth = 2 )\n",
    "plt.grid()\n",
    "plt.xlabel('n components',size=14)\n",
    "plt.ylabel('cumulative Variance Explained',size=14)\n",
    "plt.show()"
   ]
  },
  {
   "cell_type": "code",
   "execution_count": 41,
   "metadata": {},
   "outputs": [
    {
     "name": "stdout",
     "output_type": "stream",
     "text": [
      "(2000, 500)\n"
     ]
    }
   ],
   "source": [
    "n =  500\n",
    "svd = TruncatedSVD( n_components = n )\n",
    "\n",
    "svd.fit( cmtr )\n",
    "\n",
    "trSVD = svd.transform( cmtr )\n",
    "\n",
    "print( trSVD.shape )"
   ]
  },
  {
   "cell_type": "code",
   "execution_count": 43,
   "metadata": {},
   "outputs": [
    {
     "data": {
      "text/plain": [
       "array([ 1.60696828e-05,  7.42830799e-06, -1.07995806e-12,  2.73240164e-12,\n",
       "        1.14025997e-07, -9.20858801e-08,  1.17769478e-03,  6.52552778e-04,\n",
       "       -3.19409357e-04, -1.29377594e-04,  1.71005947e-02, -1.65932976e-02,\n",
       "        9.06602151e-08,  4.05160977e-03,  1.04150819e-04, -6.05101517e-04,\n",
       "        2.18714068e-04,  1.70564422e-11,  3.06435244e-10,  4.22552499e-10])"
      ]
     },
     "execution_count": 43,
     "metadata": {},
     "output_type": "execute_result"
    }
   ],
   "source": [
    "trSVD[0][:20]"
   ]
  },
  {
   "cell_type": "code",
   "execution_count": 44,
   "metadata": {},
   "outputs": [
    {
     "name": "stdout",
     "output_type": "stream",
     "text": [
      "['homemade', 'theatrical', 'corporation', 'manipulates', 'wedo', 'correlated', 'aligns', 'familial', 'stix', 'rob', 'margaret', 'raining', 'rods', 'factory', 'stigma', 'ceases', 'pile', 'cores', 'photosynthesis', 'chants']\n"
     ]
    }
   ],
   "source": [
    "print( topFeat[:20] )"
   ]
  },
  {
   "cell_type": "code",
   "execution_count": 45,
   "metadata": {},
   "outputs": [
    {
     "data": {
      "text/html": [
       "<div>\n",
       "<style>\n",
       "    .dataframe thead tr:only-child th {\n",
       "        text-align: right;\n",
       "    }\n",
       "\n",
       "    .dataframe thead th {\n",
       "        text-align: left;\n",
       "    }\n",
       "\n",
       "    .dataframe tbody tr th {\n",
       "        vertical-align: top;\n",
       "    }\n",
       "</style>\n",
       "<table border=\"1\" class=\"dataframe\">\n",
       "  <thead>\n",
       "    <tr style=\"text-align: right;\">\n",
       "      <th></th>\n",
       "      <th>0</th>\n",
       "      <th>1</th>\n",
       "      <th>2</th>\n",
       "      <th>3</th>\n",
       "      <th>4</th>\n",
       "      <th>5</th>\n",
       "      <th>6</th>\n",
       "      <th>7</th>\n",
       "      <th>8</th>\n",
       "      <th>9</th>\n",
       "      <th>...</th>\n",
       "      <th>490</th>\n",
       "      <th>491</th>\n",
       "      <th>492</th>\n",
       "      <th>493</th>\n",
       "      <th>494</th>\n",
       "      <th>495</th>\n",
       "      <th>496</th>\n",
       "      <th>497</th>\n",
       "      <th>498</th>\n",
       "      <th>499</th>\n",
       "    </tr>\n",
       "  </thead>\n",
       "  <tbody>\n",
       "    <tr>\n",
       "      <th>homemade</th>\n",
       "      <td>0.000016</td>\n",
       "      <td>0.000007</td>\n",
       "      <td>-1.079958e-12</td>\n",
       "      <td>2.732402e-12</td>\n",
       "      <td>1.140260e-07</td>\n",
       "      <td>-9.208588e-08</td>\n",
       "      <td>0.001178</td>\n",
       "      <td>0.000653</td>\n",
       "      <td>-0.000319</td>\n",
       "      <td>-0.000129</td>\n",
       "      <td>...</td>\n",
       "      <td>-0.00866</td>\n",
       "      <td>0.041073</td>\n",
       "      <td>-0.007997</td>\n",
       "      <td>0.004814</td>\n",
       "      <td>-0.023168</td>\n",
       "      <td>0.022285</td>\n",
       "      <td>-0.047526</td>\n",
       "      <td>-0.017224</td>\n",
       "      <td>-0.031348</td>\n",
       "      <td>-0.025551</td>\n",
       "    </tr>\n",
       "    <tr>\n",
       "      <th>theatrical</th>\n",
       "      <td>0.000000</td>\n",
       "      <td>0.000000</td>\n",
       "      <td>0.000000e+00</td>\n",
       "      <td>0.000000e+00</td>\n",
       "      <td>0.000000e+00</td>\n",
       "      <td>0.000000e+00</td>\n",
       "      <td>0.000000</td>\n",
       "      <td>0.000000</td>\n",
       "      <td>0.000000</td>\n",
       "      <td>0.000000</td>\n",
       "      <td>...</td>\n",
       "      <td>0.00000</td>\n",
       "      <td>0.000000</td>\n",
       "      <td>0.000000</td>\n",
       "      <td>0.000000</td>\n",
       "      <td>0.000000</td>\n",
       "      <td>0.000000</td>\n",
       "      <td>0.000000</td>\n",
       "      <td>0.000000</td>\n",
       "      <td>0.000000</td>\n",
       "      <td>0.000000</td>\n",
       "    </tr>\n",
       "    <tr>\n",
       "      <th>corporation</th>\n",
       "      <td>0.000000</td>\n",
       "      <td>0.000000</td>\n",
       "      <td>0.000000e+00</td>\n",
       "      <td>0.000000e+00</td>\n",
       "      <td>0.000000e+00</td>\n",
       "      <td>0.000000e+00</td>\n",
       "      <td>0.000000</td>\n",
       "      <td>0.000000</td>\n",
       "      <td>0.000000</td>\n",
       "      <td>0.000000</td>\n",
       "      <td>...</td>\n",
       "      <td>0.00000</td>\n",
       "      <td>0.000000</td>\n",
       "      <td>0.000000</td>\n",
       "      <td>0.000000</td>\n",
       "      <td>0.000000</td>\n",
       "      <td>0.000000</td>\n",
       "      <td>0.000000</td>\n",
       "      <td>0.000000</td>\n",
       "      <td>0.000000</td>\n",
       "      <td>0.000000</td>\n",
       "    </tr>\n",
       "    <tr>\n",
       "      <th>manipulates</th>\n",
       "      <td>0.000000</td>\n",
       "      <td>0.000000</td>\n",
       "      <td>0.000000e+00</td>\n",
       "      <td>0.000000e+00</td>\n",
       "      <td>0.000000e+00</td>\n",
       "      <td>0.000000e+00</td>\n",
       "      <td>0.000000</td>\n",
       "      <td>0.000000</td>\n",
       "      <td>0.000000</td>\n",
       "      <td>0.000000</td>\n",
       "      <td>...</td>\n",
       "      <td>0.00000</td>\n",
       "      <td>0.000000</td>\n",
       "      <td>0.000000</td>\n",
       "      <td>0.000000</td>\n",
       "      <td>0.000000</td>\n",
       "      <td>0.000000</td>\n",
       "      <td>0.000000</td>\n",
       "      <td>0.000000</td>\n",
       "      <td>0.000000</td>\n",
       "      <td>0.000000</td>\n",
       "    </tr>\n",
       "    <tr>\n",
       "      <th>wedo</th>\n",
       "      <td>0.000000</td>\n",
       "      <td>0.000000</td>\n",
       "      <td>0.000000e+00</td>\n",
       "      <td>0.000000e+00</td>\n",
       "      <td>0.000000e+00</td>\n",
       "      <td>0.000000e+00</td>\n",
       "      <td>0.000000</td>\n",
       "      <td>0.000000</td>\n",
       "      <td>0.000000</td>\n",
       "      <td>0.000000</td>\n",
       "      <td>...</td>\n",
       "      <td>0.00000</td>\n",
       "      <td>0.000000</td>\n",
       "      <td>0.000000</td>\n",
       "      <td>0.000000</td>\n",
       "      <td>0.000000</td>\n",
       "      <td>0.000000</td>\n",
       "      <td>0.000000</td>\n",
       "      <td>0.000000</td>\n",
       "      <td>0.000000</td>\n",
       "      <td>0.000000</td>\n",
       "    </tr>\n",
       "  </tbody>\n",
       "</table>\n",
       "<p>5 rows × 500 columns</p>\n",
       "</div>"
      ],
      "text/plain": [
       "                  0         1             2             3             4    \\\n",
       "homemade     0.000016  0.000007 -1.079958e-12  2.732402e-12  1.140260e-07   \n",
       "theatrical   0.000000  0.000000  0.000000e+00  0.000000e+00  0.000000e+00   \n",
       "corporation  0.000000  0.000000  0.000000e+00  0.000000e+00  0.000000e+00   \n",
       "manipulates  0.000000  0.000000  0.000000e+00  0.000000e+00  0.000000e+00   \n",
       "wedo         0.000000  0.000000  0.000000e+00  0.000000e+00  0.000000e+00   \n",
       "\n",
       "                      5         6         7         8         9      ...     \\\n",
       "homemade    -9.208588e-08  0.001178  0.000653 -0.000319 -0.000129    ...      \n",
       "theatrical   0.000000e+00  0.000000  0.000000  0.000000  0.000000    ...      \n",
       "corporation  0.000000e+00  0.000000  0.000000  0.000000  0.000000    ...      \n",
       "manipulates  0.000000e+00  0.000000  0.000000  0.000000  0.000000    ...      \n",
       "wedo         0.000000e+00  0.000000  0.000000  0.000000  0.000000    ...      \n",
       "\n",
       "                 490       491       492       493       494       495  \\\n",
       "homemade    -0.00866  0.041073 -0.007997  0.004814 -0.023168  0.022285   \n",
       "theatrical   0.00000  0.000000  0.000000  0.000000  0.000000  0.000000   \n",
       "corporation  0.00000  0.000000  0.000000  0.000000  0.000000  0.000000   \n",
       "manipulates  0.00000  0.000000  0.000000  0.000000  0.000000  0.000000   \n",
       "wedo         0.00000  0.000000  0.000000  0.000000  0.000000  0.000000   \n",
       "\n",
       "                  496       497       498       499  \n",
       "homemade    -0.047526 -0.017224 -0.031348 -0.025551  \n",
       "theatrical   0.000000  0.000000  0.000000  0.000000  \n",
       "corporation  0.000000  0.000000  0.000000  0.000000  \n",
       "manipulates  0.000000  0.000000  0.000000  0.000000  \n",
       "wedo         0.000000  0.000000  0.000000  0.000000  \n",
       "\n",
       "[5 rows x 500 columns]"
      ]
     },
     "execution_count": 45,
     "metadata": {},
     "output_type": "execute_result"
    }
   ],
   "source": [
    "df = pd.DataFrame( trSVD, index = cmtr.index)\n",
    "df.head()"
   ]
  },
  {
   "cell_type": "markdown",
   "metadata": {},
   "source": [
    "### Creating a dictionary with word as key and vector as value"
   ]
  },
  {
   "cell_type": "code",
   "execution_count": 46,
   "metadata": {},
   "outputs": [
    {
     "name": "stdout",
     "output_type": "stream",
     "text": [
      "2000\n",
      "['homemade', 'theatrical', 'corporation', 'manipulates', 'wedo', 'correlated', 'aligns', 'familial', 'stix', 'rob', 'margaret', 'raining', 'rods', 'factory', 'stigma', 'ceases', 'pile', 'cores', 'photosynthesis', 'chants']\n"
     ]
    }
   ],
   "source": [
    "ind = list(cmtr.index)\n",
    "print(len(ind))\n",
    "print(ind[:20])"
   ]
  },
  {
   "cell_type": "code",
   "execution_count": 47,
   "metadata": {
    "collapsed": true
   },
   "outputs": [],
   "source": [
    "vecDict = dict()\n",
    "c = 0\n",
    "\n",
    "for i in trSVD:\n",
    "    \n",
    "    vecDict[ ind[c] ] = i\n",
    "    c += 1"
   ]
  },
  {
   "cell_type": "code",
   "execution_count": 49,
   "metadata": {},
   "outputs": [
    {
     "data": {
      "text/plain": [
       "array([ 1.60696828e-05,  7.42830799e-06, -1.07995806e-12,  2.73240164e-12,\n",
       "        1.14025997e-07, -9.20858801e-08,  1.17769478e-03,  6.52552778e-04,\n",
       "       -3.19409357e-04, -1.29377594e-04,  1.71005947e-02, -1.65932976e-02,\n",
       "        9.06602151e-08,  4.05160977e-03,  1.04150819e-04, -6.05101517e-04,\n",
       "        2.18714068e-04,  1.70564422e-11,  3.06435244e-10,  4.22552499e-10])"
      ]
     },
     "execution_count": 49,
     "metadata": {},
     "output_type": "execute_result"
    }
   ],
   "source": [
    "vecDict['homemade'][:20]"
   ]
  },
  {
   "cell_type": "code",
   "execution_count": 117,
   "metadata": {},
   "outputs": [
    {
     "data": {
      "text/plain": [
       "(500,)"
      ]
     },
     "execution_count": 117,
     "metadata": {},
     "output_type": "execute_result"
    }
   ],
   "source": [
    "x = vecDict['homemade']\n",
    "x.shape"
   ]
  },
  {
   "cell_type": "code",
   "execution_count": 110,
   "metadata": {
    "collapsed": true
   },
   "outputs": [],
   "source": [
    "svdFeat = topFeat[:500]"
   ]
  },
  {
   "cell_type": "markdown",
   "metadata": {},
   "source": [
    "## Vectorizing Textual Data"
   ]
  },
  {
   "cell_type": "code",
   "execution_count": 113,
   "metadata": {
    "collapsed": true
   },
   "outputs": [],
   "source": [
    "# Function Creating a list that contains all the words in the data column\n",
    "\n",
    "def stow( data ):\n",
    "    sentence = []\n",
    "\n",
    "    for sen in tqdm( data.values ):\n",
    "        fsentence = []\n",
    "    \n",
    "        for w in sen.split():\n",
    "            for cw in w.split():\n",
    "            \n",
    "                if cw.isalpha():\n",
    "                    fsentence.append( cw.lower() )\n",
    "                else:\n",
    "                    continue\n",
    "        sentence.append( fsentence )\n",
    "    return sentence"
   ]
  },
  {
   "cell_type": "code",
   "execution_count": 119,
   "metadata": {
    "collapsed": true
   },
   "outputs": [],
   "source": [
    "import numpy as np\n",
    "\n",
    "\n",
    "def avgw2v( data, words ):\n",
    "    sentV = [] # average word 2 vec for each essay is stored in this\n",
    "\n",
    "    for sent in tqdm( data ):\n",
    "    \n",
    "        svec = np.zeros(500)\n",
    "        cnw = 0\n",
    "    \n",
    "        for w in sent:\n",
    "            if w in words:\n",
    "                vec = vecDict[ w ]  # Computing it's vector\n",
    "                svec += vec     # Add it to the svec\n",
    "                cnw += 1\n",
    "            \n",
    "        if cnw != 0:        \n",
    "            svec /= cnw  # Averaging with the count of number of words with valid vector in the Essay\n",
    "        sentV.append( svec )\n",
    "    \n",
    "    return sentV"
   ]
  },
  {
   "cell_type": "code",
   "execution_count": 114,
   "metadata": {},
   "outputs": [
    {
     "name": "stderr",
     "output_type": "stream",
     "text": [
      "100%|██████████████████████████████████████████████████████████████████████████| 22445/22445 [00:04<00:00, 4986.15it/s]\n"
     ]
    },
    {
     "name": "stdout",
     "output_type": "stream",
     "text": [
      "22445\n"
     ]
    }
   ],
   "source": [
    "# For Train\n",
    "\n",
    "trfinal = stow( xtrain['combined'] ) \n",
    "\n",
    "print( len( trfinal ) )"
   ]
  },
  {
   "cell_type": "code",
   "execution_count": 120,
   "metadata": {},
   "outputs": [
    {
     "name": "stderr",
     "output_type": "stream",
     "text": [
      "100%|███████████████████████████████████████████████████████████████████████████| 22445/22445 [00:48<00:00, 464.15it/s]\n"
     ]
    },
    {
     "data": {
      "text/plain": [
       "(22445, 500)"
      ]
     },
     "execution_count": 120,
     "metadata": {},
     "output_type": "execute_result"
    }
   ],
   "source": [
    "xtrAW2V = np.asarray( avgw2v( trfinal, svdFeat ) )\n",
    "\n",
    "xtrAW2V.shape"
   ]
  },
  {
   "cell_type": "code",
   "execution_count": 121,
   "metadata": {},
   "outputs": [
    {
     "name": "stderr",
     "output_type": "stream",
     "text": [
      "100%|██████████████████████████████████████████████████████████████████████████| 11055/11055 [00:01<00:00, 7060.23it/s]\n"
     ]
    },
    {
     "name": "stdout",
     "output_type": "stream",
     "text": [
      "11055\n"
     ]
    }
   ],
   "source": [
    "# For CV\n",
    "\n",
    "cvfinal = stow( xcv['combined'] ) \n",
    "\n",
    "print( len( cvfinal ) )"
   ]
  },
  {
   "cell_type": "code",
   "execution_count": 122,
   "metadata": {},
   "outputs": [
    {
     "name": "stderr",
     "output_type": "stream",
     "text": [
      "100%|███████████████████████████████████████████████████████████████████████████| 11055/11055 [00:16<00:00, 669.10it/s]\n"
     ]
    },
    {
     "data": {
      "text/plain": [
       "(11055, 500)"
      ]
     },
     "execution_count": 122,
     "metadata": {},
     "output_type": "execute_result"
    }
   ],
   "source": [
    "xcvAW2V = np.asarray( avgw2v( cvfinal, svdFeat ) )\n",
    "\n",
    "xcvAW2V.shape"
   ]
  },
  {
   "cell_type": "code",
   "execution_count": 123,
   "metadata": {},
   "outputs": [
    {
     "name": "stderr",
     "output_type": "stream",
     "text": [
      "100%|██████████████████████████████████████████████████████████████████████████| 16500/16500 [00:02<00:00, 5536.85it/s]\n"
     ]
    },
    {
     "name": "stdout",
     "output_type": "stream",
     "text": [
      "16500\n"
     ]
    }
   ],
   "source": [
    "# For Test\n",
    "\n",
    "tefinal = stow( xtest['combined'] ) \n",
    "\n",
    "print( len( tefinal ) )"
   ]
  },
  {
   "cell_type": "code",
   "execution_count": 124,
   "metadata": {},
   "outputs": [
    {
     "name": "stderr",
     "output_type": "stream",
     "text": [
      "100%|███████████████████████████████████████████████████████████████████████████| 16500/16500 [00:24<00:00, 660.07it/s]\n"
     ]
    },
    {
     "data": {
      "text/plain": [
       "(16500, 500)"
      ]
     },
     "execution_count": 124,
     "metadata": {},
     "output_type": "execute_result"
    }
   ],
   "source": [
    "xteAW2V = np.asarray( avgw2v( tefinal, svdFeat ) )\n",
    "\n",
    "xteAW2V.shape"
   ]
  },
  {
   "cell_type": "markdown",
   "metadata": {},
   "source": []
  },
  {
   "cell_type": "markdown",
   "metadata": {
    "collapsed": true
   },
   "source": [
    "### school state"
   ]
  },
  {
   "cell_type": "code",
   "execution_count": 125,
   "metadata": {},
   "outputs": [
    {
     "name": "stdout",
     "output_type": "stream",
     "text": [
      "(22445, 51)\n",
      "(11055, 51)\n",
      "(16500, 51)\n"
     ]
    }
   ],
   "source": [
    "from sklearn.feature_extraction.text import CountVectorizer\n",
    "\n",
    "vectorizer = CountVectorizer()\n",
    "\n",
    "vectorizer.fit( xtrain['school_state'].values )\n",
    "\n",
    "xtrState = vectorizer.transform( xtrain['school_state'].values )\n",
    "xcvState = vectorizer.transform( xcv['school_state'].values )\n",
    "xteState = vectorizer.transform( xtest['school_state'].values )\n",
    "\n",
    "print( xtrState.shape )\n",
    "print( xcvState.shape )\n",
    "print( xteState.shape )"
   ]
  },
  {
   "cell_type": "markdown",
   "metadata": {},
   "source": [
    "### teacher prefix"
   ]
  },
  {
   "cell_type": "code",
   "execution_count": 126,
   "metadata": {},
   "outputs": [
    {
     "name": "stdout",
     "output_type": "stream",
     "text": [
      "(22445, 5)\n",
      "(11055, 5)\n",
      "(16500, 5)\n"
     ]
    }
   ],
   "source": [
    "vectorizer = CountVectorizer(vocabulary = ['dr', 'mr', 'mrs', 'ms', 'teacher'])\n",
    "\n",
    "vectorizer.fit( xtrain['teacher_prefix'].values )\n",
    "\n",
    "xtrPrefix = vectorizer.transform( xtrain['teacher_prefix'].values )\n",
    "xcvPrefix = vectorizer.transform( xcv['teacher_prefix'].values )\n",
    "xtePrefix = vectorizer.transform( xtest['teacher_prefix'].values )\n",
    "\n",
    "print( xtrPrefix.shape )\n",
    "print( xcvPrefix.shape )\n",
    "print( xtePrefix.shape )"
   ]
  },
  {
   "cell_type": "markdown",
   "metadata": {
    "collapsed": true
   },
   "source": [
    "###  categories"
   ]
  },
  {
   "cell_type": "code",
   "execution_count": 127,
   "metadata": {},
   "outputs": [
    {
     "name": "stdout",
     "output_type": "stream",
     "text": [
      "(22445, 15)\n",
      "(11055, 15)\n",
      "(16500, 15)\n"
     ]
    }
   ],
   "source": [
    "vectorizer = CountVectorizer()\n",
    "\n",
    "vectorizer.fit( xtrain['clean_categories'].values )\n",
    "\n",
    "xtrCat = vectorizer.transform( xtrain['clean_categories'].values )\n",
    "xcvCat = vectorizer.transform( xcv['clean_categories'].values )\n",
    "xteCat = vectorizer.transform( xtest['clean_categories'].values )\n",
    "\n",
    "print( xtrCat.shape )\n",
    "print( xcvCat.shape )\n",
    "print( xteCat.shape )"
   ]
  },
  {
   "cell_type": "markdown",
   "metadata": {
    "collapsed": true
   },
   "source": [
    "###  subcategory"
   ]
  },
  {
   "cell_type": "code",
   "execution_count": 128,
   "metadata": {},
   "outputs": [
    {
     "name": "stdout",
     "output_type": "stream",
     "text": [
      "(22445, 37)\n",
      "(11055, 37)\n",
      "(16500, 37)\n"
     ]
    }
   ],
   "source": [
    "vectorizer = CountVectorizer()\n",
    "\n",
    "vectorizer.fit( xtrain['clean_subcategory'].values )\n",
    "\n",
    "xtrSubCat = vectorizer.transform( xtrain['clean_subcategory'].values )\n",
    "xcvSubCat = vectorizer.transform( xcv['clean_subcategory'].values )\n",
    "xteSubCat = vectorizer.transform( xtest['clean_subcategory'].values )\n",
    "\n",
    "print( xtrSubCat.shape )\n",
    "print( xcvSubCat.shape )\n",
    "print( xteSubCat.shape )"
   ]
  },
  {
   "cell_type": "markdown",
   "metadata": {
    "collapsed": true
   },
   "source": [
    "### ProjectGradeCategory"
   ]
  },
  {
   "cell_type": "code",
   "execution_count": 129,
   "metadata": {},
   "outputs": [
    {
     "name": "stdout",
     "output_type": "stream",
     "text": [
      "(22445, 8)\n",
      "(11055, 8)\n",
      "(16500, 8)\n"
     ]
    }
   ],
   "source": [
    "vectGCat = CountVectorizer()\n",
    "\n",
    "vectGCat.fit( xtrain['cleanProjectGradeCategory'].values )\n",
    "\n",
    "xtrGCat = vectGCat.transform( xtrain['cleanProjectGradeCategory'].values )\n",
    "xcvGCat = vectGCat.transform( xcv['cleanProjectGradeCategory'].values )\n",
    "xteGCat = vectGCat.transform( xtest['cleanProjectGradeCategory'].values )\n",
    "\n",
    "print( xtrGCat.shape )\n",
    "print( xcvGCat.shape )\n",
    "print( xteGCat.shape )"
   ]
  },
  {
   "cell_type": "markdown",
   "metadata": {
    "collapsed": true
   },
   "source": [
    "### price"
   ]
  },
  {
   "cell_type": "code",
   "execution_count": 130,
   "metadata": {},
   "outputs": [
    {
     "name": "stdout",
     "output_type": "stream",
     "text": [
      "(22445, 1)\n",
      "(11055, 1)\n",
      "(16500, 1)\n"
     ]
    }
   ],
   "source": [
    "from sklearn.preprocessing import Normalizer\n",
    "\n",
    "norm = Normalizer()\n",
    "\n",
    "# norm.fit( xtrain['price'].values ) # gives error : Expected 2D array, got 1D array instead\n",
    "norm.fit( xtrain['price'].values.reshape(-1,1) )\n",
    "\n",
    "xtrPrice = norm.transform( xtrain['price'].values.reshape(-1,1) )\n",
    "xcvPrice = norm.transform( xcv['price'].values.reshape(-1,1) )\n",
    "xtePrice = norm.transform( xtest['price'].values.reshape(-1,1) )\n",
    "\n",
    "print( xtrPrice.shape )\n",
    "print( xcvPrice.shape )\n",
    "print( xtePrice.shape )"
   ]
  },
  {
   "cell_type": "markdown",
   "metadata": {
    "collapsed": true
   },
   "source": [
    "### previously posted projects"
   ]
  },
  {
   "cell_type": "code",
   "execution_count": 131,
   "metadata": {},
   "outputs": [
    {
     "name": "stdout",
     "output_type": "stream",
     "text": [
      "(22445, 1)\n",
      "(11055, 1)\n",
      "(16500, 1)\n"
     ]
    }
   ],
   "source": [
    "from sklearn.preprocessing import Normalizer\n",
    "\n",
    "norm = Normalizer()\n",
    "\n",
    "# norm.fit( xtrain['price'].values ) # gives error : Expected 2D array, got 1D array instead\n",
    "norm.fit( xtrain['teacher_number_of_previously_posted_projects'].values.reshape(-1,1) )\n",
    "\n",
    "xtrPrev = norm.transform( xtrain['teacher_number_of_previously_posted_projects'].values.reshape(-1,1) )\n",
    "xcvPrev = norm.transform( xcv['teacher_number_of_previously_posted_projects'].values.reshape(-1,1) )\n",
    "xtePrev = norm.transform( xtest['teacher_number_of_previously_posted_projects'].values.reshape(-1,1) )\n",
    "\n",
    "print( xtrPrev.shape )\n",
    "print( xcvPrev.shape )\n",
    "print( xtePrev.shape )"
   ]
  },
  {
   "cell_type": "markdown",
   "metadata": {
    "collapsed": true
   },
   "source": [
    "### quantity"
   ]
  },
  {
   "cell_type": "code",
   "execution_count": 132,
   "metadata": {},
   "outputs": [
    {
     "name": "stdout",
     "output_type": "stream",
     "text": [
      "(22445, 1)\n",
      "(11055, 1)\n",
      "(16500, 1)\n"
     ]
    }
   ],
   "source": [
    "from sklearn.preprocessing import Normalizer\n",
    "\n",
    "norm = Normalizer()\n",
    "\n",
    "# norm.fit( xtrain['price'].values ) # gives error : Expected 2D array, got 1D array instead\n",
    "norm.fit( xtrain['quantity'].values.reshape(-1,1) )\n",
    "\n",
    "xtrQuan = norm.transform( xtrain['quantity'].values.reshape(-1,1) )\n",
    "xcvQuan = norm.transform( xcv['quantity'].values.reshape(-1,1) )\n",
    "xteQuan = norm.transform( xtest['quantity'].values.reshape(-1,1) )\n",
    "\n",
    "print( xtrQuan.shape )\n",
    "print( xcvQuan.shape )\n",
    "print( xteQuan.shape )"
   ]
  },
  {
   "cell_type": "markdown",
   "metadata": {},
   "source": [
    "### Sentiment Score : Negative"
   ]
  },
  {
   "cell_type": "code",
   "execution_count": 133,
   "metadata": {},
   "outputs": [
    {
     "name": "stdout",
     "output_type": "stream",
     "text": [
      "(22445, 1)\n",
      "(11055, 1)\n",
      "(16500, 1)\n"
     ]
    }
   ],
   "source": [
    "trneg = xtrain['neg'].values.reshape(-1,1)\n",
    "cvneg = xcv['neg'].values.reshape(-1,1)\n",
    "teneg = xtest['neg'].values.reshape(-1,1)\n",
    "\n",
    "print(trneg.shape)\n",
    "print(cvneg.shape)\n",
    "print(teneg.shape)"
   ]
  },
  {
   "cell_type": "markdown",
   "metadata": {},
   "source": [
    "### Sentiment Score : Positive"
   ]
  },
  {
   "cell_type": "code",
   "execution_count": 134,
   "metadata": {},
   "outputs": [
    {
     "name": "stdout",
     "output_type": "stream",
     "text": [
      "(22445, 1)\n",
      "(11055, 1)\n",
      "(16500, 1)\n"
     ]
    }
   ],
   "source": [
    "trpos = xtrain['pos'].values.reshape(-1,1)\n",
    "cvpos = xcv['pos'].values.reshape(-1,1)\n",
    "tepos = xtest['pos'].values.reshape(-1,1)\n",
    "\n",
    "print(trpos.shape)\n",
    "print(cvpos.shape)\n",
    "print(tepos.shape)"
   ]
  },
  {
   "cell_type": "markdown",
   "metadata": {},
   "source": [
    "### Sentiment Score : Neutral"
   ]
  },
  {
   "cell_type": "code",
   "execution_count": 135,
   "metadata": {},
   "outputs": [
    {
     "name": "stdout",
     "output_type": "stream",
     "text": [
      "(22445, 1)\n",
      "(11055, 1)\n",
      "(16500, 1)\n"
     ]
    }
   ],
   "source": [
    "trneu = xtrain['neu'].values.reshape(-1,1)\n",
    "cvneu = xcv['neu'].values.reshape(-1,1)\n",
    "teneu = xtest['neu'].values.reshape(-1,1)\n",
    "\n",
    "print(trneu.shape)\n",
    "print(cvneu.shape)\n",
    "print(teneu.shape)"
   ]
  },
  {
   "cell_type": "markdown",
   "metadata": {
    "collapsed": true
   },
   "source": [
    "### Sentiment Score : Compound"
   ]
  },
  {
   "cell_type": "code",
   "execution_count": 136,
   "metadata": {},
   "outputs": [
    {
     "name": "stdout",
     "output_type": "stream",
     "text": [
      "(22445, 1)\n",
      "(11055, 1)\n",
      "(16500, 1)\n"
     ]
    }
   ],
   "source": [
    "trcomp = xtrain['comp'].values.reshape(-1,1)\n",
    "cvcomp = xcv['comp'].values.reshape(-1,1)\n",
    "tecomp = xtest['comp'].values.reshape(-1,1)\n",
    "\n",
    "print(trcomp.shape)\n",
    "print(cvcomp.shape)\n",
    "print(tecomp.shape)"
   ]
  },
  {
   "cell_type": "markdown",
   "metadata": {
    "collapsed": true
   },
   "source": [
    "### totalWordsTitle"
   ]
  },
  {
   "cell_type": "code",
   "execution_count": 137,
   "metadata": {},
   "outputs": [
    {
     "name": "stdout",
     "output_type": "stream",
     "text": [
      "(22445, 1)\n",
      "(11055, 1)\n",
      "(16500, 1)\n"
     ]
    }
   ],
   "source": [
    "from sklearn.preprocessing import Normalizer\n",
    "\n",
    "norm = Normalizer()\n",
    "\n",
    "# norm.fit( xtrain['price'].values ) # gives error : Expected 2D array, got 1D array instead\n",
    "norm.fit( xtrain['totalWordsTitle'].values.reshape(-1,1) )\n",
    "\n",
    "xtrTWT = norm.transform( xtrain['totalWordsTitle'].values.reshape(-1,1) )\n",
    "xcvTWT = norm.transform( xcv['totalWordsTitle'].values.reshape(-1,1) )\n",
    "xteTWT = norm.transform( xtest['totalWordsTitle'].values.reshape(-1,1) )\n",
    "\n",
    "print( xtrTWT.shape )\n",
    "print( xcvTWT.shape )\n",
    "print( xteTWT.shape )"
   ]
  },
  {
   "cell_type": "markdown",
   "metadata": {},
   "source": [
    "### totalWordsEssay"
   ]
  },
  {
   "cell_type": "code",
   "execution_count": 139,
   "metadata": {},
   "outputs": [
    {
     "name": "stdout",
     "output_type": "stream",
     "text": [
      "(22445, 1)\n",
      "(11055, 1)\n",
      "(16500, 1)\n"
     ]
    }
   ],
   "source": [
    "from sklearn.preprocessing import Normalizer\n",
    "\n",
    "norm = Normalizer()\n",
    "\n",
    "# norm.fit( xtrain['price'].values ) # gives error : Expected 2D array, got 1D array instead\n",
    "norm.fit( xtrain['totalWordsEssay'].values.reshape(-1,1) )\n",
    "\n",
    "xtrTWE = norm.transform( xtrain['totalWordsEssay'].values.reshape(-1,1) )\n",
    "xcvTWE = norm.transform( xcv['totalWordsEssay'].values.reshape(-1,1) )\n",
    "xteTWE = norm.transform( xtest['totalWordsEssay'].values.reshape(-1,1) )\n",
    "\n",
    "print( xtrTWE.shape )\n",
    "print( xcvTWE.shape )\n",
    "print( xteTWE.shape )"
   ]
  },
  {
   "cell_type": "markdown",
   "metadata": {
    "collapsed": true
   },
   "source": [
    "### Creating a Data Matrix"
   ]
  },
  {
   "cell_type": "code",
   "execution_count": 140,
   "metadata": {
    "collapsed": true
   },
   "outputs": [],
   "source": [
    "from scipy.sparse import hstack\n",
    "\n",
    "xtr1 = hstack(( xtrTWE, xtrTWT, xtrState, xtrPrefix, xtrCat, xtrSubCat, xtrGCat, xtrPrice, xtrQuan, xtrPrev, \\\n",
    "                         trneg, trpos, trneu, trcomp, xtrAW2V )).tocsr()\n",
    "\n",
    "xcv1 = hstack(( xcvTWE, xcvTWT, xcvState, xcvPrefix, xcvCat, xcvSubCat, xcvGCat, xcvPrice, xcvQuan, xcvPrev, \\\n",
    "                         cvneg, cvpos, cvneu, cvcomp, xcvAW2V )).tocsr()\n",
    "\n",
    "\n",
    "xte1 = hstack(( xteTWE, xteTWT, xteState, xtePrefix, xteCat, xteSubCat, xteGCat, xtePrice, xteQuan, xtePrev, \\\n",
    "                         teneg, tepos, teneu, tecomp, xteAW2V )).tocsr()"
   ]
  },
  {
   "cell_type": "code",
   "execution_count": 141,
   "metadata": {},
   "outputs": [
    {
     "name": "stdout",
     "output_type": "stream",
     "text": [
      "(22445, 625) (22445,)\n",
      "(11055, 625) (11055,)\n",
      "(16500, 625) (16500,)\n"
     ]
    }
   ],
   "source": [
    "print( xtr1.shape, ytrain.shape )\n",
    "print( xcv1.shape, ycv.shape )\n",
    "print( xte1.shape, ytest.shape )"
   ]
  },
  {
   "cell_type": "code",
   "execution_count": null,
   "metadata": {
    "collapsed": true
   },
   "outputs": [],
   "source": []
  },
  {
   "cell_type": "code",
   "execution_count": 143,
   "metadata": {},
   "outputs": [
    {
     "data": {
      "text/html": [
       "        <script type=\"text/javascript\">\n",
       "        window.PlotlyConfig = {MathJaxConfig: 'local'};\n",
       "        if (window.MathJax) {MathJax.Hub.Config({SVG: {font: \"STIX-Web\"}});}\n",
       "        if (typeof require !== 'undefined') {\n",
       "        require.undef(\"plotly\");\n",
       "        requirejs.config({\n",
       "            paths: {\n",
       "                'plotly': ['https://cdn.plot.ly/plotly-latest.min']\n",
       "            }\n",
       "        });\n",
       "        require(['plotly'], function(Plotly) {\n",
       "            window._Plotly = Plotly;\n",
       "        });\n",
       "        }\n",
       "        </script>\n",
       "        "
      ]
     },
     "metadata": {},
     "output_type": "display_data"
    },
    {
     "data": {
      "application/vnd.plotly.v1+json": {
       "config": {
        "linkText": "Export to plot.ly",
        "plotlyServerURL": "https://plot.ly",
        "responsive": true,
        "showLink": false
       },
       "data": [
        {
         "type": "scatter",
         "uid": "ffc1ff05-aa3d-49a5-800c-005aa824f5be",
         "x": [
          1,
          2,
          3,
          4
         ],
         "y": [
          4,
          3,
          2,
          1
         ]
        }
       ],
       "layout": {
        "title": {
         "text": "hello world"
        }
       }
      },
      "text/html": [
       "<div>\n",
       "        \n",
       "        \n",
       "            <div id=\"fa71d052-c260-43cc-ae63-035f6822ef61\" class=\"plotly-graph-div\" style=\"height:525px; width:100%;\"></div>\n",
       "            <script type=\"text/javascript\">\n",
       "                require([\"plotly\"], function(Plotly) {\n",
       "                    window.PLOTLYENV=window.PLOTLYENV || {};\n",
       "                    window.PLOTLYENV.BASE_URL='https://plot.ly';\n",
       "                    \n",
       "                if (document.getElementById(\"fa71d052-c260-43cc-ae63-035f6822ef61\")) {\n",
       "                    Plotly.newPlot(\n",
       "                        'fa71d052-c260-43cc-ae63-035f6822ef61',\n",
       "                        [{\"type\": \"scatter\", \"uid\": \"bcd3b49f-607b-4497-bd8e-b843e80aea9e\", \"x\": [1, 2, 3, 4], \"y\": [4, 3, 2, 1]}],\n",
       "                        {\"title\": {\"text\": \"hello world\"}},\n",
       "                        {\"showLink\": false, \"linkText\": \"Export to plot.ly\", \"plotlyServerURL\": \"https://plot.ly\", \"responsive\": true}\n",
       "                    ).then(function(){\n",
       "                            \n",
       "var gd = document.getElementById('fa71d052-c260-43cc-ae63-035f6822ef61');\n",
       "var x = new MutationObserver(function (mutations, observer) {{\n",
       "        var display = window.getComputedStyle(gd).display;\n",
       "        if (!display || display === 'none') {{\n",
       "            console.log([gd, 'removed!']);\n",
       "            Plotly.purge(gd);\n",
       "            observer.disconnect();\n",
       "        }}\n",
       "}});\n",
       "\n",
       "// Listen for the removal of the full notebook cells\n",
       "var notebookContainer = gd.closest('#notebook-container');\n",
       "if (notebookContainer) {{\n",
       "    x.observe(notebookContainer, {childList: true});\n",
       "}}\n",
       "\n",
       "// Listen for the clearing of the current output cell\n",
       "var outputEl = gd.closest('.output');\n",
       "if (outputEl) {{\n",
       "    x.observe(outputEl, {childList: true});\n",
       "}}\n",
       "\n",
       "                        })\n",
       "                };\n",
       "                });\n",
       "            </script>\n",
       "        </div>"
      ]
     },
     "metadata": {},
     "output_type": "display_data"
    }
   ],
   "source": [
    "import plotly\n",
    "import plotly.graph_objs as go\n",
    "\n",
    "plotly.offline.init_notebook_mode(connected=True)\n",
    "\n",
    "plotly.offline.iplot({\n",
    "    \"data\": [go.Scatter( x=[1, 2, 3, 4], y=[4, 3, 2, 1])],\n",
    "    \"layout\": go.Layout( title=\"hello world\" )\n",
    "})\n",
    "\n",
    "# Ref : https://plot.ly/python/"
   ]
  },
  {
   "cell_type": "markdown",
   "metadata": {},
   "source": [
    "### Functions for Hyperparameter Tuning and computing roc_auc scores"
   ]
  },
  {
   "cell_type": "code",
   "execution_count": 144,
   "metadata": {},
   "outputs": [
    {
     "name": "stderr",
     "output_type": "stream",
     "text": [
      "IOPub data rate exceeded.\n",
      "The notebook server will temporarily stop sending output\n",
      "to the client in order to avoid crashing it.\n",
      "To change this limit, set the config variable\n",
      "`--NotebookApp.iopub_data_rate_limit`.\n"
     ]
    }
   ],
   "source": [
    "import matplotlib.pyplot as plt\n",
    "\n",
    "from sklearn.metrics import roc_auc_score\n",
    "from sklearn.metrics import roc_curve, auc\n",
    "from sklearn.metrics import confusion_matrix\n",
    "\n",
    "import plotly.offline as offline\n",
    "import plotly.graph_objs as go\n",
    "offline.init_notebook_mode()\n",
    "\n",
    "import seaborn as sn"
   ]
  },
  {
   "cell_type": "code",
   "execution_count": 144,
   "metadata": {
    "collapsed": true
   },
   "outputs": [],
   "source": [
    "def Predict( data, classifier ): # Predicts the probability of data points all at once\n",
    "    \n",
    "    yPred = []\n",
    "        \n",
    "    yPred.extend( classifier.predict_proba( data )[:, 1] ) # [ :, 1] : All row Only 1 col\n",
    "    # predict_proba : Return probability estimates for the test data X.\n",
    "    \n",
    "    return yPred"
   ]
  },
  {
   "cell_type": "code",
   "execution_count": 145,
   "metadata": {
    "collapsed": true
   },
   "outputs": [],
   "source": [
    "def batchPredict( data, classifier ): # Predict the probablity of data points in batch i.e; some data points at once \n",
    "    \n",
    "    yPred = []\n",
    "    \n",
    "    loop = data.shape[0] - data.shape[0] % 1000   # data.shape[0] : no of rows in data matrix\n",
    "    # for ex data shape = 4489 then loop = 4489 - 4489%1000 = 4489 - 489 = 4000 \n",
    "    # Now we can divide our loop into 4 interval of 1000s and one remaining 489\n",
    "    # ie; 1-1000 in 1st iteration 1000-2000 in 2nd iteration 2000-3000 in 3rd 3000-4000 in 4th and 4000-4489 in the last iteraion\n",
    "    \n",
    "    for i in range( 0, loop, 1000 ):\n",
    "        # If loop = 4000 Computes proba for 0 - 4000 in 4 iterations\n",
    "       \n",
    "        yPred.extend( classifier.predict_proba( data[i : i+1000] )[ :, 1] ) # [ :, 1] : All row Only 1 col\n",
    "        # predict_proba : Return probability estimates for the test data X.\n",
    "\n",
    "    yPred.extend( classifier.predict_proba( data[ loop : ] )[ :, 1 ] )\n",
    "    # computes probab for remaining points\n",
    "\n",
    "    return yPred"
   ]
  },
  {
   "cell_type": "code",
   "execution_count": 151,
   "metadata": {
    "collapsed": true
   },
   "outputs": [],
   "source": [
    "import xgboost as xgb\n",
    "\n",
    "def BestGB( xtr, xcv, ytr, ycv ):\n",
    "    \n",
    "    trAUC = []\n",
    "    cvAUC = []\n",
    "    \n",
    "    depth = [ 5, 11, 51, 101 ]\n",
    "    rate = [ 0.01, 0.1 , 1  ]\n",
    "    d = []\n",
    "    r = []\n",
    "    print(' '*12,'- First -', ' '*16,'- Second -', ' '*17,'- Third -', ' '*16,'- Fourth -')\n",
    "    print('      ', end =' ')\n",
    "\n",
    "    for i in depth:\n",
    "        for j in rate:\n",
    "            \n",
    "            clf = xgb.XGBClassifier( objective = \"binary:logistic\", random_state = 42, max_depth = i, eta = j, class_weight='balanced' )\n",
    "            clf.fit( xtr, ytr )\n",
    "            \n",
    "            ytrPred = batchPredict( xtr, clf )    \n",
    "            ycvPred = batchPredict( xcv, clf )\n",
    "\n",
    "            # roc_auc_score(y_true, y_score) the 2nd parameter should be probability estimates of the positive class\n",
    "            # not the predicted outputs \n",
    "\n",
    "            trAUC.append( roc_auc_score( ytr, ytrPred ))\n",
    "            cvAUC.append( roc_auc_score( ycv, ycvPred ))\n",
    "            \n",
    "            d.append(i)\n",
    "            r.append(j)\n",
    "        print('#'*20, end ='        ')\n",
    "    \n",
    "    #d = [  5,    5,  5    11,   11,  11    51,   51,  51    101,  101,  101 ]\n",
    "    #r = [ 0.01, 0.1, 1   0.01, 0.1,  1     0.01, 0.1,  1     0.01, 0.1,  1  ]\n",
    "\n",
    "    trace1 = go.Scatter3d( x = d, y = r , z = trAUC, name = 'Train')\n",
    "    trace2 = go.Scatter3d( x = d, y = r, z = cvAUC, name = 'Cross validation')\n",
    "\n",
    "    data = [trace1, trace2]\n",
    "\n",
    "    layout = go.Layout(scene = dict(\n",
    "        xaxis = dict(title='max_depth'),\n",
    "        yaxis = dict(title='learning_rate'),\n",
    "        zaxis = dict(title='AUC'),))\n",
    "\n",
    "    fig = go.Figure(data=data, layout=layout)\n",
    "    offline.iplot(fig, filename='3d-scatter-colorscale')"
   ]
  },
  {
   "cell_type": "code",
   "execution_count": 147,
   "metadata": {
    "collapsed": true
   },
   "outputs": [],
   "source": [
    "def predictCM( probab, threshold, fpr, tpr ):\n",
    "    \n",
    "    t = threshold[ np.argmax( fpr*( 1 - tpr ) ) ]  # returns the threshold val for the point with max fpr(1-tpr) value\n",
    "    # fpr*( 1 - tpr ) will be high if fpr is high and tpr is low\n",
    "    # argmax : Returns the indices of the maximum val along an axis\n",
    "    \n",
    "    print(\" The maximum value of tpr*(1-fpr) = \", max( tpr*(1-fpr) ), \" for threshold = \", np.round(t,3))\n",
    "    \n",
    "    pred = []\n",
    "    for i in probab: # i = Probability for all data points\n",
    "        \n",
    "        if i >= t:   #  if Probablity of a point is >= the Threshold value i,e; Threshold at index of max val of fpr(1-tpr) \n",
    "            pred.append(1)\n",
    "        else:\n",
    "            pred.append(0)\n",
    "            \n",
    "    return pred"
   ]
  },
  {
   "cell_type": "code",
   "execution_count": 148,
   "metadata": {
    "collapsed": true
   },
   "outputs": [],
   "source": [
    "def cm( ytr, yte, yTrainPred, trThreshold, trFPR, trTPR, yTestPred, teThreshold, teFPR, teTPR, sno ):\n",
    "    \n",
    "    print(\"Confusion Matrix for Train of Set \", sno)\n",
    "    \n",
    "    predicted = predictCM( yTrainPred, trThreshold, trFPR, trTPR )\n",
    "    cmtr = confusion_matrix( ytr, predicted )\n",
    "    print( cmtr  )\n",
    "\n",
    "    plt.figure(figsize = (8,6))\n",
    "    sn.set(font_scale=1.4) #for label size\n",
    "    sn.heatmap(cmtr, fmt=\".1f\", annot=True, annot_kws={\"size\": 18}, cmap='Blues_r')# font size\n",
    "    plt.ylabel('True label', size=18)\n",
    "    plt.xlabel('Predicted label', size=18)\n",
    "    plt.show()\n",
    "    plt.close()\n",
    "\n",
    "\n",
    "\n",
    "    print(\"\\n\\nConfusion Matrix for Test \", sno)\n",
    "    predicted = predictCM( yTestPred, teThreshold, teFPR, teTPR )\n",
    "\n",
    "    cmte = confusion_matrix( yte, predicted )\n",
    "    print( cmte )\n",
    "\n",
    "    plt.figure(figsize = (8,6))\n",
    "    sn.set(font_scale=1.4) #for label size\n",
    "    sn.heatmap(cmte, fmt=\".1f\", annot=True, annot_kws={\"size\": 18}, cmap='Blues_r')# font size\n",
    "    plt.ylabel('True label', size=18)\n",
    "    plt.xlabel('Predicted label', size=18)\n",
    "    plt.show()\n",
    "    plt.close()"
   ]
  },
  {
   "cell_type": "code",
   "execution_count": null,
   "metadata": {
    "collapsed": true
   },
   "outputs": [],
   "source": []
  },
  {
   "cell_type": "code",
   "execution_count": 149,
   "metadata": {
    "collapsed": true
   },
   "outputs": [],
   "source": [
    "def rocGB( xtr, xte, ytr, yte, D, N, sno ):\n",
    "    \n",
    "    clf = xgb.XGBClassifier( objective = \"binary:logistic\", random_state=42, max_depth = D, eta = N, class_weight='balanced' )\n",
    "    clf.fit( xtr, ytr )\n",
    "\n",
    "    yTrainPred = batchPredict( xtr, clf )    \n",
    "    yTestPred = batchPredict( xte, clf )\n",
    "\n",
    "    trFPR, trTPR, trThreshold = roc_curve( ytr, yTrainPred ) # ytrain and YTrainPred must have same no. of points\n",
    "    teFPR, teTPR, teThreshold = roc_curve( yte, yTestPred )\n",
    "\n",
    "    # roc_curve() : Compute Receiver operating characteristic (ROC),\n",
    "    # this implementation is restricted to the binary classification task.\n",
    "    # roc_curve( yTrue, yScore ) : yTrue = True Binary labels, yScore = Target values Probablistic estimate, confidence values etc\n",
    "    # The func returns 3 arrays : fpr = false Positive rates, tpr = True Positive rates, Threshold \n",
    "\n",
    "    plt.figure( figsize = (15, 5) )\n",
    "    plt.plot( trFPR, trTPR, label=\"Train AUC = \" + str( auc( trFPR, trTPR ) ) )\n",
    "    plt.plot( teFPR, teTPR, label=\"Test AUC = \" + str( auc( teFPR, teTPR ) ) )\n",
    "\n",
    "    plt.legend()\n",
    "    plt.xlabel(\" Hyperparameter \")\n",
    "    plt.ylabel(\" AUC \")\n",
    "    plt.title(\"ERROR PLOTS for Set \"+str(sno))\n",
    "    plt.grid()\n",
    "    plt.show()\n",
    "    \n",
    "    \n",
    "    cm( ytr, yte, yTrainPred, trThreshold, trFPR, trTPR, yTestPred, teThreshold, teFPR, teTPR, sno )\n",
    "    \n"
   ]
  },
  {
   "cell_type": "markdown",
   "metadata": {
    "collapsed": true
   },
   "source": [
    "### XG Boost on the Data Matrix"
   ]
  },
  {
   "cell_type": "code",
   "execution_count": 152,
   "metadata": {},
   "outputs": [
    {
     "name": "stdout",
     "output_type": "stream",
     "text": [
      "             - First -                  - Second -                   - Third -                  - Fourth -\n",
      "       ####################        ####################        ####################        ####################        "
     ]
    },
    {
     "data": {
      "application/vnd.plotly.v1+json": {
       "config": {
        "linkText": "Export to plot.ly",
        "plotlyServerURL": "https://plot.ly",
        "responsive": true,
        "showLink": false
       },
       "data": [
        {
         "name": "Train",
         "type": "scatter3d",
         "uid": "b885d7aa-4563-45ee-8bba-c989dc8454a5",
         "x": [
          5,
          5,
          5,
          11,
          11,
          11,
          51,
          51,
          51,
          101,
          101,
          101
         ],
         "y": [
          0.01,
          0.1,
          1,
          0.01,
          0.1,
          1,
          0.01,
          0.1,
          1,
          0.01,
          0.1,
          1
         ],
         "z": [
          0.7496018310947224,
          0.7496018310947224,
          0.7496018310947224,
          0.952405090184835,
          0.952405090184835,
          0.952405090184835,
          1,
          1,
          1,
          1,
          1,
          1
         ]
        },
        {
         "name": "Cross validation",
         "type": "scatter3d",
         "uid": "27a7755d-a630-4d4b-ae7a-78d32bb55330",
         "x": [
          5,
          5,
          5,
          11,
          11,
          11,
          51,
          51,
          51,
          101,
          101,
          101
         ],
         "y": [
          0.01,
          0.1,
          1,
          0.01,
          0.1,
          1,
          0.01,
          0.1,
          1,
          0.01,
          0.1,
          1
         ],
         "z": [
          0.5834097887622124,
          0.5834097887622124,
          0.5834097887622124,
          0.5645590038734769,
          0.5645590038734769,
          0.5645590038734769,
          0.550597017265984,
          0.550597017265984,
          0.550597017265984,
          0.5545521037527248,
          0.5545521037527248,
          0.5545521037527248
         ]
        }
       ],
       "layout": {
        "scene": {
         "xaxis": {
          "title": {
           "text": "max_depth"
          }
         },
         "yaxis": {
          "title": {
           "text": "learning_rate"
          }
         },
         "zaxis": {
          "title": {
           "text": "AUC"
          }
         }
        }
       }
      },
      "text/html": [
       "<div>\n",
       "        \n",
       "        \n",
       "            <div id=\"8eb7b45c-e346-430d-b218-08ad5ee8db0d\" class=\"plotly-graph-div\" style=\"height:525px; width:100%;\"></div>\n",
       "            <script type=\"text/javascript\">\n",
       "                require([\"plotly\"], function(Plotly) {\n",
       "                    window.PLOTLYENV=window.PLOTLYENV || {};\n",
       "                    window.PLOTLYENV.BASE_URL='https://plot.ly';\n",
       "                    \n",
       "                if (document.getElementById(\"8eb7b45c-e346-430d-b218-08ad5ee8db0d\")) {\n",
       "                    Plotly.newPlot(\n",
       "                        '8eb7b45c-e346-430d-b218-08ad5ee8db0d',\n",
       "                        [{\"name\": \"Train\", \"type\": \"scatter3d\", \"uid\": \"9d41faaa-dac7-48c2-a4de-c660840a83ab\", \"x\": [5, 5, 5, 11, 11, 11, 51, 51, 51, 101, 101, 101], \"y\": [0.01, 0.1, 1, 0.01, 0.1, 1, 0.01, 0.1, 1, 0.01, 0.1, 1], \"z\": [0.7496018310947224, 0.7496018310947224, 0.7496018310947224, 0.952405090184835, 0.952405090184835, 0.952405090184835, 1.0, 1.0, 1.0, 1.0, 1.0, 1.0]}, {\"name\": \"Cross validation\", \"type\": \"scatter3d\", \"uid\": \"ab6ef981-a21c-45dc-a23a-acd5b44c69ea\", \"x\": [5, 5, 5, 11, 11, 11, 51, 51, 51, 101, 101, 101], \"y\": [0.01, 0.1, 1, 0.01, 0.1, 1, 0.01, 0.1, 1, 0.01, 0.1, 1], \"z\": [0.5834097887622124, 0.5834097887622124, 0.5834097887622124, 0.5645590038734769, 0.5645590038734769, 0.5645590038734769, 0.550597017265984, 0.550597017265984, 0.550597017265984, 0.5545521037527248, 0.5545521037527248, 0.5545521037527248]}],\n",
       "                        {\"scene\": {\"xaxis\": {\"title\": {\"text\": \"max_depth\"}}, \"yaxis\": {\"title\": {\"text\": \"learning_rate\"}}, \"zaxis\": {\"title\": {\"text\": \"AUC\"}}}},\n",
       "                        {\"showLink\": false, \"linkText\": \"Export to plot.ly\", \"plotlyServerURL\": \"https://plot.ly\", \"responsive\": true}\n",
       "                    ).then(function(){\n",
       "                            \n",
       "var gd = document.getElementById('8eb7b45c-e346-430d-b218-08ad5ee8db0d');\n",
       "var x = new MutationObserver(function (mutations, observer) {{\n",
       "        var display = window.getComputedStyle(gd).display;\n",
       "        if (!display || display === 'none') {{\n",
       "            console.log([gd, 'removed!']);\n",
       "            Plotly.purge(gd);\n",
       "            observer.disconnect();\n",
       "        }}\n",
       "}});\n",
       "\n",
       "// Listen for the removal of the full notebook cells\n",
       "var notebookContainer = gd.closest('#notebook-container');\n",
       "if (notebookContainer) {{\n",
       "    x.observe(notebookContainer, {childList: true});\n",
       "}}\n",
       "\n",
       "// Listen for the clearing of the current output cell\n",
       "var outputEl = gd.closest('.output');\n",
       "if (outputEl) {{\n",
       "    x.observe(outputEl, {childList: true});\n",
       "}}\n",
       "\n",
       "                        })\n",
       "                };\n",
       "                });\n",
       "            </script>\n",
       "        </div>"
      ]
     },
     "metadata": {},
     "output_type": "display_data"
    }
   ],
   "source": [
    "BestGB( xtr1, xcv1, ytrain, ycv )"
   ]
  },
  {
   "cell_type": "code",
   "execution_count": 153,
   "metadata": {},
   "outputs": [
    {
     "data": {
      "image/png": "[encoded data removed]",
      "text/plain": [
       "<matplotlib.figure.Figure at 0x28b57c1b8d0>"
      ]
     },
     "metadata": {},
     "output_type": "display_data"
    },
    {
     "name": "stdout",
     "output_type": "stream",
     "text": [
      "Confusion Matrix for Train of Set  1\n",
      " The maximum value of tpr*(1-fpr) =  0.4568430909803361  for threshold =  0.842\n",
      "[[ 2423  1040]\n",
      " [ 6901 12081]]\n"
     ]
    },
    {
     "data": {
      "image/png": "[encoded data removed]",
      "text/plain": [
       "<matplotlib.figure.Figure at 0x28b54e7f438>"
      ]
     },
     "metadata": {},
     "output_type": "display_data"
    },
    {
     "name": "stdout",
     "output_type": "stream",
     "text": [
      "\n",
      "\n",
      "Confusion Matrix for Test  1\n",
      " The maximum value of tpr*(1-fpr) =  0.30991868017470936  for threshold =  0.852\n",
      "[[1490 1056]\n",
      " [6722 7232]]\n"
     ]
    },
    {
     "data": {
      "image/png": "[encoded data removed]",
      "text/plain": [
       "<matplotlib.figure.Figure at 0x28b54a69e48>"
      ]
     },
     "metadata": {},
     "output_type": "display_data"
    }
   ],
   "source": [
    "bestD = 5\n",
    "bestN = 0.01\n",
    "\n",
    "#sn.set_style('whitegrid')\n",
    "\n",
    "rocGB( xtr1, xte1, ytrain, ytest, bestD, bestN, 1 )"
   ]
  },
  {
   "cell_type": "markdown",
   "metadata": {},
   "source": [
    "## Conclusions"
   ]
  },
  {
   "cell_type": "code",
   "execution_count": 154,
   "metadata": {},
   "outputs": [
    {
     "name": "stdout",
     "output_type": "stream",
     "text": [
      "+-----------------------+--------------+----------------------+-------------+------------+\n",
      "|       Vectorizer      |  Best Depth  |  Best Learning rate  |  Train AUC  |  Test AUC  |\n",
      "+-----------------------+--------------+----------------------+-------------+------------+\n",
      "|  WW2V (Co Occurence)  |      5       |         0.01         |    0.7496   |   0.5764   |\n",
      "+-----------------------+--------------+----------------------+-------------+------------+\n"
     ]
    }
   ],
   "source": [
    "from prettytable import PrettyTable\n",
    "    \n",
    "x = PrettyTable()\n",
    "\n",
    "\n",
    "x.field_names = [\" Vectorizer \", \" Best Depth \", \" Best Learning rate \",\" Train AUC \", \" Test AUC \"]\n",
    "\n",
    "x.add_row( [ \" WW2V (Co Occurence) \", \" 5 \", \" 0.01 \", \" 0.7496 \", \" 0.5764 \" ] ) \n",
    "\n",
    "print( x )\n",
    "\n",
    "# Ref : http://zetcode.com/python/prettytable/"
   ]
  },
  {
   "cell_type": "code",
   "execution_count": null,
   "metadata": {
    "collapsed": true
   },
   "outputs": [],
   "source": []
  }
 ],
 "metadata": {
  "kernelspec": {
   "display_name": "Python 3",
   "language": "python",
   "name": "python3"
  },
  "language_info": {
   "codemirror_mode": {
    "name": "ipython",
    "version": 3
   },
   "file_extension": ".py",
   "mimetype": "text/x-python",
   "name": "python",
   "nbconvert_exporter": "python",
   "pygments_lexer": "ipython3",
   "version": "3.6.3"
  }
 },
 "nbformat": 4,
 "nbformat_minor": 2
}
